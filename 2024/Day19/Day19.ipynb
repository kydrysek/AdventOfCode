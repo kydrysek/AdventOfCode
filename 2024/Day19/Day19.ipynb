{
 "cells": [
  {
   "cell_type": "code",
   "execution_count": 11,
   "id": "234e809d-201a-417f-9543-3688f8afd20b",
   "metadata": {},
   "outputs": [
    {
     "name": "stdout",
     "output_type": "stream",
     "text": [
      "The autoreload extension is already loaded. To reload it, use:\n",
      "  %reload_ext autoreload\n"
     ]
    }
   ],
   "source": [
    "%load_ext autoreload \n",
    "\n",
    "import numpy as np\n",
    "import pandas as pd\n",
    "# from aocd i\n",
    "# import get_data\n",
    "import os\n",
    "import re\n",
    "import time\n",
    "import networkx as nx\n",
    "from heapq import *\n",
    "import functools\n",
    "import functools\n",
    "from  math import log\n",
    "\n",
    "\n",
    "module_path=os.path.abspath(os.path.join('../'))\n",
    "sys.path.append(module_path)\n",
    "from ComplexMap import ComplexMap\n",
    "\n",
    "file=\"test.txt\"\n",
    "# file=\"test2.txt\"\n",
    "# file =\"input.txt\"\n",
    "\n",
    "with open(file) as f:\n",
    "    lines = f.readlines()\n",
    "\n",
    "lines = list(map(lambda x:x.strip(),lines))\n"
   ]
  },
  {
   "cell_type": "code",
   "execution_count": 45,
   "id": "ff3f1b70-f316-4561-82a0-634853e22c79",
   "metadata": {},
   "outputs": [],
   "source": [
    "@functools.cache\n",
    "def checkPattern(pattern,avail_str,find_all=False):\n",
    "    \"\"\"\n",
    "    avail is used for operational purposes\n",
    "    avail_str is a string representation of avail, used for caching purposes - to make sure cached values are aware of what input version they correspond to\n",
    "    \"\"\"\n",
    "    avail = avail_str.split(\", \")\n",
    "    found = 0\n",
    "    for p in avail:\n",
    "        if pattern[:len(p)]==p:\n",
    "            # check deeper\n",
    "            pattern_tail = pattern[len(p):]\n",
    "\n",
    "            found_small = 0\n",
    "            if pattern_tail == \"\": found_small= 1\n",
    "            else: found_small = checkPattern(pattern_tail,avail_str,find_all=find_all) \n",
    "            \n",
    "            if found_small and not find_all: \n",
    "                return found_small\n",
    "            else:\n",
    "                found+=found_small\n",
    "    return found"
   ]
  },
  {
   "cell_type": "code",
   "execution_count": 46,
   "id": "b6c00f88-2388-409c-83d7-fde97005c57f",
   "metadata": {},
   "outputs": [],
   "source": [
    "def partA(file):\n",
    "    with open(file) as f:\n",
    "        lines = f.readlines()\n",
    "    lines = list(map(lambda x:x.strip(),lines))\n",
    "    \n",
    "    avail_str=lines[0]\n",
    "    patterns = lines[2:]\n",
    "\n",
    "    res = 0\n",
    "    for i,p in enumerate(patterns):\n",
    "        res+=checkPattern(p,avail_str)\n",
    "    return res\n",
    "    \n",
    "# partA(file)"
   ]
  },
  {
   "cell_type": "code",
   "execution_count": 47,
   "id": "d5199419-434c-4fbd-855e-396c29cb6494",
   "metadata": {},
   "outputs": [
    {
     "name": "stdout",
     "output_type": "stream",
     "text": [
      "Part A appears to work\n"
     ]
    }
   ],
   "source": [
    "assert partA(\"test.txt\")==6\n",
    "assert partA(\"input.txt\")==296\n",
    "print(\"Part A appears to work\")"
   ]
  },
  {
   "cell_type": "code",
   "execution_count": 48,
   "id": "2c7b97e3-f614-4ae6-80c1-b91c8b1c523d",
   "metadata": {},
   "outputs": [],
   "source": [
    "def partB(file):\n",
    "    with open(file) as f:\n",
    "        lines = f.readlines()\n",
    "    lines = list(map(lambda x:x.strip(),lines))\n",
    "    \n",
    "    avail_str=lines[0]\n",
    "    patterns = lines[2:]\n",
    "\n",
    "    res = 0\n",
    "    for i,p in enumerate(patterns):\n",
    "        res+=checkPattern(p,avail_str,find_all=True)\n",
    "    return res\n",
    "    \n",
    "# partA(file)"
   ]
  },
  {
   "cell_type": "code",
   "execution_count": 50,
   "id": "87fea369-1df2-4fd5-a5c8-8ffb43e69aab",
   "metadata": {},
   "outputs": [
    {
     "name": "stdout",
     "output_type": "stream",
     "text": [
      "Part B appears to work\n"
     ]
    }
   ],
   "source": [
    "assert partB(\"test.txt\")==16\n",
    "assert partB(\"input.txt\")==619970556776002\n",
    "print(\"Part B appears to work\")"
   ]
  },
  {
   "cell_type": "markdown",
   "id": "6aa7300a-22c4-4e12-a2ff-dfef1bc0b33c",
   "metadata": {},
   "source": [
    "# Earlier implementation"
   ]
  },
  {
   "cell_type": "raw",
   "id": "79cdc02e-4172-4914-a0a4-d5b8bca90903",
   "metadata": {},
   "source": [
    "@functools.cache\n",
    "def checkPattern(pattern,avail_str):\n",
    "    \"\"\"\n",
    "    avail is used for operational purposes\n",
    "    avail_str is a string representation of avail, used for caching purposes - to make sure cached values are aware of what input version they correspond to\n",
    "    \"\"\"\n",
    "    avail = avail_str.split(\", \")\n",
    "    found = False\n",
    "    for p in avail:\n",
    "        if pattern[:len(p)]==p:\n",
    "            # check deeper\n",
    "            pattern_tail = pattern[len(p):]\n",
    "\n",
    "            if pattern_tail == \"\": return True\n",
    "            else: found = checkPattern(pattern_tail,avail_str) \n",
    "            \n",
    "            if found : return True\n",
    "    return found"
   ]
  },
  {
   "cell_type": "raw",
   "id": "729350d8-0373-4c93-ac16-4ce4b0657210",
   "metadata": {},
   "source": [
    "@functools.cache\n",
    "def findAllPatterns(in_str,avail_str):\n",
    "    res = []\n",
    "    # print(\"\\n\",in_str)\n",
    "    found = False\n",
    "    for p in available:\n",
    "        if in_str[:len(p)]==p:\n",
    "            # check deeper\n",
    "            tmp_str = in_str[len(p):]\n",
    "            # print(\"  >\",p)\n",
    "            if tmp_str == \"\":\n",
    "                res.append([p])\n",
    "            else:\n",
    "                tmp_res = findAllPatterns(tmp_str)\n",
    "                res += [[p]+small_pattern for small_pattern in tmp_res]\n",
    "\n",
    "    return res"
   ]
  },
  {
   "cell_type": "raw",
   "id": "86d70122-9527-4b04-8871-fa5e1c2d5796",
   "metadata": {},
   "source": [
    "@functools.cache\n",
    "def findAllPatterns_2(in_str):\n",
    "    res = 0\n",
    "    # print(\"\\n\",in_str)\n",
    "    found = False\n",
    "    for p in available:\n",
    "        if in_str[:len(p)]==p:\n",
    "            # check deeper\n",
    "            tmp_str = in_str[len(p):]\n",
    "            # print(\"  >\",p)\n",
    "            if tmp_str == \"\":\n",
    "                res+=1\n",
    "            else:\n",
    "                tmp_res = findAllPatterns_2(tmp_str)\n",
    "                res += tmp_res\n",
    "\n",
    "    return res"
   ]
  },
  {
   "cell_type": "markdown",
   "id": "e613db58-d35b-4e14-9eb2-b41a695e62df",
   "metadata": {},
   "source": [
    "res = 0\n",
    "for i,p in enumerate(patterns):\n",
    "    res+=findAllPatterns_2(p)\n",
    "print(res)"
   ]
  },
  {
   "cell_type": "code",
   "execution_count": null,
   "id": "baf0569a-6fa9-45d8-8630-8b173e75776a",
   "metadata": {},
   "outputs": [],
   "source": []
  }
 ],
 "metadata": {
  "kernelspec": {
   "display_name": "Python 3 (ipykernel)",
   "language": "python",
   "name": "python3"
  },
  "language_info": {
   "codemirror_mode": {
    "name": "ipython",
    "version": 3
   },
   "file_extension": ".py",
   "mimetype": "text/x-python",
   "name": "python",
   "nbconvert_exporter": "python",
   "pygments_lexer": "ipython3",
   "version": "3.12.7"
  }
 },
 "nbformat": 4,
 "nbformat_minor": 5
}
