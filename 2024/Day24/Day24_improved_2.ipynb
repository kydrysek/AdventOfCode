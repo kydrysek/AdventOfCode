{
 "cells": [
  {
   "cell_type": "code",
   "execution_count": 21,
   "id": "92b4fe02-e1a5-4629-969a-8ac66f996b02",
   "metadata": {},
   "outputs": [
    {
     "name": "stdout",
     "output_type": "stream",
     "text": [
      "The autoreload extension is already loaded. To reload it, use:\n",
      "  %reload_ext autoreload\n"
     ]
    }
   ],
   "source": [
    "%load_ext autoreload \n",
    "\n",
    "import numpy as np\n",
    "import pandas as pd\n",
    "# from aocd i\n",
    "# import get_data\n",
    "import os\n",
    "import re\n",
    "import time\n",
    "import networkx as nx\n",
    "from heapq import *\n",
    "import functools\n",
    "import functools\n",
    "from  math import log\n",
    "from tqdm import tqdm\n",
    "import sys\n",
    "\n",
    "\n",
    "module_path=os.path.abspath(os.path.join('../'))\n",
    "sys.path.append(module_path)\n",
    "from ComplexMap import ComplexMap"
   ]
  },
  {
   "cell_type": "code",
   "execution_count": 22,
   "id": "e642aaec-108a-4c16-941e-dca41c40b5c8",
   "metadata": {},
   "outputs": [],
   "source": [
    "def get_operation(oper_str):\n",
    "    return oper_str.replace(\"AND\",\"&\").replace(\"XOR\",\"^\").replace(\"OR\",\"|\")\n",
    "\n",
    "def build_calc_tree(rule_strs):\n",
    "    rules = [get_gate(rule) for rule in rule_strs if len(rule)>0]\n",
    "    edges = [[(child1,node),(child2,node)] for child1,_,child2,node in rules]\n",
    "    edges = [x for y in edges for x in y]\n",
    "    node_operations = {node:get_operation(oper) for _,oper,_,node in rules}\n",
    "\n",
    "    G=nx.from_edgelist(edges,nx.DiGraph)\n",
    "    \n",
    "    return G, node_operations\n",
    "                       \n",
    "def get_gate(line):\n",
    "    return re.match(r\"(\\w+)\\W+(\\w+)\\W+(\\w+)\\W+(\\w+)\",line).groups()\n",
    "\n",
    "def get_inputs(file):\n",
    "    with open(file) as f:\n",
    "        lines = f.readlines()\n",
    "    lines = list(map(str,list(map(lambda x:x.strip(),lines))))\n",
    "\n",
    "    i = 0\n",
    "    while lines[i]: i+=1\n",
    "\n",
    "    # initialisation part\n",
    "    values_dict = {}\n",
    "    for line in lines[:i]:\n",
    "        gate, val = line.split(\": \") \n",
    "        values_dict[gate]=bool(int(val))\n",
    "\n",
    "    # rules part\n",
    "    rules = lines[i+1:]\n",
    "    G,node_operations = build_calc_tree(rules)\n",
    "    \n",
    "    return values_dict,G,node_operations\n",
    "\n",
    "def get_targets(G):\n",
    "    return [n for n in G.nodes if len(nx.descendants(G,n))==0]\n",
    "\n",
    "def get_in_nodes(G):\n",
    "    return [n for n in G.nodes if len(nx.ancestors(G,n))==0]\n",
    "    \n",
    "# get_inputs(\"test.txt\")"
   ]
  },
  {
   "cell_type": "code",
   "execution_count": 23,
   "id": "ab0ef58b-b939-469d-89bc-91fd3b816003",
   "metadata": {},
   "outputs": [],
   "source": [
    "val_dict, G,nodes_ops = get_inputs(\"test.txt\")\n"
   ]
  },
  {
   "cell_type": "code",
   "execution_count": 24,
   "id": "7fe11aee-263d-4555-aff9-fd62e9dbef2d",
   "metadata": {},
   "outputs": [],
   "source": [
    "def evaluate_node(G,n,values_calced,nodes_ops):\n",
    "    if not n in values_calced: \n",
    "        # print(f\"n={n}\")\n",
    "        ch1,ch2 = G.predecessors(n)\n",
    "        # print(\"  \",n,\"::\",ch1,ch2)\n",
    "        ch1_val = evaluate_node(G,ch1,values_calced,nodes_ops)\n",
    "        ch2_val = evaluate_node(G,ch2,values_calced,nodes_ops)\n",
    "        values_calced[n] = eval(\" \".join([str(ch1_val),nodes_ops[n],str(ch2_val)]))\n",
    "\n",
    "    return values_calced[n]    "
   ]
  },
  {
   "cell_type": "code",
   "execution_count": 25,
   "id": "21823c23-5080-4ce2-ab19-32d786828e49",
   "metadata": {},
   "outputs": [
    {
     "name": "stdout",
     "output_type": "stream",
     "text": [
      "{'x00': True, 'x01': True, 'x02': True, 'y00': False, 'y01': True, 'y02': False, 'z02': True, 'z01': False, 'z00': False}\n"
     ]
    }
   ],
   "source": [
    "assert evaluate_node(G,\"z02\",val_dict,nodes_ops)\n",
    "assert not evaluate_node(G,\"z01\",val_dict,nodes_ops)\n",
    "assert not evaluate_node(G,\"z00\",val_dict,nodes_ops)\n",
    "print(val_dict)"
   ]
  },
  {
   "cell_type": "code",
   "execution_count": 26,
   "id": "d30249e8-ee56-4efb-a001-f7bdbe85f838",
   "metadata": {},
   "outputs": [],
   "source": [
    "def partA(file):\n",
    "    val_dict, G, nodes_ops = get_inputs(file)\n",
    "\n",
    "    targets=get_targets(G)\n",
    "    targets.sort(key=lambda x:int(x[1:]))\n",
    "\n",
    "    res = [str(int(evaluate_node(G,t,val_dict,nodes_ops))) for t in targets[::-1]]\n",
    "    return int(\"\".join(res),2)\n",
    "    "
   ]
  },
  {
   "cell_type": "code",
   "execution_count": 27,
   "id": "45f53afd-3313-43ad-b44f-e86bc39db11e",
   "metadata": {},
   "outputs": [
    {
     "name": "stdout",
     "output_type": "stream",
     "text": [
      "All ok\n"
     ]
    }
   ],
   "source": [
    "assert partA(\"test.txt\") == 4\n",
    "assert partA(\"test2.txt\") == 2024\n",
    "assert partA(\"input.txt\") == 60614602965288\n",
    "print(\"All ok\")"
   ]
  },
  {
   "cell_type": "code",
   "execution_count": 28,
   "id": "0672cf96-cdad-48fe-baa9-31b761bdc8ab",
   "metadata": {},
   "outputs": [],
   "source": [
    "from itertools import product\n",
    "\n",
    "def getNum(val_dict,prefix):\n",
    "    \"\"\" derive a decimal number from the \"x\", \"y\" or \"z\" nodes depending on the prefix\"\"\"\n",
    "    res = [(key[1:],val) for key,val in val_dict.items() if key.startswith(prefix)]\n",
    "    res.sort(key=lambda x:int(x[0]),reverse=True)\n",
    "    res = \"\".join([str(x) for _,x in res])\n",
    "    return int(res,2),res"
   ]
  },
  {
   "cell_type": "code",
   "execution_count": 29,
   "id": "22ec0eea-3427-4aa6-9b38-892087091ba0",
   "metadata": {},
   "outputs": [],
   "source": [
    "def swap_nodes(G,x,y,nodes_ops):\n",
    "    # print(\"Swapping nodes\",x,y)\n",
    "    G_copy = G.copy()\n",
    "    edges_old = [(z,x) for z in G_copy.predecessors(x)] + [(z,y) for z in G_copy.predecessors(y)]\n",
    "    edges_new = [(z,y) for z in G_copy.predecessors(x)] + [(z,x) for z in G_copy.predecessors(y)]\n",
    "        \n",
    "    if (y,y) in edges_new or (x,x) in edges_new:\n",
    "        return G,nodes_ops,False\n",
    "    else:\n",
    "        # print(\"Removing old edges\",edges_old)  \n",
    "        G_copy.remove_edges_from(edges_old)\n",
    "        G_copy.add_edges_from(edges_new)\n",
    "        if list(nx.simple_cycles(G_copy)):\n",
    "            # \"INTRODUCED GRAPH!!!\")\n",
    "            return G,nodes_ops,False\n",
    "            \n",
    "        nodes_ops_copy = nodes_ops.copy()\n",
    "        x_val = nodes_ops[x]\n",
    "        y_val = nodes_ops[y]\n",
    "        nodes_ops_copy[x]=y_val\n",
    "        nodes_ops_copy[y]=x_val\n",
    "    \n",
    "    return G_copy, nodes_ops_copy,True\n"
   ]
  },
  {
   "cell_type": "code",
   "execution_count": 30,
   "id": "3c3576a4-02e2-444a-a804-0d2a911c8bd3",
   "metadata": {},
   "outputs": [],
   "source": [
    "readable_oper = {\"^\":\"XOR\",\"&\":\"AND\",\"|\":\"OR\"}\n",
    "import time\n",
    "def print_calcgraph(G,nodes_ops,to_file=False):\n",
    "    out=[]\n",
    "    for n in G.nodes:\n",
    "        # print(\".\",end=\"\")\n",
    "        if len(list(G.predecessors(n)))>0:\n",
    "            ch1,ch2 = G.predecessors(n)\n",
    "            out+=[f\"{ch1} {readable_oper[nodes_ops[n]]} {ch2} -> {n}\"]\n",
    "    res = \"\\n\".join(out)\n",
    "    if to_file:\n",
    "        with open(f\"interm_out_{time.time()}.txt\",\"w\") as f:\n",
    "            f.write(res)\n",
    "    else:\n",
    "        print(res)\n",
    "            "
   ]
  },
  {
   "cell_type": "code",
   "execution_count": 31,
   "id": "5296880c-f11e-4172-b794-ae159eccb594",
   "metadata": {},
   "outputs": [],
   "source": [
    "def test_the_target(G_sub,nodes_ops,z,leaves_to_test,max_bit=45,verbose=False):\n",
    "        \n",
    "    val_dict = {pref + f\"{i:02d}\":0 for i in range(max_bit) for pref in {\"x\",\"y\"}}\n",
    "    \n",
    "    zero_digits =len(val_dict)//2\n",
    "    \n",
    "    B = {0,1}\n",
    "    \n",
    "    combinations = list(product(B,repeat=len(leaves_to_test)))\n",
    "    for entry in combinations:\n",
    "        val_dict_copy = val_dict.copy()\n",
    "        for i,val in enumerate(entry): val_dict_copy[leaves_to_test[i]]=val            \n",
    "        \n",
    "        res = evaluate_node(G_sub,z,val_dict_copy,nodes_ops)\n",
    "        \n",
    "        xNum,xNum_str = getNum(val_dict_copy,\"x\")\n",
    "        yNum,yNum_str = getNum(val_dict_copy,\"y\")\n",
    "\n",
    "        z_idx = int(z[1:])\n",
    "        zExp = xNum + yNum\n",
    "        zExp_str = bin(zExp)[2:]\n",
    "        # print(zExp,bin(zExp),zExp_str,(z_idx+1-len(zExp_str)))\n",
    "        \n",
    "        zExp_str = \"0\"*max(z_idx+1-len(zExp_str),0)+zExp_str\n",
    "        zExp_str = zExp_str[::-1]\n",
    "        \n",
    "        zExp_digit = int(zExp_str[z_idx])\n",
    "        zNum_digit = int(val_dict_copy[z])\n",
    "        if zExp_digit != zNum_digit: \n",
    "\n",
    "            if verbose:\n",
    "                print(f\"Found one: {z}\")\n",
    "                \n",
    "            return False\n",
    "\n",
    "    return True"
   ]
  },
  {
   "cell_type": "code",
   "execution_count": 41,
   "id": "61d1e1bc-fd0e-4a6a-85e8-25fc28f63471",
   "metadata": {},
   "outputs": [],
   "source": [
    "def fix_nodes(G,nodes_ops,intersect,tgts,leaves_to_test):\n",
    "    for n1 in intersect:\n",
    "        for n2 in intersect:     \n",
    "            if n1 == n2: continue\n",
    "\n",
    "            # print(f\"  trying swap {n1},{n2}\")\n",
    "            G_copy,nodes_ops_copy, success = swap_nodes(G,n1,n2,nodes_ops)\n",
    "            if not success: continue\n",
    "\n",
    "            # print(f\"    - swapped {n1},{n2}\")\n",
    "            works = True\n",
    "            for z in tgts:\n",
    "                # print(f\"    testing {z}\") \n",
    "                if not test_the_target(G_copy,nodes_ops_copy,z,leaves_to_test,verbose=False):\n",
    "                    works = False\n",
    "                    break\n",
    "            if works:\n",
    "                print(\"Substitution\",n1,n2)\n",
    "                return G_copy, nodes_ops_copy, [(n1,n2)]\n",
    "    return G, nodes_ops, []"
   ]
  },
  {
   "cell_type": "code",
   "execution_count": 42,
   "id": "7c63c8d8-7e13-497b-acbe-138ce0365b50",
   "metadata": {},
   "outputs": [],
   "source": [
    "def flatten_set(nested_collection):\n",
    "    return {x for y in nested_collection for x in y}\n",
    "\n",
    "def check_and_fix(G,nodes_ops,targets):\n",
    "    substitutions = []\n",
    "    \n",
    "    for tgt in targets:\n",
    "        idx = int(tgt[1:])\n",
    "        idx_str = f\"{idx:02d}\"\n",
    "        idx_prev_str = f\"{idx-1:02d}\"\n",
    "        idx_next_str = f\"{idx+1:02d}\"\n",
    "        tgt_next = \"z\"+idx_next_str\n",
    "        if \"x\"+idx_prev_str not in G.nodes: continue\n",
    "        if tgt_next not in G.nodes: continue\n",
    "\n",
    "        leaves = [pref + suff for pref in {\"x\",\"y\"} for suff in {idx_prev_str,idx_str, idx_next_str}]\n",
    "        leaves = [x for x in leaves if x in G.nodes]\n",
    "        successors = flatten_set([nx.descendants(G,n) for n in leaves])\n",
    "        ancestors = set(list(nx.ancestors(G,tgt)) + list(nx.ancestors(G,tgt_next))+[tgt, tgt_next])\n",
    "        intersect = successors.intersection(successors,ancestors).difference(leaves)\n",
    "\n",
    "        good_node = test_the_target(G,nodes_ops,tgt,leaves)\n",
    "        \n",
    "        if not good_node: \n",
    "            print(\"Bad node\",tgt)\n",
    "            G,nodes_ops, subst = fix_nodes(G,nodes_ops,intersect,[tgt,\"z\"+idx_next_str],leaves)\n",
    "            \n",
    "            substitutions+= subst\n",
    "    return substitutions,G"
   ]
  },
  {
   "cell_type": "code",
   "execution_count": 43,
   "id": "5d36a020-20e0-4bae-b5a8-3a9aee9fd9bc",
   "metadata": {},
   "outputs": [],
   "source": [
    "def partB(file):\n",
    "    val_dict, G, nodes_ops = get_inputs(file)\n",
    "\n",
    "    targets=get_targets(G)\n",
    "    targets.sort(key=lambda x:int(x[1:]))\n",
    "\n",
    "    res, G = check_and_fix(G,nodes_ops, targets)\n",
    "    res_str = \",\".join(sorted([x for (x,y) in res]+[y for x,y in res]))\n",
    "    return res_str, G\n",
    "    "
   ]
  },
  {
   "cell_type": "code",
   "execution_count": 44,
   "id": "c6ca9a8c-4b38-443d-8893-1500cb635410",
   "metadata": {
    "scrolled": true
   },
   "outputs": [
    {
     "name": "stdout",
     "output_type": "stream",
     "text": [
      "Bad node z06\n",
      "Substitution z06 hwk\n",
      "Bad node z25\n",
      "Substitution qmd tnt\n",
      "Bad node z31\n",
      "Substitution z31 hpc\n",
      "Bad node z37\n",
      "Substitution cgr z37\n",
      "Part B: cgr,hpc,hwk,qmd,tnt,z06,z31,z37\n"
     ]
    }
   ],
   "source": [
    "res,G = partB(\"input.txt\")\n",
    "print(f\"Part B: {res}\")"
   ]
  },
  {
   "cell_type": "code",
   "execution_count": 36,
   "id": "1e47f280-0d74-482a-8a55-95fe26c215ba",
   "metadata": {},
   "outputs": [
    {
     "data": {
      "text/plain": [
       "'cgr,hpc,hwk,qmd,tnt,z06,z31,z37'"
      ]
     },
     "execution_count": 36,
     "metadata": {},
     "output_type": "execute_result"
    }
   ],
   "source": [
    "res"
   ]
  },
  {
   "cell_type": "code",
   "execution_count": 45,
   "id": "64b6130a-f91c-4f04-8f84-e7ea57ff37b9",
   "metadata": {},
   "outputs": [
    {
     "name": "stdout",
     "output_type": "stream",
     "text": [
      "OK answer part B\n"
     ]
    }
   ],
   "source": [
    "assert res==\"cgr,hpc,hwk,qmd,tnt,z06,z31,z37\"\n",
    "print(\"OK answer part B\")"
   ]
  },
  {
   "cell_type": "code",
   "execution_count": null,
   "id": "3033d9ff-d7e1-4137-b484-5789c60d9821",
   "metadata": {},
   "outputs": [],
   "source": []
  }
 ],
 "metadata": {
  "kernelspec": {
   "display_name": "Python 3 (ipykernel)",
   "language": "python",
   "name": "python3"
  },
  "language_info": {
   "codemirror_mode": {
    "name": "ipython",
    "version": 3
   },
   "file_extension": ".py",
   "mimetype": "text/x-python",
   "name": "python",
   "nbconvert_exporter": "python",
   "pygments_lexer": "ipython3",
   "version": "3.12.7"
  }
 },
 "nbformat": 4,
 "nbformat_minor": 5
}
