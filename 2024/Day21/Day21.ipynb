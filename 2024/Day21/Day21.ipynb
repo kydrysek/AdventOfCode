{
 "cells": [
  {
   "cell_type": "markdown",
   "id": "36c7ad16-81d4-4ee8-91e9-7bc0ed368b11",
   "metadata": {},
   "source": [
    "## Intro"
   ]
  },
  {
   "cell_type": "code",
   "execution_count": 1,
   "id": "ce9630e9-5c70-4ea2-aec2-85bc90b16b09",
   "metadata": {},
   "outputs": [],
   "source": [
    "%load_ext autoreload \n",
    "\n",
    "import numpy as np\n",
    "import pandas as pd\n",
    "# from aocd i\n",
    "# import get_data\n",
    "import os\n",
    "import re\n",
    "import time\n",
    "import networkx as nx\n",
    "from heapq import *\n",
    "import functools\n",
    "from itertools import product\n",
    "from  math import log\n",
    "from tqdm import tqdm\n",
    "import sys\n",
    "\n",
    "\n",
    "module_path=os.path.abspath(os.path.join('../'))\n",
    "sys.path.append(module_path)\n",
    "from ComplexMap import ComplexMap\n"
   ]
  },
  {
   "cell_type": "code",
   "execution_count": 2,
   "id": "eaa795ed-075a-4121-8282-fdd61cf64dfd",
   "metadata": {},
   "outputs": [
    {
     "name": "stdout",
     "output_type": "stream",
     "text": [
      "789\n",
      "456\n",
      "123\n",
      "B0A\n"
     ]
    }
   ],
   "source": [
    "pad1_str = \"789;456;123;B0A\"\n",
    "pad1 = ComplexMap(pad1_str.split(\";\"),str)\n",
    "_ = pad1.print_me()\n",
    "\n",
    "pad1_coords_rev = pad1.map_as_dict()\n",
    "pad1_coords = {v:k for k,v in pad1_coords_rev.items()}\n"
   ]
  },
  {
   "cell_type": "code",
   "execution_count": 3,
   "id": "f3f75869-e9be-4201-be38-623a58f20656",
   "metadata": {},
   "outputs": [
    {
     "name": "stdout",
     "output_type": "stream",
     "text": [
      "B^A\n",
      "<v>\n"
     ]
    }
   ],
   "source": [
    "pad2_str = \"B^A;<v>\"\n",
    "pad2 = ComplexMap(pad2_str.split(\";\"),str)\n",
    "_ = pad2.print_me()\n",
    "\n",
    "pad2_coords_rev = pad2.map_as_dict()\n",
    "pad2_coords = {v:k for k,v in pad2_coords_rev.items()}\n"
   ]
  },
  {
   "cell_type": "code",
   "execution_count": 4,
   "id": "a8b9ce73-823e-4fce-9643-ff390af9c49c",
   "metadata": {},
   "outputs": [],
   "source": [
    "mapping = {\">\":1j,\"<\":-1j,\"v\":1,\"^\":-1}\n",
    "mapping_rev={v:k for k,v in mapping.items()}\n",
    "\n",
    "def get_directions_str(directions_as_complex):\n",
    "    return \"\".join([mapping_rev[d] for d in directions_as_complex])\n",
    "\n",
    "assert get_directions_str([-1,-1,1j,1]) == \"^^>v\""
   ]
  },
  {
   "cell_type": "code",
   "execution_count": 5,
   "id": "5efe7362-2538-4ca4-aeec-581a67b9cd56",
   "metadata": {},
   "outputs": [],
   "source": [
    "@functools.cache\n",
    "def good_sequence(seq,avoid):\n",
    "    return avoid not in { sum(seq[:i]) for i,_ in enumerate(seq)}"
   ]
  },
  {
   "cell_type": "code",
   "execution_count": 6,
   "id": "74b4a7c7-cb35-41fb-b24c-d3e3188d4d6a",
   "metadata": {},
   "outputs": [],
   "source": [
    "@functools.cache\n",
    "def expand_num_set(num,avoid):\n",
    "    i_res = [int(np.sign(num.imag))*1j]*int(abs(num.imag))\n",
    "    r_res = [int(np.sign(num.real))*1]*int(abs(num.real))\n",
    "\n",
    "    res = set([tuple(i_res + r_res), tuple(r_res + i_res)])\n",
    "    res = {seq for seq in res if good_sequence(seq,avoid)}\n",
    "            \n",
    "    return res \n",
    "\n",
    "# for t in [-2+1j,-1,1,1j,2j,4j+1,-15+3j]:\n",
    "#     print(f\"{t} :: {expand_num_set(t,1)}\")"
   ]
  },
  {
   "cell_type": "code",
   "execution_count": 7,
   "id": "fdc0fd04-bfe4-4fdd-9a6d-2fa90fa9b9d9",
   "metadata": {},
   "outputs": [],
   "source": [
    "def get_paths_nonnested(pad,pad_coords,pad_coords_rev):\n",
    "    G_pad = nx.from_edgelist(pad.get_edges_for_graph(vals_to_consider=\"B\",includes_given=False))\n",
    "    \n",
    "    paths_pad_values = {}\n",
    "    paths_pad_coords = {}\n",
    "    \n",
    "    pos_b=pad_coords[\"B\"]\n",
    "    for ns, ne in product(G_pad.nodes, repeat=2):\n",
    "        if ns == ne:\n",
    "            directions = {\"A\"}\n",
    "        else:\n",
    "            d = ne-ns\n",
    "            directions = expand_num_set(d,pos_b-ns)\n",
    "            directions = {get_directions_str(d)+\"A\" for d in directions}\n",
    "            \n",
    "        # paths_pad_coords[(ns,ne)]=directions\n",
    "        paths_pad_values[(pad_coords_rev[ns],pad_coords_rev[ne])]=directions\n",
    "    \n",
    "    return paths_pad_values\n",
    "    "
   ]
  },
  {
   "cell_type": "code",
   "execution_count": 8,
   "id": "b370c913-2a8d-4bb0-8ed0-8f1422e58361",
   "metadata": {},
   "outputs": [
    {
     "data": {
      "text/plain": [
       "121"
      ]
     },
     "execution_count": 8,
     "metadata": {},
     "output_type": "execute_result"
    }
   ],
   "source": [
    "paths_pad1_values = get_paths_nonnested(pad1,pad1_coords,pad1_coords_rev)\n",
    "len(paths_pad1_values)"
   ]
  },
  {
   "cell_type": "code",
   "execution_count": 9,
   "id": "dc9e8008-c264-4525-a66a-5327c85cfa35",
   "metadata": {},
   "outputs": [
    {
     "data": {
      "text/plain": [
       "25"
      ]
     },
     "execution_count": 9,
     "metadata": {},
     "output_type": "execute_result"
    }
   ],
   "source": [
    "paths_pad2_values = get_paths_nonnested(pad2,pad2_coords,pad2_coords_rev)\n",
    "len(paths_pad2_values)"
   ]
  },
  {
   "cell_type": "markdown",
   "id": "92dea7a1-b733-4564-b2d1-924e6ab672c8",
   "metadata": {},
   "source": [
    "# V1 of Part A (suboptimal)"
   ]
  },
  {
   "cell_type": "code",
   "execution_count": 10,
   "id": "48281c36-08ac-4602-b037-96a85838ebda",
   "metadata": {},
   "outputs": [],
   "source": [
    "def leave_shortest(in_set):\n",
    "    k=min({len(x) for x in in_set})\n",
    "    return {x for x in in_set if len(x) == k}\n",
    "\n",
    "# @functools.cache\n",
    "def expand_level_str(in_str,dict_for_expansion):\n",
    "    in_str_prefixed = \"A\"+in_str\n",
    "    res = [\"\"]\n",
    "    for prev_char, this_char in zip(in_str_prefixed[:-1],in_str_prefixed[1:]):\n",
    "        res = set([pref+suff for pref in res for suff in dict_for_expansion[(prev_char,this_char)]])\n",
    "    return leave_shortest(res)\n",
    "\n",
    "def expand_level_set(in_set,dict_for_expansion):\n",
    "    res_set = set()\n",
    "    for in_str in in_set:\n",
    "        res_tmp = expand_level_str(in_str,dict_for_expansion)\n",
    "        res_set.update(res_tmp)\n",
    "    return leave_shortest(res_set)"
   ]
  },
  {
   "cell_type": "code",
   "execution_count": 11,
   "id": "40ad1e61-8be5-4544-b6a6-d4c0a9cc2e4c",
   "metadata": {},
   "outputs": [],
   "source": [
    "def add_nested_level_paths(paths_prev_level,dict_for_expansion):\n",
    "    this_level_paths = {}\n",
    "    for (ns,ne),val in paths_prev_level.items():\n",
    "        val2 = expand_level_set(val,dict_for_expansion)\n",
    "        this_level_paths[(ns,ne)] = val2\n",
    "    return this_level_paths"
   ]
  },
  {
   "cell_type": "code",
   "execution_count": 12,
   "id": "8211027a-7e35-47b9-b00c-bf844b2fa2a2",
   "metadata": {},
   "outputs": [],
   "source": [
    "levels = [paths_pad1_values]\n",
    "for i in range(2):\n",
    "    next_level_paths = add_nested_level_paths(levels[i],paths_pad2_values)\n",
    "    levels.append(next_level_paths)\n"
   ]
  },
  {
   "cell_type": "code",
   "execution_count": 13,
   "id": "2e68b540-5eff-407e-bfa8-079c10e98f62",
   "metadata": {},
   "outputs": [],
   "source": [
    "def get_str(in_str,dict_for_command):\n",
    "    res_set = expand_level_str(in_str,dict_for_command)\n",
    "    return res_set.pop()"
   ]
  },
  {
   "cell_type": "code",
   "execution_count": 14,
   "id": "eef2f091-a01f-42f3-af61-535226fee5f5",
   "metadata": {},
   "outputs": [],
   "source": [
    "def partA(file_name):\n",
    "    with open(file_name) as f:\n",
    "        lines = list(map(str.strip,f.readlines()))\n",
    "    \n",
    "    res = [len(get_str(x,levels[2]))*int(x[:-1]) for x in lines]\n",
    "    \n",
    "    return sum(res)"
   ]
  },
  {
   "cell_type": "code",
   "execution_count": 15,
   "id": "bb93f4f1-e328-4657-b006-ef8c0ce7bb76",
   "metadata": {},
   "outputs": [
    {
     "name": "stdout",
     "output_type": "stream",
     "text": [
      "CPU times: total: 0 ns\n",
      "Wall time: 8 ms\n",
      "All ok\n"
     ]
    }
   ],
   "source": [
    "%time assert partA(\"test.txt\") == 126384 #wrong because it allows arm to go over Blank\n",
    "print(\"All ok\")"
   ]
  },
  {
   "cell_type": "code",
   "execution_count": 16,
   "id": "cafeee58-6ff4-45ae-87c5-64ac520c705f",
   "metadata": {},
   "outputs": [
    {
     "name": "stdout",
     "output_type": "stream",
     "text": [
      "CPU times: total: 15.6 ms\n",
      "Wall time: 11 ms\n",
      "All ok\n"
     ]
    }
   ],
   "source": [
    "%time assert partA(\"input.txt\") == 211930\n",
    "print(\"All ok\")\n",
    "# 213458 is too high"
   ]
  },
  {
   "cell_type": "markdown",
   "id": "80b9e046-d300-4a79-b26d-5d6ec99513a0",
   "metadata": {},
   "source": [
    "# Part B and v2 of Part A (more optimal)"
   ]
  },
  {
   "cell_type": "code",
   "execution_count": 17,
   "id": "8865c861-9390-4687-a725-b8beb930c65c",
   "metadata": {},
   "outputs": [],
   "source": [
    "@functools.cache\n",
    "def getShortestLength(pattern,level,max_level,max_length=np.Inf):\n",
    "    if level == max_level:\n",
    "        return len(pattern)\n",
    "    else:\n",
    "        pattern_prefixed = \"A\"+pattern\n",
    "        path_values = (paths_pad2_values if level > 0 else paths_pad1_values)\n",
    "        res = 0\n",
    "        for prev_char, this_char in zip(pattern_prefixed[:-1],pattern_prefixed[1:]):\n",
    "            possible_expansions = path_values[(prev_char,this_char)]\n",
    "            expansion_length = np.Inf\n",
    "            for expansion in possible_expansions:\n",
    "                tmp = getShortestLength(expansion,level+1,max_level,max_length=expansion_length)\n",
    "                expansion_length = min(tmp,expansion_length)\n",
    "            res+=expansion_length\n",
    "            \n",
    "            if res > max_length:\n",
    "                # abort\n",
    "                return np.Inf\n",
    "        return res"
   ]
  },
  {
   "cell_type": "code",
   "execution_count": 18,
   "id": "5da38a15-0168-4c85-bc20-909f21066f34",
   "metadata": {},
   "outputs": [],
   "source": [
    "assert getShortestLength(\"029A\",0,3) == 68 == len(get_str(\"029A\",levels[2]))\n",
    "assert getShortestLength(\"029A\",0,1) == 12 == len(get_str(\"029A\",levels[0]))"
   ]
  },
  {
   "cell_type": "code",
   "execution_count": 19,
   "id": "786617ec-b164-4182-a98b-c509458dc1b3",
   "metadata": {},
   "outputs": [],
   "source": [
    "def partA_alternative(file_name):\n",
    "    with open(file_name) as f: \n",
    "        lines = list(map(str.strip,f.readlines()))\n",
    "\n",
    "    res = [getShortestLength(x,0,3)*int(x[:-1]) for x in lines]\n",
    "\n",
    "    return sum(res)"
   ]
  },
  {
   "cell_type": "code",
   "execution_count": 20,
   "id": "0197a33b-e9bd-4aa0-8306-5bf2e88b4bfe",
   "metadata": {},
   "outputs": [],
   "source": [
    "def partB(file_name):\n",
    "    with open(file_name) as f:\n",
    "        lines = list(map(str.strip,f.readlines()))\n",
    "    \n",
    "    res = [getShortestLength(x,0,26)*int(x[:-1]) for x in lines]\n",
    "    \n",
    "    return sum(res)"
   ]
  },
  {
   "cell_type": "code",
   "execution_count": 21,
   "id": "229f6563-3854-4448-9a20-1836782c46f6",
   "metadata": {},
   "outputs": [
    {
     "name": "stdout",
     "output_type": "stream",
     "text": [
      "CPU times: total: 0 ns\n",
      "Wall time: 2 ms\n",
      "All ok\n"
     ]
    }
   ],
   "source": [
    "%time assert partA_alternative(\"test.txt\") == 126384 #wrong because it allows arm to go over Blank\n",
    "print(\"All ok\")"
   ]
  },
  {
   "cell_type": "code",
   "execution_count": 22,
   "id": "73dedba4-647f-433a-aa7e-8e20249ec635",
   "metadata": {},
   "outputs": [
    {
     "name": "stdout",
     "output_type": "stream",
     "text": [
      "CPU times: total: 15.6 ms\n",
      "Wall time: 1 ms\n",
      "All ok\n"
     ]
    }
   ],
   "source": [
    "%time assert partA_alternative(\"input.txt\") == 211930\n",
    "print(\"All ok\")\n",
    "# 213458 is too high"
   ]
  },
  {
   "cell_type": "code",
   "execution_count": 23,
   "id": "283286d6-f9d8-461e-be09-ed1daf6d8b98",
   "metadata": {},
   "outputs": [
    {
     "name": "stdout",
     "output_type": "stream",
     "text": [
      "CPU times: total: 0 ns\n",
      "Wall time: 11 ms\n",
      "Part B OK\n"
     ]
    }
   ],
   "source": [
    "%time assert partB(\"input.txt\") == 263492840501566\n",
    "print(\"Part B OK\")"
   ]
  },
  {
   "cell_type": "code",
   "execution_count": null,
   "id": "ef518fbe-55ba-4f40-928e-fd3289520bea",
   "metadata": {},
   "outputs": [],
   "source": []
  }
 ],
 "metadata": {
  "kernelspec": {
   "display_name": "Python 3 (ipykernel)",
   "language": "python",
   "name": "python3"
  },
  "language_info": {
   "codemirror_mode": {
    "name": "ipython",
    "version": 3
   },
   "file_extension": ".py",
   "mimetype": "text/x-python",
   "name": "python",
   "nbconvert_exporter": "python",
   "pygments_lexer": "ipython3",
   "version": "3.12.7"
  }
 },
 "nbformat": 4,
 "nbformat_minor": 5
}
