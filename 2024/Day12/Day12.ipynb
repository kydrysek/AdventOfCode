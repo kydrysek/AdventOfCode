{
 "cells": [
  {
   "cell_type": "code",
   "execution_count": 22,
   "id": "1cbb2db7-38fe-4ae7-a3bf-8abb2c1a42aa",
   "metadata": {},
   "outputs": [],
   "source": [
    "import numpy as np\n",
    "import pandas as pd\n",
    "# from aocd import get_data\n",
    "import os\n",
    "import re\n",
    "import time\n",
    "\n",
    "module_path=os.path.abspath(os.path.join('../'))\n",
    "sys.path.append(module_path)\n",
    "from ComplexMap import ComplexMap\n",
    "\n",
    "# file=\"test1.txt\"\n",
    "# file=\"test2.txt\"\n",
    "file =\"input.txt\"\n",
    "\n",
    "with open(file) as f:\n",
    "    lines = f.readlines()\n",
    "    \n",
    "lines = list(map(lambda x:x.strip(),lines))"
   ]
  },
  {
   "cell_type": "code",
   "execution_count": 23,
   "id": "e573b125-178c-4e79-9c88-701d45a3c5da",
   "metadata": {},
   "outputs": [],
   "source": [
    "plan = ComplexMap(lines,str) \n",
    "plan_dict = plan.map_as_dict()\n",
    "plan_set = plan.map_as_set()"
   ]
  },
  {
   "cell_type": "code",
   "execution_count": 24,
   "id": "610d50c7-e22b-436a-942b-5a723dc017ea",
   "metadata": {
    "scrolled": true
   },
   "outputs": [],
   "source": [
    "def findAreaFromPoint(coord,val,processed):\n",
    "    area = set()\n",
    "    to_check = [coord]\n",
    "    processed_copy = processed.copy()\n",
    "    \n",
    "    while to_check:\n",
    "        el = to_check.pop(0)\n",
    "        # print(\">>\",to_check)\n",
    "        if el not in processed and not el in area and plan_dict[el]==val:\n",
    "            area.add(el)\n",
    "            to_check+=plan.get_neighbours(el)\n",
    "    \n",
    "    processed_copy.update(area)\n",
    "    \n",
    "    return area, processed_copy\n",
    "            "
   ]
  },
  {
   "cell_type": "code",
   "execution_count": 25,
   "id": "032682d9-0cea-453b-b2bc-1d6ee3d2c78b",
   "metadata": {},
   "outputs": [],
   "source": [
    "def getArea(point_set):\n",
    "    return len(point_set)\n",
    "\n",
    "def getPerimeter_asSet(point_set):\n",
    "    sides = set()\n",
    "    for p in point_set:\n",
    "        n_direct = plan.get_neighbour_directions()\n",
    "        for d in n_direct:\n",
    "            if p+d not in point_set:\n",
    "                sides.add((p,d))\n",
    "\n",
    "    return sides\n",
    "\n",
    "def getPerimeter(point_set):\n",
    "    return len(getPerimeter_asSet(point_set))\n",
    "\n",
    "def getSides(point_set):\n",
    "    sidesPotential = getPerimeter_asSet(point_set)\n",
    "    sides = set()\n",
    "    \n",
    "    while sidesPotential:\n",
    "        # print(sidesPotential)\n",
    "        p1,d1 = sidesPotential.pop()\n",
    "        orthDir = d1*1j\n",
    "        # print(p1,d1,orthDir)\n",
    "        i=1\n",
    "        while (p1+i*orthDir,d1) in sidesPotential:\n",
    "            # remove that new point from sides potential\n",
    "            sidesPotential.remove((p1+i*orthDir,d1))\n",
    "            i+=1\n",
    "        i=1\n",
    "        while (p1-i*orthDir,d1) in sidesPotential:\n",
    "            # remove that new point from sides potential\n",
    "            sidesPotential.remove((p1-i*orthDir,d1))\n",
    "            i+=1\n",
    "\n",
    "        sides.add((p1,d1))\n",
    "    \n",
    "    return len(sides)\n",
    "\n",
    "def score_partA(point_set):\n",
    "    area = getArea(point_set)\n",
    "    per = getPerimeter(point_set)\n",
    "    return area*per\n",
    "\n",
    "def score_partB(point_set):\n",
    "    area = getArea(point_set)\n",
    "    nsides = getSides(point_set)\n",
    "    return area*nsides\n"
   ]
  },
  {
   "cell_type": "code",
   "execution_count": 28,
   "id": "e844b434-cc50-432c-b999-5d5cadfec164",
   "metadata": {},
   "outputs": [
    {
     "name": "stdout",
     "output_type": "stream",
     "text": [
      "PartA 1456082\n",
      "PartB 872382\n"
     ]
    }
   ],
   "source": [
    "processed = set()\n",
    "areas = {}\n",
    "\n",
    "\n",
    "for coord, val in plan_set:\n",
    "    if coord not in processed:\n",
    "        #do BFS, will update processed\n",
    "        area_set,processed = findAreaFromPoint(coord,val,processed)\n",
    "        areas[coord]=area_set\n",
    "        \n",
    "# print(areas)\n",
    "\n",
    "partA=0\n",
    "partB=0\n",
    "for a in areas:\n",
    "    # print(score(areas[a]))\n",
    "    partA+=score_partA(areas[a])\n",
    "    partB+=score_partB(areas[a])\n",
    "print(\"PartA\",partA)\n",
    "print(\"PartB\",partB)\n",
    "\n",
    "        "
   ]
  },
  {
   "cell_type": "markdown",
   "id": "dde45c8d-1546-4751-b14c-d3216d1631c7",
   "metadata": {},
   "source": [
    "test1:\n",
    "PartA 140\n",
    "PartB 80\n",
    "\n",
    "test2:\n",
    "PartA 772\n",
    "PartB 436\n",
    "\n",
    "input:\n",
    "PartA 1456082\n",
    "PartB 872382"
   ]
  },
  {
   "cell_type": "code",
   "execution_count": null,
   "id": "0f970e18-c5d2-4c2a-a675-309c694e8875",
   "metadata": {},
   "outputs": [],
   "source": []
  }
 ],
 "metadata": {
  "kernelspec": {
   "display_name": "Python 3 (ipykernel)",
   "language": "python",
   "name": "python3"
  },
  "language_info": {
   "codemirror_mode": {
    "name": "ipython",
    "version": 3
   },
   "file_extension": ".py",
   "mimetype": "text/x-python",
   "name": "python",
   "nbconvert_exporter": "python",
   "pygments_lexer": "ipython3",
   "version": "3.12.7"
  }
 },
 "nbformat": 4,
 "nbformat_minor": 5
}
