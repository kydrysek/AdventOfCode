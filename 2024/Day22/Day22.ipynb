{
 "cells": [
  {
   "cell_type": "code",
   "execution_count": 13,
   "id": "9e913682-3aad-4501-b43a-46f0243deaac",
   "metadata": {},
   "outputs": [
    {
     "name": "stdout",
     "output_type": "stream",
     "text": [
      "The autoreload extension is already loaded. To reload it, use:\n",
      "  %reload_ext autoreload\n"
     ]
    }
   ],
   "source": [
    "%load_ext autoreload \n",
    "\n",
    "import numpy as np\n",
    "import pandas as pd\n",
    "# from aocd i\n",
    "# import get_data\n",
    "import os\n",
    "import re\n",
    "import time\n",
    "import networkx as nx\n",
    "from heapq import *\n",
    "import functools\n",
    "import functools\n",
    "from  math import log\n",
    "from tqdm import tqdm\n",
    "from operator import itemgetter\n",
    "\n",
    "\n",
    "module_path=os.path.abspath(os.path.join('../'))\n",
    "sys.path.append(module_path)\n",
    "from ComplexMap import ComplexMap"
   ]
  },
  {
   "cell_type": "code",
   "execution_count": 14,
   "id": "04e30c22-df2d-4f6f-b3e8-11fa7d7f5275",
   "metadata": {},
   "outputs": [],
   "source": [
    "@functools.cache\n",
    "def nextSecret(secret):\n",
    "    ns = ((secret*64) ^ secret)%16777216\n",
    "    ns = ((ns // 32)^ns)%16777216\n",
    "    ns = ((ns * 2048)^ns)%16777216\n",
    "    return ns"
   ]
  },
  {
   "cell_type": "code",
   "execution_count": 15,
   "id": "f4dc1111-d6ba-4449-bec6-a806ef563d93",
   "metadata": {},
   "outputs": [],
   "source": [
    "@functools.cache\n",
    "def getKthSecret(secret,k):\n",
    "    \"\"\" returns kth secret, as well as last digits of all the secrets and differences between them \"\"\"\n",
    "    ns = secret\n",
    "    slist = [secret%10]\n",
    "    for _ in range(k):\n",
    "        ns = nextSecret(ns)\n",
    "        slist += [ns%10]\n",
    "    slist=np.array(slist)\n",
    "    diffs=slist[1:]-slist[:-1]\n",
    "\n",
    "    diffs_patterns = [tuple(diffs[i-3:i+1]) for i in range(3,len(diffs))]\n",
    "     \n",
    "    return ns,slist[4:],diffs_patterns"
   ]
  },
  {
   "cell_type": "code",
   "execution_count": 16,
   "id": "9c32a5bc-b0fb-4cac-8675-8a370f37917f",
   "metadata": {},
   "outputs": [],
   "source": [
    "ns,vals,diffs = getKthSecret(2024,2000)"
   ]
  },
  {
   "cell_type": "code",
   "execution_count": 17,
   "id": "acc99973-c1db-4a69-96de-cf17cb2bf31e",
   "metadata": {},
   "outputs": [],
   "source": [
    "def partA(file):\n",
    "    \n",
    "    with open(file) as f:\n",
    "        lines = f.readlines()\n",
    "    lines = list(map(int,list(map(lambda x:x.strip(),lines))))\n",
    "\n",
    "    res = 0\n",
    "    for num in lines:\n",
    "        last_secret,_,_ = getKthSecret(num,2000)\n",
    "        res+=last_secret\n",
    "    return res\n"
   ]
  },
  {
   "cell_type": "code",
   "execution_count": 18,
   "id": "9956be92-6c56-479f-b139-2837472274ef",
   "metadata": {},
   "outputs": [
    {
     "name": "stdout",
     "output_type": "stream",
     "text": [
      "CPU times: total: 31.2 ms\n",
      "Wall time: 51 ms\n",
      "All OK\n"
     ]
    }
   ],
   "source": [
    "%time assert partA(\"test.txt\") == 37327623\n",
    "print(\"All OK\")"
   ]
  },
  {
   "cell_type": "code",
   "execution_count": 19,
   "id": "74084b2f-c119-4774-b417-3302ae2224df",
   "metadata": {},
   "outputs": [
    {
     "name": "stdout",
     "output_type": "stream",
     "text": [
      "CPU times: total: 13.7 s\n",
      "Wall time: 13.8 s\n",
      "All OK\n"
     ]
    }
   ],
   "source": [
    "%time assert partA(\"input.txt\") == 18317943467\n",
    "print(\"All OK\")"
   ]
  },
  {
   "cell_type": "code",
   "execution_count": 20,
   "id": "de9d61ac-0ca2-440e-80e5-4477e1d5875f",
   "metadata": {},
   "outputs": [],
   "source": [
    "def partB_generic(file,npatterns):\n",
    "    \n",
    "    with open(file) as f:\n",
    "        lines = f.readlines()\n",
    "    lines = list(map(int,list(map(lambda x:x.strip(),lines))))\n",
    "\n",
    "\n",
    "    dict_res = {}\n",
    "    for i, num in enumerate(lines):\n",
    "        _, vals, patterns = getKthSecret(num,2000)\n",
    "\n",
    "        pattern_cache = set()\n",
    "        for v,p in zip(vals,patterns):\n",
    "            if p not in pattern_cache:\n",
    "                pattern_cache.add(p)\n",
    "                dict_res[p] = dict_res.get(p,0)+v\n",
    "\n",
    "    patterns_sorted = sorted(dict_res,key=dict_res.get,reverse=True)\n",
    "    res = sum([ dict_res[key] for key in patterns_sorted[:npatterns]])\n",
    "    return res\n",
    "    "
   ]
  },
  {
   "cell_type": "code",
   "execution_count": 21,
   "id": "10b3f767-3a70-4751-8a1c-020d987d48a2",
   "metadata": {},
   "outputs": [],
   "source": [
    "def partB(file_name):\n",
    "    return partB_generic(file_name,1)"
   ]
  },
  {
   "cell_type": "code",
   "execution_count": 22,
   "id": "a558c85e-8950-4de2-97c0-f48762fa2843",
   "metadata": {},
   "outputs": [
    {
     "name": "stdout",
     "output_type": "stream",
     "text": [
      "CPU times: total: 31.2 ms\n",
      "Wall time: 42 ms\n",
      "CPU times: total: 15.6 ms\n",
      "Wall time: 14 ms\n",
      "All ok on test file\n"
     ]
    }
   ],
   "source": [
    "%time assert partB_generic(\"test2.txt\",1) == 23\n",
    "%time assert partB(\"test2.txt\") == 23\n",
    "print(\"All ok on test file\")"
   ]
  },
  {
   "cell_type": "code",
   "execution_count": 23,
   "id": "4e718f66-a61a-4e22-8780-cb4864a26c83",
   "metadata": {},
   "outputs": [
    {
     "name": "stdout",
     "output_type": "stream",
     "text": [
      "CPU times: total: 6.98 s\n",
      "Wall time: 7.09 s\n",
      "All OK on main file\n"
     ]
    }
   ],
   "source": [
    "%time assert partB_generic(\"input.txt\",4) == 7968\n",
    "print(\"All OK on main file\")"
   ]
  },
  {
   "cell_type": "code",
   "execution_count": 24,
   "id": "7d2a3b2e-974a-4105-ab8b-43823c10e6bc",
   "metadata": {},
   "outputs": [
    {
     "name": "stdout",
     "output_type": "stream",
     "text": [
      "CPU times: total: 7.02 s\n",
      "Wall time: 7.12 s\n",
      "All OK on main file\n"
     ]
    }
   ],
   "source": [
    "%time assert partB(\"input.txt\") == 2018\n",
    "print(\"All OK on main file\")"
   ]
  },
  {
   "cell_type": "code",
   "execution_count": null,
   "id": "dec17561-7fb1-48a9-8c8a-c4abd405b556",
   "metadata": {},
   "outputs": [],
   "source": []
  }
 ],
 "metadata": {
  "kernelspec": {
   "display_name": "Python 3 (ipykernel)",
   "language": "python",
   "name": "python3"
  },
  "language_info": {
   "codemirror_mode": {
    "name": "ipython",
    "version": 3
   },
   "file_extension": ".py",
   "mimetype": "text/x-python",
   "name": "python",
   "nbconvert_exporter": "python",
   "pygments_lexer": "ipython3",
   "version": "3.12.7"
  }
 },
 "nbformat": 4,
 "nbformat_minor": 5
}
