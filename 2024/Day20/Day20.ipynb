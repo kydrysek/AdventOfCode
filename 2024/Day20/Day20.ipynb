{
 "cells": [
  {
   "cell_type": "code",
   "execution_count": 26,
   "id": "cb792e5a-c10d-4092-85cc-85f748763735",
   "metadata": {},
   "outputs": [
    {
     "name": "stdout",
     "output_type": "stream",
     "text": [
      "The autoreload extension is already loaded. To reload it, use:\n",
      "  %reload_ext autoreload\n"
     ]
    }
   ],
   "source": [
    "%load_ext autoreload \n",
    "\n",
    "import numpy as np\n",
    "import pandas as pd\n",
    "# from aocd i\n",
    "# import get_data\n",
    "import os\n",
    "import re\n",
    "import time\n",
    "import networkx as nx\n",
    "from heapq import *\n",
    "import functools\n",
    "import functools\n",
    "from  math import log\n",
    "from tqdm import tqdm\n",
    "\n",
    "\n",
    "module_path=os.path.abspath(os.path.join('../'))\n",
    "sys.path.append(module_path)\n",
    "from ComplexMap import ComplexMap\n",
    "\n",
    "file=\"test.txt\"\n",
    "# file=\"test2.txt\"\n",
    "# file =\"input.txt\"\n"
   ]
  },
  {
   "cell_type": "code",
   "execution_count": 27,
   "id": "0528a194-b4cd-4a32-b35d-ce6a1a9d25d7",
   "metadata": {},
   "outputs": [],
   "source": [
    "def getSpecialEdges3(G,area,src,tgt,skip_dist=2,threshold=100,to_beat=None):\n",
    "    to_check = set()\n",
    "    \n",
    "    target_lengths = nx.shortest_path_length(G,target=tgt)\n",
    "    source_lengths = nx.shortest_path_length(G,source=src)\n",
    "        \n",
    "    for n1 in tqdm(source_lengths):\n",
    "        for n2 in target_lengths:\n",
    "            d=dist(n1,n2)\n",
    "            if d <= 1 or d > skip_dist: \n",
    "                continue\n",
    "            \n",
    "            if d + source_lengths[n1]+target_lengths[n2] <= to_beat - threshold:\n",
    "                if (n2,n1,d) not in to_check: to_check.add((n1,n2,d)) \n",
    "    print(f\"to_check={len(to_check)}\")\n",
    "    return to_check"
   ]
  },
  {
   "cell_type": "code",
   "execution_count": 28,
   "id": "396bc32d-8a6e-4f9a-b26e-43d1880db35a",
   "metadata": {},
   "outputs": [],
   "source": [
    "def getCheats(G,src,tgt,cheats,to_beat=np.Inf,threshold=1):\n",
    "    res = 0\n",
    "    res_dict = {}\n",
    "    \n",
    "    for c1,c2,w in tqdm(cheats):\n",
    "        G.add_edge(c1,c2,weight=w)\n",
    "        \n",
    "        path_len = nx.shortest_path_length(G,src,tgt, weight=\"weight\")\n",
    "        gain = to_beat-path_len\n",
    "        if gain>= threshold:\n",
    "            res+=1\n",
    "        \n",
    "        G.remove_edge(c1,c2)\n",
    "    \n",
    "    return res\n"
   ]
  },
  {
   "cell_type": "code",
   "execution_count": 29,
   "id": "09f7b157-276d-46b1-a81f-c8b23d9686be",
   "metadata": {},
   "outputs": [],
   "source": [
    "def constructAreaAndGraph(file):\n",
    "    with open(file) as f:\n",
    "        lines = f.readlines()\n",
    "\n",
    "    lines = list(map(lambda x:x.strip(),lines))\n",
    "    area = ComplexMap(lines,str)\n",
    "\n",
    "    \n",
    "    edge_list = area.get_edges_for_graph(vals_to_consider=[\".\",\"S\",\"E\"],includes_given=True)\n",
    "    \n",
    "    edge_list = {(c1,c2,1) for c1,c2 in edge_list}\n",
    "    G=nx.Graph()\n",
    "    for p1,p2,w in edge_list: G.add_edge(p1,p2,weight=w)\n",
    "\n",
    "    return area,G"
   ]
  },
  {
   "cell_type": "code",
   "execution_count": 30,
   "id": "475a5c17-24cf-4089-af5f-9f1b38be9297",
   "metadata": {},
   "outputs": [],
   "source": [
    "def dist(c1,c2):\n",
    "    d=c2-c1\n",
    "    return int(abs(d.real)+abs(d.imag))"
   ]
  },
  {
   "cell_type": "code",
   "execution_count": 41,
   "id": "383f0989-b4d5-4a63-9738-7519a3831bb3",
   "metadata": {},
   "outputs": [
    {
     "ename": "IndentationError",
     "evalue": "unindent does not match any outer indentation level (<string>, line 20)",
     "output_type": "error",
     "traceback": [
      "\u001b[1;36m  File \u001b[1;32m<string>:20\u001b[1;36m\u001b[0m\n\u001b[1;33m    )\u001b[0m\n\u001b[1;37m     ^\u001b[0m\n\u001b[1;31mIndentationError\u001b[0m\u001b[1;31m:\u001b[0m unindent does not match any outer indentation level\n"
     ]
    }
   ],
   "source": [
    "def partA(file,area=None,G=None,special_rules = False,threshold=1,skip_dist=2):\n",
    "\n",
    "    if area is None or G is None: \n",
    "        area,G=constructAreaAndGraph(file)\n",
    "        \n",
    "    area_as_set = area.map_as_set()\n",
    "    src = [coord for coord,val in area_as_set if val == \"S\"][0]\n",
    "    tgt = [coord for coord,val in area_as_set if val == \"E\"][0]\n",
    "      \n",
    "    to_beat = nx.shortest_path_length(G,src,tgt,weight=\"weight\")\n",
    "    \n",
    "    print(\"to_beat\",to_beat)\n",
    "\n",
    "    # get special edges\n",
    "    print(\"pre special edges\")\n",
    "    special_edges = getSpecialEdges3(G,area,src,tgt,skip_dist=skip_dist,to_beat=to_beat,threshold=threshold)\n",
    "    print(\"post special edges\")\n",
    "\n",
    "    numCheats = len(special_edges)\n",
    "    \n",
    "    return numCheats, G, area"
   ]
  },
  {
   "cell_type": "code",
   "execution_count": 32,
   "id": "c4a1bc58-b324-4315-8d69-3849c3a10de6",
   "metadata": {
    "scrolled": true
   },
   "outputs": [
    {
     "name": "stdout",
     "output_type": "stream",
     "text": [
      "to_beat 84\n",
      "pre special edges\n"
     ]
    },
    {
     "name": "stderr",
     "output_type": "stream",
     "text": [
      "100%|███████████████████████████████████████████████████████████████████████████████| 85/85 [00:00<00:00, 21270.56it/s]"
     ]
    },
    {
     "name": "stdout",
     "output_type": "stream",
     "text": [
      "to_check=44\n",
      "post special edges\n",
      "44\n",
      "OK\n"
     ]
    },
    {
     "name": "stderr",
     "output_type": "stream",
     "text": [
      "\n"
     ]
    }
   ],
   "source": [
    "res,_,_=partA(\"test.txt\",True,threshold=1,skip_dist=2)\n",
    "print(res)\n",
    "assert res == 44\n",
    "print(\"OK\")\n"
   ]
  },
  {
   "cell_type": "code",
   "execution_count": 33,
   "id": "1bfb367c-1294-46db-bb39-79420a51d573",
   "metadata": {},
   "outputs": [
    {
     "name": "stdout",
     "output_type": "stream",
     "text": [
      "to_beat 84\n",
      "pre special edges\n"
     ]
    },
    {
     "name": "stderr",
     "output_type": "stream",
     "text": [
      "100%|███████████████████████████████████████████████████████████████████████████████| 85/85 [00:00<00:00, 10627.67it/s]"
     ]
    },
    {
     "name": "stdout",
     "output_type": "stream",
     "text": [
      "to_check=285\n",
      "post special edges\n",
      "285\n",
      "OK\n"
     ]
    },
    {
     "name": "stderr",
     "output_type": "stream",
     "text": [
      "\n"
     ]
    }
   ],
   "source": [
    "res,_,_=partA(file,threshold=50,skip_dist=20)\n",
    "print(res)\n",
    "assert res == 285\n",
    "print(\"OK\")\n"
   ]
  },
  {
   "cell_type": "code",
   "execution_count": 34,
   "id": "21cd4100-dc25-4191-bb92-4604e70ea0c2",
   "metadata": {},
   "outputs": [],
   "source": [
    "area_big,G_big = constructAreaAndGraph(\"input.txt\")"
   ]
  },
  {
   "cell_type": "code",
   "execution_count": 35,
   "id": "88318216-8ee0-40f8-a00e-c3bbb1079a05",
   "metadata": {},
   "outputs": [],
   "source": [
    "area_small,G_small = constructAreaAndGraph(\"test.txt\")"
   ]
  },
  {
   "cell_type": "code",
   "execution_count": 36,
   "id": "92b7f8ec-712b-4f12-bc4c-1590f6ff218b",
   "metadata": {},
   "outputs": [],
   "source": [
    "# sh_paths_dict_big = getShortestPaths(G_big)"
   ]
  },
  {
   "cell_type": "code",
   "execution_count": 37,
   "id": "9e344321-10ce-453a-92a1-f68d03a5be48",
   "metadata": {},
   "outputs": [
    {
     "name": "stdout",
     "output_type": "stream",
     "text": [
      "to_beat 9416\n",
      "pre special edges\n"
     ]
    },
    {
     "name": "stderr",
     "output_type": "stream",
     "text": [
      "100%|█████████████████████████████████████████████████████████████████████████████| 9417/9417 [00:45<00:00, 204.91it/s]"
     ]
    },
    {
     "name": "stdout",
     "output_type": "stream",
     "text": [
      "to_check=1286\n",
      "post special edges\n",
      "OK\n"
     ]
    },
    {
     "name": "stderr",
     "output_type": "stream",
     "text": [
      "\n"
     ]
    }
   ],
   "source": [
    "G_big_copy = G_big.copy()\n",
    "num_cheats,_,_ =partA(\"input.txt\",area_big,G_big_copy,threshold=100,skip_dist=2)\n",
    "assert num_cheats == 1286\n",
    "print(\"OK\")"
   ]
  },
  {
   "cell_type": "code",
   "execution_count": null,
   "id": "6e1a7443-bf25-49ea-b70e-72531fe1515b",
   "metadata": {},
   "outputs": [],
   "source": []
  },
  {
   "cell_type": "code",
   "execution_count": 39,
   "id": "435501c8-133f-45b1-8d75-2041fe70aae5",
   "metadata": {},
   "outputs": [
    {
     "name": "stdout",
     "output_type": "stream",
     "text": [
      "to_beat 9416\n",
      "pre special edges\n"
     ]
    },
    {
     "name": "stderr",
     "output_type": "stream",
     "text": [
      "100%|█████████████████████████████████████████████████████████████████████████████| 9417/9417 [00:49<00:00, 191.93it/s]\n"
     ]
    },
    {
     "name": "stdout",
     "output_type": "stream",
     "text": [
      "to_check=989316\n",
      "post special edges\n",
      "OK\n",
      "989316\n"
     ]
    }
   ],
   "source": [
    "G_big_copy = G_big.copy()\n",
    "num_cheats,_,_ =partA(\"input.txt\",area_big,G_big_copy,threshold=100,skip_dist=20)\n",
    "assert num_cheats == 989316\n",
    "print(\"OK\")\n",
    "print(num_cheats)"
   ]
  },
  {
   "cell_type": "code",
   "execution_count": null,
   "id": "dc4d4567-862e-494b-b465-c3623f370c6f",
   "metadata": {},
   "outputs": [],
   "source": []
  }
 ],
 "metadata": {
  "kernelspec": {
   "display_name": "Python 3 (ipykernel)",
   "language": "python",
   "name": "python3"
  },
  "language_info": {
   "codemirror_mode": {
    "name": "ipython",
    "version": 3
   },
   "file_extension": ".py",
   "mimetype": "text/x-python",
   "name": "python",
   "nbconvert_exporter": "python",
   "pygments_lexer": "ipython3",
   "version": "3.12.7"
  }
 },
 "nbformat": 4,
 "nbformat_minor": 5
}
