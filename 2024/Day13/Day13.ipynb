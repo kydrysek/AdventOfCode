{
 "cells": [
  {
   "cell_type": "code",
   "execution_count": 168,
   "id": "17ee0780-c2d1-473c-9abe-6e6835b9739c",
   "metadata": {},
   "outputs": [],
   "source": [
    "import numpy as np\n",
    "import pandas as pd\n",
    "# from aocd import get_data\n",
    "import os\n",
    "import re\n",
    "import time\n",
    "\n",
    "module_path=os.path.abspath(os.path.join('../'))\n",
    "sys.path.append(module_path)\n",
    "from ComplexMap import ComplexMap\n",
    "\n",
    "# file=\"test.txt\"\n",
    "file =\"input.txt\"\n",
    "\n",
    "with open(file) as f:\n",
    "    lines = f.readlines()\n",
    "    \n",
    "lines = list(map(lambda x:x.strip(),lines))"
   ]
  },
  {
   "cell_type": "code",
   "execution_count": 169,
   "id": "9d80e6fd-0d6c-439b-9ed0-4b5da4b79f47",
   "metadata": {},
   "outputs": [],
   "source": [
    "def get_numbers(line):\n",
    "    pattern = r\"\\D*(\\d+)\\D+(\\d+)\"\n",
    "    coords = re.match(pattern,line).groups()\n",
    "    coords = list(map(int,coords))\n",
    "    \n",
    "    return coords\n",
    "    \n",
    "assert get_numbers('Button A: X+94, Y+34') == [94,34]\n",
    "assert get_numbers('Button B: X+22, Y+67') == [22,67]\n",
    "assert get_numbers('Prize: X=8400, Y=5400') == [8400,5400]\n"
   ]
  },
  {
   "cell_type": "code",
   "execution_count": 183,
   "id": "4aee6cae-c3c3-4081-8b10-cea72ed14e89",
   "metadata": {},
   "outputs": [],
   "source": [
    "def matrixSolve_2(M,tgt):\n",
    "    # actually there's dedicated solve function...\n",
    "    if np.linalg.det(M) == 0:\n",
    "        return None\n",
    "    else:\n",
    "        return np.linalg.solve(M,tgt)\n",
    "\n",
    "def matrixSolve_1(M,tgt):\n",
    "    \n",
    "    if np.linalg.det(M) == 0:\n",
    "        return None\n",
    "    else:\n",
    "        M_inv = np.linalg.inv(M)\n",
    "        res = M_inv @ tgt\n",
    "        return res\n",
    "\n",
    "def matrixSolve_3(M,tgt):\n",
    "    \"\"\" As others pointed out, can solve this by hand\n",
    "    \"\"\"\n",
    "    Ax,Ay=M[:,0]\n",
    "    Bx,By=M[:,1]\n",
    "    Z,W=tgt\n",
    "    Y = (Ay * Z - Ax*W)/(Ay*Bx - Ax*By)\n",
    "    X = (Z - Bx*Y)/Ax\n",
    "    return [X,Y]\n",
    "        \n",
    "def solveMachine(lines,add_to_end=0,solver_version=1):\n",
    "    A = get_numbers(lines[0])\n",
    "    B = get_numbers(lines[1])\n",
    "    tgt = np.array(get_numbers(lines[2]))+add_to_end\n",
    "    \n",
    "    M =np.array([A,B]).T\n",
    "\n",
    "    # print(M,tgt)\n",
    "    if solver_version == 1:\n",
    "        return matrixSolve_1(M,tgt)\n",
    "    elif solver_version == 2:\n",
    "        return matrixSolve_2(M,tgt)\n",
    "    elif solver_version == 3:\n",
    "        return matrixSolve_3(M,tgt)\n",
    "    else:\n",
    "        print(\"What the honk?\")\n",
    "        return None\n",
    "              \n",
    "\n",
    "def scoreOutput(pushes):\n",
    "    \n",
    "    if pushes is None: return 0\n",
    "\n",
    "    # is the solution acceptable?\n",
    "    pushes_rounded = np.round(pushes)\n",
    "\n",
    "    #tolerance is a bit of a guess (for part B)\n",
    "    if np.allclose(pushes,pushes_rounded,rtol=0,atol=.001):\n",
    "        return pushes_rounded @ np.array([3,1]).T\n",
    "    else:\n",
    "        return 0\n",
    "    "
   ]
  },
  {
   "cell_type": "code",
   "execution_count": 190,
   "id": "a80caf2e-df96-41cd-9779-cab38e7f2e56",
   "metadata": {},
   "outputs": [
    {
     "name": "stdout",
     "output_type": "stream",
     "text": [
      "Part A: 34393.0\n",
      "Part B: 83551068361379.0\n"
     ]
    }
   ],
   "source": [
    "lines_tmp = lines.copy()\n",
    "lines_tmp += [\"\"]\n",
    "lines_count = round(len(lines_tmp)/4)\n",
    "i = 0\n",
    "\n",
    "machines = [lines_tmp[4*i:4*i+3] for i in range(lines_count)] \n",
    "\n",
    "\n",
    "partA = 0\n",
    "partB = 0\n",
    "\n",
    "\n",
    "for machine in machines:\n",
    "    # print(machine)\n",
    "    score_partA = scoreOutput(solveMachine(machine,solver_version=1))\n",
    "    score_partB = scoreOutput(solveMachine(machine,add_to_end=10000000000000,solver_version=1))\n",
    "    partA += score_partA\n",
    "    partB += score_partB\n",
    "    # print()\n",
    "    \n",
    "print(f\"Part A: {partA}\")\n",
    "print(f\"Part B: {partB}\")"
   ]
  },
  {
   "cell_type": "code",
   "execution_count": 191,
   "id": "bc0ebdc3-5f7b-459f-9831-6b63f767ef3d",
   "metadata": {},
   "outputs": [],
   "source": [
    "assert partA == 34393\n",
    "assert partB == 83551068361379"
   ]
  },
  {
   "cell_type": "code",
   "execution_count": null,
   "id": "375d83be-3e45-4bef-aa7a-ba651924ff9e",
   "metadata": {},
   "outputs": [],
   "source": []
  }
 ],
 "metadata": {
  "kernelspec": {
   "display_name": "Python 3 (ipykernel)",
   "language": "python",
   "name": "python3"
  },
  "language_info": {
   "codemirror_mode": {
    "name": "ipython",
    "version": 3
   },
   "file_extension": ".py",
   "mimetype": "text/x-python",
   "name": "python",
   "nbconvert_exporter": "python",
   "pygments_lexer": "ipython3",
   "version": "3.12.7"
  }
 },
 "nbformat": 4,
 "nbformat_minor": 5
}
