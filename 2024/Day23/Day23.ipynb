{
 "cells": [
  {
   "cell_type": "code",
   "execution_count": null,
   "id": "c7971062-eae3-465a-93f1-e4e0dfadf15f",
   "metadata": {},
   "outputs": [],
   "source": []
  },
  {
   "cell_type": "code",
   "execution_count": 2,
   "id": "8faeaba7-f9eb-49b1-8aae-a22d8cf6c024",
   "metadata": {},
   "outputs": [
    {
     "name": "stdout",
     "output_type": "stream",
     "text": [
      "The autoreload extension is already loaded. To reload it, use:\n",
      "  %reload_ext autoreload\n"
     ]
    }
   ],
   "source": [
    "%load_ext autoreload \n",
    "\n",
    "import numpy as np\n",
    "import pandas as pd\n",
    "# from aocd i\n",
    "# import get_data\n",
    "import os\n",
    "import re\n",
    "import time\n",
    "import networkx as nx\n",
    "from heapq import *\n",
    "import functools\n",
    "import functools\n",
    "from  math import log\n",
    "from tqdm import tqdm\n",
    "import sys\n",
    "\n",
    "\n",
    "module_path=os.path.abspath(os.path.join('../'))\n",
    "sys.path.append(module_path)\n",
    "from ComplexMap import ComplexMap"
   ]
  },
  {
   "cell_type": "code",
   "execution_count": 57,
   "id": "785f752a-81c3-493d-8d56-fe2d4f2c078d",
   "metadata": {},
   "outputs": [],
   "source": [
    "def createGraph(file):\n",
    "    with open(file) as f:\n",
    "        lines = f.readlines()\n",
    "    lines = list(map(str,list(map(lambda x:x.strip(),lines))))\n",
    "    \n",
    "    \n",
    "    edges = [tuple(l.split(\"-\")) for l in lines]\n",
    "    G = nx.from_edgelist(edges)\n",
    "    return G"
   ]
  },
  {
   "cell_type": "code",
   "execution_count": 58,
   "id": "f3223fa1-090b-42f2-ac67-bdf363f9add0",
   "metadata": {},
   "outputs": [],
   "source": [
    "def orderedSet_asStr(a1,a2,a3):\n",
    "    return str(sorted({a1,a2,a3}))\n",
    "    \n",
    "def partA_fromGraph(G):\n",
    "    nodes = G.nodes\n",
    "    edges = G.edges\n",
    "\n",
    "    nodes_of_interest_t = {n for n in nodes if n[0]==\"t\"}\n",
    "    nodes_of_interest_all = nodes_of_interest_t.copy()\n",
    "    nodes_of_interest_all.update({x for n in nodes_of_interest_t for x in G[n] })\n",
    "\n",
    "    G_sub = G.subgraph(nodes_of_interest_all)\n",
    "\n",
    "    res = {orderedSet_asStr(n_t,n1,n2) for n_t in nodes_of_interest_t for n1 in G_sub[n_t] for n2 in G_sub[n_t] if n1 < n2 and n1 in G_sub[n2]}\n",
    "    return res"
   ]
  },
  {
   "cell_type": "code",
   "execution_count": 91,
   "id": "7368c6d9-d5dc-496e-b28c-11b08586ab62",
   "metadata": {},
   "outputs": [],
   "source": [
    "def partA(file):\n",
    "    G = createGraph(file)\n",
    "    \n",
    "    return partA_fromGraph(G)"
   ]
  },
  {
   "cell_type": "code",
   "execution_count": 92,
   "id": "8a2eb81c-d4a2-47fb-bbd9-0ebcced92213",
   "metadata": {},
   "outputs": [
    {
     "name": "stdout",
     "output_type": "stream",
     "text": [
      "All ok\n"
     ]
    }
   ],
   "source": [
    "assert len(partA(\"test.txt\"))==7\n",
    "print(\"All ok\")"
   ]
  },
  {
   "cell_type": "code",
   "execution_count": 93,
   "id": "e69d5f1b-f330-4cc9-aeaf-f9b790064f6c",
   "metadata": {},
   "outputs": [
    {
     "name": "stdout",
     "output_type": "stream",
     "text": [
      "All ok\n"
     ]
    }
   ],
   "source": [
    "assert len(partA(\"input.txt\"))==1170\n",
    "print(\"All ok\")"
   ]
  },
  {
   "cell_type": "code",
   "execution_count": 94,
   "id": "f19b603f-054d-458f-8431-a44208ee837e",
   "metadata": {},
   "outputs": [],
   "source": [
    "\n",
    "def partB(file):\n",
    "    G = createGraph(file)\n",
    "    \n",
    "    clique = nx.max_weight_clique(G,weight=None)\n",
    "   \n",
    "    return \",\".join(sorted(clique[0]))"
   ]
  },
  {
   "cell_type": "code",
   "execution_count": 95,
   "id": "e268d11b-096b-4959-b395-228033323404",
   "metadata": {},
   "outputs": [
    {
     "name": "stdout",
     "output_type": "stream",
     "text": [
      "All ok\n"
     ]
    }
   ],
   "source": [
    "assert partB(\"test.txt\") == \"co,de,ka,ta\"\n",
    "print(\"All ok\")"
   ]
  },
  {
   "cell_type": "code",
   "execution_count": 97,
   "id": "6054ec82-8a13-4eaa-80fc-bbbbda1e4163",
   "metadata": {},
   "outputs": [
    {
     "name": "stdout",
     "output_type": "stream",
     "text": [
      "All ok\n"
     ]
    }
   ],
   "source": [
    "assert partB(\"input.txt\") == 'bo,dd,eq,ik,lo,lu,ph,ro,rr,rw,uo,wx,yg'\n",
    "print(\"All ok\")"
   ]
  },
  {
   "cell_type": "code",
   "execution_count": null,
   "id": "1bb84db0-0d8c-4757-a853-f7dc21f9f712",
   "metadata": {},
   "outputs": [],
   "source": []
  }
 ],
 "metadata": {
  "kernelspec": {
   "display_name": "Python 3 (ipykernel)",
   "language": "python",
   "name": "python3"
  },
  "language_info": {
   "codemirror_mode": {
    "name": "ipython",
    "version": 3
   },
   "file_extension": ".py",
   "mimetype": "text/x-python",
   "name": "python",
   "nbconvert_exporter": "python",
   "pygments_lexer": "ipython3",
   "version": "3.12.7"
  }
 },
 "nbformat": 4,
 "nbformat_minor": 5
}
