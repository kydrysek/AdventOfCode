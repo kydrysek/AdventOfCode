{
 "cells": [
  {
   "cell_type": "code",
   "execution_count": 158,
   "id": "c3c454b9",
   "metadata": {},
   "outputs": [],
   "source": [
    "import numpy as np\n",
    "import pandas as pd\n",
    "import math\n",
    "import re\n",
    "from shapely import Polygon"
   ]
  },
  {
   "cell_type": "code",
   "execution_count": null,
   "id": "0ed281b4",
   "metadata": {},
   "outputs": [],
   "source": []
  },
  {
   "cell_type": "code",
   "execution_count": 159,
   "id": "1e867210",
   "metadata": {},
   "outputs": [],
   "source": [
    "#FILE_NAME = \"test.txt\"\n",
    "#FILE_NAME = \"test2.txt\"\n",
    "FILE_NAME = \"input.txt\"\n",
    "DIAG=False\n",
    "DIAG2 = False"
   ]
  },
  {
   "cell_type": "code",
   "execution_count": null,
   "id": "bbf69a1d",
   "metadata": {},
   "outputs": [],
   "source": []
  },
  {
   "cell_type": "code",
   "execution_count": 160,
   "id": "f7c082b9",
   "metadata": {},
   "outputs": [],
   "source": [
    "MODULES = {}\n",
    "TYPE_FLIPFLOP = \"flipflop\"\n",
    "TYPE_BROADCAST = \"broadcast\"\n",
    "TYPE_CONJUNCT = \"conjuction\"\n",
    "TYPE_BUTTON = \"button\"\n",
    "\n",
    "NAME_BROADCASTER = \"broadcaster\"\n",
    "NAME_BUTTON = \"button\"\n",
    "\n",
    "PULSE_LOW = -1\n",
    "PULSE_HIGH = 1\n",
    "\n",
    "STATE_OFF = -2\n",
    "STATE_ON = 2"
   ]
  },
  {
   "cell_type": "markdown",
   "id": "640afbcf",
   "metadata": {},
   "source": [
    "State means:\n",
    "    - flipflop - False means off\n",
    "    - conjunction - list of connected modules"
   ]
  },
  {
   "cell_type": "code",
   "execution_count": 161,
   "id": "911dda00",
   "metadata": {},
   "outputs": [],
   "source": [
    "def get_module_inst(mod_name,mod_type,descendants):\n",
    "    desc_list = [x.strip() for x in descendants]\n",
    "    return {\"name\":mod_name,\"type\":mod_type,\"descend\": desc_list,\"state_flip\":STATE_OFF,\"state_conj\":{}}\n"
   ]
  },
  {
   "cell_type": "code",
   "execution_count": 162,
   "id": "5dffd872",
   "metadata": {},
   "outputs": [],
   "source": [
    "def get_module_inst_button():\n",
    "    return get_module_inst(NAME_BUTTON,TYPE_BUTTON,[NAME_BROADCASTER])"
   ]
  },
  {
   "cell_type": "code",
   "execution_count": 163,
   "id": "6a1052e1",
   "metadata": {},
   "outputs": [],
   "source": [
    "def buildModulesFromLines(lines):\n",
    "    \n",
    "    cur_x = 0\n",
    "    cur_y = 0\n",
    "    \n",
    "    res = []\n",
    "    \n",
    "    for line in lines:\n",
    "        if line[-1]==\"\\n\": line = line[:-1]\n",
    "        if len(line)>0:\n",
    "            module_str,downstream = line.split(\"->\")\n",
    "            \n",
    "            module_str =  module_str.strip()\n",
    "             \n",
    "            \n",
    "            if module_str[0] == \"%\":\n",
    "                mod_type=TYPE_FLIPFLOP\n",
    "                module_str = module_str[1:]\n",
    "            elif module_str[0] == \"&\":\n",
    "                mod_type = TYPE_CONJUNCT\n",
    "                module_str = module_str[1:]\n",
    "            elif module_str.strip()== NAME_BROADCASTER:\n",
    "                mod_type = TYPE_BROADCAST\n",
    "            else:\n",
    "                print (\"HOLY SHIT SHOULDN'T HAPPEN!\")\n",
    "            \n",
    "            module_inst = get_module_inst(module_str,mod_type,downstream.split(\",\"))\n",
    "\n",
    "    \n",
    "            MODULES[module_str] = module_inst\n",
    "    \n",
    "    # parse all modules to figure out precedecessors of conjunction modules\n",
    "    \n",
    "    \n",
    "    reverse_module_map = []\n",
    "    for mod_name, mod_obj in MODULES.items():\n",
    "        desc_list = mod_obj[\"descend\"]\n",
    "        for x in desc_list:\n",
    "            reverse_module_map.append((x,mod_name))\n",
    "    \n",
    "    global reverse_map\n",
    "    reverse_map = {}\n",
    "    print (\"Reverse module\")\n",
    "    for x in MODULES:\n",
    "        reverse_map[x]=[z for (y,z) in reverse_module_map if y == x]\n",
    "    #    print(\">>\",x,reverse_map[x])\n",
    "    \n",
    "    global to_check \n",
    "    to_check = []\n",
    "    for x in [\"ff\",\"th\",\"hb\",\"tj\"]:\n",
    "        to_check += reverse_map[x]\n",
    "    \n",
    "    #for x in reverse_module_map:\n",
    "    #    print(\">>\",x)\n",
    "    \n",
    "    for mod_name, mod_obj in MODULES.items():\n",
    "        mod_type = mod_obj[\"type\"]\n",
    "        if mod_type == TYPE_CONJUNCT:\n",
    "            predec_list = {y:PULSE_LOW for x,y in reverse_module_map if x == mod_name}\n",
    "            mod_obj[\"state_conj\"] = predec_list\n",
    "            MODULES[mod_name]=mod_obj\n",
    "            \n",
    "    MODULES[NAME_BUTTON]=get_module_inst_button()\n",
    "    \n",
    "    return MODULES\n",
    "    \n",
    "            "
   ]
  },
  {
   "cell_type": "code",
   "execution_count": 164,
   "id": "690b6240",
   "metadata": {},
   "outputs": [],
   "source": [
    "def process_single_pulse(orig_name,dest_name,pulse_type,all_modules):\n",
    "    if dest_name == GLOB_CHECK:\n",
    "        if pulse_type == PULSE_LOW and obj_dest[dest_name][\"state_flip\"] == STATE_OFF:\n",
    "            raise Exception(\"Found\")\n",
    "    elif dest_name not in all_modules:\n",
    "        return []\n",
    "    \n",
    "    obj_dest = all_modules[dest_name]\n",
    "    obj_dest_type = obj_dest[\"type\"]\n",
    "    if DIAG2: print(\"PULSE\",orig_name,pulse_type,dest_name,\"---\",obj_dest_type)\n",
    "    \n",
    "    #to_send \n",
    "    if obj_dest_type == TYPE_BROADCAST:\n",
    "        # send same pulse to all\n",
    "        to_send = pulse_type\n",
    "    elif obj_dest_type == TYPE_FLIPFLOP:\n",
    "        if pulse_type == PULSE_HIGH:\n",
    "            return []\n",
    "        else:\n",
    "            obj_dest[\"state_flip\"] = - obj_dest[\"state_flip\"]\n",
    "            if obj_dest[\"state_flip\"] == STATE_ON:\n",
    "                # send HIGH PULSE to all\n",
    "                to_send = PULSE_HIGH\n",
    "            else:\n",
    "                to_send = PULSE_LOW\n",
    "    elif obj_dest_type == TYPE_CONJUNCT:\n",
    "        obj_dest[\"state_conj\"][orig_name] = pulse_type\n",
    "        if DIAG: print(\">>\",obj_dest[\"state_conj\"])\n",
    "        if all([x==PULSE_HIGH for x in obj_dest[\"state_conj\"].values()]):\n",
    "            to_send = PULSE_LOW\n",
    "        else:\n",
    "               to_send = PULSE_HIGH\n",
    "        if DIAG: print(\"<<\",obj_dest[\"state_conj\"])\n",
    "    else:\n",
    "        print(\"INCORRECT TARGET MODULE!!!\")\n",
    "        return []\n",
    "    \n",
    "    new_pulses = [(dest_name,x,to_send) for x in obj_dest[\"descend\"]]  \n",
    "    if DIAG: print(\"New pulses: \",new_pulses)\n",
    "    return new_pulses"
   ]
  },
  {
   "cell_type": "code",
   "execution_count": 165,
   "id": "7b4ee346",
   "metadata": {},
   "outputs": [],
   "source": [
    "def process_pulses(modules):\n",
    "    low_count = 0\n",
    "    high_count = 0 \n",
    "    pulse_list = [(NAME_BUTTON,NAME_BROADCASTER,PULSE_LOW)]\n",
    "    while len(pulse_list)>0:\n",
    "        pulse = pulse_list[0]\n",
    "        if pulse[2] < 0:\n",
    "            low_count+=1\n",
    "        else:\n",
    "            high_count +=1\n",
    "        pulse_list = pulse_list[1:]\n",
    "    \n",
    "        pulse_list+= process_single_pulse(*pulse,modules)\n",
    "        if DIAG: print(\"----\\n\",pulse_list)\n",
    "    return (low_count,high_count,modules)"
   ]
  },
  {
   "cell_type": "code",
   "execution_count": 166,
   "id": "20f381b3",
   "metadata": {},
   "outputs": [],
   "source": [
    "# OK\n",
    "def parseFile(fileName):   \n",
    "    with open(fileName) as file:\n",
    "        lines =  file.readlines()    \n",
    "   \n",
    "    MODULES = buildModulesFromLines(lines)\n",
    "    \n",
    "   \n",
    "    \n",
    "    \n",
    "    return MODULES\n",
    "    "
   ]
  },
  {
   "cell_type": "code",
   "execution_count": 173,
   "id": "77cbf689",
   "metadata": {
    "scrolled": true
   },
   "outputs": [
    {
     "name": "stdout",
     "output_type": "stream",
     "text": [
      "Reverse module\n",
      ">> ['vd', 'ld', 'bn', 'fq', 'rs', 'zz', 'sq', 'mb', 'jj', 'bv', 'rk', 'xt', 'rc', 'jh', 'mf', 'st', 'fn', 'dx', 'mv', 'rl', 'km', 'tp', 'ch', 'xp', 'fz', 'fx', 'qm', 'rf', 'dg', 'lp', 'lq', 'js', 'kc']\n",
      "Result: \n",
      " 1\n",
      "{'vd': 256, 'ld': 1024, 'bn': 64, 'fq': 2048, 'rs': 4, 'zz': 1, 'sq': 8, 'mb': 512, 'jj': 51, 'bv': 2, 'rk': 147, 'xt': 83, 'rc': 121, 'jh': 422, 'mf': 16, 'st': 1024, 'fn': 1, 'dx': 344, 'mv': 8, 'rl': 512, 'km': 128, 'tp': 1, 'ch': 4, 'xp': 32, 'fz': 256, 'fx': 1024, 'qm': 7, 'rf': 640, 'dg': 512, 'lp': 1, 'lq': 2048, 'js': 16, 'kc': 64}\n",
      "2331742488176640\n"
     ]
    }
   ],
   "source": [
    "modules = parseFile(FILE_NAME)\n",
    "if DIAG: print(modules)\n",
    "#PULSES_COUNT = 10000000\n",
    "PULSES_COUNT = 10000\n",
    "\n",
    "to_check_res = {}\n",
    "global GLOB_CHECK\n",
    "\n",
    "for x in to_check:\n",
    "    to_check_res[x]=-1\n",
    "\n",
    "print(\">>\",to_check)\n",
    "\n",
    "for x in to_check:\n",
    "    GLOB_CHECK=x\n",
    "    counter=0\n",
    "    while counter < PULSES_COUNT:    \n",
    "        try:\n",
    "            low_c,high_c,modules=process_pulses(modules)\n",
    "        except:\n",
    "            #print(\"Element {}, counter {}\".format(x,counter))\n",
    "            to_check_res[x]=counter+1\n",
    "            break\n",
    "        counter+=1\n",
    "print(\"Result: \\n\",min(to_check_res.values()))\n",
    "      \n",
    "print(to_check_res)\n",
    "print(math.lcm(*to_check_res.values()))"
   ]
  },
  {
   "cell_type": "markdown",
   "id": "8a20763e",
   "metadata": {},
   "source": [
    "2331742488176640 is too high\n",
    "241528184647003"
   ]
  },
  {
   "cell_type": "markdown",
   "id": "83a6f113",
   "metadata": {},
   "source": [
    "1213418"
   ]
  },
  {
   "cell_type": "code",
   "execution_count": 168,
   "id": "c7be1fc3",
   "metadata": {},
   "outputs": [
    {
     "data": {
      "text/plain": [
       "False"
      ]
     },
     "execution_count": 168,
     "metadata": {},
     "output_type": "execute_result"
    }
   ],
   "source": [
    "#res == 32000000\n",
    "res == 11687500"
   ]
  },
  {
   "cell_type": "code",
   "execution_count": 169,
   "id": "17874b26",
   "metadata": {},
   "outputs": [
    {
     "data": {
      "text/plain": [
       "{'kl': ['ff'],\n",
       " 'vd': ['lg'],\n",
       " 'dx': ['fz'],\n",
       " 'jj': ['qr'],\n",
       " 'ld': ['mb'],\n",
       " 'bn': ['zp'],\n",
       " 'mv': ['ch'],\n",
       " 'mx': ['mv', 'hb'],\n",
       " 'qm': ['kc'],\n",
       " 'zd': ['sq', 'ff'],\n",
       " 'tq': ['lr', 'th'],\n",
       " 'vm': ['th'],\n",
       " 'qr': ['mf', 'th'],\n",
       " 'bv': ['fn'],\n",
       " 'rf': ['dg'],\n",
       " 'broadcaster': [],\n",
       " 'rk': ['xt'],\n",
       " 'tj': ['qm', 'rf', 'dg', 'lp', 'lq', 'js', 'kc'],\n",
       " 'dg': ['gz'],\n",
       " 'xt': ['jj'],\n",
       " 'fq': ['ld'],\n",
       " 'gz': ['qm', 'tj'],\n",
       " 'rl': ['fx'],\n",
       " 'rc': ['rk'],\n",
       " 'km': ['xf'],\n",
       " 'gv': ['tj', 'lp'],\n",
       " 'lr': ['bv', 'th'],\n",
       " 'lg': ['bn', 'ff'],\n",
       " 'jh': ['st'],\n",
       " 'rs': ['fj'],\n",
       " 'bt': ['tj', 'js'],\n",
       " 'mf': ['tq'],\n",
       " 'xf': ['xp', 'hb'],\n",
       " 'tp': ['broadcaster', 'hb'],\n",
       " 'ch': ['sv'],\n",
       " 'xp': ['mx'],\n",
       " 'xh': ['tj', 'ct'],\n",
       " 'fz': ['km'],\n",
       " 'zp': ['zd', 'ff'],\n",
       " 'kv': ['hb'],\n",
       " 'll': ['kl', 'vm', 'kv', 'vb'],\n",
       " 'zz': ['broadcaster', 'ff'],\n",
       " 'lp': ['broadcaster', 'tj'],\n",
       " 'vb': ['tj'],\n",
       " 'th': ['jj', 'bv', 'rk', 'xt', 'rc', 'jh', 'mf', 'st', 'fn'],\n",
       " 'sq': ['rs'],\n",
       " 'st': ['rc'],\n",
       " 'fx': ['dx'],\n",
       " 'fj': ['zz', 'ff'],\n",
       " 'lq': ['rf'],\n",
       " 'fn': ['broadcaster', 'th'],\n",
       " 'ct': ['tj', 'gv'],\n",
       " 'ff': ['vd', 'ld', 'bn', 'fq', 'rs', 'zz', 'sq', 'mb'],\n",
       " 'js': ['xh'],\n",
       " 'mb': ['vd'],\n",
       " 'hb': ['dx', 'mv', 'rl', 'km', 'tp', 'ch', 'xp', 'fz', 'fx'],\n",
       " 'kc': ['bt'],\n",
       " 'sv': ['tp', 'hb']}"
      ]
     },
     "execution_count": 169,
     "metadata": {},
     "output_type": "execute_result"
    }
   ],
   "source": [
    "x=\"rx\"\n",
    "reverse_map"
   ]
  },
  {
   "cell_type": "code",
   "execution_count": 170,
   "id": "58ef9283",
   "metadata": {},
   "outputs": [
    {
     "name": "stdout",
     "output_type": "stream",
     "text": [
      "vd flipflop\n",
      "ld flipflop\n",
      "bn flipflop\n",
      "fq flipflop\n",
      "rs flipflop\n",
      "zz flipflop\n",
      "sq flipflop\n",
      "mb flipflop\n",
      "jj flipflop\n",
      "bv flipflop\n",
      "rk flipflop\n",
      "xt flipflop\n",
      "rc flipflop\n",
      "jh flipflop\n",
      "mf flipflop\n",
      "st flipflop\n",
      "fn flipflop\n",
      "dx flipflop\n",
      "mv flipflop\n",
      "rl flipflop\n",
      "km flipflop\n",
      "tp flipflop\n",
      "ch flipflop\n",
      "xp flipflop\n",
      "fz flipflop\n",
      "fx flipflop\n",
      "qm flipflop\n",
      "rf flipflop\n",
      "dg flipflop\n",
      "lp flipflop\n",
      "lq flipflop\n",
      "js flipflop\n",
      "kc flipflop\n"
     ]
    }
   ],
   "source": [
    "#to_check = []\n",
    "#for x in [\"ff\",\"th\",\"hb\",\"tj\"]:\n",
    "#    to_check += reverse_map[x]\n",
    "\n",
    "for x in to_check:\n",
    "    print(x,modules[x][\"type\"])\n"
   ]
  },
  {
   "cell_type": "code",
   "execution_count": null,
   "id": "d6446986",
   "metadata": {},
   "outputs": [],
   "source": []
  }
 ],
 "metadata": {
  "kernelspec": {
   "display_name": "Python 3 (ipykernel)",
   "language": "python",
   "name": "python3"
  },
  "language_info": {
   "codemirror_mode": {
    "name": "ipython",
    "version": 3
   },
   "file_extension": ".py",
   "mimetype": "text/x-python",
   "name": "python",
   "nbconvert_exporter": "python",
   "pygments_lexer": "ipython3",
   "version": "3.9.13"
  }
 },
 "nbformat": 4,
 "nbformat_minor": 5
}
