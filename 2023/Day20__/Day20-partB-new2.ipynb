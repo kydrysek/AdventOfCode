{
 "cells": [
  {
   "cell_type": "code",
   "execution_count": 237,
   "id": "c3c454b9",
   "metadata": {},
   "outputs": [],
   "source": [
    "import numpy as np\n",
    "import pandas as pd\n",
    "import math\n",
    "import re\n",
    "from shapely import Polygon"
   ]
  },
  {
   "cell_type": "code",
   "execution_count": null,
   "id": "0ed281b4",
   "metadata": {},
   "outputs": [],
   "source": []
  },
  {
   "cell_type": "code",
   "execution_count": 238,
   "id": "1e867210",
   "metadata": {},
   "outputs": [],
   "source": [
    "#FILE_NAME = \"test.txt\"\n",
    "#FILE_NAME = \"test2.txt\"\n",
    "FILE_NAME = \"input.txt\"\n",
    "DIAG=False\n",
    "DIAG2 = False"
   ]
  },
  {
   "cell_type": "code",
   "execution_count": null,
   "id": "bbf69a1d",
   "metadata": {},
   "outputs": [],
   "source": []
  },
  {
   "cell_type": "code",
   "execution_count": 239,
   "id": "f7c082b9",
   "metadata": {},
   "outputs": [],
   "source": [
    "MODULES = {}\n",
    "TYPE_FLIPFLOP = \"flipflop\"\n",
    "TYPE_BROADCAST = \"broadcast\"\n",
    "TYPE_CONJUNCT = \"conjuction\"\n",
    "TYPE_BUTTON = \"button\"\n",
    "\n",
    "NAME_BROADCASTER = \"broadcaster\"\n",
    "NAME_BUTTON = \"button\"\n",
    "\n",
    "PULSE_LOW = -1\n",
    "PULSE_HIGH = 1\n",
    "\n",
    "STATE_OFF = -2\n",
    "STATE_ON = 2"
   ]
  },
  {
   "cell_type": "markdown",
   "id": "640afbcf",
   "metadata": {},
   "source": [
    "State means:\n",
    "    - flipflop - False means off\n",
    "    - conjunction - list of connected modules"
   ]
  },
  {
   "cell_type": "code",
   "execution_count": 240,
   "id": "911dda00",
   "metadata": {},
   "outputs": [],
   "source": [
    "def get_module_inst(mod_name,mod_type,descendants):\n",
    "    desc_list = [x.strip() for x in descendants]\n",
    "    return {\"name\":mod_name,\"type\":mod_type,\"descend\": desc_list,\"state_flip\":STATE_OFF,\"state_conj\":{}}\n"
   ]
  },
  {
   "cell_type": "code",
   "execution_count": 241,
   "id": "5dffd872",
   "metadata": {},
   "outputs": [],
   "source": [
    "def get_module_inst_button():\n",
    "    return get_module_inst(NAME_BUTTON,TYPE_BUTTON,[NAME_BROADCASTER])"
   ]
  },
  {
   "cell_type": "code",
   "execution_count": 242,
   "id": "6a1052e1",
   "metadata": {},
   "outputs": [],
   "source": [
    "def buildModulesFromLines(lines):\n",
    "    \n",
    "    cur_x = 0\n",
    "    cur_y = 0\n",
    "    \n",
    "    res = []\n",
    "    \n",
    "    for line in lines:\n",
    "        if line[-1]==\"\\n\": line = line[:-1]\n",
    "        if len(line)>0:\n",
    "            module_str,downstream = line.split(\"->\")\n",
    "            \n",
    "            module_str =  module_str.strip()\n",
    "             \n",
    "            \n",
    "            if module_str[0] == \"%\":\n",
    "                mod_type=TYPE_FLIPFLOP\n",
    "                module_str = module_str[1:]\n",
    "            elif module_str[0] == \"&\":\n",
    "                mod_type = TYPE_CONJUNCT\n",
    "                module_str = module_str[1:]\n",
    "            elif module_str.strip()== NAME_BROADCASTER:\n",
    "                mod_type = TYPE_BROADCAST\n",
    "            else:\n",
    "                print (\"HOLY SHIT SHOULDN'T HAPPEN!\")\n",
    "            \n",
    "            module_inst = get_module_inst(module_str,mod_type,downstream.split(\",\"))\n",
    "\n",
    "    \n",
    "            MODULES[module_str] = module_inst\n",
    "    \n",
    "    # parse all modules to figure out precedecessors of conjunction modules\n",
    "    \n",
    "    \n",
    "    reverse_module_map = []\n",
    "    for mod_name, mod_obj in MODULES.items():\n",
    "        desc_list = mod_obj[\"descend\"]\n",
    "        for x in desc_list:\n",
    "            reverse_module_map.append((x,mod_name))\n",
    "    \n",
    "    global reverse_map\n",
    "    reverse_map = {}\n",
    "    print (\"Reverse module\")\n",
    "    for x in MODULES:\n",
    "        reverse_map[x]=[z for (y,z) in reverse_module_map if y == x]\n",
    "    #    print(\">>\",x,reverse_map[x])\n",
    "    \n",
    "    global to_check \n",
    "    to_check = [\"kl\",\"vm\",\"kv\",\"vb\"] \n",
    "    #to_check = [\"vb\"] \n",
    "\n",
    "    #for x in reverse_module_map:\n",
    "    #    print(\">>\",x)\n",
    "    \n",
    "    for mod_name, mod_obj in MODULES.items():\n",
    "        mod_type = mod_obj[\"type\"]\n",
    "        if mod_type == TYPE_CONJUNCT:\n",
    "            predec_list = {y:PULSE_LOW for x,y in reverse_module_map if x == mod_name}\n",
    "            mod_obj[\"state_conj\"] = predec_list\n",
    "            MODULES[mod_name]=mod_obj\n",
    "            \n",
    "    MODULES[NAME_BUTTON]=get_module_inst_button()\n",
    "    \n",
    "    return MODULES\n",
    "    \n",
    "            "
   ]
  },
  {
   "cell_type": "code",
   "execution_count": 243,
   "id": "690b6240",
   "metadata": {},
   "outputs": [],
   "source": [
    "def process_single_pulse(orig_name,dest_name,pulse_type,all_modules,counter):\n",
    "    if dest_name == GLOB_CHECK and pulse_type == PULSE_LOW:\n",
    "    #if dest_name == GLOB_CHECK: # and pulse_type == PULSE_LOW:\n",
    "        print(\">> dest_name: {} -> {} ({})\".format(dest_name,counter,pulse_type))\n",
    "        val = GLOB_OUTCOMES.setdefault(dest_name, [])\n",
    "        val+=[counter+1]\n",
    "        GLOB_OUTCOMES[dest_name]=val\n",
    "        #raise Exception(\"Found\")\n",
    "    elif dest_name not in all_modules:\n",
    "        return []\n",
    "    \n",
    "    obj_dest = all_modules[dest_name]\n",
    "    obj_dest_type = obj_dest[\"type\"]\n",
    "    if DIAG2: print(\"PULSE\",orig_name,pulse_type,dest_name,\"---\",obj_dest_type)\n",
    "    \n",
    "    #to_send \n",
    "    if obj_dest_type == TYPE_BROADCAST:\n",
    "        # send same pulse to all\n",
    "        to_send = pulse_type\n",
    "    elif obj_dest_type == TYPE_FLIPFLOP:\n",
    "        if pulse_type == PULSE_HIGH:\n",
    "            return []\n",
    "        else:\n",
    "            obj_dest[\"state_flip\"] = - obj_dest[\"state_flip\"]\n",
    "            if obj_dest[\"state_flip\"] == STATE_ON:\n",
    "                # send HIGH PULSE to all\n",
    "                to_send = PULSE_HIGH\n",
    "            else:\n",
    "                to_send = PULSE_LOW\n",
    "    elif obj_dest_type == TYPE_CONJUNCT:\n",
    "        obj_dest[\"state_conj\"][orig_name] = pulse_type\n",
    "        if DIAG: print(\">>\",obj_dest[\"state_conj\"])\n",
    "        if all([x==PULSE_HIGH for x in obj_dest[\"state_conj\"].values()]):\n",
    "            to_send = PULSE_LOW\n",
    "        else:\n",
    "               to_send = PULSE_HIGH\n",
    "        if DIAG: print(\"<<\",obj_dest[\"state_conj\"])\n",
    "    else:\n",
    "        print(\"INCORRECT TARGET MODULE!!!\")\n",
    "        return []\n",
    "    \n",
    "    new_pulses = [(dest_name,x,to_send) for x in obj_dest[\"descend\"]]  \n",
    "    if DIAG: print(\"New pulses: \",new_pulses)\n",
    "    return new_pulses"
   ]
  },
  {
   "cell_type": "code",
   "execution_count": 244,
   "id": "7b4ee346",
   "metadata": {},
   "outputs": [],
   "source": [
    "def process_pulses(modules,counter):\n",
    "    low_count = 0\n",
    "    high_count = 0 \n",
    "    pulse_list = [(NAME_BUTTON,NAME_BROADCASTER,PULSE_LOW)]\n",
    "    while len(pulse_list)>0:\n",
    "        pulse = pulse_list[0]\n",
    "        if pulse[2] < 0:\n",
    "            low_count+=1\n",
    "        else:\n",
    "            high_count +=1\n",
    "        pulse_list = pulse_list[1:]\n",
    "    \n",
    "        pulse_list+= process_single_pulse(*pulse,modules,counter)\n",
    "        if DIAG: print(\"----\\n\",pulse_list)\n",
    "    return (low_count,high_count,modules)"
   ]
  },
  {
   "cell_type": "code",
   "execution_count": 245,
   "id": "20f381b3",
   "metadata": {},
   "outputs": [],
   "source": [
    "# OK\n",
    "def parseFile(fileName):   \n",
    "    with open(fileName) as file:\n",
    "        lines =  file.readlines()    \n",
    "   \n",
    "    MODULES = buildModulesFromLines(lines)\n",
    "    \n",
    "   \n",
    "    \n",
    "    \n",
    "    return MODULES\n",
    "    "
   ]
  },
  {
   "cell_type": "code",
   "execution_count": 246,
   "id": "67263d60",
   "metadata": {
    "scrolled": true
   },
   "outputs": [
    {
     "name": "stdout",
     "output_type": "stream",
     "text": [
      "Reverse module\n",
      ">> ['kl', 'vm', 'kv', 'vb']\n",
      ">> dest_name: kl -> 3916 (-1)\n",
      ">> dest_name: kl -> 7833 (-1)\n",
      ">> dest_name: vm -> 4050 (-1)\n",
      ">> dest_name: vm -> 8101 (-1)\n",
      ">> dest_name: kv -> 4012 (-1)\n",
      ">> dest_name: kv -> 8025 (-1)\n",
      ">> dest_name: vb -> 3792 (-1)\n",
      ">> dest_name: vb -> 7585 (-1)\n",
      "Result: \n",
      " -1\n",
      "{'kl': [3917, 7834], 'vm': [4051, 8102], 'kv': [4013, 8026], 'vb': [3793, 7586]}\n"
     ]
    }
   ],
   "source": [
    "import copy\n",
    "\n",
    "modules = parseFile(FILE_NAME)\n",
    "modules_orig = copy.deepcopy( modules)\n",
    "if DIAG: print(modules)\n",
    "#PULSES_COUNT = 10000000\n",
    "PULSES_COUNT = 10000\n",
    "\n",
    "global GLOB_OUTCOMES\n",
    "GLOB_OUTCOMES = {}\n",
    "\n",
    "to_check_res = {}\n",
    "global GLOB_CHECK\n",
    "\n",
    "for x in to_check:\n",
    "    to_check_res[x]=-1\n",
    "\n",
    "print(\">>\",to_check)\n",
    "\n",
    "for x in to_check:\n",
    "    #reinitialiseState\n",
    "    modules = copy.deepcopy( modules_orig)\n",
    "    \n",
    "    GLOB_CHECK=x\n",
    "    counter=0\n",
    "    while counter < PULSES_COUNT:    \n",
    "        try:\n",
    "            low_c,high_c,modules=process_pulses(modules,counter)\n",
    "        except Exception as e:\n",
    "            #print(\"Element {}, counter {}\".format(x,counter))\n",
    "            to_check_res[x]=counter+1\n",
    "            print(\"caught\", e)\n",
    "            break\n",
    "        counter+=1\n",
    "print(\"Result: \\n\",min(to_check_res.values()))\n",
    "      \n",
    "print(GLOB_OUTCOMES)\n"
   ]
  },
  {
   "cell_type": "code",
   "execution_count": 247,
   "id": "c75a4e16",
   "metadata": {},
   "outputs": [
    {
     "name": "stdout",
     "output_type": "stream",
     "text": [
      "kl : 3917 + x * 3917\n",
      "vm : 4051 + x * 4051\n",
      "kv : 4013 + x * 4013\n",
      "vb : 3793 + x * 3793\n"
     ]
    }
   ],
   "source": [
    "for x in GLOB_OUTCOMES:\n",
    "    el0,el1 = GLOB_OUTCOMES[x]\n",
    "    print(x, \": {} + x * {}\".format(el0,el1-el0)b)"
   ]
  },
  {
   "cell_type": "raw",
   "id": "19209b53",
   "metadata": {},
   "source": [
    "{'kl': [3916], 'vm': [4050], 'kv': [4012], 'vb': [3792]}"
   ]
  },
  {
   "cell_type": "code",
   "execution_count": 251,
   "id": "786c64a7",
   "metadata": {},
   "outputs": [
    {
     "data": {
      "text/plain": [
       "241528184647003"
      ]
     },
     "execution_count": 251,
     "metadata": {},
     "output_type": "execute_result"
    }
   ],
   "source": [
    "import math\n",
    "math.lcm(*[GLOB_OUTCOMES[x][0] for x in GLOB_OUTCOMES])"
   ]
  },
  {
   "cell_type": "raw",
   "id": "d22ae881",
   "metadata": {},
   "source": [
    "241528184647003"
   ]
  },
  {
   "cell_type": "markdown",
   "id": "43588c7e",
   "metadata": {},
   "source": [
    "1213418"
   ]
  },
  {
   "cell_type": "code",
   "execution_count": null,
   "id": "c7be1fc3",
   "metadata": {},
   "outputs": [],
   "source": []
  },
  {
   "cell_type": "code",
   "execution_count": 248,
   "id": "17874b26",
   "metadata": {},
   "outputs": [
    {
     "data": {
      "text/plain": [
       "{'kl': ['ff'],\n",
       " 'vd': ['lg'],\n",
       " 'dx': ['fz'],\n",
       " 'jj': ['qr'],\n",
       " 'ld': ['mb'],\n",
       " 'bn': ['zp'],\n",
       " 'mv': ['ch'],\n",
       " 'mx': ['mv', 'hb'],\n",
       " 'qm': ['kc'],\n",
       " 'zd': ['sq', 'ff'],\n",
       " 'tq': ['lr', 'th'],\n",
       " 'vm': ['th'],\n",
       " 'qr': ['mf', 'th'],\n",
       " 'bv': ['fn'],\n",
       " 'rf': ['dg'],\n",
       " 'broadcaster': [],\n",
       " 'rk': ['xt'],\n",
       " 'tj': ['qm', 'rf', 'dg', 'lp', 'lq', 'js', 'kc'],\n",
       " 'dg': ['gz'],\n",
       " 'xt': ['jj'],\n",
       " 'fq': ['ld'],\n",
       " 'gz': ['qm', 'tj'],\n",
       " 'rl': ['fx'],\n",
       " 'rc': ['rk'],\n",
       " 'km': ['xf'],\n",
       " 'gv': ['tj', 'lp'],\n",
       " 'lr': ['bv', 'th'],\n",
       " 'lg': ['bn', 'ff'],\n",
       " 'jh': ['st'],\n",
       " 'rs': ['fj'],\n",
       " 'bt': ['tj', 'js'],\n",
       " 'mf': ['tq'],\n",
       " 'xf': ['xp', 'hb'],\n",
       " 'tp': ['broadcaster', 'hb'],\n",
       " 'ch': ['sv'],\n",
       " 'xp': ['mx'],\n",
       " 'xh': ['tj', 'ct'],\n",
       " 'fz': ['km'],\n",
       " 'zp': ['zd', 'ff'],\n",
       " 'kv': ['hb'],\n",
       " 'll': ['kl', 'vm', 'kv', 'vb'],\n",
       " 'zz': ['broadcaster', 'ff'],\n",
       " 'lp': ['broadcaster', 'tj'],\n",
       " 'vb': ['tj'],\n",
       " 'th': ['jj', 'bv', 'rk', 'xt', 'rc', 'jh', 'mf', 'st', 'fn'],\n",
       " 'sq': ['rs'],\n",
       " 'st': ['rc'],\n",
       " 'fx': ['dx'],\n",
       " 'fj': ['zz', 'ff'],\n",
       " 'lq': ['rf'],\n",
       " 'fn': ['broadcaster', 'th'],\n",
       " 'ct': ['tj', 'gv'],\n",
       " 'ff': ['vd', 'ld', 'bn', 'fq', 'rs', 'zz', 'sq', 'mb'],\n",
       " 'js': ['xh'],\n",
       " 'mb': ['vd'],\n",
       " 'hb': ['dx', 'mv', 'rl', 'km', 'tp', 'ch', 'xp', 'fz', 'fx'],\n",
       " 'kc': ['bt'],\n",
       " 'sv': ['tp', 'hb']}"
      ]
     },
     "execution_count": 248,
     "metadata": {},
     "output_type": "execute_result"
    }
   ],
   "source": [
    "x=\"rx\"\n",
    "reverse_map"
   ]
  },
  {
   "cell_type": "code",
   "execution_count": 249,
   "id": "ec9c5b3a",
   "metadata": {},
   "outputs": [
    {
     "name": "stdout",
     "output_type": "stream",
     "text": [
      "kl conjuction\n",
      "vm conjuction\n",
      "kv conjuction\n",
      "vb conjuction\n"
     ]
    }
   ],
   "source": [
    "#to_check = []\n",
    "#for x in [\"ff\",\"th\",\"hb\",\"tj\"]:\n",
    "#    to_check += reverse_map[x]\n",
    "\n",
    "for x in to_check:\n",
    "    print(x,modules[x][\"type\"])\n"
   ]
  },
  {
   "cell_type": "code",
   "execution_count": null,
   "id": "dce028e0",
   "metadata": {},
   "outputs": [],
   "source": []
  }
 ],
 "metadata": {
  "kernelspec": {
   "display_name": "Python 3 (ipykernel)",
   "language": "python",
   "name": "python3"
  },
  "language_info": {
   "codemirror_mode": {
    "name": "ipython",
    "version": 3
   },
   "file_extension": ".py",
   "mimetype": "text/x-python",
   "name": "python",
   "nbconvert_exporter": "python",
   "pygments_lexer": "ipython3",
   "version": "3.9.13"
  }
 },
 "nbformat": 4,
 "nbformat_minor": 5
}
