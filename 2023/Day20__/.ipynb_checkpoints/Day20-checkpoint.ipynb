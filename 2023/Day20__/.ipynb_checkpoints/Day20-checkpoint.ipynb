{
 "cells": [
  {
   "cell_type": "code",
   "execution_count": 370,
   "id": "c3c454b9",
   "metadata": {},
   "outputs": [],
   "source": [
    "import numpy as np\n",
    "import pandas as pd\n",
    "import math\n",
    "import re\n",
    "from shapely import Polygon"
   ]
  },
  {
   "cell_type": "code",
   "execution_count": null,
   "id": "0ed281b4",
   "metadata": {},
   "outputs": [],
   "source": []
  },
  {
   "cell_type": "code",
   "execution_count": 371,
   "id": "1e867210",
   "metadata": {},
   "outputs": [],
   "source": [
    "#FILE_NAME = \"test.txt\"\n",
    "#FILE_NAME = \"test2.txt\"\n",
    "FILE_NAME = \"input.txt\"\n",
    "DIAG=False\n",
    "DIAG2 = False"
   ]
  },
  {
   "cell_type": "code",
   "execution_count": null,
   "id": "bbf69a1d",
   "metadata": {},
   "outputs": [],
   "source": []
  },
  {
   "cell_type": "code",
   "execution_count": 372,
   "id": "f7c082b9",
   "metadata": {},
   "outputs": [],
   "source": [
    "MODULES = {}\n",
    "TYPE_FLIPFLOP = \"flipflop\"\n",
    "TYPE_BROADCAST = \"broadcast\"\n",
    "TYPE_CONJUNCT = \"conjuction\"\n",
    "TYPE_BUTTON = \"button\"\n",
    "\n",
    "NAME_BROADCASTER = \"broadcaster\"\n",
    "NAME_BUTTON = \"button\"\n",
    "\n",
    "PULSE_LOW = -1\n",
    "PULSE_HIGH = 1\n",
    "\n",
    "STATE_OFF = -2\n",
    "STATE_ON = 2"
   ]
  },
  {
   "cell_type": "markdown",
   "id": "640afbcf",
   "metadata": {},
   "source": [
    "State means:\n",
    "    - flipflop - False means off\n",
    "    - conjunction - list of connected modules"
   ]
  },
  {
   "cell_type": "code",
   "execution_count": 373,
   "id": "911dda00",
   "metadata": {},
   "outputs": [],
   "source": [
    "def get_module_inst(mod_name,mod_type,descendants):\n",
    "    desc_list = [x.strip() for x in descendants]\n",
    "    return {\"name\":mod_name,\"type\":mod_type,\"descend\": desc_list,\"state_flip\":STATE_OFF,\"state_conj\":{}}\n"
   ]
  },
  {
   "cell_type": "code",
   "execution_count": 374,
   "id": "5dffd872",
   "metadata": {},
   "outputs": [],
   "source": [
    "def get_module_inst_button():\n",
    "    return get_module_inst(NAME_BUTTON,TYPE_BUTTON,[NAME_BROADCASTER])"
   ]
  },
  {
   "cell_type": "code",
   "execution_count": 375,
   "id": "6a1052e1",
   "metadata": {},
   "outputs": [],
   "source": [
    "def buildModulesFromLines(lines):\n",
    "    \n",
    "    cur_x = 0\n",
    "    cur_y = 0\n",
    "    \n",
    "    res = []\n",
    "    \n",
    "    for line in lines:\n",
    "        if line[-1]==\"\\n\": line = line[:-1]\n",
    "        if len(line)>0:\n",
    "            module_str,downstream = line.split(\"->\")\n",
    "            \n",
    "            module_str =  module_str.strip()\n",
    "             \n",
    "            \n",
    "            if module_str[0] == \"%\":\n",
    "                mod_type=TYPE_FLIPFLOP\n",
    "                module_str = module_str[1:]\n",
    "            elif module_str[0] == \"&\":\n",
    "                mod_type = TYPE_CONJUNCT\n",
    "                module_str = module_str[1:]\n",
    "            elif module_str.strip()== NAME_BROADCASTER:\n",
    "                mod_type = TYPE_BROADCAST\n",
    "            else:\n",
    "                print (\"HOLY SHIT SHOULDN'T HAPPEN!\")\n",
    "            \n",
    "            module_inst = get_module_inst(module_str,mod_type,downstream.split(\",\"))\n",
    "\n",
    "    \n",
    "            MODULES[module_str] = module_inst\n",
    "    \n",
    "    # parse all modules to figure out precedecessors of conjunction modules\n",
    "    \n",
    "    reverse_module_map = []\n",
    "    for mod_name, mod_obj in MODULES.items():\n",
    "        desc_list = mod_obj[\"descend\"]\n",
    "        for x in desc_list:\n",
    "            reverse_module_map.append((x,mod_name))\n",
    "    \n",
    "    for mod_name, mod_obj in MODULES.items():\n",
    "        mod_type = mod_obj[\"type\"]\n",
    "        if mod_type == TYPE_CONJUNCT:\n",
    "            predec_list = {y:PULSE_LOW for x,y in reverse_module_map if x == mod_name}\n",
    "            mod_obj[\"state_conj\"] = predec_list\n",
    "            MODULES[mod_name]=mod_obj\n",
    "            \n",
    "    MODULES[NAME_BUTTON]=get_module_inst_button()\n",
    "    \n",
    "    return MODULES\n",
    "    \n",
    "            "
   ]
  },
  {
   "cell_type": "code",
   "execution_count": 376,
   "id": "690b6240",
   "metadata": {},
   "outputs": [],
   "source": [
    "def process_single_pulse(orig_name,dest_name,pulse_type,all_modules):\n",
    "    if dest_name not in all_modules:\n",
    "        return []\n",
    "    obj_dest = all_modules[dest_name]\n",
    "    obj_dest_type = obj_dest[\"type\"]\n",
    "    if DIAG2: print(\"PULSE\",orig_name,pulse_type,dest_name,\"---\",obj_dest_type)\n",
    "    \n",
    "    #to_send \n",
    "    if obj_dest_type == TYPE_BROADCAST:\n",
    "        # send same pulse to all\n",
    "        to_send = pulse_type\n",
    "    elif obj_dest_type == TYPE_FLIPFLOP:\n",
    "        if pulse_type == PULSE_HIGH:\n",
    "            return []\n",
    "        else:\n",
    "            obj_dest[\"state_flip\"] = - obj_dest[\"state_flip\"]\n",
    "            if obj_dest[\"state_flip\"] == STATE_ON:\n",
    "                # send HIGH PULSE to all\n",
    "                to_send = PULSE_HIGH\n",
    "            else:\n",
    "                to_send = PULSE_LOW\n",
    "    elif obj_dest_type == TYPE_CONJUNCT:\n",
    "        obj_dest[\"state_conj\"][orig_name] = pulse_type\n",
    "        if DIAG: print(\">>\",obj_dest[\"state_conj\"])\n",
    "        if all([x==PULSE_HIGH for x in obj_dest[\"state_conj\"].values()]):\n",
    "            to_send = PULSE_LOW\n",
    "        else:\n",
    "               to_send = PULSE_HIGH\n",
    "        if DIAG: print(\"<<\",obj_dest[\"state_conj\"])\n",
    "    else:\n",
    "        print(\"INCORRECT TARGET MODULE!!!\")\n",
    "        return []\n",
    "    \n",
    "    new_pulses = [(dest_name,x,to_send) for x in obj_dest[\"descend\"]]  \n",
    "    if DIAG: print(\"New pulses: \",new_pulses)\n",
    "    return new_pulses"
   ]
  },
  {
   "cell_type": "code",
   "execution_count": 377,
   "id": "7b4ee346",
   "metadata": {},
   "outputs": [],
   "source": [
    "def process_pulses(modules):\n",
    "    low_count = 0\n",
    "    high_count = 0 \n",
    "    pulse_list = [(NAME_BUTTON,NAME_BROADCASTER,PULSE_LOW)]\n",
    "    while len(pulse_list)>0:\n",
    "        pulse = pulse_list[0]\n",
    "        if pulse[2] < 0:\n",
    "            low_count+=1\n",
    "        else:\n",
    "            high_count +=1\n",
    "        pulse_list = pulse_list[1:]\n",
    "    \n",
    "        pulse_list+= process_single_pulse(*pulse,modules)\n",
    "        if DIAG: print(\"----\\n\",pulse_list)\n",
    "    return (low_count,high_count,modules)"
   ]
  },
  {
   "cell_type": "code",
   "execution_count": 378,
   "id": "20f381b3",
   "metadata": {},
   "outputs": [],
   "source": [
    "# OK\n",
    "def parseFile(fileName):   \n",
    "    with open(fileName) as file:\n",
    "        lines =  file.readlines()    \n",
    "   \n",
    "    MODULES = buildModulesFromLines(lines)\n",
    "    \n",
    "   \n",
    "    \n",
    "    \n",
    "    return MODULES\n",
    "    "
   ]
  },
  {
   "cell_type": "code",
   "execution_count": 379,
   "id": "ef1d5d8f",
   "metadata": {},
   "outputs": [
    {
     "name": "stdout",
     "output_type": "stream",
     "text": [
      "{'kl': {'name': 'kl', 'type': 'conjuction', 'descend': ['ll'], 'state_flip': -2, 'state_conj': {'ff': -1}}, 'vd': {'name': 'vd', 'type': 'flipflop', 'descend': ['ff', 'mb'], 'state_flip': -2, 'state_conj': {}}, 'dx': {'name': 'dx', 'type': 'flipflop', 'descend': ['hb', 'fx'], 'state_flip': -2, 'state_conj': {}}, 'jj': {'name': 'jj', 'type': 'flipflop', 'descend': ['xt', 'th'], 'state_flip': -2, 'state_conj': {}}, 'ld': {'name': 'ld', 'type': 'flipflop', 'descend': ['fq', 'ff'], 'state_flip': -2, 'state_conj': {}}, 'bn': {'name': 'bn', 'type': 'flipflop', 'descend': ['ff', 'lg'], 'state_flip': -2, 'state_conj': {}}, 'mv': {'name': 'mv', 'type': 'flipflop', 'descend': ['hb', 'mx'], 'state_flip': -2, 'state_conj': {}}, 'mx': {'name': 'mx', 'type': 'flipflop', 'descend': ['xp'], 'state_flip': -2, 'state_conj': {}}, 'qm': {'name': 'qm', 'type': 'flipflop', 'descend': ['gz', 'tj'], 'state_flip': -2, 'state_conj': {}}, 'zd': {'name': 'zd', 'type': 'flipflop', 'descend': ['zp'], 'state_flip': -2, 'state_conj': {}}, 'tq': {'name': 'tq', 'type': 'flipflop', 'descend': ['mf'], 'state_flip': -2, 'state_conj': {}}, 'vm': {'name': 'vm', 'type': 'conjuction', 'descend': ['ll'], 'state_flip': -2, 'state_conj': {'th': -1}}, 'qr': {'name': 'qr', 'type': 'flipflop', 'descend': ['jj'], 'state_flip': -2, 'state_conj': {}}, 'bv': {'name': 'bv', 'type': 'flipflop', 'descend': ['th', 'lr'], 'state_flip': -2, 'state_conj': {}}, 'rf': {'name': 'rf', 'type': 'flipflop', 'descend': ['lq', 'tj'], 'state_flip': -2, 'state_conj': {}}, 'broadcaster': {'name': 'broadcaster', 'type': 'broadcast', 'descend': ['lp', 'fn', 'tp', 'zz'], 'state_flip': -2, 'state_conj': {}}, 'rk': {'name': 'rk', 'type': 'flipflop', 'descend': ['rc', 'th'], 'state_flip': -2, 'state_conj': {}}, 'tj': {'name': 'tj', 'type': 'conjuction', 'descend': ['xh', 'gv', 'gz', 'bt', 'ct', 'vb', 'lp'], 'state_flip': -2, 'state_conj': {'qm': -1, 'rf': -1, 'dg': -1, 'lp': -1, 'lq': -1, 'js': -1, 'kc': -1}}, 'dg': {'name': 'dg', 'type': 'flipflop', 'descend': ['rf', 'tj'], 'state_flip': -2, 'state_conj': {}}, 'xt': {'name': 'xt', 'type': 'flipflop', 'descend': ['rk', 'th'], 'state_flip': -2, 'state_conj': {}}, 'fq': {'name': 'fq', 'type': 'flipflop', 'descend': ['ff'], 'state_flip': -2, 'state_conj': {}}, 'gz': {'name': 'gz', 'type': 'flipflop', 'descend': ['dg'], 'state_flip': -2, 'state_conj': {}}, 'rl': {'name': 'rl', 'type': 'flipflop', 'descend': ['hb'], 'state_flip': -2, 'state_conj': {}}, 'rc': {'name': 'rc', 'type': 'flipflop', 'descend': ['st', 'th'], 'state_flip': -2, 'state_conj': {}}, 'km': {'name': 'km', 'type': 'flipflop', 'descend': ['fz', 'hb'], 'state_flip': -2, 'state_conj': {}}, 'gv': {'name': 'gv', 'type': 'flipflop', 'descend': ['ct'], 'state_flip': -2, 'state_conj': {}}, 'lr': {'name': 'lr', 'type': 'flipflop', 'descend': ['tq'], 'state_flip': -2, 'state_conj': {}}, 'lg': {'name': 'lg', 'type': 'flipflop', 'descend': ['vd'], 'state_flip': -2, 'state_conj': {}}, 'jh': {'name': 'jh', 'type': 'flipflop', 'descend': ['th'], 'state_flip': -2, 'state_conj': {}}, 'rs': {'name': 'rs', 'type': 'flipflop', 'descend': ['sq', 'ff'], 'state_flip': -2, 'state_conj': {}}, 'bt': {'name': 'bt', 'type': 'flipflop', 'descend': ['kc'], 'state_flip': -2, 'state_conj': {}}, 'mf': {'name': 'mf', 'type': 'flipflop', 'descend': ['th', 'qr'], 'state_flip': -2, 'state_conj': {}}, 'xf': {'name': 'xf', 'type': 'flipflop', 'descend': ['km'], 'state_flip': -2, 'state_conj': {}}, 'tp': {'name': 'tp', 'type': 'flipflop', 'descend': ['hb', 'sv'], 'state_flip': -2, 'state_conj': {}}, 'ch': {'name': 'ch', 'type': 'flipflop', 'descend': ['hb', 'mv'], 'state_flip': -2, 'state_conj': {}}, 'xp': {'name': 'xp', 'type': 'flipflop', 'descend': ['hb', 'xf'], 'state_flip': -2, 'state_conj': {}}, 'xh': {'name': 'xh', 'type': 'flipflop', 'descend': ['js'], 'state_flip': -2, 'state_conj': {}}, 'fz': {'name': 'fz', 'type': 'flipflop', 'descend': ['hb', 'dx'], 'state_flip': -2, 'state_conj': {}}, 'zp': {'name': 'zp', 'type': 'flipflop', 'descend': ['bn'], 'state_flip': -2, 'state_conj': {}}, 'kv': {'name': 'kv', 'type': 'conjuction', 'descend': ['ll'], 'state_flip': -2, 'state_conj': {'hb': -1}}, 'll': {'name': 'll', 'type': 'conjuction', 'descend': ['rx'], 'state_flip': -2, 'state_conj': {'kl': -1, 'vm': -1, 'kv': -1, 'vb': -1}}, 'zz': {'name': 'zz', 'type': 'flipflop', 'descend': ['fj', 'ff'], 'state_flip': -2, 'state_conj': {}}, 'lp': {'name': 'lp', 'type': 'flipflop', 'descend': ['gv', 'tj'], 'state_flip': -2, 'state_conj': {}}, 'vb': {'name': 'vb', 'type': 'conjuction', 'descend': ['ll'], 'state_flip': -2, 'state_conj': {'tj': -1}}, 'th': {'name': 'th', 'type': 'conjuction', 'descend': ['tq', 'lr', 'vm', 'fn', 'qr'], 'state_flip': -2, 'state_conj': {'jj': -1, 'bv': -1, 'rk': -1, 'xt': -1, 'rc': -1, 'jh': -1, 'mf': -1, 'st': -1, 'fn': -1}}, 'sq': {'name': 'sq', 'type': 'flipflop', 'descend': ['zd', 'ff'], 'state_flip': -2, 'state_conj': {}}, 'st': {'name': 'st', 'type': 'flipflop', 'descend': ['th', 'jh'], 'state_flip': -2, 'state_conj': {}}, 'fx': {'name': 'fx', 'type': 'flipflop', 'descend': ['rl', 'hb'], 'state_flip': -2, 'state_conj': {}}, 'fj': {'name': 'fj', 'type': 'flipflop', 'descend': ['rs'], 'state_flip': -2, 'state_conj': {}}, 'lq': {'name': 'lq', 'type': 'flipflop', 'descend': ['tj'], 'state_flip': -2, 'state_conj': {}}, 'fn': {'name': 'fn', 'type': 'flipflop', 'descend': ['th', 'bv'], 'state_flip': -2, 'state_conj': {}}, 'ct': {'name': 'ct', 'type': 'flipflop', 'descend': ['xh'], 'state_flip': -2, 'state_conj': {}}, 'ff': {'name': 'ff', 'type': 'conjuction', 'descend': ['kl', 'zd', 'lg', 'zz', 'fj', 'zp'], 'state_flip': -2, 'state_conj': {'vd': -1, 'ld': -1, 'bn': -1, 'fq': -1, 'rs': -1, 'zz': -1, 'sq': -1, 'mb': -1}}, 'js': {'name': 'js', 'type': 'flipflop', 'descend': ['tj', 'bt'], 'state_flip': -2, 'state_conj': {}}, 'mb': {'name': 'mb', 'type': 'flipflop', 'descend': ['ld', 'ff'], 'state_flip': -2, 'state_conj': {}}, 'hb': {'name': 'hb', 'type': 'conjuction', 'descend': ['sv', 'xf', 'kv', 'tp', 'mx'], 'state_flip': -2, 'state_conj': {'dx': -1, 'mv': -1, 'rl': -1, 'km': -1, 'tp': -1, 'ch': -1, 'xp': -1, 'fz': -1, 'fx': -1}}, 'kc': {'name': 'kc', 'type': 'flipflop', 'descend': ['qm', 'tj'], 'state_flip': -2, 'state_conj': {}}, 'sv': {'name': 'sv', 'type': 'flipflop', 'descend': ['ch'], 'state_flip': -2, 'state_conj': {}}, 'button': {'name': 'button', 'type': 'button', 'descend': ['broadcaster'], 'state_flip': -2, 'state_conj': {}}}\n",
      "Result 743090292\n"
     ]
    }
   ],
   "source": [
    "modules = parseFile(FILE_NAME)\n",
    "print(modules)\n",
    "PULSES_COUNT = 1000\n",
    "low_count = 0\n",
    "high_count = 0\n",
    "counter=0\n",
    "while counter < PULSES_COUNT:    \n",
    "    low_c,high_c,modules=process_pulses(modules)\n",
    "    low_count+=low_c\n",
    "    high_count+=high_c\n",
    "    counter+=1\n",
    "res = low_count*high_count\n",
    "print(\"Result\",low_count*high_count)"
   ]
  },
  {
   "cell_type": "code",
   "execution_count": 380,
   "id": "c7be1fc3",
   "metadata": {},
   "outputs": [
    {
     "data": {
      "text/plain": [
       "False"
      ]
     },
     "execution_count": 380,
     "metadata": {},
     "output_type": "execute_result"
    }
   ],
   "source": [
    "#res == 32000000\n",
    "res == 11687500"
   ]
  },
  {
   "cell_type": "code",
   "execution_count": null,
   "id": "17874b26",
   "metadata": {},
   "outputs": [],
   "source": []
  }
 ],
 "metadata": {
  "kernelspec": {
   "display_name": "Python 3 (ipykernel)",
   "language": "python",
   "name": "python3"
  },
  "language_info": {
   "codemirror_mode": {
    "name": "ipython",
    "version": 3
   },
   "file_extension": ".py",
   "mimetype": "text/x-python",
   "name": "python",
   "nbconvert_exporter": "python",
   "pygments_lexer": "ipython3",
   "version": "3.9.13"
  }
 },
 "nbformat": 4,
 "nbformat_minor": 5
}
