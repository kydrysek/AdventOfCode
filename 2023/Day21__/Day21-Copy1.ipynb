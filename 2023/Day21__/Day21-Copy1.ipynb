{
 "cells": [
  {
   "cell_type": "code",
   "execution_count": 94,
   "id": "c3c454b9",
   "metadata": {},
   "outputs": [],
   "source": [
    "import numpy as np\n",
    "import pandas as pd\n",
    "import math\n",
    "import re"
   ]
  },
  {
   "cell_type": "markdown",
   "id": "fc4dc47d",
   "metadata": {},
   "source": [
    "Wszystkie parzyste i co najwyzej w odleglosci 64"
   ]
  },
  {
   "cell_type": "code",
   "execution_count": 95,
   "id": "1e867210",
   "metadata": {},
   "outputs": [],
   "source": [
    "FILE_NAME = \"test.txt\"\n",
    "#FILE_NAME = \"input.txt\"\n",
    "DIAG=False\n",
    "DIAG2 = False"
   ]
  },
  {
   "cell_type": "code",
   "execution_count": 96,
   "id": "fe279520",
   "metadata": {},
   "outputs": [],
   "source": [
    "CHAR_MAP = {\".\":0, \"#\":1,\"S\":2}\n",
    "\n",
    "def getCharFromNum(num):\n",
    "    for x,y in CHAR_MAP.items():\n",
    "        if y == num:\n",
    "            return x\n",
    "            "
   ]
  },
  {
   "cell_type": "code",
   "execution_count": 97,
   "id": "6a1052e1",
   "metadata": {},
   "outputs": [],
   "source": [
    "def buildArrayFromLines(lines):\n",
    "    \n",
    "    tmp_arr = []\n",
    "    for line in lines:\n",
    "        tmp_line = []    \n",
    "        \n",
    "        for c in line:\n",
    "            if c != \"\\n\":\n",
    "                tmp_line += [CHAR_MAP[c]]\n",
    "        tmp_arr.append(tmp_line)\n",
    "    \n",
    "    \n",
    "    return np.array(tmp_arr)\n",
    "    "
   ]
  },
  {
   "cell_type": "code",
   "execution_count": 98,
   "id": "20f381b3",
   "metadata": {},
   "outputs": [],
   "source": [
    "# OK\n",
    "def parseFile(fileName):   \n",
    "    with open(fileName) as file:\n",
    "        lines =  file.readlines()    \n",
    "   \n",
    "    my_arr = buildArrayFromLines(lines)\n",
    "    st_point = np.where(my_arr == CHAR_MAP[\"S\"])\n",
    "    if DIAG: print(st_point)\n",
    "    \n",
    "    my_arr[st_point[0],st_point[1]] = CHAR_MAP[\".\"]\n",
    "    \n",
    "    \n",
    "    return my_arr,st_point\n"
   ]
  },
  {
   "cell_type": "code",
   "execution_count": 99,
   "id": "1caa3a6d",
   "metadata": {},
   "outputs": [],
   "source": [
    "def decideNextStep(cell,direct):\n",
    "    if DIAG: print(cell)\n",
    "    res = []    \n",
    "    if cell == 0:\n",
    "        res  = [direct]\n",
    "    elif cell == 1:\n",
    "        res = [(-direct[1],-direct[0])]\n",
    "    elif cell == 2:\n",
    "        res = [(direct[1],direct[0])]\n",
    "    elif cell == 3:\n",
    "        if direct[1] == 0:\n",
    "            res  = [direct]\n",
    "        else:\n",
    "            res = [(-1,0),(1,0)]\n",
    "    elif cell == 4:\n",
    "        if direct[0] == 0:\n",
    "            res  = [direct]\n",
    "        else:\n",
    "            res = [(0,-1),(0,1)]\n",
    "    else:\n",
    "        print(\"What the hell?\")\n",
    "    return res\n",
    "\n",
    "assert decideNextStep(1,(0,1)) == [(-1,0)]\n",
    "assert decideNextStep(1,(-1,0)) == [(0,1)]\n",
    "assert decideNextStep(1,(1,0)) == [(0,-1)]\n",
    "assert decideNextStep(1,(0,-1)) == [(1,0)]\n",
    "\n",
    "assert decideNextStep(2,(0,1)) == [(1,0)]\n",
    "assert decideNextStep(2,(-1,0)) == [(0,-1)]\n",
    "assert decideNextStep(2,(1,0)) == [(0,1)]\n",
    "assert decideNextStep(2,(0,-1)) == [(-1,0)]\n",
    "\n",
    "assert decideNextStep(3,(0,1)) == [(-1,0),(1,0)]\n",
    "assert decideNextStep(3,(-1,0)) == [(-1,0)]\n",
    "assert decideNextStep(3,(1,0)) == [(1,0)]\n",
    "assert decideNextStep(3,(0,-1)) ==  [(-1,0),(1,0)]\n",
    "\n",
    "assert decideNextStep(4,(0,1)) == [(0,1)] #[(-1,0),(1,0)]\n",
    "assert decideNextStep(4,(-1,0)) == [(0,-1),(0,1)]\n",
    "assert decideNextStep(4,(1,0)) == [(0,-1),(0,1)]\n",
    "assert decideNextStep(4,(0,-1)) ==  [(0,-1)] #[(0,-1),(0,1)]\n",
    "\n",
    "assert decideNextStep(0,(0,1)) == [(0,1)]\n",
    "assert decideNextStep(0,(-1,0)) == [(-1,0)]\n",
    "assert decideNextStep(0,(1,0)) == [(1,0)]\n",
    "assert decideNextStep(0,(0,-1)) == [(0,-1)]"
   ]
  },
  {
   "cell_type": "code",
   "execution_count": 100,
   "id": "3a2b60e3",
   "metadata": {},
   "outputs": [
    {
     "data": {
      "text/plain": [
       "(1, 1, -1, -1)"
      ]
     },
     "execution_count": 100,
     "metadata": {},
     "output_type": "execute_result"
    }
   ],
   "source": [
    "(1,1)+(-1,-1)"
   ]
  },
  {
   "cell_type": "code",
   "execution_count": 101,
   "id": "287ae214",
   "metadata": {},
   "outputs": [],
   "source": [
    "#STEPS_PROCESSED = set()\n",
    "#STEPS_TO_PROCESS = set()"
   ]
  },
  {
   "cell_type": "code",
   "execution_count": 102,
   "id": "e811cfc5",
   "metadata": {},
   "outputs": [],
   "source": [
    "def processStep(inMap,outMap,x,y,direct,STEPS_PROCESSED,STEPS_TO_PROCESS):\n",
    "    \"\"\"\n",
    "    direct is (,) and a direction we had coming into the cell\n",
    "    \"\"\"\n",
    "    if DIAG: print(\">> step to process:\",x,y,direct)\n",
    "    shape_X,shape_Y = inMap.shape\n",
    "    if not(x in range(0,shape_X) and y in range(0,shape_X)):\n",
    "        # we had stepped  off the map\n",
    "        if DIAG: print(\"off the map\")\n",
    "        pass\n",
    "    elif (x,y,direct) in STEPS_PROCESSED:\n",
    "        #we've already walked through this cell in this direction. Nothing to do\n",
    "        if DIAG: print(\"already seen\")\n",
    "        pass\n",
    "    else:\n",
    "        # mark cell as hot\n",
    "        outMap[x,y]=1\n",
    "        \n",
    "        STEPS_PROCESSED.add((x,y,direct))\n",
    "        # STEPS_TO_PROCESS.REMOVE((x,y,direct)) it's already been popped\n",
    "        if DIAG: print(\"processing\")\n",
    "        next_steps = decideNextStep(inMap[x,y],direct)\n",
    "        if DIAG: print(\"  Have some next steps: \",next_steps)\n",
    "        for step in next_steps:\n",
    "            nn = (x+step[0],y+step[1],step)\n",
    "            if nn in STEPS_PROCESSED:\n",
    "                pass\n",
    "            else:\n",
    "                STEPS_TO_PROCESS.add(nn)\n",
    "                    \n",
    "    return outMap"
   ]
  },
  {
   "cell_type": "code",
   "execution_count": 103,
   "id": "ddbbe48c",
   "metadata": {},
   "outputs": [],
   "source": [
    "def processMap(inMap,starting_step):\n",
    "    #print(mirror_map)\n",
    "    energ_map = np.zeros(inMap.shape)    \n",
    "\n",
    "    STEPS_PROCESSED  = set([])\n",
    "    STEPS_TO_PROCESS  = set([starting_step])\n",
    "    counter = 0 \n",
    "    while len(STEPS_TO_PROCESS) > 0 and counter < 10000000:\n",
    "        move = STEPS_TO_PROCESS.pop()\n",
    "        if DIAG: print(\"Outer loop: \", move, \"counter: \",counter)\n",
    "        energ_map= processStep(mirror_map,energ_map,*move,STEPS_PROCESSED,STEPS_TO_PROCESS)\n",
    "    \n",
    "        counter+=1\n",
    "    \n",
    "    res = sum(sum(energ_map))\n",
    "    if DIAG: print(res)\n",
    "    return res\n",
    "    \n"
   ]
  },
  {
   "cell_type": "code",
   "execution_count": 104,
   "id": "3072b077",
   "metadata": {},
   "outputs": [],
   "source": [
    "def getInitalisedDistMap(tgtMap):\n",
    "    tmpArr = np.ones(tgtMap.shape)*np.inf\n",
    "    \n",
    "    return  tmpArr"
   ]
  },
  {
   "cell_type": "code",
   "execution_count": 105,
   "id": "3b6f7c5c",
   "metadata": {},
   "outputs": [
    {
     "data": {
      "text/plain": [
       "[(0, 0), (2, 0), (1, 1)]"
      ]
     },
     "execution_count": 105,
     "metadata": {},
     "output_type": "execute_result"
    }
   ],
   "source": [
    "def neigbours(x,y,mirror_map):\n",
    "    shX,shY = mirror_map.shape\n",
    "    dd = [(x-1,y),(x+1,y),(x,y-1),(x,y+1)]\n",
    "    res = []\n",
    "    for dx,dy in dd:\n",
    "        if dx >= 0 and dx<shX and dy>=0 and dy<shY:\n",
    "            res += [(dx,dy)]\n",
    "    return res\n",
    "neigbours(1,0,mirror_map)"
   ]
  },
  {
   "cell_type": "code",
   "execution_count": 106,
   "id": "9aff2a19",
   "metadata": {},
   "outputs": [
    {
     "data": {
      "text/plain": [
       "[(2, 4), (3, 3), (3, 5)]"
      ]
     },
     "execution_count": 106,
     "metadata": {},
     "output_type": "execute_result"
    }
   ],
   "source": [
    "def getNewNeighbors(x,y,mirror_map,dist_map):\n",
    "    # each of neighbors\n",
    "    # is it a garden space\n",
    "    # has it alreayd been visited\n",
    "    res = [] \n",
    "    candidates = neigbours(x,y,mirror_map)\n",
    "    for px,py in candidates:\n",
    "        if mirror_map[px,py] == CHAR_MAP[\"#\"]:\n",
    "            continue # a rock\n",
    "        if dist_map[px,py] == np.inf:\n",
    "            res += [(px,py)]\n",
    "    return res\n",
    "\n",
    "getNewNeighbors(3,4,mirror_map,getInitalisedDistMap(mirror_map))\n",
    "    \n",
    "    "
   ]
  },
  {
   "cell_type": "code",
   "execution_count": 107,
   "id": "838d7c91",
   "metadata": {},
   "outputs": [],
   "source": [
    "def  fillDistancesUpTo(mirror_map,dist_map,max_dist,orig):\n",
    "    dist=0\n",
    "    points_at_curr_dist = [orig]\n",
    "    while dist<=max_dist:\n",
    "        new_points = []\n",
    "        for x,y in points_at_curr_dist:\n",
    "            dist_map[x,y] = dist\n",
    "            # add neighboring points\n",
    "            new_points += getNewNeighbors(x,y,mirror_map,dist_map)\n",
    "        dist+=1\n",
    "    return dist_map"
   ]
  },
  {
   "cell_type": "code",
   "execution_count": 108,
   "id": "fa2f698f",
   "metadata": {},
   "outputs": [],
   "source": [
    "def select_even_ones(dist_map):\n",
    "    res_tmp = np.where(dist_map %2 == 0)\n",
    "    if len(res_tmp) > 1:\n",
    "        x_list,y_list = res_tmp\n",
    "        if DIAG: print(x_list,y_list)\n",
    "    \n",
    "        res = [(x_list[i],y_list[i]) for i in range(0,len(x_list))]\n",
    "    else:\n",
    "        res = []\n",
    "    return res\n",
    "    \n"
   ]
  },
  {
   "cell_type": "code",
   "execution_count": 109,
   "id": "a90b5460",
   "metadata": {},
   "outputs": [],
   "source": [
    "res = select_even_ones(mirror_map)\n",
    "#res"
   ]
  },
  {
   "cell_type": "code",
   "execution_count": 111,
   "id": "7281c437",
   "metadata": {
    "scrolled": false
   },
   "outputs": [
    {
     "name": "stdout",
     "output_type": "stream",
     "text": [
      "[[0 0 0 0 0 0 0 0 0 0 0]\n",
      " [0 0 0 0 0 1 1 1 0 1 0]\n",
      " [0 1 1 1 0 1 1 0 0 1 0]\n",
      " [0 0 1 0 1 0 0 0 1 0 0]\n",
      " [0 0 0 0 1 0 1 0 0 0 0]\n",
      " [0 1 1 0 0 0 1 1 1 1 0]\n",
      " [0 1 1 0 0 1 0 0 0 1 0]\n",
      " [0 0 0 0 0 0 0 1 1 0 0]\n",
      " [0 1 1 0 1 0 1 1 1 1 0]\n",
      " [0 1 1 0 0 1 1 0 1 1 0]\n",
      " [0 0 0 0 0 0 0 0 0 0 0]]\n",
      "(array([5], dtype=int64), array([5], dtype=int64))\n",
      "[[inf inf inf inf inf inf inf inf inf inf inf]\n",
      " [inf inf inf inf inf inf inf inf inf inf inf]\n",
      " [inf inf inf inf inf inf inf inf inf inf inf]\n",
      " [inf inf inf inf inf inf inf inf inf inf inf]\n",
      " [inf inf inf inf inf inf inf inf inf inf inf]\n",
      " [inf inf inf inf inf  1. inf inf inf inf inf]\n",
      " [inf inf inf inf inf inf inf inf inf inf inf]\n",
      " [inf inf inf inf inf inf inf inf inf inf inf]\n",
      " [inf inf inf inf inf inf inf inf inf inf inf]\n",
      " [inf inf inf inf inf inf inf inf inf inf inf]\n",
      " [inf inf inf inf inf inf inf inf inf inf inf]]\n",
      "[]\n"
     ]
    },
    {
     "name": "stderr",
     "output_type": "stream",
     "text": [
      "C:\\Users\\Ola\\AppData\\Local\\Temp\\ipykernel_16328\\2234216733.py:2: RuntimeWarning: invalid value encountered in remainder\n",
      "  res_tmp = np.where(dist_map %2 == 0)\n"
     ]
    }
   ],
   "source": [
    "import sys\n",
    "\n",
    "\n",
    "TARGET = 1000000000\n",
    "\n",
    "np.set_printoptions(threshold=sys.maxsize)\n",
    "\n",
    "mirror_map,st_point = parseFile(FILE_NAME)\n",
    "dist_map =getInitalisedDistMap(mirror_map)\n",
    "\n",
    "max_dist = 1\n",
    "dist_map = fillDistancesUpTo(mirror_map,dist_map,max_dist,st_point)\n",
    "list_reachable = select_even_ones(dist_map)\n",
    "\n",
    "print(mirror_map)\n",
    "print(st_point)\n",
    "print(dist_map)\n",
    "print(list_reachable)"
   ]
  },
  {
   "cell_type": "raw",
   "id": "63b0efcb",
   "metadata": {},
   "source": [
    "import sys\n",
    "\n",
    "\n",
    "TARGET = 1000000000\n",
    "\n",
    "np.set_printoptions(threshold=sys.maxsize)\n",
    "\n",
    "mirror_map = parseFile(FILE_NAME)\n",
    "shape_X,shape_Y = mirror_map.shape\n",
    "\n",
    "starting_steps = [(0,x,(1,0)) for x in range(0,shape_Y)]\n",
    "starting_steps += [(shape_X-1,x,(-1,0)) for x in range(0,shape_Y)]\n",
    "starting_steps += [(x,0,(0,1)) for x in range(0,shape_X)]\n",
    "starting_steps += [(x,shape_Y-1,(0,-1)) for x in range(0,shape_X)]\n",
    "#starting_steps = [(0,0,(0,1))]\n",
    "\n",
    "res = []\n",
    "for step in starting_steps:\n",
    "    res_sing = processMap(mirror_map,step)\n",
    "    res+=[res_sing]\n",
    "\n",
    "#print(res)\n",
    "print(max(res))\n",
    "\n",
    "#with open(\"out.txt\",\"w\") as file:\n",
    "#    shape_X,shape_Y = energ_map.shape\n",
    "##    for i in range(0,shape_X):\n",
    "#        my_line = \"\".join([(\"#\" if x == 1 else \".\") for x in energ_map[i]])\n",
    "#        file.write(my_line+\"\\n\")\n",
    "    "
   ]
  },
  {
   "cell_type": "raw",
   "id": "193a6935",
   "metadata": {},
   "source": [
    "DIAG=False\n",
    "DIAG2 = True\n",
    "TARGET = 1000000000\n",
    "\n",
    "mirror_map = parseFile(FILE_NAME)\n",
    "x=mirror_map\n",
    "\n",
    "res_map = []\n",
    "res_score = []\n",
    "\n",
    "for counter in range(0,TARGET):        \n",
    "    x=tiltMap_fullCycle(x)\n",
    "    if str(x) in res_map:\n",
    "        cycle_start = res_map.index(str(x))\n",
    "        print(\"pop\",cycle_start,counter)\n",
    "        break\n",
    "    else:\n",
    "        res_map.append(str(x))\n",
    "        res_score.append(tallyUpMap(x))\n",
    "                       \n",
    "for counter in range(0,100):        \n",
    "    x=tiltMap_fullCycle(x)\n",
    "    #if str(x) in res_map:\n",
    "    #    cycle_start = res_map.index(str(x))\n",
    "    #    print(\"pop\",cycle_start,counter)\n",
    "    #    break\n",
    "    #else:\n",
    "    #    res_map.append(str(x))\n",
    "    res_score.append(tallyUpMap(x))\n",
    "\n",
    "print (res_score)\n",
    "break\n",
    "\n",
    "            \n",
    "            \n",
    "cycle_length = len(res_map)-cycle_start\n",
    "\n",
    "#TARGET = 5\n",
    "\n",
    "res_idx = ((TARGET-1-cycle_start) % cycle_length)+cycle_start\n",
    "\n",
    "print(res_score[res_idx])\n",
    "print(res_score)                          \n",
    "\n",
    "             \n",
    "# 99813 is too high\n",
    "    \n",
    "#print(res_idx)\n",
    "\n"
   ]
  },
  {
   "cell_type": "raw",
   "id": "f0f52c1e",
   "metadata": {},
   "source": [
    "def tiltMap_OneColumn(my_map, col_num,row_num=0):\n",
    "    res = my_map\n",
    "        \n",
    "    shape_X,_ = my_map.shape\n",
    "    \n",
    "    if row_num >= shape_X:\n",
    "        return res\n",
    "    \n",
    "    if my_map[row_num,col_num] in [-1,1]: # move on\n",
    "        return tiltMap_OneColumn(my_map,col_num,row_num+1)\n",
    "    else: # looks like we have empty space\n",
    "    \n",
    "        j = row_num+1              \n",
    "        while j < shape_X and my_map[j,col_num] == 0:\n",
    "            j+=1\n",
    "        \n",
    "        if j==shape_X:\n",
    "            return res\n",
    "        elif my_map[j,col_num] == -1: # nothing moves past the rock\n",
    "            return tiltMap_OneColumn(my_map,col_num,j+1)\n",
    "        elif my_map[j,col_num] == 1:\n",
    "            my_map[row_num,col_num]=1\n",
    "            my_map[j,col_num]=0\n",
    "            return tiltMap_OneColumn(my_map,col_num,row_num+1)\n",
    "        else:\n",
    "            print(\"This really shouldn't have happened!\")\n",
    "                    \n",
    "    return res\n",
    "    "
   ]
  },
  {
   "cell_type": "raw",
   "id": "6aaa96ee",
   "metadata": {},
   "source": [
    "def tiltMap(my_map):\n",
    "    res = my_map\n",
    "    shape_X,shape_Y = my_map.shape\n",
    "    \n",
    "    for i in range(0,shape_Y):\n",
    "        res = tiltMap_OneColumn(res,i)\n",
    "    return res"
   ]
  },
  {
   "cell_type": "raw",
   "id": "42f28e19",
   "metadata": {},
   "source": [
    "def shuffleMap(my_map,direction,reverse=False):\n",
    "    res = my_map.copy()\n",
    "    \n",
    "    if direction ==\"N\" :\n",
    "        pass\n",
    "    elif direction ==\"S\" :\n",
    "        res = res[::-1]\n",
    "    elif direction ==\"W\" :\n",
    "        res = np.transpose(res)\n",
    "    elif direction ==\"E\" :\n",
    "        if reverse:            \n",
    "            res = res[::-1]\n",
    "            res = np.transpose(res)\n",
    "        else:\n",
    "            res = np.transpose(res)\n",
    "            res = res[::-1]\n",
    "    else:\n",
    "        print(\"Inadmissible inputs!!!\")\n",
    "    return res\n",
    "        \n"
   ]
  },
  {
   "cell_type": "raw",
   "id": "f6dbd581",
   "metadata": {},
   "source": [
    "def tiltMap_fullCycle(my_map):\n",
    "    res = my_map.copy()\n",
    "    if DIAG: print(\"----\")\n",
    "    if DIAG: print(res)\n",
    "    for direction in [\"N\",\"W\",\"S\",\"E\"]:\n",
    "        res = shuffleMap(res,direction,False)\n",
    "        res = tiltMap(res)        \n",
    "        res = shuffleMap(res,direction,True)\n",
    "        \n",
    "        if DIAG: print(\"----\")\n",
    "        if DIAG: print(direction)\n",
    "        if DIAG: print(res)\n",
    "    return res\n",
    "    "
   ]
  },
  {
   "cell_type": "raw",
   "id": "261838b7",
   "metadata": {},
   "source": [
    "def tiltMap(my_map, col_num,row_num):\n",
    "    res = my_map\n",
    "    \n",
    "    i=row_num\n",
    "    shape_X,_ = my_map.shape\n",
    "    \n",
    "    while i<shape_X:\n",
    "        if my_map[i,col_num] in [-1,1]: # move on\n",
    "            i+=1\n",
    "        else: # empty space, can move mirrors\n",
    "            j = i+1\n",
    "            while j < shape_X:\n",
    "                if my_map[i,col_num] \n",
    "            ' shif'\n",
    "    \n",
    "    return shape_X\n",
    "    "
   ]
  },
  {
   "cell_type": "raw",
   "id": "fcf4f9f8",
   "metadata": {},
   "source": [
    "def tallyUpMap(my_map):\n",
    "    res = 0\n",
    "    tmp_map = my_map.copy()\n",
    "    tmp_map[tmp_map==-1]=0\n",
    "    \n",
    "    shape_X,shape_Y = my_map.shape\n",
    "    for i in range(0,shape_X):\n",
    "        tmp_val= sum(tmp_map[i])*(shape_X-i)        \n",
    "        res += tmp_val\n",
    "    \n",
    "    return res\n",
    "        "
   ]
  },
  {
   "cell_type": "code",
   "execution_count": null,
   "id": "3e0bf571",
   "metadata": {},
   "outputs": [],
   "source": []
  },
  {
   "cell_type": "code",
   "execution_count": null,
   "id": "475f4a89",
   "metadata": {},
   "outputs": [],
   "source": []
  },
  {
   "cell_type": "code",
   "execution_count": null,
   "id": "b4f0d834",
   "metadata": {},
   "outputs": [],
   "source": []
  },
  {
   "cell_type": "code",
   "execution_count": null,
   "id": "25cce08d",
   "metadata": {},
   "outputs": [],
   "source": []
  },
  {
   "cell_type": "raw",
   "id": "c51f2714",
   "metadata": {},
   "source": [
    "mirror_map = parseFile(FILE_NAME)\n",
    "\n",
    "x=tiltMap(mirror_map)\n",
    "\n",
    "\n",
    "\n",
    "tallyUpMap(x)\n"
   ]
  }
 ],
 "metadata": {
  "kernelspec": {
   "display_name": "Python 3 (ipykernel)",
   "language": "python",
   "name": "python3"
  },
  "language_info": {
   "codemirror_mode": {
    "name": "ipython",
    "version": 3
   },
   "file_extension": ".py",
   "mimetype": "text/x-python",
   "name": "python",
   "nbconvert_exporter": "python",
   "pygments_lexer": "ipython3",
   "version": "3.9.13"
  }
 },
 "nbformat": 4,
 "nbformat_minor": 5
}
