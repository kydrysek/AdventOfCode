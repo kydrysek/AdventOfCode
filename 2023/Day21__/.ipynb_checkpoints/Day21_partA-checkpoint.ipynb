{
 "cells": [
  {
   "cell_type": "code",
   "execution_count": 21,
   "id": "c3c454b9",
   "metadata": {},
   "outputs": [],
   "source": [
    "import numpy as np\n",
    "import pandas as pd\n",
    "import math\n",
    "import re"
   ]
  },
  {
   "cell_type": "markdown",
   "id": "24f6854d",
   "metadata": {},
   "source": [
    "Wszystkie parzyste i co najwyzej w odleglosci 64"
   ]
  },
  {
   "cell_type": "code",
   "execution_count": 22,
   "id": "1e867210",
   "metadata": {},
   "outputs": [],
   "source": [
    "#FILE_NAME = \"test.txt\"\n",
    "FILE_NAME = \"input.txt\"\n",
    "DIAG=False\n",
    "DIAG2 = False"
   ]
  },
  {
   "cell_type": "code",
   "execution_count": 23,
   "id": "fe279520",
   "metadata": {},
   "outputs": [],
   "source": [
    "CHAR_MAP = {\".\":0, \"#\":1,\"S\":2}\n",
    "\n",
    "def getCharFromNum(num):\n",
    "    for x,y in CHAR_MAP.items():\n",
    "        if y == num:\n",
    "            return x\n",
    "            "
   ]
  },
  {
   "cell_type": "code",
   "execution_count": 24,
   "id": "6a1052e1",
   "metadata": {},
   "outputs": [],
   "source": [
    "def buildArrayFromLines(lines):\n",
    "    \n",
    "    tmp_arr = []\n",
    "    for line in lines:\n",
    "        tmp_line = []    \n",
    "        \n",
    "        for c in line:\n",
    "            if c != \"\\n\":\n",
    "                tmp_line += [CHAR_MAP[c]]\n",
    "        tmp_arr.append(tmp_line)\n",
    "    \n",
    "    \n",
    "    return np.array(tmp_arr)\n",
    "    "
   ]
  },
  {
   "cell_type": "code",
   "execution_count": 25,
   "id": "20f381b3",
   "metadata": {},
   "outputs": [],
   "source": [
    "# OK\n",
    "def parseFile(fileName):   \n",
    "    with open(fileName) as file:\n",
    "        lines =  file.readlines()    \n",
    "   \n",
    "    my_arr = buildArrayFromLines(lines)\n",
    "    st_point = np.where(my_arr == CHAR_MAP[\"S\"])\n",
    "    if DIAG: print(st_point)\n",
    "    \n",
    "    my_arr[st_point[0],st_point[1]] = CHAR_MAP[\".\"]\n",
    "    \n",
    "    \n",
    "    return my_arr,st_point\n"
   ]
  },
  {
   "cell_type": "code",
   "execution_count": 26,
   "id": "1caa3a6d",
   "metadata": {},
   "outputs": [],
   "source": [
    "def decideNextStep(cell,direct):\n",
    "    if DIAG: print(cell)\n",
    "    res = []    \n",
    "    if cell == 0:\n",
    "        res  = [direct]\n",
    "    elif cell == 1:\n",
    "        res = [(-direct[1],-direct[0])]\n",
    "    elif cell == 2:\n",
    "        res = [(direct[1],direct[0])]\n",
    "    elif cell == 3:\n",
    "        if direct[1] == 0:\n",
    "            res  = [direct]\n",
    "        else:\n",
    "            res = [(-1,0),(1,0)]\n",
    "    elif cell == 4:\n",
    "        if direct[0] == 0:\n",
    "            res  = [direct]\n",
    "        else:\n",
    "            res = [(0,-1),(0,1)]\n",
    "    else:\n",
    "        print(\"What the hell?\")\n",
    "    return res\n",
    "\n",
    "assert decideNextStep(1,(0,1)) == [(-1,0)]\n",
    "assert decideNextStep(1,(-1,0)) == [(0,1)]\n",
    "assert decideNextStep(1,(1,0)) == [(0,-1)]\n",
    "assert decideNextStep(1,(0,-1)) == [(1,0)]\n",
    "\n",
    "assert decideNextStep(2,(0,1)) == [(1,0)]\n",
    "assert decideNextStep(2,(-1,0)) == [(0,-1)]\n",
    "assert decideNextStep(2,(1,0)) == [(0,1)]\n",
    "assert decideNextStep(2,(0,-1)) == [(-1,0)]\n",
    "\n",
    "assert decideNextStep(3,(0,1)) == [(-1,0),(1,0)]\n",
    "assert decideNextStep(3,(-1,0)) == [(-1,0)]\n",
    "assert decideNextStep(3,(1,0)) == [(1,0)]\n",
    "assert decideNextStep(3,(0,-1)) ==  [(-1,0),(1,0)]\n",
    "\n",
    "assert decideNextStep(4,(0,1)) == [(0,1)] #[(-1,0),(1,0)]\n",
    "assert decideNextStep(4,(-1,0)) == [(0,-1),(0,1)]\n",
    "assert decideNextStep(4,(1,0)) == [(0,-1),(0,1)]\n",
    "assert decideNextStep(4,(0,-1)) ==  [(0,-1)] #[(0,-1),(0,1)]\n",
    "\n",
    "assert decideNextStep(0,(0,1)) == [(0,1)]\n",
    "assert decideNextStep(0,(-1,0)) == [(-1,0)]\n",
    "assert decideNextStep(0,(1,0)) == [(1,0)]\n",
    "assert decideNextStep(0,(0,-1)) == [(0,-1)]"
   ]
  },
  {
   "cell_type": "code",
   "execution_count": 27,
   "id": "3a2b60e3",
   "metadata": {},
   "outputs": [
    {
     "data": {
      "text/plain": [
       "(1, 1, -1, -1)"
      ]
     },
     "execution_count": 27,
     "metadata": {},
     "output_type": "execute_result"
    }
   ],
   "source": [
    "(1,1)+(-1,-1)"
   ]
  },
  {
   "cell_type": "code",
   "execution_count": 28,
   "id": "287ae214",
   "metadata": {},
   "outputs": [],
   "source": [
    "#STEPS_PROCESSED = set()\n",
    "#STEPS_TO_PROCESS = set()"
   ]
  },
  {
   "cell_type": "raw",
   "id": "03541635",
   "metadata": {},
   "source": [
    "def processStep(inMap,outMap,x,y,direct,STEPS_PROCESSED,STEPS_TO_PROCESS):\n",
    "    \"\"\"\n",
    "    direct is (,) and a direction we had coming into the cell\n",
    "    \"\"\"\n",
    "    if DIAG: print(\">> step to process:\",x,y,direct)\n",
    "    shape_X,shape_Y = inMap.shape\n",
    "    if not(x in range(0,shape_X) and y in range(0,shape_X)):\n",
    "        # we had stepped  off the map\n",
    "        if DIAG: print(\"off the map\")\n",
    "        pass\n",
    "    elif (x,y,direct) in STEPS_PROCESSED:\n",
    "        #we've already walked through this cell in this direction. Nothing to do\n",
    "        if DIAG: print(\"already seen\")\n",
    "        pass\n",
    "    else:\n",
    "        # mark cell as hot\n",
    "        outMap[x,y]=1\n",
    "        \n",
    "        STEPS_PROCESSED.add((x,y,direct))\n",
    "        # STEPS_TO_PROCESS.REMOVE((x,y,direct)) it's already been popped\n",
    "        if DIAG: print(\"processing\")\n",
    "        next_steps = decideNextStep(inMap[x,y],direct)\n",
    "        if DIAG: print(\"  Have some next steps: \",next_steps)\n",
    "        for step in next_steps:\n",
    "            nn = (x+step[0],y+step[1],step)\n",
    "            if nn in STEPS_PROCESSED:\n",
    "                pass\n",
    "            else:\n",
    "                STEPS_TO_PROCESS.add(nn)\n",
    "                    \n",
    "    return outMap"
   ]
  },
  {
   "cell_type": "raw",
   "id": "bc9b9c68",
   "metadata": {},
   "source": [
    "def processMap(inMap,starting_step):\n",
    "    #print(mirror_map)\n",
    "    energ_map = np.zeros(inMap.shape)    \n",
    "\n",
    "    STEPS_PROCESSED  = set([])\n",
    "    STEPS_TO_PROCESS  = set([starting_step])\n",
    "    counter = 0 \n",
    "    while len(STEPS_TO_PROCESS) > 0 and counter < 10000000:\n",
    "        move = STEPS_TO_PROCESS.pop()\n",
    "        if DIAG: print(\"Outer loop: \", move, \"counter: \",counter)\n",
    "        energ_map= processStep(mirror_map,energ_map,*move,STEPS_PROCESSED,STEPS_TO_PROCESS)\n",
    "    \n",
    "        counter+=1\n",
    "    \n",
    "    res = sum(sum(energ_map))\n",
    "    if DIAG: print(res)\n",
    "    return res\n",
    "    \n"
   ]
  },
  {
   "cell_type": "code",
   "execution_count": 29,
   "id": "8980cea1",
   "metadata": {},
   "outputs": [],
   "source": [
    "def getInitalisedDistMap(tgtMap):\n",
    "    tmpArr = np.ones(tgtMap.shape)*np.inf\n",
    "    \n",
    "    return  tmpArr"
   ]
  },
  {
   "cell_type": "code",
   "execution_count": 30,
   "id": "1b224699",
   "metadata": {},
   "outputs": [],
   "source": [
    "def neigbours(x,y,mirror_map):\n",
    "    shX,shY = mirror_map.shape\n",
    "    dd = [(x-1,y),(x+1,y),(x,y-1),(x,y+1)]\n",
    "    res = []\n",
    "    for dx,dy in dd:\n",
    "        if dx >= 0 and dx<shX and dy>=0 and dy<shY:\n",
    "            res += [(dx,dy)]\n",
    "    return res\n",
    "#neigbours(1,0,mirror_map)"
   ]
  },
  {
   "cell_type": "code",
   "execution_count": 31,
   "id": "b510237e",
   "metadata": {},
   "outputs": [],
   "source": [
    "def getNewNeighbors(x,y,mirror_map,dist_map):\n",
    "    # each of neighbors\n",
    "    # is it a garden space\n",
    "    # has it alreayd been visited\n",
    "    res = [] \n",
    "    candidates = neigbours(x,y,mirror_map)\n",
    "    for px,py in candidates:\n",
    "        if mirror_map[px,py] == CHAR_MAP[\"#\"]:\n",
    "            continue # a rock\n",
    "        if dist_map[px,py] == np.inf:\n",
    "            res += [(px,py)]\n",
    "    return res\n",
    "\n",
    "#getNewNeighbors(3,4,mirror_map,getInitalisedDistMap(mirror_map))\n",
    "    \n",
    "    "
   ]
  },
  {
   "cell_type": "code",
   "execution_count": 32,
   "id": "2245a53a",
   "metadata": {},
   "outputs": [],
   "source": [
    "def  fillDistancesUpTo(mirror_map,dist_map,max_dist,orig):\n",
    "    dist=0\n",
    "    points_at_curr_dist = set([(int(orig[0]),int(orig[1]))])\n",
    "    while dist<=max_dist:\n",
    "        new_points = []\n",
    "        for x,y in points_at_curr_dist:\n",
    "            dist_map[x,y] = dist\n",
    "            # add neighboring points\n",
    "            new_points += getNewNeighbors(x,y,mirror_map,dist_map)\n",
    "        points_at_curr_dist = set(new_points)\n",
    "       \n",
    "        dist+=1\n",
    "    return dist_map"
   ]
  },
  {
   "cell_type": "code",
   "execution_count": 33,
   "id": "1571eaac",
   "metadata": {},
   "outputs": [],
   "source": [
    "def select_even_ones(dist_map):\n",
    "    res_tmp = np.where(dist_map %2 == 0)\n",
    "    if len(res_tmp) > 1:\n",
    "        x_list,y_list = res_tmp\n",
    "        if DIAG: print(x_list,y_list)\n",
    "    \n",
    "        res = [(x_list[i],y_list[i]) for i in range(0,len(x_list))]\n",
    "    else:\n",
    "        res = []\n",
    "    return res\n",
    "    \n"
   ]
  },
  {
   "cell_type": "code",
   "execution_count": 34,
   "id": "359aae10",
   "metadata": {},
   "outputs": [],
   "source": [
    "#res = select_even_ones(mirror_map)\n",
    "#res"
   ]
  },
  {
   "cell_type": "code",
   "execution_count": 39,
   "id": "7281c437",
   "metadata": {
    "scrolled": false
   },
   "outputs": [
    {
     "name": "stdout",
     "output_type": "stream",
     "text": [
      "7568\n"
     ]
    },
    {
     "name": "stderr",
     "output_type": "stream",
     "text": [
      "C:\\Users\\Ola\\AppData\\Local\\Temp\\ipykernel_12120\\2234216733.py:2: RuntimeWarning: invalid value encountered in remainder\n",
      "  res_tmp = np.where(dist_map %2 == 0)\n"
     ]
    }
   ],
   "source": [
    "import sys\n",
    "\n",
    "\n",
    "TARGET = 1000000000\n",
    "\n",
    "np.set_printoptions(threshold=sys.maxsize)\n",
    "\n",
    "mirror_map,st_point = parseFile(FILE_NAME)\n",
    "dist_map =getInitalisedDistMap(mirror_map)\n",
    "\n",
    "max_dist = 400\n",
    "dist_map = fillDistancesUpTo(mirror_map,dist_map,max_dist,st_point)\n",
    "list_reachable = select_even_ones(dist_map)\n",
    "\n",
    "#print(mirror_map)\n",
    "#print(st_point)\n",
    "#print(dist_map)\n",
    "print(len(list_reachable))"
   ]
  },
  {
   "cell_type": "code",
   "execution_count": 36,
   "id": "467688cc",
   "metadata": {},
   "outputs": [
    {
     "data": {
      "text/plain": [
       "(131, 131)"
      ]
     },
     "execution_count": 36,
     "metadata": {},
     "output_type": "execute_result"
    }
   ],
   "source": [
    "mirror_map.shape"
   ]
  },
  {
   "cell_type": "code",
   "execution_count": 38,
   "id": "bb69742b",
   "metadata": {},
   "outputs": [
    {
     "data": {
      "text/plain": [
       "17161"
      ]
     },
     "execution_count": 38,
     "metadata": {},
     "output_type": "execute_result"
    }
   ],
   "source": [
    "131*131"
   ]
  },
  {
   "cell_type": "code",
   "execution_count": null,
   "id": "2b02308b",
   "metadata": {},
   "outputs": [],
   "source": []
  }
 ],
 "metadata": {
  "kernelspec": {
   "display_name": "Python 3 (ipykernel)",
   "language": "python",
   "name": "python3"
  },
  "language_info": {
   "codemirror_mode": {
    "name": "ipython",
    "version": 3
   },
   "file_extension": ".py",
   "mimetype": "text/x-python",
   "name": "python",
   "nbconvert_exporter": "python",
   "pygments_lexer": "ipython3",
   "version": "3.9.13"
  }
 },
 "nbformat": 4,
 "nbformat_minor": 5
}
