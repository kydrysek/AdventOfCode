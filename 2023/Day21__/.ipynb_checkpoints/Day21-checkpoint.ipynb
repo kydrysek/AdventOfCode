{
 "cells": [
  {
   "cell_type": "code",
   "execution_count": 1,
   "id": "c3c454b9",
   "metadata": {},
   "outputs": [],
   "source": [
    "import numpy as np\n",
    "import pandas as pd\n",
    "import math\n",
    "import re"
   ]
  },
  {
   "cell_type": "markdown",
   "id": "ea9bad4d",
   "metadata": {},
   "source": [
    "Wszystkie parzyste i co najwyzej w odleglosci 64"
   ]
  },
  {
   "cell_type": "code",
   "execution_count": 2,
   "id": "1e867210",
   "metadata": {},
   "outputs": [],
   "source": [
    "#FILE_NAME = \"test.txt\"\n",
    "FILE_NAME = \"input.txt\"\n",
    "DIAG=False\n",
    "DIAG2 = False\n",
    "MAGIC_NUMBER=26501365\n",
    "INF = -np.inf"
   ]
  },
  {
   "cell_type": "code",
   "execution_count": 3,
   "id": "fe279520",
   "metadata": {},
   "outputs": [],
   "source": [
    "CHAR_MAP = {\".\":0, \"#\":1,\"S\":2}\n",
    "\n",
    "def getCharFromNum(num):\n",
    "    for x,y in CHAR_MAP.items():\n",
    "        if y == num:\n",
    "            return x\n",
    "            "
   ]
  },
  {
   "cell_type": "code",
   "execution_count": 4,
   "id": "6a1052e1",
   "metadata": {},
   "outputs": [],
   "source": [
    "def buildArrayFromLines(lines):\n",
    "    \n",
    "    tmp_arr = []\n",
    "    for line in lines:\n",
    "        tmp_line = []    \n",
    "        \n",
    "        for c in line:\n",
    "            if c != \"\\n\":\n",
    "                tmp_line += [CHAR_MAP[c]]\n",
    "        tmp_arr.append(tmp_line)\n",
    "    \n",
    "    \n",
    "    return np.array(tmp_arr)\n",
    "    "
   ]
  },
  {
   "cell_type": "code",
   "execution_count": 5,
   "id": "20f381b3",
   "metadata": {},
   "outputs": [],
   "source": [
    "# OK\n",
    "def parseFile(fileName):   \n",
    "    with open(fileName) as file:\n",
    "        lines =  file.readlines()    \n",
    "   \n",
    "    my_arr = buildArrayFromLines(lines)\n",
    "    st_point = np.where(my_arr == CHAR_MAP[\"S\"])\n",
    "    if DIAG: print(st_point)\n",
    "    \n",
    "    my_arr[st_point[0],st_point[1]] = CHAR_MAP[\".\"]\n",
    "    \n",
    "    \n",
    "    return my_arr,st_point\n"
   ]
  },
  {
   "cell_type": "code",
   "execution_count": 6,
   "id": "1caa3a6d",
   "metadata": {},
   "outputs": [],
   "source": [
    "def decideNextStep(cell,direct):\n",
    "    if DIAG: print(cell)\n",
    "    res = []    \n",
    "    if cell == 0:\n",
    "        res  = [direct]\n",
    "    elif cell == 1:\n",
    "        res = [(-direct[1],-direct[0])]\n",
    "    elif cell == 2:\n",
    "        res = [(direct[1],direct[0])]\n",
    "    elif cell == 3:\n",
    "        if direct[1] == 0:\n",
    "            res  = [direct]\n",
    "        else:\n",
    "            res = [(-1,0),(1,0)]\n",
    "    elif cell == 4:\n",
    "        if direct[0] == 0:\n",
    "            res  = [direct]\n",
    "        else:\n",
    "            res = [(0,-1),(0,1)]\n",
    "    else:\n",
    "        print(\"What the hell?\")\n",
    "    return res\n",
    "\n",
    "assert decideNextStep(1,(0,1)) == [(-1,0)]\n",
    "assert decideNextStep(1,(-1,0)) == [(0,1)]\n",
    "assert decideNextStep(1,(1,0)) == [(0,-1)]\n",
    "assert decideNextStep(1,(0,-1)) == [(1,0)]\n",
    "\n",
    "assert decideNextStep(2,(0,1)) == [(1,0)]\n",
    "assert decideNextStep(2,(-1,0)) == [(0,-1)]\n",
    "assert decideNextStep(2,(1,0)) == [(0,1)]\n",
    "assert decideNextStep(2,(0,-1)) == [(-1,0)]\n",
    "\n",
    "assert decideNextStep(3,(0,1)) == [(-1,0),(1,0)]\n",
    "assert decideNextStep(3,(-1,0)) == [(-1,0)]\n",
    "assert decideNextStep(3,(1,0)) == [(1,0)]\n",
    "assert decideNextStep(3,(0,-1)) ==  [(-1,0),(1,0)]\n",
    "\n",
    "assert decideNextStep(4,(0,1)) == [(0,1)] #[(-1,0),(1,0)]\n",
    "assert decideNextStep(4,(-1,0)) == [(0,-1),(0,1)]\n",
    "assert decideNextStep(4,(1,0)) == [(0,-1),(0,1)]\n",
    "assert decideNextStep(4,(0,-1)) ==  [(0,-1)] #[(0,-1),(0,1)]\n",
    "\n",
    "assert decideNextStep(0,(0,1)) == [(0,1)]\n",
    "assert decideNextStep(0,(-1,0)) == [(-1,0)]\n",
    "assert decideNextStep(0,(1,0)) == [(1,0)]\n",
    "assert decideNextStep(0,(0,-1)) == [(0,-1)]"
   ]
  },
  {
   "cell_type": "code",
   "execution_count": 7,
   "id": "3a2b60e3",
   "metadata": {},
   "outputs": [
    {
     "data": {
      "text/plain": [
       "(1, 1, -1, -1)"
      ]
     },
     "execution_count": 7,
     "metadata": {},
     "output_type": "execute_result"
    }
   ],
   "source": [
    "(1,1)+(-1,-1)"
   ]
  },
  {
   "cell_type": "code",
   "execution_count": 8,
   "id": "287ae214",
   "metadata": {},
   "outputs": [],
   "source": [
    "#STEPS_PROCESSED = set()\n",
    "#STEPS_TO_PROCESS = set()"
   ]
  },
  {
   "cell_type": "code",
   "execution_count": 9,
   "id": "4cebd3c4",
   "metadata": {},
   "outputs": [],
   "source": [
    "def getInitalisedDistMap(tgtMap):\n",
    "    tmpArr = np.ones(tgtMap.shape)*INF\n",
    "    \n",
    "    return  tmpArr"
   ]
  },
  {
   "cell_type": "code",
   "execution_count": 10,
   "id": "d33d58f4",
   "metadata": {},
   "outputs": [],
   "source": [
    "def neigbours(x,y,mirror_map):\n",
    "    shX,shY = mirror_map.shape\n",
    "    dd = [(x-1,y),(x+1,y),(x,y-1),(x,y+1)]\n",
    "    res = []\n",
    "    for dx,dy in dd:\n",
    "        if dx >= 0 and dx<shX and dy>=0 and dy<shY:\n",
    "            res += [(dx,dy)]\n",
    "    return res\n",
    "#neigbours(1,0,mirror_map)"
   ]
  },
  {
   "cell_type": "code",
   "execution_count": 11,
   "id": "a9444fbe",
   "metadata": {},
   "outputs": [],
   "source": [
    "def getNewNeighbors(x,y,mirror_map,dist_map):\n",
    "    # each of neighbors\n",
    "    # is it a garden space\n",
    "    # has it alreayd been visited\n",
    "    res = [] \n",
    "    candidates = neigbours(x,y,mirror_map)\n",
    "    for px,py in candidates:\n",
    "        if mirror_map[px,py] == CHAR_MAP[\"#\"]:\n",
    "            continue # a rock\n",
    "        if dist_map[px,py] == INF:\n",
    "            res += [(px,py)]\n",
    "    return res\n",
    "\n",
    "#getNewNeighbors(3,4,mirror_map,getInitalisedDistMap(mirror_map))\n",
    "    \n",
    "    "
   ]
  },
  {
   "cell_type": "code",
   "execution_count": 12,
   "id": "52153924",
   "metadata": {},
   "outputs": [],
   "source": [
    "def  fillDistancesUpTo(mirror_map,dist_map,max_dist,orig):\n",
    "    dist=0\n",
    "    print(orig)\n",
    "    points_at_curr_dist = set([(int(orig[0]),int(orig[1]))])\n",
    "    while dist<=max_dist:\n",
    "        new_points = []\n",
    "        for x,y in points_at_curr_dist:\n",
    "            dist_map[x,y] = dist\n",
    "            # add neighboring points\n",
    "            new_points += getNewNeighbors(x,y,mirror_map,dist_map)\n",
    "        points_at_curr_dist = set(new_points)\n",
    "       \n",
    "        dist+=1\n",
    "    return dist_map"
   ]
  },
  {
   "cell_type": "code",
   "execution_count": 13,
   "id": "06c7827f",
   "metadata": {},
   "outputs": [],
   "source": [
    "def select_even_ones(dist_map,evenOnes=True):\n",
    "    if evenOnes:\n",
    "        res_tmp = np.where(dist_map %2 == 0)\n",
    "    else:\n",
    "        res_tmp = np.where(dist_map %2 == 1)\n",
    "    if len(res_tmp) > 1:\n",
    "        x_list,y_list = res_tmp\n",
    "        if DIAG: print(x_list,y_list)\n",
    "    \n",
    "        res = [(x_list[i],y_list[i]) for i in range(0,len(x_list))]\n",
    "    else:\n",
    "        res = []\n",
    "    return res\n",
    "    \n"
   ]
  },
  {
   "cell_type": "code",
   "execution_count": 14,
   "id": "c7ec122e",
   "metadata": {},
   "outputs": [],
   "source": [
    "def getNumberOfReachable(dist_map,origin,steps):\n",
    "    return len(select_even_ones(dist_map,evenOnes=steps%2==0))"
   ]
  },
  {
   "cell_type": "code",
   "execution_count": 15,
   "id": "dfd57ef1",
   "metadata": {},
   "outputs": [],
   "source": [
    "def getAllDistancesFromPoint(mirror_map,max_dist,point):\n",
    "    my_dist_map = getInitalisedDistMap(mirror_map)\n",
    "    my_dist_map = fillDistancesUpTo(mirror_map,my_dist_map,max_dist,point)\n",
    "    return my_dist_map"
   ]
  },
  {
   "cell_type": "code",
   "execution_count": 16,
   "id": "43c4fb11",
   "metadata": {},
   "outputs": [],
   "source": [
    "def getCountDistancesFromPoint_EvenOdd(mirror_map,max_dist,point,even=True):\n",
    "    my_dist_map = getAllDistancesFromPoint(mirror_map,max_dist,point)\n",
    "    my_points = select_even_ones(my_dist_map,even)\n",
    "    return len(my_points)"
   ]
  },
  {
   "cell_type": "code",
   "execution_count": 17,
   "id": "90b08289",
   "metadata": {},
   "outputs": [
    {
     "ename": "NameError",
     "evalue": "name 'mirror_map' is not defined",
     "output_type": "error",
     "traceback": [
      "\u001b[1;31m---------------------------------------------------------------------------\u001b[0m",
      "\u001b[1;31mNameError\u001b[0m                                 Traceback (most recent call last)",
      "\u001b[1;32m~\\AppData\\Local\\Temp\\ipykernel_17728\\4017950727.py\u001b[0m in \u001b[0;36m<module>\u001b[1;34m\u001b[0m\n\u001b[1;32m----> 1\u001b[1;33m \u001b[0mlen\u001b[0m\u001b[1;33m(\u001b[0m\u001b[0mmirror_map\u001b[0m\u001b[1;33m)\u001b[0m\u001b[1;33m*\u001b[0m\u001b[1;33m(\u001b[0m\u001b[0mfile_multiple\u001b[0m\u001b[1;33m//\u001b[0m\u001b[1;36m2\u001b[0m\u001b[1;33m)\u001b[0m\u001b[1;33m+\u001b[0m\u001b[1;33m(\u001b[0m\u001b[0mlen\u001b[0m\u001b[1;33m(\u001b[0m\u001b[0mmirror_map\u001b[0m\u001b[1;33m)\u001b[0m\u001b[1;33m//\u001b[0m\u001b[1;36m2\u001b[0m\u001b[1;33m)\u001b[0m\u001b[1;33m\u001b[0m\u001b[1;33m\u001b[0m\u001b[0m\n\u001b[0m",
      "\u001b[1;31mNameError\u001b[0m: name 'mirror_map' is not defined"
     ]
    }
   ],
   "source": [
    "len(mirror_map)*(file_multiple//2)+(len(mirror_map)//2)"
   ]
  },
  {
   "cell_type": "code",
   "execution_count": 19,
   "id": "55d7612f",
   "metadata": {},
   "outputs": [
    {
     "data": {
      "text/plain": [
       "280"
      ]
     },
     "execution_count": 19,
     "metadata": {},
     "output_type": "execute_result"
    }
   ],
   "source": [
    "len(mirror_map)//2"
   ]
  },
  {
   "cell_type": "code",
   "execution_count": 23,
   "id": "bd4ddb80",
   "metadata": {},
   "outputs": [
    {
     "data": {
      "text/plain": [
       "17"
      ]
     },
     "execution_count": 23,
     "metadata": {},
     "output_type": "execute_result"
    }
   ],
   "source": [
    "with open(FILE_NAME) as file:\n",
    "    ll = file.readline()\n",
    "len(ll)//33"
   ]
  },
  {
   "cell_type": "code",
   "execution_count": 42,
   "id": "7281c437",
   "metadata": {
    "scrolled": false
   },
   "outputs": [
    {
     "name": "stdout",
     "output_type": "stream",
     "text": [
      "Steps =  1113\n",
      "(2489, 2489)\n",
      "(1244, 1244)\n"
     ]
    },
    {
     "name": "stderr",
     "output_type": "stream",
     "text": [
      "C:\\Users\\Ola\\AppData\\Local\\Temp\\ipykernel_17728\\591810338.py:5: RuntimeWarning: invalid value encountered in remainder\n",
      "  res_tmp = np.where(dist_map %2 == 1)\n"
     ]
    },
    {
     "name": "stdout",
     "output_type": "stream",
     "text": [
      "1094515\n"
     ]
    }
   ],
   "source": [
    "import sys\n",
    "\n",
    "\n",
    "TARGET = 1000000000\n",
    "\n",
    "np.set_printoptions(threshold=sys.maxsize)\n",
    "\n",
    "file_multiple = 19\n",
    "FILE_NAME=\"input\"+str(file_multiple)+\"times.txt\"\n",
    "\n",
    "\n",
    "\n",
    "k=4 #our real k = 202300\n",
    "steps= 2 * k*131 + 65\n",
    "print(\"Steps = \",steps)\n",
    "\n",
    "mirror_map,_ = parseFile(FILE_NAME)\n",
    "print(mirror_map.shape)\n",
    "st_point = len(mirror_map)//2\n",
    "st_point = (st_point,st_point)\n",
    "\n",
    "\n",
    "if DIAG2: print(\"Middle point: \",st_point)\n",
    "\n",
    "res2 = getCountDistancesFromPoint_EvenOdd(mirror_map,steps,st_point,steps%2==0)\n",
    "print(res2)"
   ]
  },
  {
   "cell_type": "code",
   "execution_count": 108,
   "id": "fe9cc6cc",
   "metadata": {},
   "outputs": [
    {
     "ename": "ZeroDivisionError",
     "evalue": "division by zero",
     "output_type": "error",
     "traceback": [
      "\u001b[1;31m---------------------------------------------------------------------------\u001b[0m",
      "\u001b[1;31mZeroDivisionError\u001b[0m                         Traceback (most recent call last)",
      "\u001b[1;32m~\\AppData\\Local\\Temp\\ipykernel_24700\\182040962.py\u001b[0m in \u001b[0;36m<module>\u001b[1;34m\u001b[0m\n\u001b[1;32m----> 1\u001b[1;33m \u001b[1;36m0\u001b[0m\u001b[1;33m/\u001b[0m\u001b[1;36m0\u001b[0m\u001b[1;33m\u001b[0m\u001b[1;33m\u001b[0m\u001b[0m\n\u001b[0m",
      "\u001b[1;31mZeroDivisionError\u001b[0m: division by zero"
     ]
    }
   ],
   "source": [
    "0/0"
   ]
  },
  {
   "cell_type": "raw",
   "id": "321e64ff",
   "metadata": {},
   "source": [
    "import sys\n",
    "\n",
    "\n",
    "TARGET = 1000000000\n",
    "\n",
    "np.set_printoptions(threshold=sys.maxsize)\n",
    "\n",
    "file_multiple = 101\n",
    "FILE_NAME=\"test\"+str(file_multiple)+\"times.txt\"\n",
    "\n",
    "\n",
    "\n",
    "k=4 #our real k = 202300\n",
    "#steps= 2 * k*131 + 65\n",
    "steps=500\n",
    "\n",
    "mirror_map,st_point = parseFile(FILE_NAME)\n",
    "st_point = len(mirror_map)//2\n",
    "st_point = (st_point,st_point)\n",
    "if DIAG2: print(\"Middle point: \",st_point)\n",
    "\n",
    "res2 = getCountDistancesFromPoint_EvenOdd(mirror_map,steps,st_point,steps%2==0)\n",
    "print(res2)"
   ]
  },
  {
   "cell_type": "code",
   "execution_count": null,
   "id": "3c71f0ca",
   "metadata": {},
   "outputs": [],
   "source": [
    "2*4*131+65\n"
   ]
  },
  {
   "cell_type": "code",
   "execution_count": null,
   "id": "1c4b8efa",
   "metadata": {},
   "outputs": [],
   "source": [
    "getCountDistancesFromPoint_EvenOdd(mirror_map,131,(130,65),True)"
   ]
  },
  {
   "cell_type": "markdown",
   "id": "5bfe65c3",
   "metadata": {},
   "source": [
    "- Even steps from (0,0) - 7568\n",
    "- Odd steps from (0,0) - 7657\n",
    "\n",
    "- Even steps from (0,65) - 7567\n",
    "- Odd steps from (0,65) - 7658\n",
    "\n",
    "- Even steps from (0,130) - 7568\n",
    "- Odd steps from (0,130) - 7657\n",
    "\n",
    "- Even steps from (65,0) - 7567\n",
    "- Odd steps from (65,0) - 7658\n",
    "\n",
    "- Even steps from (65,65) - 7568\n",
    "- Odd steps from (65,65) - 7657\n",
    "\n",
    "- Even steps from (65,130) - 7567\n",
    "- Odd steps from (65,130) - 7658\n",
    "\n",
    "\n",
    "- Even steps from (130,0) - 7568\n",
    "- Odd steps from (130,0) - 7657\n",
    "\n",
    "- Even steps from (130,65) - 7567\n",
    "- Odd steps from (130,65) - 7658\n",
    "\n",
    "- Even steps from (130,130) - 7568\n",
    "- Odd steps from (130,130) - 7657\n"
   ]
  },
  {
   "cell_type": "code",
   "execution_count": null,
   "id": "84206463",
   "metadata": {},
   "outputs": [],
   "source": [
    "st_point"
   ]
  },
  {
   "cell_type": "code",
   "execution_count": null,
   "id": "3d5edd68",
   "metadata": {},
   "outputs": [],
   "source": [
    "mirror_map.shape"
   ]
  },
  {
   "cell_type": "code",
   "execution_count": null,
   "id": "21ac84d1",
   "metadata": {},
   "outputs": [],
   "source": [
    "len((np.where(mirror_map == 1))[0])"
   ]
  },
  {
   "cell_type": "code",
   "execution_count": null,
   "id": "3a6e5855",
   "metadata": {},
   "outputs": [],
   "source": [
    "131*131-2021-7568"
   ]
  },
  {
   "cell_type": "code",
   "execution_count": null,
   "id": "1697a993",
   "metadata": {},
   "outputs": [],
   "source": [
    "dist_map[0,:]"
   ]
  },
  {
   "cell_type": "code",
   "execution_count": null,
   "id": "5257150d",
   "metadata": {},
   "outputs": [],
   "source": [
    "MAGIC_NUMBER // 131"
   ]
  },
  {
   "cell_type": "code",
   "execution_count": null,
   "id": "d34e7122",
   "metadata": {},
   "outputs": [],
   "source": [
    "inst = MAGIC_NUMBER // 131\n",
    "inst"
   ]
  },
  {
   "cell_type": "code",
   "execution_count": null,
   "id": "5301be56",
   "metadata": {},
   "outputs": [],
   "source": [
    "remain = MAGIC_NUMBER % 131\n",
    "remain"
   ]
  },
  {
   "cell_type": "code",
   "execution_count": null,
   "id": "896d1ffe",
   "metadata": {},
   "outputs": [],
   "source": [
    "can_reach_in_map = 7568+7567\n",
    "can_reach_in_map"
   ]
  },
  {
   "cell_type": "code",
   "execution_count": null,
   "id": "b54b7161",
   "metadata": {},
   "outputs": [],
   "source": [
    "sum_to_reach = 4\n",
    "def calcNumberOfWays(sum_to_reach):\n",
    "    res = (sum_to_reach+1)*(sum_to_reach+2)/2\n",
    "    return res\n",
    "calcNumberOfWays(4)"
   ]
  },
  {
   "cell_type": "code",
   "execution_count": null,
   "id": "36cd2451",
   "metadata": {},
   "outputs": [],
   "source": []
  },
  {
   "cell_type": "code",
   "execution_count": null,
   "id": "52296c76",
   "metadata": {},
   "outputs": [],
   "source": []
  },
  {
   "cell_type": "code",
   "execution_count": null,
   "id": "e5a9f7ef",
   "metadata": {},
   "outputs": [],
   "source": []
  },
  {
   "cell_type": "code",
   "execution_count": null,
   "id": "568c22f1",
   "metadata": {},
   "outputs": [],
   "source": [
    "Do a test on input7times.txt\n",
    "k=1"
   ]
  },
  {
   "cell_type": "code",
   "execution_count": 30,
   "id": "b4289bc0",
   "metadata": {},
   "outputs": [
    {
     "name": "stdout",
     "output_type": "stream",
     "text": [
      "1111\n",
      "1111\n",
      "1111\n",
      "1111\n",
      "1111\n",
      "1111\n",
      "1111\n",
      "1111\n",
      "1111\n",
      "1111\n",
      "1111\n"
     ]
    }
   ],
   "source": [
    "mult=101\n",
    "with open(\"test.txt\") as file_in:\n",
    "    with open(\"test\"+str(mult)+\"times.txt\",\"w\") as file_out:\n",
    "        lines = file_in.readlines()\n",
    "        for i in range(0,mult):\n",
    "            for line in lines:\n",
    "                \n",
    "                if line[-1] == \"\\n\":\n",
    "                    line=line[:-1]\n",
    "                \n",
    "                line=line*mult\n",
    "                file_out.write(line+\"\\n\")\n",
    "                if (i==0):print(len(line))\n",
    "        "
   ]
  },
  {
   "cell_type": "code",
   "execution_count": 43,
   "id": "996352eb",
   "metadata": {},
   "outputs": [],
   "source": [
    "a=60540\n",
    "b=30502\n",
    "c=3867\n"
   ]
  },
  {
   "cell_type": "code",
   "execution_count": 44,
   "id": "44802912",
   "metadata": {},
   "outputs": [],
   "source": [
    "def grandResult(k):\n",
    "    return a*k*k+b*k+c"
   ]
  },
  {
   "cell_type": "code",
   "execution_count": null,
   "id": "90583311",
   "metadata": {},
   "outputs": [],
   "source": [
    "MAGIC_NUMBER"
   ]
  },
  {
   "cell_type": "code",
   "execution_count": null,
   "id": "5a55f992",
   "metadata": {},
   "outputs": [],
   "source": [
    "MAGIC_K = (MAGIC_NUMBER - 65)/2\n",
    "MAGIC_K"
   ]
  },
  {
   "cell_type": "code",
   "execution_count": null,
   "id": "850a2381",
   "metadata": {},
   "outputs": [],
   "source": [
    "res = grandResult(MAGIC_K)\n",
    "int(res)"
   ]
  },
  {
   "cell_type": "code",
   "execution_count": 46,
   "id": "2c7debc6",
   "metadata": {},
   "outputs": [
    {
     "name": "stdout",
     "output_type": "stream",
     "text": [
      "0 3867\n",
      "1 94909\n",
      "2 307031\n",
      "3 640233\n",
      "4 1094515\n"
     ]
    }
   ],
   "source": [
    "for i in range(0,5):\n",
    "    print(i,grandResult(i))"
   ]
  },
  {
   "cell_type": "code",
   "execution_count": 48,
   "id": "0823ce26",
   "metadata": {},
   "outputs": [],
   "source": [
    "M=26501365"
   ]
  },
  {
   "cell_type": "code",
   "execution_count": 50,
   "id": "739e1450",
   "metadata": {},
   "outputs": [
    {
     "data": {
      "text/plain": [
       "101150.0"
      ]
     },
     "execution_count": 50,
     "metadata": {},
     "output_type": "execute_result"
    }
   ],
   "source": [
    "(M//131)/2"
   ]
  },
  {
   "cell_type": "code",
   "execution_count": 51,
   "id": "eabf268e",
   "metadata": {},
   "outputs": [],
   "source": [
    "N=101150"
   ]
  },
  {
   "cell_type": "code",
   "execution_count": 54,
   "id": "4fa95d96",
   "metadata": {},
   "outputs": [
    {
     "data": {
      "text/plain": [
       "619407349431167"
      ]
     },
     "execution_count": 54,
     "metadata": {},
     "output_type": "execute_result"
    }
   ],
   "source": [
    "res = grandResult(N)\n",
    "res"
   ]
  },
  {
   "cell_type": "code",
   "execution_count": 55,
   "id": "98cdbcbb",
   "metadata": {},
   "outputs": [
    {
     "data": {
      "text/plain": [
       "True"
      ]
     },
     "execution_count": 55,
     "metadata": {},
     "output_type": "execute_result"
    }
   ],
   "source": [
    "res < 10629596981249478656"
   ]
  },
  {
   "cell_type": "markdown",
   "id": "0a3027d1",
   "metadata": {},
   "source": [
    "10629596981249478656 is too high"
   ]
  },
  {
   "cell_type": "code",
   "execution_count": 57,
   "id": "04bbf0e9",
   "metadata": {},
   "outputs": [
    {
     "data": {
      "text/plain": [
       "2477623227158467"
      ]
     },
     "execution_count": 57,
     "metadata": {},
     "output_type": "execute_result"
    }
   ],
   "source": [
    "grandResult(2*N)"
   ]
  }
 ],
 "metadata": {
  "kernelspec": {
   "display_name": "Python 3 (ipykernel)",
   "language": "python",
   "name": "python3"
  },
  "language_info": {
   "codemirror_mode": {
    "name": "ipython",
    "version": 3
   },
   "file_extension": ".py",
   "mimetype": "text/x-python",
   "name": "python",
   "nbconvert_exporter": "python",
   "pygments_lexer": "ipython3",
   "version": "3.9.13"
  }
 },
 "nbformat": 4,
 "nbformat_minor": 5
}
