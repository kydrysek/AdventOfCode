{
 "cells": [
  {
   "cell_type": "code",
   "execution_count": 1,
   "id": "c0f9cf70",
   "metadata": {},
   "outputs": [],
   "source": [
    "odd2=7568\n",
    "odd1=7567"
   ]
  },
  {
   "cell_type": "code",
   "execution_count": 2,
   "id": "2e2a65ba",
   "metadata": {},
   "outputs": [],
   "source": [
    "k=1"
   ]
  },
  {
   "cell_type": "code",
   "execution_count": 3,
   "id": "dee6e635",
   "metadata": {},
   "outputs": [
    {
     "data": {
      "text/plain": [
       "30272"
      ]
     },
     "execution_count": 3,
     "metadata": {},
     "output_type": "execute_result"
    }
   ],
   "source": [
    "a=4*k*k*odd2\n",
    "a"
   ]
  },
  {
   "cell_type": "code",
   "execution_count": 5,
   "id": "7a304ca4",
   "metadata": {},
   "outputs": [
    {
     "data": {
      "text/plain": [
       "68103"
      ]
     },
     "execution_count": 5,
     "metadata": {},
     "output_type": "execute_result"
    }
   ],
   "source": [
    "b=(4*k*(k+1)+1)*odd1\n",
    "b"
   ]
  },
  {
   "cell_type": "code",
   "execution_count": 6,
   "id": "6699e32a",
   "metadata": {},
   "outputs": [
    {
     "data": {
      "text/plain": [
       "98375"
      ]
     },
     "execution_count": 6,
     "metadata": {},
     "output_type": "execute_result"
    }
   ],
   "source": [
    "a+bb"
   ]
  },
  {
   "cell_type": "code",
   "execution_count": 18,
   "id": "a31220d7",
   "metadata": {},
   "outputs": [
    {
     "data": {
      "text/plain": [
       "91042"
      ]
     },
     "execution_count": 18,
     "metadata": {},
     "output_type": "execute_result"
    }
   ],
   "source": [
    "94909-3867"
   ]
  },
  {
   "cell_type": "code",
   "execution_count": 8,
   "id": "3a689585",
   "metadata": {},
   "outputs": [
    {
     "data": {
      "text/plain": [
       "212122"
      ]
     },
     "execution_count": 8,
     "metadata": {},
     "output_type": "execute_result"
    }
   ],
   "source": [
    "307031-94909"
   ]
  },
  {
   "cell_type": "code",
   "execution_count": 9,
   "id": "cccebdaa",
   "metadata": {},
   "outputs": [
    {
     "data": {
      "text/plain": [
       "121080"
      ]
     },
     "execution_count": 9,
     "metadata": {},
     "output_type": "execute_result"
    }
   ],
   "source": [
    "212122-91042"
   ]
  },
  {
   "cell_type": "code",
   "execution_count": 10,
   "id": "d28d549e",
   "metadata": {},
   "outputs": [
    {
     "data": {
      "text/plain": [
       "-30038"
      ]
     },
     "execution_count": 10,
     "metadata": {},
     "output_type": "execute_result"
    }
   ],
   "source": [
    "91042-121080"
   ]
  },
  {
   "cell_type": "code",
   "execution_count": 20,
   "id": "59bf130f",
   "metadata": {},
   "outputs": [
    {
     "data": {
      "text/plain": [
       "151582.0"
      ]
     },
     "execution_count": 20,
     "metadata": {},
     "output_type": "execute_result"
    }
   ],
   "source": [
    "(307031-3867)/2"
   ]
  },
  {
   "cell_type": "code",
   "execution_count": 21,
   "id": "8d39cfea",
   "metadata": {},
   "outputs": [
    {
     "data": {
      "text/plain": [
       "60540.0"
      ]
     },
     "execution_count": 21,
     "metadata": {},
     "output_type": "execute_result"
    }
   ],
   "source": [
    "151582.0-91042"
   ]
  },
  {
   "cell_type": "code",
   "execution_count": 22,
   "id": "5b2957dd",
   "metadata": {},
   "outputs": [
    {
     "data": {
      "text/plain": [
       "30502"
      ]
     },
     "execution_count": 22,
     "metadata": {},
     "output_type": "execute_result"
    }
   ],
   "source": [
    "91042-60540"
   ]
  },
  {
   "cell_type": "code",
   "execution_count": 11,
   "id": "dec9fb58",
   "metadata": {},
   "outputs": [],
   "source": [
    "a=60540\n",
    "b=30502\n",
    "c=3867\n"
   ]
  },
  {
   "cell_type": "code",
   "execution_count": 17,
   "id": "999b4351",
   "metadata": {},
   "outputs": [
    {
     "data": {
      "text/plain": [
       "428111"
      ]
     },
     "execution_count": 17,
     "metadata": {},
     "output_type": "execute_result"
    }
   ],
   "source": [
    "k=2\n",
    "res = a*k*k+b*k+c\n",
    "res"
   ]
  }
 ],
 "metadata": {
  "kernelspec": {
   "display_name": "Python 3 (ipykernel)",
   "language": "python",
   "name": "python3"
  },
  "language_info": {
   "codemirror_mode": {
    "name": "ipython",
    "version": 3
   },
   "file_extension": ".py",
   "mimetype": "text/x-python",
   "name": "python",
   "nbconvert_exporter": "python",
   "pygments_lexer": "ipython3",
   "version": "3.9.13"
  }
 },
 "nbformat": 4,
 "nbformat_minor": 5
}
