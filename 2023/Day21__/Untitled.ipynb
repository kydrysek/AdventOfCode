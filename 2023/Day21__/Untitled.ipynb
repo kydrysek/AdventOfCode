{
 "cells": [
  {
   "cell_type": "code",
   "execution_count": 31,
   "id": "73c4a1f7",
   "metadata": {},
   "outputs": [],
   "source": [
    "import sys"
   ]
  },
  {
   "cell_type": "code",
   "execution_count": 32,
   "id": "fec31cde",
   "metadata": {},
   "outputs": [
    {
     "data": {
      "text/plain": [
       "9223372036854775807"
      ]
     },
     "execution_count": 32,
     "metadata": {},
     "output_type": "execute_result"
    }
   ],
   "source": [
    "sys.maxsize"
   ]
  },
  {
   "cell_type": "code",
   "execution_count": 1,
   "id": "b6af8fdf",
   "metadata": {},
   "outputs": [],
   "source": [
    "odd2=7568\n",
    "odd1=7567"
   ]
  },
  {
   "cell_type": "code",
   "execution_count": 2,
   "id": "cabebc17",
   "metadata": {},
   "outputs": [],
   "source": [
    "k=1"
   ]
  },
  {
   "cell_type": "code",
   "execution_count": 33,
   "id": "7730fc29",
   "metadata": {},
   "outputs": [
    {
     "data": {
      "text/plain": [
       "561"
      ]
     },
     "execution_count": 33,
     "metadata": {},
     "output_type": "execute_result"
    }
   ],
   "source": [
    "11*51"
   ]
  },
  {
   "cell_type": "code",
   "execution_count": 39,
   "id": "d7ef7ecf",
   "metadata": {},
   "outputs": [
    {
     "data": {
      "text/plain": [
       "13.0"
      ]
     },
     "execution_count": 39,
     "metadata": {},
     "output_type": "execute_result"
    }
   ],
   "source": [
    "(851*2+1)/131"
   ]
  },
  {
   "cell_type": "code",
   "execution_count": 41,
   "id": "50940fe5",
   "metadata": {},
   "outputs": [
    {
     "data": {
      "text/plain": [
       "2489"
      ]
     },
     "execution_count": 41,
     "metadata": {},
     "output_type": "execute_result"
    }
   ],
   "source": [
    "19*131"
   ]
  },
  {
   "cell_type": "code",
   "execution_count": 3,
   "id": "bde62787",
   "metadata": {},
   "outputs": [
    {
     "data": {
      "text/plain": [
       "30272"
      ]
     },
     "execution_count": 3,
     "metadata": {},
     "output_type": "execute_result"
    }
   ],
   "source": [
    "a=4*k*k*odd2\n",
    "a"
   ]
  },
  {
   "cell_type": "code",
   "execution_count": 5,
   "id": "d542686f",
   "metadata": {},
   "outputs": [
    {
     "data": {
      "text/plain": [
       "68103"
      ]
     },
     "execution_count": 5,
     "metadata": {},
     "output_type": "execute_result"
    }
   ],
   "source": [
    "b=(4*k*(k+1)+1)*odd1\n",
    "b"
   ]
  },
  {
   "cell_type": "code",
   "execution_count": 6,
   "id": "21beb93f",
   "metadata": {},
   "outputs": [
    {
     "data": {
      "text/plain": [
       "98375"
      ]
     },
     "execution_count": 6,
     "metadata": {},
     "output_type": "execute_result"
    }
   ],
   "source": [
    "a+bb"
   ]
  },
  {
   "cell_type": "code",
   "execution_count": 18,
   "id": "6389c7f3",
   "metadata": {},
   "outputs": [
    {
     "data": {
      "text/plain": [
       "91042"
      ]
     },
     "execution_count": 18,
     "metadata": {},
     "output_type": "execute_result"
    }
   ],
   "source": [
    "94909-3867"
   ]
  },
  {
   "cell_type": "code",
   "execution_count": 8,
   "id": "a378c862",
   "metadata": {},
   "outputs": [
    {
     "data": {
      "text/plain": [
       "212122"
      ]
     },
     "execution_count": 8,
     "metadata": {},
     "output_type": "execute_result"
    }
   ],
   "source": [
    "307031-94909"
   ]
  },
  {
   "cell_type": "code",
   "execution_count": 9,
   "id": "fd75d4ed",
   "metadata": {},
   "outputs": [
    {
     "data": {
      "text/plain": [
       "121080"
      ]
     },
     "execution_count": 9,
     "metadata": {},
     "output_type": "execute_result"
    }
   ],
   "source": [
    "212122-91042"
   ]
  },
  {
   "cell_type": "code",
   "execution_count": 10,
   "id": "a0c846d9",
   "metadata": {},
   "outputs": [
    {
     "data": {
      "text/plain": [
       "-30038"
      ]
     },
     "execution_count": 10,
     "metadata": {},
     "output_type": "execute_result"
    }
   ],
   "source": [
    "91042-121080"
   ]
  },
  {
   "cell_type": "code",
   "execution_count": 20,
   "id": "0b325fb3",
   "metadata": {},
   "outputs": [
    {
     "data": {
      "text/plain": [
       "151582.0"
      ]
     },
     "execution_count": 20,
     "metadata": {},
     "output_type": "execute_result"
    }
   ],
   "source": [
    "(307031-3867)/2"
   ]
  },
  {
   "cell_type": "code",
   "execution_count": 21,
   "id": "197aef53",
   "metadata": {},
   "outputs": [
    {
     "data": {
      "text/plain": [
       "60540.0"
      ]
     },
     "execution_count": 21,
     "metadata": {},
     "output_type": "execute_result"
    }
   ],
   "source": [
    "151582.0-91042"
   ]
  },
  {
   "cell_type": "code",
   "execution_count": 22,
   "id": "baab0027",
   "metadata": {},
   "outputs": [
    {
     "data": {
      "text/plain": [
       "30502"
      ]
     },
     "execution_count": 22,
     "metadata": {},
     "output_type": "execute_result"
    }
   ],
   "source": [
    "91042-60540"
   ]
  },
  {
   "cell_type": "code",
   "execution_count": 23,
   "id": "c9b0dbb3",
   "metadata": {},
   "outputs": [],
   "source": [
    "a=60540\n",
    "b=30502\n",
    "c=3867\n"
   ]
  },
  {
   "cell_type": "code",
   "execution_count": 28,
   "id": "c1556427",
   "metadata": {},
   "outputs": [
    {
     "data": {
      "text/plain": [
       "1094515"
      ]
     },
     "execution_count": 28,
     "metadata": {},
     "output_type": "execute_result"
    }
   ],
   "source": [
    "k=4\n",
    "res = a*k*k+b*k+c\n",
    "res"
   ]
  },
  {
   "cell_type": "code",
   "execution_count": null,
   "id": "fc0da46f",
   "metadata": {},
   "outputs": [],
   "source": [
    "def grandResult(k):\n",
    "    return a*k*k+b*k+c"
   ]
  },
  {
   "cell_type": "code",
   "execution_count": 30,
   "id": "2b837834",
   "metadata": {},
   "outputs": [
    {
     "data": {
      "text/plain": [
       "589"
      ]
     },
     "execution_count": 30,
     "metadata": {},
     "output_type": "execute_result"
    }
   ],
   "source": [
    "2*2*131+65"
   ]
  }
 ],
 "metadata": {
  "kernelspec": {
   "display_name": "Python 3 (ipykernel)",
   "language": "python",
   "name": "python3"
  },
  "language_info": {
   "codemirror_mode": {
    "name": "ipython",
    "version": 3
   },
   "file_extension": ".py",
   "mimetype": "text/x-python",
   "name": "python",
   "nbconvert_exporter": "python",
   "pygments_lexer": "ipython3",
   "version": "3.9.13"
  }
 },
 "nbformat": 4,
 "nbformat_minor": 5
}
