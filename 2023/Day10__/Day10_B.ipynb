{
 "cells": [
  {
   "cell_type": "code",
   "execution_count": 282,
   "id": "c3c454b9",
   "metadata": {},
   "outputs": [],
   "source": [
    "import numpy as np\n",
    "import pandas as pd\n",
    "import math"
   ]
  },
  {
   "cell_type": "code",
   "execution_count": 283,
   "id": "35f9d2cf",
   "metadata": {},
   "outputs": [],
   "source": [
    "dict_neighb = ({\"-\":((0,-1),(0,1)),\n",
    "               \"|\":((-1,0),(1,0)),\n",
    "               \"7\":((0,-1),(1,0)),\n",
    "               \"J\":((0,-1),(-1,0)),\n",
    "               \"L\":((-1,0),(0,1)),\n",
    "               \"F\":((0,1),(1,0)),\n",
    "                \".\":((-10000000000,-10000000000),(10000000000,10000000000))\n",
    "             })\n",
    "AROUND = [(-1,0),(1,0),(0,1),(0,-1)]"
   ]
  },
  {
   "cell_type": "code",
   "execution_count": 284,
   "id": "b495db2b",
   "metadata": {},
   "outputs": [],
   "source": [
    "def countChar(lines,sym):\n",
    "    counter =0\n",
    "\n",
    "    for line in lines:\n",
    "        counter+=line.count(sym)\n",
    "\n",
    "    return counter"
   ]
  },
  {
   "cell_type": "code",
   "execution_count": 285,
   "id": "20f381b3",
   "metadata": {},
   "outputs": [
    {
     "data": {
      "text/plain": [
       "(['7-F7-', '.FJ|7', 'SJLL7', '|F--J', 'LJ.LJ'], 2, 0)"
      ]
     },
     "execution_count": 285,
     "metadata": {},
     "output_type": "execute_result"
    }
   ],
   "source": [
    "def parseFile(fileName):   \n",
    "    with open(fileName) as file:\n",
    "        lines =  file.readlines()\n",
    "    \n",
    "    x = -1\n",
    "    y = -1\n",
    "    \n",
    "    for i, line in enumerate(lines):\n",
    "        lines[i] = (line[:-1] if line[-1]==\"\\n\" else line)\n",
    "        if lines[i].find(\"S\")> - 1:\n",
    "            x = i\n",
    "            y = lines[i].find(\"S\")\n",
    "    \n",
    "    return lines,x,y\n",
    "    \n",
    "    \n",
    "parseFile(\"test.txt\")"
   ]
  },
  {
   "cell_type": "code",
   "execution_count": 286,
   "id": "3d6d9ddb",
   "metadata": {},
   "outputs": [],
   "source": [
    "def findStartingPoint(lines):\n",
    "    shape_X = len(lines)\n",
    "    shape_Y = len(lines[0])\n",
    "\n",
    "    #1. Find tiles next to it suitable\n",
    "    for x,y in [(-1,0),(1,0),(0,1),(0,-1)]:    \n",
    "        my_x = x_st + x \n",
    "        my_y = y_st + y\n",
    "        if my_x >=0 and  my_x < shape_X and my_y >=0 and  my_y < shape_Y:  \n",
    "            #print(x,y,lines[my_x][my_y],dict_neighb[lines[my_x][my_y]])\n",
    "            ((l_x,l_y),(r_x,r_y)) = dict_neighb[lines[my_x][my_y]]\n",
    "            if (l_x,l_y) == (-x,-y) or (r_x,r_y) == (-x,-y):\n",
    "                return (my_x,my_y,lines[my_x][my_y])\n",
    "    return None"
   ]
  },
  {
   "cell_type": "code",
   "execution_count": 287,
   "id": "31149a0f",
   "metadata": {},
   "outputs": [],
   "source": [
    "def nextStep(lines,x_cur,y_cur,x_prev,y_prev):\n",
    "    offset_prev_x = x_cur-x_prev\n",
    "    offset_prev_y = y_cur-y_prev\n",
    "    \n",
    "    #print(x_cur,y_cur,x_prev,y_prev)\n",
    "    \n",
    "    ((l_x,l_y),(r_x,r_y)) = dict_neighb[lines[x_cur][y_cur]]\n",
    "    if (l_x,l_y) == (-offset_prev_x,-offset_prev_y):\n",
    "        #print(\"A\")\n",
    "        (x_next,y_next) = (x_cur + r_x,y_cur + r_y)\n",
    "    elif (r_x,r_y) == (-offset_prev_x,-offset_prev_y):\n",
    "        #print(\"B\",r_x,r_y,l_x,l_y)\n",
    "        (x_next,y_next) = (x_cur + l_x,y_cur + l_y)\n",
    "    else:\n",
    "        print (\"OUPS\")\n",
    "        return None\n",
    "    \n",
    "    return (x_next,y_next,lines[x_next][y_next])"
   ]
  },
  {
   "cell_type": "code",
   "execution_count": 288,
   "id": "b3c60a34",
   "metadata": {},
   "outputs": [],
   "source": [
    "def replaceChar(lines,x,y,newSym):\n",
    "    \n",
    "    n_st = lines[x]\n",
    "    lines[x]=n_st[:y]+newSym+n_st[y+1:]\n",
    "    return lines\n"
   ]
  },
  {
   "cell_type": "code",
   "execution_count": 289,
   "id": "e7345935",
   "metadata": {},
   "outputs": [],
   "source": [
    "def saveFile(lines,filename):\n",
    "    with open(filename,\"w\") as file:\n",
    "        for l in my_lines2:\n",
    "            file.write(l+\"\\n\")\n",
    "    return filename"
   ]
  },
  {
   "cell_type": "code",
   "execution_count": 290,
   "id": "a96a52b9",
   "metadata": {},
   "outputs": [
    {
     "name": "stdout",
     "output_type": "stream",
     "text": [
      "Answer:  22\n"
     ]
    },
    {
     "data": {
      "text/plain": [
       "'out.txt'"
      ]
     },
     "execution_count": 290,
     "metadata": {},
     "output_type": "execute_result"
    }
   ],
   "source": [
    "my_lines,x_st,y_st = parseFile(\"test7.txt\")\n",
    "\n",
    "\n",
    "shape_X = len(my_lines)\n",
    "shape_Y = len(my_lines[0])\n",
    "\n",
    "TILES_IN_MAP = [(x,y) for x in range(0,shape_X) for y in range(0,shape_Y)]\n",
    "\n",
    "\n",
    "my_lines2 = [\".\"*shape_Y]*shape_X\n",
    "my_lines2 = replaceChar(my_lines2,x_st,y_st,\"S\")\n",
    "\n",
    "\n",
    "x_cur = x_st\n",
    "y_cur = y_st\n",
    "\n",
    "x_next,y_next,sym_next = findStartingPoint(my_lines)\n",
    "#print((x_cur,y_cur,x_next,y_next,sym_next))\n",
    "counter = 0\n",
    "while sym_next != \"S\":    \n",
    "    my_lines2 = replaceChar(my_lines2,x_next,y_next,sym_next)\n",
    "    x_t, y_t, sym_t = nextStep(my_lines,x_next,y_next,x_cur,y_cur)\n",
    "    (x_cur,y_cur,x_next,y_next,sym_next) = (x_next,y_next,x_t,y_t,sym_t)\n",
    "    #print((x_cur,y_cur,x_next,y_next,sym_next))\n",
    "    counter += 1\n",
    "#print(counter)\n",
    "print(\"Answer: \",math.ceil(counter/2))    \n",
    "\n",
    "#print(my_lines2)\n",
    "\n",
    "saveFile(my_lines2,\"out.txt\")\n",
    "\n",
    "    "
   ]
  },
  {
   "cell_type": "code",
   "execution_count": 291,
   "id": "216b0a10",
   "metadata": {},
   "outputs": [
    {
     "name": "stdout",
     "output_type": "stream",
     "text": [
      "12\n"
     ]
    }
   ],
   "source": [
    "for l_num,line in enumerate(my_lines2):\n",
    "    i = 0\n",
    "    while i < shape_Y and line[i]==\".\":\n",
    "        my_lines2=replaceChar(my_lines2,l_num,i,\"*\")\n",
    "        i+=1\n",
    "    \n",
    "    i = shape_Y-1\n",
    "    while i >=0 and line[i]==\".\":        \n",
    "        my_lines2=replaceChar(my_lines2,l_num,i,\"*\")\n",
    "        i-=1\n",
    "\n",
    "#print(my_lines2)\n",
    "\n",
    "\n",
    "for y in range(0,shape_Y):\n",
    "    i = 0\n",
    "    while i < shape_X and my_lines2[i][y] in [\".\",\"*\"]:\n",
    "        my_lines2=replaceChar(my_lines2,i,y,\"*\")\n",
    "        i+=1\n",
    "        #print(i,shape_X)\n",
    "    \n",
    "    i = shape_X-1\n",
    "    while i >=0 and my_lines2[i][y] in  [\".\",\"*\"]:        \n",
    "        my_lines2=replaceChar(my_lines2,i,y,\"*\")\n",
    "        i-=1\n",
    "\n",
    "print(countChar(my_lines2,'.'))\n"
   ]
  },
  {
   "cell_type": "code",
   "execution_count": 292,
   "id": "a75aabb8",
   "metadata": {},
   "outputs": [
    {
     "name": "stdout",
     "output_type": "stream",
     "text": [
      "12\n"
     ]
    },
    {
     "data": {
      "text/plain": [
       "'out2.txt'"
      ]
     },
     "execution_count": 292,
     "metadata": {},
     "output_type": "execute_result"
    }
   ],
   "source": [
    "changed = True\n",
    "while changed:\n",
    "    changed = False\n",
    "\n",
    "    for x,line in enumerate(my_lines2):\n",
    "        for y in range(0,shape_Y):\n",
    "            if line[y] == \".\":\n",
    "                for (i,j) in AROUND:\n",
    "                    if not (x+i,y+j) in TILES_IN_MAP:\n",
    "                        my_lines2=replaceChar(my_lines2,x,y,\"*\")\n",
    "                        changed=True\n",
    "                    elif  my_lines2[x+i][y+j]=='*':\n",
    "                        my_lines2=replaceChar(my_lines2,x,y,\"*\")\n",
    "                        changed=True\n",
    "\n",
    "print(countChar(my_lines2,'.'))\n",
    "saveFile(my_lines2,\"out2.txt\")"
   ]
  },
  {
   "cell_type": "code",
   "execution_count": 293,
   "id": "34f383ae",
   "metadata": {},
   "outputs": [
    {
     "data": {
      "text/plain": [
       "True"
      ]
     },
     "execution_count": 293,
     "metadata": {},
     "output_type": "execute_result"
    }
   ],
   "source": [
    "\".\" in [\".\",\"*\"]"
   ]
  },
  {
   "cell_type": "code",
   "execution_count": 294,
   "id": "d0418d77",
   "metadata": {},
   "outputs": [
    {
     "name": "stdout",
     "output_type": "stream",
     "text": [
      "hop\n"
     ]
    }
   ],
   "source": [
    "with open(\"out2.txt\",\"w\") as file:\n",
    "    for l in my_lines2:\n",
    "        file.write(l+\"\\n\")\n",
    "print(\"hop\")"
   ]
  },
  {
   "cell_type": "code",
   "execution_count": 295,
   "id": "856ff7be",
   "metadata": {},
   "outputs": [],
   "source": [
    "DIRECT = ({(-1,0):((\"L\",\"left\"),(\"J\",\"right\")),\n",
    "           (1,0):((\"F\",\"left\"),(\"7\",\"right\")),\n",
    "           (0,-1):((\"J\",\"down\"),(\"7\",\"up\")),\n",
    "           (0,1):((\"L\",\"down\"),(\"F\",\"up\"))\n",
    "          })\n",
    "\n",
    "HINT = {\"up\":(0,-1)}"
   ]
  },
  {
   "cell_type": "code",
   "execution_count": 300,
   "id": "77018b00",
   "metadata": {},
   "outputs": [
    {
     "data": {
      "text/plain": [
       "(1, 0, 5, 4, '7', 'right')"
      ]
     },
     "execution_count": 300,
     "metadata": {},
     "output_type": "execute_result"
    }
   ],
   "source": [
    "def inspectAndFind(lines):\n",
    "    changed = False\n",
    "    for x,line in enumerate(lines):\n",
    "        for y in range(0,shape_Y):\n",
    "            if line[y] == \".\":\n",
    "                for (i,j) in AROUND:\n",
    "                    hint=\"\"\n",
    "                    if (x+i,y+j) in TILES_IN_MAP:\n",
    "                        sym = lines[x+i][y+j]\n",
    "                        (sym1,hint1),(sym2,hint2)= DIRECT[(i,j)]\n",
    "                        \n",
    "                        if sym1 == sym:\n",
    "                            hint=hint1\n",
    "                            changed = True\n",
    "                        elif sym2 == sym:\n",
    "                            hint=hint2                         \n",
    "                            changed = True\n",
    "                        \n",
    "                        if changed:\n",
    "                            return (i,j,x+i,y+j,sym,hint)\n",
    "    return None\n",
    "\n",
    "inspectAndFind(my_lines2)"
   ]
  },
  {
   "cell_type": "code",
   "execution_count": 299,
   "id": "029b22b6",
   "metadata": {},
   "outputs": [
    {
     "name": "stdout",
     "output_type": "stream",
     "text": [
      "MATCH x=4, y=4, other_x=5, other_y=4, sym=7, hint=right\n"
     ]
    }
   ],
   "source": [
    "changed = True\n",
    "counter = 0\n",
    "counter2 =0\n",
    "while changed & counter < 1 :\n",
    "    changed = False\n",
    "\n",
    "    for x,line in enumerate(my_lines2):\n",
    "        for y in range(0,shape_Y):\n",
    "            if line[y] == \".\":\n",
    "                for (i,j) in AROUND:\n",
    "                    hint=\"\"\n",
    "                    if (x+i,y+j) in TILES_IN_MAP:\n",
    "                        sym = my_lines2[x+i][y+j]\n",
    "                        (sym1,hint1),(sym2,hint2)= DIRECT[(i,j)]\n",
    "                        if sym1 == sym:\n",
    "                            hint=hint1\n",
    "                            changed = True\n",
    "                        elif sym2 == sym:\n",
    "                            hint=hint2                         \n",
    "                            changed = True\n",
    "                        if len(hint) > 0: \n",
    "                            print(\"MATCH x={}, y={}, other_x={}, other_y={}, sym={}, hint={}\".format(x,y,x+i,y+j,sym,hint))\n",
    "                    if changed: break\n",
    "        if changed: break                \n",
    "    counter+=1\n",
    "#print(countChar(my_lines2,'.'))\n",
    "#saveFile(my_lines2,\"out3.txt\")"
   ]
  },
  {
   "cell_type": "markdown",
   "id": "83ba2167",
   "metadata": {},
   "source": [
    "558"
   ]
  }
 ],
 "metadata": {
  "kernelspec": {
   "display_name": "Python 3 (ipykernel)",
   "language": "python",
   "name": "python3"
  },
  "language_info": {
   "codemirror_mode": {
    "name": "ipython",
    "version": 3
   },
   "file_extension": ".py",
   "mimetype": "text/x-python",
   "name": "python",
   "nbconvert_exporter": "python",
   "pygments_lexer": "ipython3",
   "version": "3.11.5"
  }
 },
 "nbformat": 4,
 "nbformat_minor": 5
}
