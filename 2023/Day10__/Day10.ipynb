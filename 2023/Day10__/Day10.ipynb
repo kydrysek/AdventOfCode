{
 "cells": [
  {
   "cell_type": "code",
   "execution_count": 1,
   "id": "c3c454b9",
   "metadata": {},
   "outputs": [],
   "source": [
    "import numpy as np\n",
    "import pandas as pd\n",
    "import math"
   ]
  },
  {
   "cell_type": "code",
   "execution_count": 2,
   "id": "35f9d2cf",
   "metadata": {},
   "outputs": [],
   "source": [
    "dict_neighb = ({\"-\":((0,-1),(0,1)),\n",
    "               \"|\":((-1,0),(1,0)),\n",
    "               \"7\":((0,-1),(1,0)),\n",
    "               \"J\":((0,-1),(-1,0)),\n",
    "               \"L\":((-1,0),(0,1)),\n",
    "               \"F\":((0,1),(1,0)),\n",
    "                \".\":((-10000000000,-10000000000),(10000000000,10000000000))\n",
    "             })\n",
    "around = [()]"
   ]
  },
  {
   "cell_type": "code",
   "execution_count": 3,
   "id": "20f381b3",
   "metadata": {},
   "outputs": [
    {
     "data": {
      "text/plain": [
       "(['7-F7-', '.FJ|7', 'SJLL7', '|F--J', 'LJ.LJ'], 2, 0)"
      ]
     },
     "execution_count": 3,
     "metadata": {},
     "output_type": "execute_result"
    }
   ],
   "source": [
    "def parseFile(fileName):   \n",
    "    with open(fileName) as file:\n",
    "        lines =  file.readlines()\n",
    "    \n",
    "    x = -1\n",
    "    y = -1\n",
    "    \n",
    "    for i, line in enumerate(lines):\n",
    "        lines[i] = (line[:-1] if line[-1]==\"\\n\" else line)\n",
    "        if lines[i].find(\"S\")> - 1:\n",
    "            x = i\n",
    "            y = lines[i].find(\"S\")\n",
    "    \n",
    "    return lines,x,y\n",
    "    \n",
    "    \n",
    "parseFile(\"test.txt\")"
   ]
  },
  {
   "cell_type": "code",
   "execution_count": 4,
   "id": "3d6d9ddb",
   "metadata": {},
   "outputs": [],
   "source": [
    "def findStartingPoint(lines):\n",
    "    shape_X = len(lines)\n",
    "    shape_Y = len(lines[0])\n",
    "\n",
    "    #1. Find tiles next to it suitable\n",
    "    for x,y in [(-1,0),(1,0),(0,1),(0,-1)]:    \n",
    "        my_x = x_st + x \n",
    "        my_y = y_st + y\n",
    "        if my_x >=0 and  my_x < shape_X and my_y >=0 and  my_y < shape_Y:  \n",
    "            #print(x,y,lines[my_x][my_y],dict_neighb[lines[my_x][my_y]])\n",
    "            ((l_x,l_y),(r_x,r_y)) = dict_neighb[lines[my_x][my_y]]\n",
    "            if (l_x,l_y) == (-x,-y) or (r_x,r_y) == (-x,-y):\n",
    "                return (my_x,my_y,lines[my_x][my_y])\n",
    "    return None"
   ]
  },
  {
   "cell_type": "code",
   "execution_count": 5,
   "id": "31149a0f",
   "metadata": {},
   "outputs": [],
   "source": [
    "def nextStep(lines,x_cur,y_cur,x_prev,y_prev):\n",
    "    offset_prev_x = x_cur-x_prev\n",
    "    offset_prev_y = y_cur-y_prev\n",
    "    \n",
    "    #print(x_cur,y_cur,x_prev,y_prev)\n",
    "    \n",
    "    ((l_x,l_y),(r_x,r_y)) = dict_neighb[lines[x_cur][y_cur]]\n",
    "    if (l_x,l_y) == (-offset_prev_x,-offset_prev_y):\n",
    "        #print(\"A\")\n",
    "        (x_next,y_next) = (x_cur + r_x,y_cur + r_y)\n",
    "    elif (r_x,r_y) == (-offset_prev_x,-offset_prev_y):\n",
    "        #print(\"B\",r_x,r_y,l_x,l_y)\n",
    "        (x_next,y_next) = (x_cur + l_x,y_cur + l_y)\n",
    "    else:\n",
    "        print (\"OUPS\")\n",
    "        return None\n",
    "    \n",
    "    return (x_next,y_next,lines[x_next][y_next])"
   ]
  },
  {
   "cell_type": "code",
   "execution_count": 6,
   "id": "a96a52b9",
   "metadata": {},
   "outputs": [
    {
     "name": "stdout",
     "output_type": "stream",
     "text": [
      "2 1\n",
      "     0    1    2    3    4\n",
      "0  0.0  0.0  0.0  0.0  0.0\n",
      "1  0.0  0.0  0.0  0.0  0.0\n",
      "2  0.0  0.0  0.0  0.0  0.0\n",
      "3  0.0  0.0  0.0  0.0  0.0\n",
      "4  0.0  0.0  0.0  0.0  0.0\n",
      "3 1\n"
     ]
    },
    {
     "ename": "ValueError",
     "evalue": "Length of values (6) does not match length of index (7)",
     "output_type": "error",
     "traceback": [
      "\u001b[1;31m---------------------------------------------------------------------------\u001b[0m",
      "\u001b[1;31mValueError\u001b[0m                                Traceback (most recent call last)",
      "Cell \u001b[1;32mIn[6], line 18\u001b[0m\n\u001b[0;32m     16\u001b[0m \u001b[38;5;28;01mwhile\u001b[39;00m sym_next \u001b[38;5;241m!=\u001b[39m \u001b[38;5;124m\"\u001b[39m\u001b[38;5;124mS\u001b[39m\u001b[38;5;124m\"\u001b[39m:\n\u001b[0;32m     17\u001b[0m     \u001b[38;5;28mprint\u001b[39m(x_next,y_next)\n\u001b[1;32m---> 18\u001b[0m     \u001b[38;5;28mprint\u001b[39m(df_matr)\n\u001b[0;32m     19\u001b[0m     df_matr[x_next,y_next]\u001b[38;5;241m=\u001b[39m\u001b[38;5;124m\"\u001b[39m\u001b[38;5;124m1\u001b[39m\u001b[38;5;124m\"\u001b[39m\n\u001b[0;32m     21\u001b[0m     x_t, y_t, sym_t \u001b[38;5;241m=\u001b[39m nextStep(my_lines,x_next,y_next,x_cur,y_cur)\n",
      "File \u001b[1;32m~\\anaconda3_1\\Lib\\site-packages\\pandas\\core\\frame.py:1094\u001b[0m, in \u001b[0;36mDataFrame.__repr__\u001b[1;34m(self)\u001b[0m\n\u001b[0;32m   1091\u001b[0m     \u001b[38;5;28;01mreturn\u001b[39;00m buf\u001b[38;5;241m.\u001b[39mgetvalue()\n\u001b[0;32m   1093\u001b[0m repr_params \u001b[38;5;241m=\u001b[39m fmt\u001b[38;5;241m.\u001b[39mget_dataframe_repr_params()\n\u001b[1;32m-> 1094\u001b[0m \u001b[38;5;28;01mreturn\u001b[39;00m \u001b[38;5;28mself\u001b[39m\u001b[38;5;241m.\u001b[39mto_string(\u001b[38;5;241m*\u001b[39m\u001b[38;5;241m*\u001b[39mrepr_params)\n",
      "File \u001b[1;32m~\\anaconda3_1\\Lib\\site-packages\\pandas\\core\\frame.py:1271\u001b[0m, in \u001b[0;36mDataFrame.to_string\u001b[1;34m(self, buf, columns, col_space, header, index, na_rep, formatters, float_format, sparsify, index_names, justify, max_rows, max_cols, show_dimensions, decimal, line_width, min_rows, max_colwidth, encoding)\u001b[0m\n\u001b[0;32m   1252\u001b[0m \u001b[38;5;28;01mwith\u001b[39;00m option_context(\u001b[38;5;124m\"\u001b[39m\u001b[38;5;124mdisplay.max_colwidth\u001b[39m\u001b[38;5;124m\"\u001b[39m, max_colwidth):\n\u001b[0;32m   1253\u001b[0m     formatter \u001b[38;5;241m=\u001b[39m fmt\u001b[38;5;241m.\u001b[39mDataFrameFormatter(\n\u001b[0;32m   1254\u001b[0m         \u001b[38;5;28mself\u001b[39m,\n\u001b[0;32m   1255\u001b[0m         columns\u001b[38;5;241m=\u001b[39mcolumns,\n\u001b[1;32m   (...)\u001b[0m\n\u001b[0;32m   1269\u001b[0m         decimal\u001b[38;5;241m=\u001b[39mdecimal,\n\u001b[0;32m   1270\u001b[0m     )\n\u001b[1;32m-> 1271\u001b[0m     \u001b[38;5;28;01mreturn\u001b[39;00m fmt\u001b[38;5;241m.\u001b[39mDataFrameRenderer(formatter)\u001b[38;5;241m.\u001b[39mto_string(\n\u001b[0;32m   1272\u001b[0m         buf\u001b[38;5;241m=\u001b[39mbuf,\n\u001b[0;32m   1273\u001b[0m         encoding\u001b[38;5;241m=\u001b[39mencoding,\n\u001b[0;32m   1274\u001b[0m         line_width\u001b[38;5;241m=\u001b[39mline_width,\n\u001b[0;32m   1275\u001b[0m     )\n",
      "File \u001b[1;32m~\\anaconda3_1\\Lib\\site-packages\\pandas\\io\\formats\\format.py:1134\u001b[0m, in \u001b[0;36mDataFrameRenderer.to_string\u001b[1;34m(self, buf, encoding, line_width)\u001b[0m\n\u001b[0;32m   1131\u001b[0m \u001b[38;5;28;01mfrom\u001b[39;00m \u001b[38;5;21;01mpandas\u001b[39;00m\u001b[38;5;21;01m.\u001b[39;00m\u001b[38;5;21;01mio\u001b[39;00m\u001b[38;5;21;01m.\u001b[39;00m\u001b[38;5;21;01mformats\u001b[39;00m\u001b[38;5;21;01m.\u001b[39;00m\u001b[38;5;21;01mstring\u001b[39;00m \u001b[38;5;28;01mimport\u001b[39;00m StringFormatter\n\u001b[0;32m   1133\u001b[0m string_formatter \u001b[38;5;241m=\u001b[39m StringFormatter(\u001b[38;5;28mself\u001b[39m\u001b[38;5;241m.\u001b[39mfmt, line_width\u001b[38;5;241m=\u001b[39mline_width)\n\u001b[1;32m-> 1134\u001b[0m string \u001b[38;5;241m=\u001b[39m string_formatter\u001b[38;5;241m.\u001b[39mto_string()\n\u001b[0;32m   1135\u001b[0m \u001b[38;5;28;01mreturn\u001b[39;00m save_to_buffer(string, buf\u001b[38;5;241m=\u001b[39mbuf, encoding\u001b[38;5;241m=\u001b[39mencoding)\n",
      "File \u001b[1;32m~\\anaconda3_1\\Lib\\site-packages\\pandas\\io\\formats\\string.py:30\u001b[0m, in \u001b[0;36mStringFormatter.to_string\u001b[1;34m(self)\u001b[0m\n\u001b[0;32m     29\u001b[0m \u001b[38;5;28;01mdef\u001b[39;00m \u001b[38;5;21mto_string\u001b[39m(\u001b[38;5;28mself\u001b[39m) \u001b[38;5;241m-\u001b[39m\u001b[38;5;241m>\u001b[39m \u001b[38;5;28mstr\u001b[39m:\n\u001b[1;32m---> 30\u001b[0m     text \u001b[38;5;241m=\u001b[39m \u001b[38;5;28mself\u001b[39m\u001b[38;5;241m.\u001b[39m_get_string_representation()\n\u001b[0;32m     31\u001b[0m     \u001b[38;5;28;01mif\u001b[39;00m \u001b[38;5;28mself\u001b[39m\u001b[38;5;241m.\u001b[39mfmt\u001b[38;5;241m.\u001b[39mshould_show_dimensions:\n\u001b[0;32m     32\u001b[0m         text \u001b[38;5;241m=\u001b[39m \u001b[38;5;124m\"\u001b[39m\u001b[38;5;124m\"\u001b[39m\u001b[38;5;241m.\u001b[39mjoin([text, \u001b[38;5;28mself\u001b[39m\u001b[38;5;241m.\u001b[39mfmt\u001b[38;5;241m.\u001b[39mdimensions_info])\n",
      "File \u001b[1;32m~\\anaconda3_1\\Lib\\site-packages\\pandas\\io\\formats\\string.py:45\u001b[0m, in \u001b[0;36mStringFormatter._get_string_representation\u001b[1;34m(self)\u001b[0m\n\u001b[0;32m     42\u001b[0m \u001b[38;5;28;01mif\u001b[39;00m \u001b[38;5;28mself\u001b[39m\u001b[38;5;241m.\u001b[39mfmt\u001b[38;5;241m.\u001b[39mframe\u001b[38;5;241m.\u001b[39mempty:\n\u001b[0;32m     43\u001b[0m     \u001b[38;5;28;01mreturn\u001b[39;00m \u001b[38;5;28mself\u001b[39m\u001b[38;5;241m.\u001b[39m_empty_info_line\n\u001b[1;32m---> 45\u001b[0m strcols \u001b[38;5;241m=\u001b[39m \u001b[38;5;28mself\u001b[39m\u001b[38;5;241m.\u001b[39m_get_strcols()\n\u001b[0;32m     47\u001b[0m \u001b[38;5;28;01mif\u001b[39;00m \u001b[38;5;28mself\u001b[39m\u001b[38;5;241m.\u001b[39mline_width \u001b[38;5;129;01mis\u001b[39;00m \u001b[38;5;28;01mNone\u001b[39;00m:\n\u001b[0;32m     48\u001b[0m     \u001b[38;5;66;03m# no need to wrap around just print the whole frame\u001b[39;00m\n\u001b[0;32m     49\u001b[0m     \u001b[38;5;28;01mreturn\u001b[39;00m \u001b[38;5;28mself\u001b[39m\u001b[38;5;241m.\u001b[39madj\u001b[38;5;241m.\u001b[39madjoin(\u001b[38;5;241m1\u001b[39m, \u001b[38;5;241m*\u001b[39mstrcols)\n",
      "File \u001b[1;32m~\\anaconda3_1\\Lib\\site-packages\\pandas\\io\\formats\\string.py:36\u001b[0m, in \u001b[0;36mStringFormatter._get_strcols\u001b[1;34m(self)\u001b[0m\n\u001b[0;32m     35\u001b[0m \u001b[38;5;28;01mdef\u001b[39;00m \u001b[38;5;21m_get_strcols\u001b[39m(\u001b[38;5;28mself\u001b[39m) \u001b[38;5;241m-\u001b[39m\u001b[38;5;241m>\u001b[39m \u001b[38;5;28mlist\u001b[39m[\u001b[38;5;28mlist\u001b[39m[\u001b[38;5;28mstr\u001b[39m]]:\n\u001b[1;32m---> 36\u001b[0m     strcols \u001b[38;5;241m=\u001b[39m \u001b[38;5;28mself\u001b[39m\u001b[38;5;241m.\u001b[39mfmt\u001b[38;5;241m.\u001b[39mget_strcols()\n\u001b[0;32m     37\u001b[0m     \u001b[38;5;28;01mif\u001b[39;00m \u001b[38;5;28mself\u001b[39m\u001b[38;5;241m.\u001b[39mfmt\u001b[38;5;241m.\u001b[39mis_truncated:\n\u001b[0;32m     38\u001b[0m         strcols \u001b[38;5;241m=\u001b[39m \u001b[38;5;28mself\u001b[39m\u001b[38;5;241m.\u001b[39m_insert_dot_separators(strcols)\n",
      "File \u001b[1;32m~\\anaconda3_1\\Lib\\site-packages\\pandas\\io\\formats\\format.py:615\u001b[0m, in \u001b[0;36mDataFrameFormatter.get_strcols\u001b[1;34m(self)\u001b[0m\n\u001b[0;32m    611\u001b[0m \u001b[38;5;28;01mdef\u001b[39;00m \u001b[38;5;21mget_strcols\u001b[39m(\u001b[38;5;28mself\u001b[39m) \u001b[38;5;241m-\u001b[39m\u001b[38;5;241m>\u001b[39m \u001b[38;5;28mlist\u001b[39m[\u001b[38;5;28mlist\u001b[39m[\u001b[38;5;28mstr\u001b[39m]]:\n\u001b[0;32m    612\u001b[0m \u001b[38;5;250m    \u001b[39m\u001b[38;5;124;03m\"\"\"\u001b[39;00m\n\u001b[0;32m    613\u001b[0m \u001b[38;5;124;03m    Render a DataFrame to a list of columns (as lists of strings).\u001b[39;00m\n\u001b[0;32m    614\u001b[0m \u001b[38;5;124;03m    \"\"\"\u001b[39;00m\n\u001b[1;32m--> 615\u001b[0m     strcols \u001b[38;5;241m=\u001b[39m \u001b[38;5;28mself\u001b[39m\u001b[38;5;241m.\u001b[39m_get_strcols_without_index()\n\u001b[0;32m    617\u001b[0m     \u001b[38;5;28;01mif\u001b[39;00m \u001b[38;5;28mself\u001b[39m\u001b[38;5;241m.\u001b[39mindex:\n\u001b[0;32m    618\u001b[0m         str_index \u001b[38;5;241m=\u001b[39m \u001b[38;5;28mself\u001b[39m\u001b[38;5;241m.\u001b[39m_get_formatted_index(\u001b[38;5;28mself\u001b[39m\u001b[38;5;241m.\u001b[39mtr_frame)\n",
      "File \u001b[1;32m~\\anaconda3_1\\Lib\\site-packages\\pandas\\io\\formats\\format.py:870\u001b[0m, in \u001b[0;36mDataFrameFormatter._get_strcols_without_index\u001b[1;34m(self)\u001b[0m\n\u001b[0;32m    868\u001b[0m     str_columns \u001b[38;5;241m=\u001b[39m [[label] \u001b[38;5;28;01mfor\u001b[39;00m label \u001b[38;5;129;01min\u001b[39;00m \u001b[38;5;28mself\u001b[39m\u001b[38;5;241m.\u001b[39mheader]\n\u001b[0;32m    869\u001b[0m \u001b[38;5;28;01melse\u001b[39;00m:\n\u001b[1;32m--> 870\u001b[0m     str_columns \u001b[38;5;241m=\u001b[39m \u001b[38;5;28mself\u001b[39m\u001b[38;5;241m.\u001b[39m_get_formatted_column_labels(\u001b[38;5;28mself\u001b[39m\u001b[38;5;241m.\u001b[39mtr_frame)\n\u001b[0;32m    872\u001b[0m \u001b[38;5;28;01mif\u001b[39;00m \u001b[38;5;28mself\u001b[39m\u001b[38;5;241m.\u001b[39mshow_row_idx_names:\n\u001b[0;32m    873\u001b[0m     \u001b[38;5;28;01mfor\u001b[39;00m x \u001b[38;5;129;01min\u001b[39;00m str_columns:\n",
      "File \u001b[1;32m~\\anaconda3_1\\Lib\\site-packages\\pandas\\io\\formats\\format.py:949\u001b[0m, in \u001b[0;36mDataFrameFormatter._get_formatted_column_labels\u001b[1;34m(self, frame)\u001b[0m\n\u001b[0;32m    947\u001b[0m \u001b[38;5;28;01melse\u001b[39;00m:\n\u001b[0;32m    948\u001b[0m     fmt_columns \u001b[38;5;241m=\u001b[39m columns\u001b[38;5;241m.\u001b[39mformat()\n\u001b[1;32m--> 949\u001b[0m     dtypes \u001b[38;5;241m=\u001b[39m \u001b[38;5;28mself\u001b[39m\u001b[38;5;241m.\u001b[39mframe\u001b[38;5;241m.\u001b[39mdtypes\n\u001b[0;32m    950\u001b[0m     need_leadsp \u001b[38;5;241m=\u001b[39m \u001b[38;5;28mdict\u001b[39m(\u001b[38;5;28mzip\u001b[39m(fmt_columns, \u001b[38;5;28mmap\u001b[39m(is_numeric_dtype, dtypes)))\n\u001b[0;32m    951\u001b[0m     str_columns \u001b[38;5;241m=\u001b[39m [\n\u001b[0;32m    952\u001b[0m         [\u001b[38;5;124m\"\u001b[39m\u001b[38;5;124m \u001b[39m\u001b[38;5;124m\"\u001b[39m \u001b[38;5;241m+\u001b[39m x \u001b[38;5;28;01mif\u001b[39;00m \u001b[38;5;129;01mnot\u001b[39;00m \u001b[38;5;28mself\u001b[39m\u001b[38;5;241m.\u001b[39m_get_formatter(i) \u001b[38;5;129;01mand\u001b[39;00m need_leadsp[x] \u001b[38;5;28;01melse\u001b[39;00m x]\n\u001b[0;32m    953\u001b[0m         \u001b[38;5;28;01mfor\u001b[39;00m i, x \u001b[38;5;129;01min\u001b[39;00m \u001b[38;5;28menumerate\u001b[39m(fmt_columns)\n\u001b[0;32m    954\u001b[0m     ]\n",
      "File \u001b[1;32m~\\anaconda3_1\\Lib\\site-packages\\pandas\\core\\generic.py:6159\u001b[0m, in \u001b[0;36mNDFrame.dtypes\u001b[1;34m(self)\u001b[0m\n\u001b[0;32m   6132\u001b[0m \u001b[38;5;250m\u001b[39m\u001b[38;5;124;03m\"\"\"\u001b[39;00m\n\u001b[0;32m   6133\u001b[0m \u001b[38;5;124;03mReturn the dtypes in the DataFrame.\u001b[39;00m\n\u001b[0;32m   6134\u001b[0m \n\u001b[1;32m   (...)\u001b[0m\n\u001b[0;32m   6156\u001b[0m \u001b[38;5;124;03mdtype: object\u001b[39;00m\n\u001b[0;32m   6157\u001b[0m \u001b[38;5;124;03m\"\"\"\u001b[39;00m\n\u001b[0;32m   6158\u001b[0m data \u001b[38;5;241m=\u001b[39m \u001b[38;5;28mself\u001b[39m\u001b[38;5;241m.\u001b[39m_mgr\u001b[38;5;241m.\u001b[39mget_dtypes()\n\u001b[1;32m-> 6159\u001b[0m \u001b[38;5;28;01mreturn\u001b[39;00m \u001b[38;5;28mself\u001b[39m\u001b[38;5;241m.\u001b[39m_constructor_sliced(data, index\u001b[38;5;241m=\u001b[39m\u001b[38;5;28mself\u001b[39m\u001b[38;5;241m.\u001b[39m_info_axis, dtype\u001b[38;5;241m=\u001b[39mnp\u001b[38;5;241m.\u001b[39mobject_)\n",
      "File \u001b[1;32m~\\anaconda3_1\\Lib\\site-packages\\pandas\\core\\series.py:500\u001b[0m, in \u001b[0;36mSeries.__init__\u001b[1;34m(self, data, index, dtype, name, copy, fastpath)\u001b[0m\n\u001b[0;32m    498\u001b[0m     index \u001b[38;5;241m=\u001b[39m default_index(\u001b[38;5;28mlen\u001b[39m(data))\n\u001b[0;32m    499\u001b[0m \u001b[38;5;28;01melif\u001b[39;00m is_list_like(data):\n\u001b[1;32m--> 500\u001b[0m     com\u001b[38;5;241m.\u001b[39mrequire_length_match(data, index)\n\u001b[0;32m    502\u001b[0m \u001b[38;5;66;03m# create/copy the manager\u001b[39;00m\n\u001b[0;32m    503\u001b[0m \u001b[38;5;28;01mif\u001b[39;00m \u001b[38;5;28misinstance\u001b[39m(data, (SingleBlockManager, SingleArrayManager)):\n",
      "File \u001b[1;32m~\\anaconda3_1\\Lib\\site-packages\\pandas\\core\\common.py:576\u001b[0m, in \u001b[0;36mrequire_length_match\u001b[1;34m(data, index)\u001b[0m\n\u001b[0;32m    572\u001b[0m \u001b[38;5;250m\u001b[39m\u001b[38;5;124;03m\"\"\"\u001b[39;00m\n\u001b[0;32m    573\u001b[0m \u001b[38;5;124;03mCheck the length of data matches the length of the index.\u001b[39;00m\n\u001b[0;32m    574\u001b[0m \u001b[38;5;124;03m\"\"\"\u001b[39;00m\n\u001b[0;32m    575\u001b[0m \u001b[38;5;28;01mif\u001b[39;00m \u001b[38;5;28mlen\u001b[39m(data) \u001b[38;5;241m!=\u001b[39m \u001b[38;5;28mlen\u001b[39m(index):\n\u001b[1;32m--> 576\u001b[0m     \u001b[38;5;28;01mraise\u001b[39;00m \u001b[38;5;167;01mValueError\u001b[39;00m(\n\u001b[0;32m    577\u001b[0m         \u001b[38;5;124m\"\u001b[39m\u001b[38;5;124mLength of values \u001b[39m\u001b[38;5;124m\"\u001b[39m\n\u001b[0;32m    578\u001b[0m         \u001b[38;5;124mf\u001b[39m\u001b[38;5;124m\"\u001b[39m\u001b[38;5;124m(\u001b[39m\u001b[38;5;132;01m{\u001b[39;00m\u001b[38;5;28mlen\u001b[39m(data)\u001b[38;5;132;01m}\u001b[39;00m\u001b[38;5;124m) \u001b[39m\u001b[38;5;124m\"\u001b[39m\n\u001b[0;32m    579\u001b[0m         \u001b[38;5;124m\"\u001b[39m\u001b[38;5;124mdoes not match length of index \u001b[39m\u001b[38;5;124m\"\u001b[39m\n\u001b[0;32m    580\u001b[0m         \u001b[38;5;124mf\u001b[39m\u001b[38;5;124m\"\u001b[39m\u001b[38;5;124m(\u001b[39m\u001b[38;5;132;01m{\u001b[39;00m\u001b[38;5;28mlen\u001b[39m(index)\u001b[38;5;132;01m}\u001b[39;00m\u001b[38;5;124m)\u001b[39m\u001b[38;5;124m\"\u001b[39m\n\u001b[0;32m    581\u001b[0m     )\n",
      "\u001b[1;31mValueError\u001b[0m: Length of values (6) does not match length of index (7)"
     ]
    }
   ],
   "source": [
    "my_lines,x_st,y_st = parseFile(\"test3.txt\")\n",
    "\n",
    "shape_X = len(my_lines)\n",
    "shape_Y = len(my_lines[0])\n",
    "\n",
    "x_cur = x_st\n",
    "y_cur = y_st\n",
    "\n",
    "df_matr = pd.DataFrame(np.reshape(np.zeros(shape_X*shape_Y),(shape_X,shape_Y)),copy = True)\n",
    "\n",
    "\n",
    "\n",
    "x_next,y_next,sym_next = findStartingPoint(my_lines)\n",
    "#print((x_cur,y_cur,x_next,y_next,sym_next))\n",
    "counter = 0\n",
    "while sym_next != \"S\":\n",
    "    print(x_next,y_next)\n",
    "    print(df_matr)\n",
    "    df_matr[x_next,y_next]=\"1\"\n",
    "    \n",
    "    x_t, y_t, sym_t = nextStep(my_lines,x_next,y_next,x_cur,y_cur)\n",
    "    (x_cur,y_cur,x_next,y_next,sym_next) = (x_next,y_next,x_t,y_t,sym_t)\n",
    "    #print((x_cur,y_cur,x_next,y_next,sym_next))\n",
    "    counter += 1\n",
    "#print(counter)\n",
    "print(\"Answer: \",math.ceil(counter/2))    \n",
    "\n",
    "#print(df_matr.shape)\n",
    "print(df_matr)"
   ]
  }
 ],
 "metadata": {
  "kernelspec": {
   "display_name": "Python 3 (ipykernel)",
   "language": "python",
   "name": "python3"
  },
  "language_info": {
   "codemirror_mode": {
    "name": "ipython",
    "version": 3
   },
   "file_extension": ".py",
   "mimetype": "text/x-python",
   "name": "python",
   "nbconvert_exporter": "python",
   "pygments_lexer": "ipython3",
   "version": "3.11.5"
  }
 },
 "nbformat": 4,
 "nbformat_minor": 5
}
