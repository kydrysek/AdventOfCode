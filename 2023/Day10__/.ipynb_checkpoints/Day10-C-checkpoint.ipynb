{
 "cells": [
  {
   "cell_type": "code",
   "execution_count": null,
   "id": "c3c454b9",
   "metadata": {},
   "outputs": [],
   "source": [
    "import numpy as np\n",
    "import pandas as pd\n",
    "import math"
   ]
  },
  {
   "cell_type": "code",
   "execution_count": null,
   "id": "35f9d2cf",
   "metadata": {},
   "outputs": [],
   "source": [
    "dict_neighb = ({\"-\":((0,-1),(0,1)),\n",
    "               \"|\":((-1,0),(1,0)),\n",
    "               \"7\":((0,-1),(1,0)),\n",
    "               \"J\":((0,-1),(-1,0)),\n",
    "               \"L\":((-1,0),(0,1)),\n",
    "               \"F\":((0,1),(1,0)),\n",
    "                \".\":((-10000000000,-10000000000),(10000000000,10000000000))\n",
    "             })\n",
    "AROUND = [(-1,0),(1,0),(0,1),(0,-1)]"
   ]
  },
  {
   "cell_type": "code",
   "execution_count": null,
   "id": "b495db2b",
   "metadata": {},
   "outputs": [],
   "source": [
    "def countChar(lines,sym):\n",
    "    counter =0\n",
    "\n",
    "    for line in lines:\n",
    "        counter+=line.count(sym)\n",
    "\n",
    "    return counter"
   ]
  },
  {
   "cell_type": "code",
   "execution_count": null,
   "id": "20f381b3",
   "metadata": {},
   "outputs": [],
   "source": [
    "def parseFile(fileName):   \n",
    "    with open(fileName) as file:\n",
    "        lines =  file.readlines()\n",
    "    \n",
    "    x = -1\n",
    "    y = -1\n",
    "    \n",
    "    for i, line in enumerate(lines):\n",
    "        lines[i] = (line[:-1] if line[-1]==\"\\n\" else line)\n",
    "        if lines[i].find(\"S\")> - 1:\n",
    "            x = i\n",
    "            y = lines[i].find(\"S\")\n",
    "    \n",
    "    return lines,x,y\n",
    "    \n",
    "    \n",
    "parseFile(\"test.txt\")"
   ]
  },
  {
   "cell_type": "code",
   "execution_count": null,
   "id": "3d6d9ddb",
   "metadata": {},
   "outputs": [],
   "source": [
    "def findStartingPoint(lines):\n",
    "    shape_X = len(lines)\n",
    "    shape_Y = len(lines[0])\n",
    "\n",
    "    #1. Find tiles next to it suitable\n",
    "    for x,y in [(-1,0),(1,0),(0,1),(0,-1)]:    \n",
    "        my_x = x_st + x \n",
    "        my_y = y_st + y\n",
    "        if my_x >=0 and  my_x < shape_X and my_y >=0 and  my_y < shape_Y:  \n",
    "            #print(x,y,lines[my_x][my_y],dict_neighb[lines[my_x][my_y]])\n",
    "            ((l_x,l_y),(r_x,r_y)) = dict_neighb[lines[my_x][my_y]]\n",
    "            if (l_x,l_y) == (-x,-y) or (r_x,r_y) == (-x,-y):\n",
    "                return (my_x,my_y,lines[my_x][my_y])\n",
    "    return None"
   ]
  },
  {
   "cell_type": "code",
   "execution_count": null,
   "id": "31149a0f",
   "metadata": {},
   "outputs": [],
   "source": [
    "def nextStep(lines,x_cur,y_cur,x_prev,y_prev):\n",
    "    offset_prev_x = x_cur-x_prev\n",
    "    offset_prev_y = y_cur-y_prev\n",
    "    \n",
    "    #print(x_cur,y_cur,x_prev,y_prev)\n",
    "    \n",
    "    ((l_x,l_y),(r_x,r_y)) = dict_neighb[lines[x_cur][y_cur]]\n",
    "    if (l_x,l_y) == (-offset_prev_x,-offset_prev_y):\n",
    "        #print(\"A\")\n",
    "        (x_next,y_next) = (x_cur + r_x,y_cur + r_y)\n",
    "    elif (r_x,r_y) == (-offset_prev_x,-offset_prev_y):\n",
    "        #print(\"B\",r_x,r_y,l_x,l_y)\n",
    "        (x_next,y_next) = (x_cur + l_x,y_cur + l_y)\n",
    "    else:\n",
    "        print (\"OUPS\")\n",
    "        return None\n",
    "    \n",
    "    return (x_next,y_next,lines[x_next][y_next])"
   ]
  },
  {
   "cell_type": "code",
   "execution_count": null,
   "id": "b3c60a34",
   "metadata": {},
   "outputs": [],
   "source": [
    "def replaceChar(lines,x,y,newSym):\n",
    "    \n",
    "    n_st = lines[x]\n",
    "    lines[x]=n_st[:y]+newSym+n_st[y+1:]\n",
    "    return lines\n"
   ]
  },
  {
   "cell_type": "code",
   "execution_count": null,
   "id": "e7345935",
   "metadata": {},
   "outputs": [],
   "source": [
    "def saveFile(lines,filename):\n",
    "    with open(filename,\"w\") as file:\n",
    "        for l in my_lines2:\n",
    "            file.write(l+\"\\n\")\n",
    "    return filename"
   ]
  },
  {
   "cell_type": "markdown",
   "id": "9f7cc89f",
   "metadata": {},
   "source": [
    "### Find path"
   ]
  },
  {
   "cell_type": "code",
   "execution_count": null,
   "id": "a96a52b9",
   "metadata": {},
   "outputs": [],
   "source": [
    "#my_lines,x_st,y_st = parseFile(\"testA3_4.txt\")\n",
    "#my_lines,x_st,y_st = parseFile(\"test2.txt\")\n",
    "my_lines,x_st,y_st = parseFile(\"input.txt\")\n",
    "\n",
    "\n",
    "shape_X = len(my_lines)\n",
    "shape_Y = len(my_lines[0])\n",
    "\n",
    "TILES_IN_MAP = [(x,y) for x in range(0,shape_X) for y in range(0,shape_Y)]\n",
    "\n",
    "\n",
    "my_lines2 = [\".\"*shape_Y]*shape_X\n",
    "my_lines2 = replaceChar(my_lines2,x_st,y_st,\"S\")\n",
    "\n",
    "\n",
    "x_cur = x_st\n",
    "y_cur = y_st\n",
    "\n",
    "path = [(x_st,y_st)]\n",
    "\n",
    "\n",
    "\n",
    "x_next,y_next,sym_next = findStartingPoint(my_lines)\n",
    "#print((x_cur,y_cur,x_next,y_next,sym_next))\n",
    "counter = 0\n",
    "while not (x_next,y_next)==(x_st,y_st):    \n",
    "    my_lines2 = replaceChar(my_lines2,x_next,y_next,sym_next)\n",
    "    path.append((x_next,y_next))\n",
    "    x_t, y_t, sym_t = nextStep(my_lines,x_next,y_next,x_cur,y_cur)\n",
    "    (x_cur,y_cur,x_next,y_next,sym_next) = (x_next,y_next,x_t,y_t,sym_t)\n",
    "    #print((x_cur,y_cur,x_next,y_next,sym_next))\n",
    "    counter += 1\n",
    "#print(counter)\n",
    "print(\"Answer: \",math.ceil(counter/2))    \n",
    "print(path)\n",
    "#print(my_lines2)\n",
    "\n",
    "saveFile(my_lines2,\"out.txt\")\n",
    "\n",
    "#path2 = path.append(path[0])\n",
    "    "
   ]
  },
  {
   "cell_type": "code",
   "execution_count": null,
   "id": "ed57327b",
   "metadata": {},
   "outputs": [],
   "source": [
    "from shapely import Polygon\n",
    "polygon = Polygon(path)\n",
    "print(polygon.area)\n",
    "print(len(path))"
   ]
  },
  {
   "cell_type": "markdown",
   "id": "0d50dc64",
   "metadata": {},
   "source": [
    "### Clear the rest of the board"
   ]
  },
  {
   "cell_type": "raw",
   "id": "6c8e6de8",
   "metadata": {},
   "source": [
    "for x in range(0,shape_X):\n",
    "    for y in range(0,shape_Y):\n",
    "        if (x,y) not in path:\n",
    "            print (x,y)\n",
    "# Actually the other method also works, don't need to clear the board this way"
   ]
  },
  {
   "cell_type": "markdown",
   "id": "cb62dee0",
   "metadata": {},
   "source": [
    "### Fix the S"
   ]
  },
  {
   "cell_type": "code",
   "execution_count": null,
   "id": "e77e8d11",
   "metadata": {},
   "outputs": [],
   "source": [
    "temp_l = [path[1]]+[path[-1]]\n",
    "temp_l.sort()\n",
    "print(temp_l)\n",
    "\n",
    "REPL = {((0,1),(1,0)):\"F\",\n",
    "        ((-1,0),(1,0)):\"|\",\n",
    "        ((0,-1),(0,1)):\"-\",\n",
    "        ((-1,0),(0,1)):\"L\",\n",
    "        ((-1,0),(0,-1)):\"J\",\n",
    "        ((0,-1),(1,0)):\"7\"}\n",
    "\n",
    "(x_first,y_first),(x_last,y_last) = temp_l\n",
    "\n",
    "off_x_1, off_y_1 = (x_first-x_st,y_first-y_st)\n",
    "off_x_2, off_y_2 = (x_last-x_st,y_last-y_st)\n",
    "\n",
    "sym = REPL[((off_x_1, off_y_1 ),(off_x_2, off_y_2 ))]\n",
    "\n",
    "my_lines2 = replaceChar(my_lines2,x_st,y_st,sym)"
   ]
  },
  {
   "cell_type": "markdown",
   "id": "141f274d",
   "metadata": {},
   "source": [
    "### New starting point"
   ]
  },
  {
   "cell_type": "code",
   "execution_count": null,
   "id": "4854afd2",
   "metadata": {},
   "outputs": [],
   "source": [
    "path_copy = path.copy()\n",
    "path_copy.sort()\n",
    "x_newst,y_newst = path_copy[0]\n",
    "print(x_newst,y_newst)"
   ]
  },
  {
   "cell_type": "code",
   "execution_count": null,
   "id": "c5f13183",
   "metadata": {},
   "outputs": [],
   "source": [
    "print(countChar(my_lines2,'.'))\n",
    "saveFile(my_lines2,\"out2.txt\")"
   ]
  },
  {
   "cell_type": "markdown",
   "id": "31e8318e",
   "metadata": {},
   "source": [
    "### Redo path to start at the starting point"
   ]
  },
  {
   "cell_type": "code",
   "execution_count": null,
   "id": "33244642",
   "metadata": {},
   "outputs": [],
   "source": [
    "i = path.index((x_newst,y_newst))\n",
    "path_copy = path[i:]+path[:i]\n",
    "#path_copy"
   ]
  },
  {
   "cell_type": "code",
   "execution_count": null,
   "id": "baffdfc5",
   "metadata": {},
   "outputs": [],
   "source": [
    "def getFieldValue(lines,coord_tupple):\n",
    "    x,y=coord_tupple\n",
    "    return lines[x][y]"
   ]
  },
  {
   "cell_type": "code",
   "execution_count": null,
   "id": "77ee2bb8",
   "metadata": {},
   "outputs": [],
   "source": [
    "print(path_copy[0])\n",
    "\n",
    "print(getFieldValue(my_lines2, path_copy[0]))"
   ]
  },
  {
   "cell_type": "code",
   "execution_count": null,
   "id": "8d287d16",
   "metadata": {},
   "outputs": [],
   "source": [
    "print(path_copy[1])\n",
    "print(getFieldValue(my_lines2,path_copy[1]))"
   ]
  },
  {
   "cell_type": "markdown",
   "id": "57f8d4ec",
   "metadata": {},
   "source": [
    "### Direction changes"
   ]
  },
  {
   "cell_type": "code",
   "execution_count": null,
   "id": "e63e4702",
   "metadata": {},
   "outputs": [],
   "source": [
    "DIRCHANGE = {\"L\":{\"l\":\"d\",\"r\":\"u\",\"d\":\"l\",\"u\":\"r\"},\n",
    "            \"-\":{\"u\":\"u\",\"d\":\"d\"},\n",
    "            \"F\":{\"l\":\"u\",\"r\":\"d\",\"u\":\"l\",\"d\":\"r\"},\n",
    "            \"7\":{\"l\":\"d\",\"r\":\"u\",\"d\":\"l\",\"u\":\"r\"},\n",
    "            \"|\":{\"l\":\"l\",\"r\":\"r\"},\n",
    "            \"J\":{\"l\":\"u\",\"r\":\"d\",\"u\":\"l\",\"d\":\"r\"},\n",
    "            }"
   ]
  },
  {
   "cell_type": "code",
   "execution_count": null,
   "id": "2a182281",
   "metadata": {},
   "outputs": [],
   "source": [
    "#select current direction\n",
    "x1,y1 = path[1]\n",
    "x0,y0=path[0]\n",
    "\n",
    "if x1-x0 > 0:\n",
    "    dir_cur = \"l\"\n",
    "else:\n",
    "    dir_cur = \"u\"\n",
    "\n",
    "dir_cur"
   ]
  },
  {
   "cell_type": "code",
   "execution_count": null,
   "id": "fe7c3c00",
   "metadata": {},
   "outputs": [],
   "source": [
    "DIR = {\"u\":(-1,0),\"d\":(1,0),\"l\":(0,-1),\"r\":(0,1)}"
   ]
  },
  {
   "cell_type": "code",
   "execution_count": null,
   "id": "841402b6",
   "metadata": {},
   "outputs": [],
   "source": [
    "def cleanUpRow(lines,coord_point,coord_step):\n",
    "    x,y = coord_point\n",
    "    x_inc,y_inc=coord_step\n",
    "    #print(\"<<<\",x,y,coord_step)\n",
    "    \n",
    "    x += x_inc\n",
    "    y += y_inc\n",
    "    \n",
    "    while x >= 0 and x < shape_X and y >=0 and y < shape_Y:\n",
    "        \n",
    "        sym = getFieldValue(lines,(x,y))\n",
    "        #print(\":::\",x,y,sym)\n",
    "        if sym == \".\":\n",
    "            lines = replaceChar(lines,x,y,'*')\n",
    "        elif sym == \"*\":\n",
    "            pass\n",
    "        else:\n",
    "            break\n",
    "        x += x_inc\n",
    "        y+= y_inc\n",
    "            \n",
    "    return lines"
   ]
  },
  {
   "cell_type": "code",
   "execution_count": null,
   "id": "c12f8486",
   "metadata": {},
   "outputs": [],
   "source": [
    "for el in path_copy:\n",
    "    chng = DIRCHANGE[getFieldValue(my_lines2, el)]    \n",
    "    dir_new = chng[dir_cur]\n",
    "    \n",
    "    \n",
    "    my_lines2= cleanUpRow(my_lines2,el,DIR[dir_cur])\n",
    "    if dir_new != dir_cur:\n",
    "        my_lines2= cleanUpRow(my_lines2,el,DIR[dir_new])\n",
    "    \n",
    "\n",
    "    dir_cur = dir_new\n",
    "    "
   ]
  },
  {
   "cell_type": "code",
   "execution_count": null,
   "id": "0fad2628",
   "metadata": {},
   "outputs": [],
   "source": [
    "print(countChar(my_lines2,'.'))\n",
    "saveFile(my_lines2,\"out3.txt\")"
   ]
  },
  {
   "cell_type": "code",
   "execution_count": null,
   "id": "4b98232f",
   "metadata": {},
   "outputs": [],
   "source": []
  },
  {
   "cell_type": "code",
   "execution_count": null,
   "id": "55c57d84",
   "metadata": {},
   "outputs": [],
   "source": []
  },
  {
   "cell_type": "markdown",
   "id": "83ba2167",
   "metadata": {},
   "source": [
    "558"
   ]
  }
 ],
 "metadata": {
  "kernelspec": {
   "display_name": "Python 3 (ipykernel)",
   "language": "python",
   "name": "python3"
  },
  "language_info": {
   "codemirror_mode": {
    "name": "ipython",
    "version": 3
   },
   "file_extension": ".py",
   "mimetype": "text/x-python",
   "name": "python",
   "nbconvert_exporter": "python",
   "pygments_lexer": "ipython3",
   "version": "3.11.5"
  }
 },
 "nbformat": 4,
 "nbformat_minor": 5
}
