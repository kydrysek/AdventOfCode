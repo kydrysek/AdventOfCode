{
 "cells": [
  {
   "cell_type": "code",
   "execution_count": 1,
   "id": "c3c454b9",
   "metadata": {},
   "outputs": [],
   "source": [
    "import numpy as np\n",
    "\n",
    "#FILENAME=\"test.txt\"\n",
    "FILENAME=\"input.txt\"\n",
    "DIAG = False"
   ]
  },
  {
   "cell_type": "markdown",
   "id": "32f18ab9",
   "metadata": {},
   "source": [
    "# Helpers and file parsing"
   ]
  },
  {
   "cell_type": "code",
   "execution_count": 2,
   "id": "62c1be67",
   "metadata": {},
   "outputs": [],
   "source": [
    "def checkAllZeros(numList):    \n",
    "    x = set(numList)\n",
    "    return len(x)==1 and numList[0]==0\n",
    "    "
   ]
  },
  {
   "cell_type": "code",
   "execution_count": 3,
   "id": "20f381b3",
   "metadata": {},
   "outputs": [],
   "source": [
    "def parseFile(fileName):   \n",
    "    with open(fileName) as file:\n",
    "        return file.readlines()\n"
   ]
  },
  {
   "cell_type": "markdown",
   "id": "3aa67324",
   "metadata": {},
   "source": [
    "# Parsing each line"
   ]
  },
  {
   "cell_type": "code",
   "execution_count": 4,
   "id": "67f2f8f6",
   "metadata": {},
   "outputs": [],
   "source": [
    "def parseLine_partA(strLine):\n",
    "    if strLine[-1] == \"\\n\":\n",
    "        strLine = strLine[:-1]\n",
    "    \n",
    "    lineNums = strLine.split()\n",
    "    lineArr = np.array(lineNums).astype(\"int\")\n",
    "    lastVals = []\n",
    "    \n",
    "    \n",
    "    while len(lineArr)>1 and not checkAllZeros(lineArr):\n",
    "        lastVals.append(lineArr[-1])\n",
    "        lineArr = lineArr[1:]-lineArr[:-1]\n",
    "        \n",
    "    return sum(lastVals)"
   ]
  },
  {
   "cell_type": "code",
   "execution_count": 5,
   "id": "04bfbdb3",
   "metadata": {},
   "outputs": [],
   "source": [
    "def parseLine_partB(strLine):\n",
    "    if strLine[-1] == \"\\n\":\n",
    "        strLine = strLine[:-1]\n",
    "    \n",
    "    lineNums = strLine.split()\n",
    "    lineArr = np.array(lineNums).astype(\"int\")\n",
    "    lastVals = []\n",
    "    \n",
    "    \n",
    "    while len(lineArr)>1 and not checkAllZeros(lineArr):\n",
    "        lastVals.append(lineArr[0])\n",
    "        lineArr = lineArr[1:]-lineArr[:-1]\n",
    "    #print(lastVals)\n",
    "    \n",
    "    res = sum(lastVals[::2]) - sum(lastVals[1::2])\n",
    "    \n",
    "    return res"
   ]
  },
  {
   "cell_type": "markdown",
   "id": "2f64d82b",
   "metadata": {},
   "source": [
    "# Combining lines using function as input parameter"
   ]
  },
  {
   "cell_type": "code",
   "execution_count": 6,
   "id": "07ccf8fe",
   "metadata": {},
   "outputs": [],
   "source": [
    "def combineLineResults(lines,parseToApply):\n",
    "    res = 0\n",
    "    for line in lines:\n",
    "        x = parseToApply(line)\n",
    "        res+=x\n",
    "        if DIAG: print(x)\n",
    "    return res"
   ]
  },
  {
   "cell_type": "code",
   "execution_count": 7,
   "id": "5367c693",
   "metadata": {},
   "outputs": [
    {
     "name": "stdout",
     "output_type": "stream",
     "text": [
      "Result part A:  1762065988\n",
      "Result part B:  1066\n"
     ]
    }
   ],
   "source": [
    "lines = parseFile(\"input.txt\")\n",
    "\n",
    "resA = combineLineResults(lines,parseLine_partA)\n",
    "resB = combineLineResults(lines,parseLine_partB)\n",
    "\n",
    "print(\"Result part A: \",resA)\n",
    "print(\"Result part B: \",resB)"
   ]
  },
  {
   "cell_type": "raw",
   "id": "2746029f",
   "metadata": {},
   "source": [
    "# works only on input file\n",
    "assert resA == 1762065988\n",
    "assert resB == 1066"
   ]
  },
  {
   "cell_type": "markdown",
   "id": "36a34e6e",
   "metadata": {},
   "source": [
    "# Trying out vectorised operations"
   ]
  },
  {
   "cell_type": "code",
   "execution_count": 8,
   "id": "742a54a5",
   "metadata": {},
   "outputs": [
    {
     "data": {
      "text/plain": [
       "array([3, 3, 3, 3, 3])"
      ]
     },
     "execution_count": 8,
     "metadata": {},
     "output_type": "execute_result"
    }
   ],
   "source": [
    "x = ['0', '3', '6', '9', '12', '15']\n",
    "a = np.array(x[1:]).astype(\"int\")\n",
    "b = np.array(x[:-1]).astype(\"int\")\n",
    "c = np.array(x).astype(\"int\")\n",
    "c[1:]-c[:-1]\n"
   ]
  }
 ],
 "metadata": {
  "kernelspec": {
   "display_name": "Python 3 (ipykernel)",
   "language": "python",
   "name": "python3"
  },
  "language_info": {
   "codemirror_mode": {
    "name": "ipython",
    "version": 3
   },
   "file_extension": ".py",
   "mimetype": "text/x-python",
   "name": "python",
   "nbconvert_exporter": "python",
   "pygments_lexer": "ipython3",
   "version": "3.9.13"
  }
 },
 "nbformat": 4,
 "nbformat_minor": 5
}
