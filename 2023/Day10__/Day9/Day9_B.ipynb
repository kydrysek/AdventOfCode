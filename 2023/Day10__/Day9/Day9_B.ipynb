{
 "cells": [
  {
   "cell_type": "code",
   "execution_count": 3,
   "id": "c3c454b9",
   "metadata": {},
   "outputs": [],
   "source": [
    "import numpy as np"
   ]
  },
  {
   "cell_type": "code",
   "execution_count": 4,
   "id": "62c1be67",
   "metadata": {},
   "outputs": [],
   "source": [
    "def checkAllZeros(numList):    \n",
    "    x = set(numList)\n",
    "    return len(x)==1 and numList[0]==0\n",
    "    "
   ]
  },
  {
   "cell_type": "code",
   "execution_count": 5,
   "id": "20f381b3",
   "metadata": {},
   "outputs": [],
   "source": [
    "def parseFile(fileName):   \n",
    "    with open(fileName) as file:\n",
    "        return file.readlines()\n"
   ]
  },
  {
   "cell_type": "code",
   "execution_count": null,
   "id": "15a12bb3",
   "metadata": {},
   "outputs": [],
   "source": []
  },
  {
   "cell_type": "code",
   "execution_count": 15,
   "id": "864367df",
   "metadata": {},
   "outputs": [],
   "source": [
    "def parseLine(strLine):\n",
    "    if strLine[-1] == \"\\n\":\n",
    "        strLine = strLine[:-1]\n",
    "    \n",
    "    lineNums = strLine.split()\n",
    "    lineArr = np.array(lineNums).astype(\"int\")\n",
    "    lastVals = []\n",
    "    \n",
    "    \n",
    "    while len(lineArr)>1 and not checkAllZeros(lineArr):\n",
    "        lastVals.append(lineArr[0])\n",
    "        lineArr = lineArr[1:]-lineArr[:-1]\n",
    "    #print(lastVals)\n",
    "    \n",
    "    res = sum(lastVals[::2]) - sum(lastVals[1::2])\n",
    "    \n",
    "    return res"
   ]
  },
  {
   "cell_type": "code",
   "execution_count": null,
   "id": "113d72c0",
   "metadata": {},
   "outputs": [],
   "source": [
    "def parseLine2(strLine):\n",
    "    if strLine[-1] == \"\\n\":\n",
    "        strLine = strLine[:-1]\n",
    "    \n",
    "    lineNums = strLine.split()\n",
    "    lineArr = np.array(lineNums).astype(\"int\")\n",
    "    lastVals = []\n",
    "    \n",
    "    \n",
    "    while len(lineArr)>1 and not checkAllZeros(lineArr):\n",
    "        lastVals.append(lineArr[0])\n",
    "        lineArr = lineArr[1:]-lineArr[:-1]\n",
    "    #print(lastVals)\n",
    "    \n",
    "    res = sum(lastVals[::2]) - sum(lastVals[1::2])\n",
    "    \n",
    "    return res"
   ]
  },
  {
   "cell_type": "code",
   "execution_count": 16,
   "id": "72bd9b9a",
   "metadata": {},
   "outputs": [
    {
     "name": "stdout",
     "output_type": "stream",
     "text": [
      "Out:  1066\n"
     ]
    }
   ],
   "source": [
    "lines = parseFile(\"input.txt\")\n",
    "res = 0\n",
    "for line in lines:\n",
    "    x = parseLine2(line)\n",
    "    res+=x\n",
    "    #print(x)\n",
    "\n",
    "print(\"Out: \",res)"
   ]
  },
  {
   "cell_type": "code",
   "execution_count": 34,
   "id": "6fb759ca",
   "metadata": {},
   "outputs": [
    {
     "data": {
      "text/plain": [
       "array([3, 3, 3, 3, 3])"
      ]
     },
     "execution_count": 34,
     "metadata": {},
     "output_type": "execute_result"
    }
   ],
   "source": [
    "x = ['0', '3', '6', '9', '12', '15']\n",
    "a = np.array(x[1:]).astype(\"int\")\n",
    "b = np.array(x[:-1]).astype(\"int\")\n",
    "c = np.array(x).astype(\"int\")\n",
    "c[1:]-c[:-1]\n"
   ]
  },
  {
   "cell_type": "code",
   "execution_count": null,
   "id": "a96a52b9",
   "metadata": {},
   "outputs": [],
   "source": []
  },
  {
   "cell_type": "markdown",
   "id": "bbc1bcec",
   "metadata": {},
   "source": [
    "251346108 - too high\n",
    "251037509 - correct"
   ]
  }
 ],
 "metadata": {
  "kernelspec": {
   "display_name": "Python 3 (ipykernel)",
   "language": "python",
   "name": "python3"
  },
  "language_info": {
   "codemirror_mode": {
    "name": "ipython",
    "version": 3
   },
   "file_extension": ".py",
   "mimetype": "text/x-python",
   "name": "python",
   "nbconvert_exporter": "python",
   "pygments_lexer": "ipython3",
   "version": "3.9.13"
  }
 },
 "nbformat": 4,
 "nbformat_minor": 5
}
