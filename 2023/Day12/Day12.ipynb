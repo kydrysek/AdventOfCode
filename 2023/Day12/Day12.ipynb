{
 "cells": [
  {
   "cell_type": "code",
   "execution_count": 42,
   "id": "c3c454b9",
   "metadata": {},
   "outputs": [],
   "source": [
    "import numpy as np\n",
    "import pandas as pd\n",
    "import math\n",
    "import re"
   ]
  },
  {
   "cell_type": "code",
   "execution_count": 43,
   "id": "a4ccc9ad",
   "metadata": {},
   "outputs": [],
   "source": [
    "FILENAME=\"test.txt\"\n",
    "FILENAME=\"input.txt\"\n",
    "DIAG=False"
   ]
  },
  {
   "cell_type": "code",
   "execution_count": 44,
   "id": "20f381b3",
   "metadata": {},
   "outputs": [],
   "source": [
    "# OK\n",
    "def parseFile(fileName):   \n",
    "    with open(fileName) as file:\n",
    "        lines =  file.readlines()\n",
    "    \n",
    "    counts = []\n",
    "    for i, line in enumerate(lines):\n",
    "        lines[i] = (line[:-1] if line[-1]==\"\\n\" else line)\n",
    "        counts.append([int(x) for x in lines[i].split()[1].split(\",\")])\n",
    "        lines[i] = lines[i].split()[0]\n",
    "    \n",
    "    return (lines,counts)\n",
    "    \n",
    "    \n"
   ]
  },
  {
   "cell_type": "code",
   "execution_count": 45,
   "id": "c3d931ca",
   "metadata": {},
   "outputs": [],
   "source": [
    "# dirty trick to guarantee line starts with \".\". However caused problems when moving to partB, as this \n",
    "# needs to be done AFTER multiplying the line!\n",
    "def touchUpMap(lines):\n",
    "    lines2 = []\n",
    "    for line in lines:\n",
    "        lines2.append(\".\"+line)\n",
    "    return lines2"
   ]
  },
  {
   "cell_type": "code",
   "execution_count": 46,
   "id": "427cc3dd",
   "metadata": {},
   "outputs": [],
   "source": [
    "#OK\n",
    "STR_F = \"[\\?\\#]\"\n",
    "STR_B = \"[\\.\\?]\""
   ]
  },
  {
   "cell_type": "code",
   "execution_count": 47,
   "id": "3647f33a",
   "metadata": {},
   "outputs": [],
   "source": [
    "#OK\n",
    "def isStoppingCondition(rowLine,rowCount):\n",
    "    bStop = False\n",
    "    res = 0\n",
    "    \n",
    "    if len(rowCount) == 0:# must end with empty chars only\n",
    "        if re.fullmatch(STR_B+\"*\",rowLine) is None: \n",
    "            bStop = True\n",
    "            res = 0 \n",
    "        else:\n",
    "            bStop = True\n",
    "            res = 1\n",
    "    \n",
    "    if len(rowLine) == 0 and len(rowCount) > 0:\n",
    "        res =  0\n",
    "        bStop = True\n",
    "    if DIAG: print(\"STOPPING?\",rowLine, rowCount,bStop,res)\n",
    "    return (bStop,res)"
   ]
  },
  {
   "cell_type": "code",
   "execution_count": 48,
   "id": "4a1b88cb",
   "metadata": {},
   "outputs": [],
   "source": [
    "#OK\n",
    "def hasLiteralAfterBlanks(rowLine,litLen):\n",
    "    bFoundCorrect = False\n",
    "    lPosition = -1\n",
    "      \n",
    "    str_search = STR_F+\"{\"+str(litLen)+\"}\"            \n",
    "    re_res = re.search(str_search,rowLine[1:])\n",
    "    #print(rowLine,litLen,re_res)\n",
    "    # have we found literal at all?\n",
    "    if re_res is None: # CANNOT FIND THE GROUP\n",
    "        bFoundCorrect = False\n",
    "    else:\n",
    "        lPosition = re_res.start()+1 #first match\n",
    "        #is it preceeded by only \"blanks?\"\n",
    "        if re.fullmatch(STR_B+\"+\",rowLine[:lPosition]) is None: \n",
    "            bFoundCorrect = False\n",
    "        else:\n",
    "            bFoundCorrect = True\n",
    "        \n",
    "        \n",
    "    return (bFoundCorrect,lPosition)"
   ]
  },
  {
   "cell_type": "code",
   "execution_count": 49,
   "id": "5d3b09f4",
   "metadata": {},
   "outputs": [],
   "source": [
    "DICT_CACHE = {}"
   ]
  },
  {
   "cell_type": "code",
   "execution_count": 50,
   "id": "6a8ff8d3",
   "metadata": {},
   "outputs": [],
   "source": [
    "#OK\n",
    "def dealWithRow(rowLine,rowCount):\n",
    "    key = (rowLine[:],str(rowCount[:]))\n",
    "    if key in DICT_CACHE:         \n",
    "        return DICT_CACHE[key]\n",
    "    \n",
    "    if DIAG: print(\"A>\",\"-\"+rowLine+\"-\",rowCount)\n",
    "    # 1. Is this a stopping situation\n",
    "    bStop, tmp_res = isStoppingCondition(rowLine,rowCount)\n",
    "    if bStop: return tmp_res\n",
    "    \n",
    "    # 2. Check if can find the next group - and if it starts with blank space\n",
    "    bFoundLiteral,lStartF = hasLiteralAfterBlanks(rowLine,rowCount[0])\n",
    "    \n",
    "    if not bFoundLiteral: \n",
    "        if DIAG: print(\"NotFound\")\n",
    "        return 0\n",
    "    \n",
    "    if DIAG:print(\"lStartF\",lStartF,\"rowCount[0]\",rowCount[0])\n",
    "    # 3. We found literal, let's a. recurse b. consider starting \"?\"    \n",
    "    res = 0\n",
    "    rowLine = rowLine[lStartF:]\n",
    "    \n",
    "    # 3a. Do recursive search\n",
    "    res += dealWithRow(rowLine[rowCount[0]:],rowCount[1:])\n",
    "    \n",
    "    # 3b. If match starts with \"?\" then this could be treated as a blank\n",
    "    if len(rowLine)>0 and rowLine[0] == \"?\":\n",
    "        #print(\"Hop\",rowLine)\n",
    "        rowLine = \".\" + rowLine[1:]\n",
    "        tempRes = dealWithRow(rowLine,rowCount)\n",
    "        res += tempRes\n",
    "        #print(rowLine,rowCount,tempRes)\n",
    "        #rowLine=rowLine[1:]\n",
    "    \n",
    "    \n",
    "    DICT_CACHE[key]=res\n",
    "    \n",
    "    return res"
   ]
  },
  {
   "cell_type": "code",
   "execution_count": 51,
   "id": "317eca05",
   "metadata": {},
   "outputs": [],
   "source": [
    "assert dealWithRow(\".#\",[1]) == 1\n",
    "assert dealWithRow(\".?..\",[1]) == 1\n",
    "assert dealWithRow(\".??...?##.\",[ 1,3]) == 2\n",
    "assert dealWithRow(\"????\",[1]) == 3\n",
    "assert dealWithRow(\".??..??...?##.\",[ 1,1,3]) == 4\n",
    "assert dealWithRow(\".??...?##.\",[ 1,3]) == 2\n",
    "assert dealWithRow(\".??..??..\",[ 1,1]) == 4\n",
    "assert dealWithRow(\".#.#.?.\",[1,1]) == 1\n",
    "assert dealWithRow('.???.####..',[1,4]) == 3\n",
    "assert dealWithRow( '.????.######..#####.',[1,6,5]) == 4\n",
    "\n",
    "ss = '.????.#...#...?????.#...#...?????.#...#...?????.#...#...?????.#...#...'\n",
    "cc = [4, 1, 1, 4, 1, 1, 4, 1, 1, 4, 1, 1, 4, 1, 1]\n",
    "assert dealWithRow(ss,cc) == 16\n",
    "\n",
    "ss = '.????.#...#...?.????.#...#...?.????.#...#...?.????.#...#...?.????.#...#...'\n",
    "cc = [4, 1, 1, 4, 1, 1, 4, 1, 1, 4, 1, 1, 4, 1, 1]\n",
    "assert dealWithRow(ss,cc) == 1"
   ]
  },
  {
   "cell_type": "code",
   "execution_count": 52,
   "id": "58a32768",
   "metadata": {},
   "outputs": [],
   "source": [
    "MULTIPL=5\n",
    "#filename=\"test.txt\"\n",
    "filename=\"input.txt\"\n",
    "DIAG = False\n",
    "DIAG2 = False"
   ]
  },
  {
   "cell_type": "code",
   "execution_count": 53,
   "id": "6ebd5e3c",
   "metadata": {},
   "outputs": [
    {
     "name": "stdout",
     "output_type": "stream",
     "text": [
      "Size of gear map: 1000\n"
     ]
    }
   ],
   "source": [
    "gearmap,gearcounts = parseFile(filename)\n",
    "print(\"Size of gear map:\",len(gearmap)) #dealWithRow(gearmap[0],gearcounts[0])"
   ]
  },
  {
   "cell_type": "code",
   "execution_count": 54,
   "id": "8f20a0da",
   "metadata": {},
   "outputs": [],
   "source": [
    "def outerCountWithMultiplier(gearmap_in,gearcounts_in,multipl):\n",
    "    gearmap2 = []\n",
    "    gearcounts2 = []\n",
    "    for i,line in enumerate(gearmap_in):\n",
    "        new_line = ((line + \"?\")*multipl)[:-1]\n",
    "        gearmap2.append(new_line)\n",
    "        gearcounts2.append(gearcounts_in[i]*multipl)\n",
    "\n",
    "    gearmap2= touchUpMap(gearmap2)\n",
    "\n",
    "    DICT_BLANKS = {}\n",
    "    res = 0\n",
    "\n",
    "    for i,line in enumerate(gearmap2):\n",
    "        if DIAG2: print(\"Line \",i,end=\" \")\n",
    "        res_line = dealWithRow(line,gearcounts2[i])\n",
    "        if DIAG2: print(res_line)\n",
    "        #print(\"line {} result={}\".format(i,res_lddine))\n",
    "        res += res_line\n",
    "    if DIAG: print(\"Overall result:\",res)\n",
    "\n",
    "    return res\n",
    "\n",
    "#gearmap2"
   ]
  },
  {
   "cell_type": "code",
   "execution_count": 55,
   "id": "61674564",
   "metadata": {},
   "outputs": [
    {
     "name": "stdout",
     "output_type": "stream",
     "text": [
      "Result part A:  7173\n",
      "Result part B:  29826669191291\n"
     ]
    }
   ],
   "source": [
    "resA = outerCountWithMultiplier(gearmap,gearcounts,1)\n",
    "resB = outerCountWithMultiplier(gearmap,gearcounts,5)\n",
    "\n",
    "print(\"Result part A: \",resA)\n",
    "print(\"Result part B: \",resB)"
   ]
  }
 ],
 "metadata": {
  "kernelspec": {
   "display_name": "Python 3 (ipykernel)",
   "language": "python",
   "name": "python3"
  },
  "language_info": {
   "codemirror_mode": {
    "name": "ipython",
    "version": 3
   },
   "file_extension": ".py",
   "mimetype": "text/x-python",
   "name": "python",
   "nbconvert_exporter": "python",
   "pygments_lexer": "ipython3",
   "version": "3.9.13"
  }
 },
 "nbformat": 4,
 "nbformat_minor": 5
}
