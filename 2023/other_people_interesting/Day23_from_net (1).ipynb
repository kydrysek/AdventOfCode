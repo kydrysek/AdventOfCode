{
 "cells": [
  {
   "cell_type": "code",
   "execution_count": 12,
   "id": "f18428e1",
   "metadata": {},
   "outputs": [
    {
     "name": "stdout",
     "output_type": "stream",
     "text": [
      "6490\n"
     ]
    }
   ],
   "source": [
    "G = {i+j*1j: c for j,r in enumerate(open('input.txt'))\n",
    "               for i,c in enumerate(r.strip()) if c != '#'}\n",
    "\n",
    "E = {p: [p+d for d in (1,-1,1j,-1j) if p+d in G] for p in G}\n",
    "\n",
    "\n",
    "def collapse(p, n, d=1):\n",
    "    while len(E[n]) == 2:\n",
    "        p, n, d = n, [*{*E[n]}-{p}][0], d+1\n",
    "    return n, d\n",
    "\n",
    "E = {p: [collapse(p, n) for n in E[p]] for p in G}\n",
    "\n",
    "\n",
    "def search(node, dist, best, stop=[*G][-1], seen=set()):\n",
    "    if node == stop: return dist\n",
    "    if node in seen: return best\n",
    "\n",
    "    seen.add(node)\n",
    "    best = max(search(n, d+dist, best) for n,d in E[node])\n",
    "    seen.remove(node)\n",
    "\n",
    "    return best\n",
    "\n",
    "print(search([*G][0], 0, 0))"
   ]
  }
 ],
 "metadata": {
  "kernelspec": {
   "display_name": "Python 3 (ipykernel)",
   "language": "python",
   "name": "python3"
  },
  "language_info": {
   "codemirror_mode": {
    "name": "ipython",
    "version": 3
   },
   "file_extension": ".py",
   "mimetype": "text/x-python",
   "name": "python",
   "nbconvert_exporter": "python",
   "pygments_lexer": "ipython3",
   "version": "3.11.5"
  }
 },
 "nbformat": 4,
 "nbformat_minor": 5
}
