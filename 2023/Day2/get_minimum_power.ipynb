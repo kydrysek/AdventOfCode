{
 "cells": [
  {
   "cell_type": "markdown",
   "id": "929b45d7",
   "metadata": {},
   "source": [
    "12 red, 13 green, 14 blue"
   ]
  },
  {
   "cell_type": "code",
   "execution_count": 18,
   "id": "6940aa7c",
   "metadata": {},
   "outputs": [],
   "source": [
    "import re\n",
    "#FILENAME=\"test_batch.txt\"\n",
    "FILENAME=\"input.txt\""
   ]
  },
  {
   "cell_type": "code",
   "execution_count": 19,
   "id": "c07c3ef2",
   "metadata": {},
   "outputs": [],
   "source": [
    "thresholds = {\"red\":12, \"green\":13, \"blue\":14}"
   ]
  },
  {
   "cell_type": "code",
   "execution_count": 20,
   "id": "25653be2",
   "metadata": {},
   "outputs": [],
   "source": [
    "def minPower(in_string, color_to_test):\n",
    "    \n",
    "    items = re.findall(\"(\\d+) \"+color_to_test,in_string)\n",
    "    items = list(map(int, items))\n",
    "\n",
    "    return int(max(items))\n",
    "    "
   ]
  },
  {
   "cell_type": "code",
   "execution_count": 21,
   "id": "a93d2ae4",
   "metadata": {},
   "outputs": [],
   "source": [
    "def processLine(in_string):\n",
    "    res = 1\n",
    "    for key, val in thresholds.items():\n",
    "        res *= minPower(in_string, key)\n",
    "    return res"
   ]
  },
  {
   "cell_type": "code",
   "execution_count": 22,
   "id": "437d4440",
   "metadata": {},
   "outputs": [
    {
     "name": "stdout",
     "output_type": "stream",
     "text": [
      "54699\n"
     ]
    }
   ],
   "source": [
    "res = 0\n",
    "with open(FILENAME) as file:\n",
    "    for ll in file:\n",
    "        \n",
    "        searched = re.search(\"^Game (\\d+): (.*)$\",ll)\n",
    "        game_id = int(searched.group(1))\n",
    "        game_res = searched.group(2)\n",
    "        res += processLine(game_res)\n",
    "            \n",
    "\n",
    "print(res)\n"
   ]
  },
  {
   "cell_type": "code",
   "execution_count": null,
   "id": "9ec1a971",
   "metadata": {},
   "outputs": [],
   "source": []
  }
 ],
 "metadata": {
  "kernelspec": {
   "display_name": "Python 3 (ipykernel)",
   "language": "python",
   "name": "python3"
  },
  "language_info": {
   "codemirror_mode": {
    "name": "ipython",
    "version": 3
   },
   "file_extension": ".py",
   "mimetype": "text/x-python",
   "name": "python",
   "nbconvert_exporter": "python",
   "pygments_lexer": "ipython3",
   "version": "3.9.13"
  }
 },
 "nbformat": 4,
 "nbformat_minor": 5
}
