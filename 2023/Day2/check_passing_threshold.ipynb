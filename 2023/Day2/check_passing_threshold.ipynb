{
 "cells": [
  {
   "cell_type": "markdown",
   "id": "0b52d25c",
   "metadata": {},
   "source": [
    "12 red, 13 green, 14 blue"
   ]
  },
  {
   "cell_type": "code",
   "execution_count": 18,
   "id": "bc25b004",
   "metadata": {},
   "outputs": [],
   "source": [
    "import re\n",
    "#FILENAME=\"test_batch.txt\"\n",
    "FILENAME=\"input.txt\""
   ]
  },
  {
   "cell_type": "code",
   "execution_count": 19,
   "id": "e95c8137",
   "metadata": {},
   "outputs": [],
   "source": [
    "thresholds = {\"red\":12, \"green\":13, \"blue\":14}"
   ]
  },
  {
   "cell_type": "code",
   "execution_count": 20,
   "id": "afc6745f",
   "metadata": {},
   "outputs": [],
   "source": [
    "def passesThreshold(in_string, color_to_test, threshold):\n",
    "    \n",
    "    items = re.findall(\"(\\d+) \"+color_to_test,in_string)\n",
    "    for x in items:\n",
    "        if int(x) > threshold:\n",
    "            return False\n",
    "    return True"
   ]
  },
  {
   "cell_type": "code",
   "execution_count": 21,
   "id": "c14e48df",
   "metadata": {},
   "outputs": [],
   "source": [
    "def processLine(in_string):\n",
    "    bReturn = True\n",
    "    \n",
    "    for key, val in thresholds.items():\n",
    "        bReturn = bReturn and passesThreshold(in_string, key, val)\n",
    "        \n",
    "    return bReturn"
   ]
  },
  {
   "cell_type": "code",
   "execution_count": 22,
   "id": "1984769f",
   "metadata": {},
   "outputs": [
    {
     "name": "stdout",
     "output_type": "stream",
     "text": [
      "2593\n"
     ]
    }
   ],
   "source": [
    "res = 0\n",
    "with open(FILENAME) as file:\n",
    "    for ll in file:\n",
    "        \n",
    "        searched = re.search(\"^Game (\\d+): (.*)$\",ll)\n",
    "        game_id = int(searched.group(1))\n",
    "        game_res = searched.group(2)\n",
    "        if processLine(game_res): \n",
    "            res+= game_id\n",
    "\n",
    "print(res)\n"
   ]
  },
  {
   "cell_type": "code",
   "execution_count": null,
   "id": "0353b2ce",
   "metadata": {},
   "outputs": [],
   "source": []
  }
 ],
 "metadata": {
  "kernelspec": {
   "display_name": "Python 3 (ipykernel)",
   "language": "python",
   "name": "python3"
  },
  "language_info": {
   "codemirror_mode": {
    "name": "ipython",
    "version": 3
   },
   "file_extension": ".py",
   "mimetype": "text/x-python",
   "name": "python",
   "nbconvert_exporter": "python",
   "pygments_lexer": "ipython3",
   "version": "3.9.13"
  }
 },
 "nbformat": 4,
 "nbformat_minor": 5
}
