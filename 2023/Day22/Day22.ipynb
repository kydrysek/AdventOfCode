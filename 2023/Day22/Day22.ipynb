{
 "cells": [
  {
   "cell_type": "code",
   "execution_count": 61,
   "id": "85d1e73f",
   "metadata": {},
   "outputs": [],
   "source": [
    "import numpy as np\n",
    "import pandas as pd\n",
    "import re\n",
    "import math\n",
    "import time"
   ]
  },
  {
   "cell_type": "code",
   "execution_count": 62,
   "id": "b86d338e",
   "metadata": {},
   "outputs": [],
   "source": [
    "FILENAME=\"input.txt\"\n",
    "#FILENAME=\"test.txt\"\n",
    "DIAG=False\n",
    "DIAG2 = False\n",
    "MY_INF = -np.inf"
   ]
  },
  {
   "cell_type": "code",
   "execution_count": 63,
   "id": "6a17fa57",
   "metadata": {},
   "outputs": [],
   "source": [
    "def parseFile(file_name):\n",
    "    with open(file_name) as file:\n",
    "        lines = file.readlines()\n",
    "    \n",
    "    bricks=[]\n",
    "    \n",
    "    for line in lines:\n",
    "        if line[-1] == \"\\n\": line = line[:-1]\n",
    "        str_re = \"(\\d+),(\\d+),(\\d+)~(\\d+),(\\d+),(\\d+)\"\n",
    "        mmm = re.match(str_re,line)\n",
    "        brick_st = np.array((int(mmm[1]),int(mmm[2]),int(mmm[3])))\n",
    "        brick_en = np.array((int(mmm[4]),int(mmm[5]),int(mmm[6])))\n",
    "        brick_len = brick_en-brick_st\n",
    "        bricks += [(brick_st,brick_len)]\n",
    "    \n",
    "    return bricks\n",
    "    "
   ]
  },
  {
   "cell_type": "code",
   "execution_count": 64,
   "id": "4078b0a9",
   "metadata": {},
   "outputs": [],
   "source": [
    "def constructBrickMap(bricks):\n",
    "    brick_ends = [x for x,_ in bricks]+[x+ll for x,ll in bricks]\n",
    "    \n",
    "    min_dim = np.minimum.reduce(brick_ends)\n",
    "    max_dim = np.maximum.reduce(brick_ends)\n",
    "    \n",
    "    min_dim[2] = 1\n",
    "    \n",
    "    brick_map = np.ones(max_dim-min_dim+np.array((1,1,2)))*MY_INF\n",
    "    \n",
    "    return brick_map"
   ]
  },
  {
   "cell_type": "code",
   "execution_count": 65,
   "id": "b17214a9",
   "metadata": {},
   "outputs": [],
   "source": [
    "def fillBrickMap(bricks,brick_map):\n",
    "    shX,shY,shZ = brick_map.shape\n",
    "    \n",
    "    for x in range(0,shX):\n",
    "        for y in range(0,shY):\n",
    "            brick_map[x,y,0]=-1\n",
    "    \n",
    "    for i,(br_st,br_len) in enumerate(bricks):\n",
    "\n",
    "        br_min = np.minimum.reduce([br_st,br_st+br_len])\n",
    "        br_max = np.maximum.reduce([br_st,br_st+br_len])\n",
    "        if DIAG: print(\">>\",br_min,br_max)\n",
    "        \n",
    "        for x in range(br_min[0],br_max[0]+1):\n",
    "            for y in range(br_min[1],br_max[1]+1):\n",
    "                for z in range(br_min[2],br_max[2]+1):\n",
    "                    brick_map[x][y][z]=i\n",
    "    return brick_map"
   ]
  },
  {
   "cell_type": "code",
   "execution_count": 66,
   "id": "277b3230",
   "metadata": {},
   "outputs": [],
   "source": [
    "def constructAndFillMap(bricks):\n",
    "    \n",
    "    brick_map = constructBrickMap(bricks)\n",
    "    brick_map = fillBrickMap(bricks,brick_map)\n",
    "    \n",
    "    return brick_map"
   ]
  },
  {
   "cell_type": "raw",
   "id": "ad356f0f",
   "metadata": {},
   "source": [
    "def canMoveDown(x,y,z,bricks_arr):\n",
    "    new_arr = moveDown(x,y,z,bricks_arr.copy())\n",
    "    \n",
    "    return not(np.all(np.equal(new_arr,bricks_arr)))"
   ]
  },
  {
   "cell_type": "raw",
   "id": "9ba7ed39",
   "metadata": {},
   "source": [
    "def moveDown(st_x,st_y,st_z,bricks_arr):\n",
    "    shX,shY,shZ = bricks_arr.shape\n",
    "    \n",
    "    found = False\n",
    "    \n",
    "    # first find a brick piece above, if it exists of course\n",
    "    for z in range(st_z+1,shZ):\n",
    "        if bricks_arr[st_x,st_y,z] != MY_INF:\n",
    "            # we found the tile\n",
    "            found = True\n",
    "            break\n",
    "    \n",
    "    if not found:    \n",
    "        # piece not found (column above is empty), we won't be able to change anything \n",
    "        return bricks_arr\n",
    "    \n",
    "    # !!! we know that bricks change only in 1 dimension, from examining the input data\n",
    "    el = bricks_arr[st_x,st_y,z]\n",
    "    \n",
    "    canMove = True\n",
    "    for x in range(0,shX):\n",
    "        if canMove:\n",
    "            for y in range(0,shY):\n",
    "                if bricks_arr[x,y,z] == el:\n",
    "                    if bricks_arr[x,y,z-1]!=MY_INF:\n",
    "                        canMove = False\n",
    "                        break\n",
    "        else:\n",
    "            break\n",
    "            \n",
    "    if canMove:\n",
    "        z_cur = z\n",
    "        changed = True\n",
    "        if changed:\n",
    "            changed = False\n",
    "            for x in range(0,shX):\n",
    "                for y in range(0,shY):\n",
    "                    if bricks_arr[x,y,z] == el:\n",
    "                        tmp = bricks_arr[x,y,z-1]\n",
    "                        bricks_arr[x,y,z-1]= el\n",
    "                        bricks_arr[x,y,z]= tmp\n",
    "                        changed=True\n",
    "            z_cur +=1\n",
    "    \n",
    "    # then find brick pieces on the same level - and check if they have void underneath\n",
    "    \n",
    "    # if so, move all of them - and stack above them - 1 down\n",
    "    return bricks_arr        \n",
    "            \n",
    "        \n",
    "    \n",
    "     \n",
    "    "
   ]
  },
  {
   "cell_type": "code",
   "execution_count": 67,
   "id": "e3e2b69b",
   "metadata": {},
   "outputs": [],
   "source": [
    "def canMoveDownAbove(st_x,st_y,st_z,bricks_arr):\n",
    "    \n",
    "    shX,shY,shZ = bricks_arr.shape\n",
    "    \n",
    "    found=False\n",
    "    # first find a brick piece above, if it exists of course\n",
    "    for z in range(st_z+1,shZ):\n",
    "        if bricks_arr[st_x,st_y,z] != MY_INF:\n",
    "            # we found the tile\n",
    "            found = True\n",
    "            break\n",
    "    \n",
    "    if not found:    \n",
    "        # piece not found (column above is empty), we won't be able to change anything \n",
    "        return False\n",
    "    \n",
    "    # !!! we know that bricks change only in 1 dimension, from examining the input data\n",
    "    el = bricks_arr[st_x,st_y,z]\n",
    "    \n",
    "    canMove = True\n",
    "    for x in range(0,shX):\n",
    "        if canMove:\n",
    "            for y in range(0,shY):\n",
    "                if bricks_arr[x,y,z] == el:\n",
    "                    if bricks_arr[x,y,z-1]!=MY_INF:\n",
    "                        canMove = False\n",
    "                        break\n",
    "        else:\n",
    "            break\n",
    "    return canMove"
   ]
  },
  {
   "cell_type": "code",
   "execution_count": 68,
   "id": "4341ae46",
   "metadata": {},
   "outputs": [],
   "source": [
    "def moveDown(st_x,st_y,st_z,bricks_arr):\n",
    "    shX,shY,shZ = bricks_arr.shape\n",
    "    \n",
    "    found = False\n",
    "    \n",
    "    # first find a brick piece above, if it exists of course\n",
    "    for z in range(st_z+1,shZ):\n",
    "        if bricks_arr[st_x,st_y,z] != MY_INF:\n",
    "            # we found the tile\n",
    "            found = True\n",
    "            break\n",
    "    \n",
    "    if not found:    \n",
    "        # piece not found (column above is empty), we won't be able to change anything \n",
    "        return bricks_arr\n",
    "    \n",
    "    # !!! we know that bricks change only in 1 dimension, from examining the input data\n",
    "    el = bricks_arr[st_x,st_y,z]\n",
    "    \n",
    "    canMove = True\n",
    "    for x in range(0,shX):\n",
    "        if canMove:\n",
    "            for y in range(0,shY):\n",
    "                if bricks_arr[x,y,z] == el:\n",
    "                    if bricks_arr[x,y,z-1]!=MY_INF:\n",
    "                        canMove = False\n",
    "                        break\n",
    "        else:\n",
    "            break\n",
    "            \n",
    "    if canMove:\n",
    "        z_cur = z\n",
    "        changed = True\n",
    "        if changed:\n",
    "            changed = False\n",
    "            for x in range(0,shX):\n",
    "                for y in range(0,shY):\n",
    "                    if bricks_arr[x,y,z] == el:\n",
    "                        tmp = bricks_arr[x,y,z-1]\n",
    "                        bricks_arr[x,y,z-1]= el\n",
    "                        bricks_arr[x,y,z]= tmp\n",
    "                        changed=True\n",
    "            z_cur +=1\n",
    "    \n",
    "    # then find brick pieces on the same level - and check if they have void underneath\n",
    "    \n",
    "    # if so, move all of them - and stack above them - 1 down\n",
    "    return bricks_arr        \n",
    "            \n",
    "        \n",
    "    \n",
    "     \n",
    "    "
   ]
  },
  {
   "cell_type": "raw",
   "id": "87041758",
   "metadata": {},
   "source": [
    "def settleOneStep(bricks_settled):\n",
    "    \n",
    "    shX,shY,shZ = bricks_settled.shape\n",
    "    \n",
    "    # if empty row then slice it out\n",
    "    for z in range(0,shZ):\n",
    "        if np.all(bricks_settled[:,:,z]==MY_INF):\n",
    "            #remove row\n",
    "            bricks_settled=np.delete(bricks_settled,z,2)\n",
    "            return bricks_settled,True\n",
    "    \n",
    "    # 1. go by z axis - could really remember where we last \n",
    "    # had good combination but it should be efficient enough without it \n",
    "    # 1a. if there is an (x,y) empty, check what is above it and if it could move down\n",
    "    #     once one found, execute. \n",
    "    #     It can be moved down if there is an empty space of brick of \n",
    "    #     same type below it\n",
    "    \n",
    "    for z in range(0,shZ):\n",
    "        for x in range(0,shX):\n",
    "            for y in range(0,shY):\n",
    "                if bricks_settled[x,y,z]==MY_INF:\n",
    "                    # find next brick above\n",
    "                    # check if can move down\n",
    "                    if canMoveDown(x,y,z,bricks_settled):\n",
    "                        bricks_settled = moveDown(x,y,z,bricks_settled)\n",
    "                        return bricks_settled,True\n",
    "    \n",
    "    return bricks_settled,False\n"
   ]
  },
  {
   "cell_type": "code",
   "execution_count": 69,
   "id": "eebd6e11",
   "metadata": {},
   "outputs": [],
   "source": [
    "def settleOneStep(bricks_settled,z_to_start):\n",
    "    \n",
    "    shX,shY,shZ = bricks_settled.shape\n",
    "        \n",
    "    for z in range(z_to_start,shZ):\n",
    "        if np.all(bricks_settled[:,:,z]==MY_INF):\n",
    "            #remove row\n",
    "            bricks_settled=np.delete(bricks_settled,z,2)\n",
    "            return bricks_settled,True,z\n",
    "        else:\n",
    "            for x in range(0,shX):\n",
    "                for y in range(0,shY):\n",
    "                    if bricks_settled[x,y,z]==MY_INF:\n",
    "                        # find next brick above\n",
    "                        # check if can move down\n",
    "                        if canMoveDownAbove(x,y,z,bricks_settled):\n",
    "                            bricks_settled = moveDown(x,y,z,bricks_settled)\n",
    "                            return bricks_settled,True,z\n",
    "    \n",
    "    return bricks_settled,False,shZ\n"
   ]
  },
  {
   "cell_type": "code",
   "execution_count": 70,
   "id": "54546082",
   "metadata": {},
   "outputs": [],
   "source": [
    "def settleBricksDown(arrBrickMap):\n",
    "    bricks_settled = arrBrickMap.copy()\n",
    "    changed = True\n",
    "    z_to_start = 1\n",
    "    while changed:\n",
    "        if DIAG: print(\"*\")\n",
    "        bricks_settled,changed,z_to_start = settleOneStep(bricks_settled,z_to_start)\n",
    "    \n",
    "    return bricks_settled"
   ]
  },
  {
   "cell_type": "code",
   "execution_count": 71,
   "id": "25c67bf8",
   "metadata": {},
   "outputs": [],
   "source": [
    "def trimFinalRows(arrBrickMap):\n",
    "    _,_,shZ = arrBrickMap.shape\n",
    "    for z in range(shZ-1,-1,-1):\n",
    "        if np.all(arrBrickMap[:,:,z]==MY_INF):\n",
    "            arrBrickMap = arrBrickMap[:,:,:z]\n",
    "        else:\n",
    "            break\n",
    "    return arrBrickMap"
   ]
  },
  {
   "cell_type": "code",
   "execution_count": null,
   "id": "d5a371d7",
   "metadata": {},
   "outputs": [],
   "source": [
    "\n"
   ]
  },
  {
   "cell_type": "code",
   "execution_count": 72,
   "id": "a90b15b6",
   "metadata": {},
   "outputs": [
    {
     "name": "stdout",
     "output_type": "stream",
     "text": [
      "Number of bricks: 1388\n",
      "Shape of map: (10, 10, 326)\n",
      "To construct:  0.07647442817687988\n",
      "To settle:  148.47327280044556\n",
      "starting the checks\n"
     ]
    }
   ],
   "source": [
    "st_time = time.time()\n",
    "\n",
    "bricks = parseFile(FILENAME)\n",
    "print(\"Number of bricks:\",len(bricks))\n",
    "arrBrickMap = constructAndFillMap(bricks)\n",
    "print(\"Shape of map:\",arrBrickMap.shape)\n",
    "if DIAG2: print(arrBrickMap.shape)\n",
    "\n",
    "print(\"To construct: \",time.time()-st_time)\n",
    "st_time = time.time()\n",
    "arrBrickMap_settle = settleBricksDown(arrBrickMap)\n",
    "arrBrickMap_settle\n",
    "\n",
    "print(\"To settle: \",time.time()-st_time)\n",
    "print(\"starting the checks\")\n",
    "\n",
    "#countOfBricks = countBricksOKToRemove(arrBrickMap_settle)\n",
    "#print(\"Can remove {} bricks\".format(countOfBricks))"
   ]
  },
  {
   "cell_type": "raw",
   "id": "74f953c1",
   "metadata": {},
   "source": [
    "Number of bricks: 1388\n",
    "Shape of map: (10, 10, 326)\n",
    "To construct:  0.06496095657348633\n",
    "To settle:  342.5464463233948\n",
    "starting the checks"
   ]
  },
  {
   "cell_type": "markdown",
   "id": "8717e6c4",
   "metadata": {},
   "source": [
    "use arrBrickMap_settle"
   ]
  },
  {
   "cell_type": "code",
   "execution_count": 73,
   "id": "dad41cf0",
   "metadata": {},
   "outputs": [],
   "source": [
    "def checkIfOkToRemove(brickNum,arrBrickMap):\n",
    "    ind_x,ind_y,ind_z =np.where(arrBrickMap == brickNum) \n",
    "    \n",
    "    \n",
    "    arrCopy = arrBrickMap.copy()\n",
    "    arrCopy[arrCopy==brickNum]=MY_INF\n",
    "    \n",
    "    for i,_ in enumerate(ind_x):\n",
    "        x=ind_x[i]\n",
    "        y=ind_y[i]\n",
    "        z=ind_z[i]\n",
    "        \n",
    "        if canMoveDownAbove(x,y,z,arrCopy):\n",
    "            return False\n",
    "    \n",
    "    return True\n",
    "        \n",
    "        # question is really whether an element directly above is supported by anything else\n",
    "        \n",
    "    \n",
    "    "
   ]
  },
  {
   "cell_type": "code",
   "execution_count": 74,
   "id": "c248adbf",
   "metadata": {},
   "outputs": [],
   "source": [
    "def countBricksOKToRemove(arrBrickMap):\n",
    "    maxBrick = np.max(arrBrickMap)\n",
    "    res = 0\n",
    "    for brick in range(0,int(maxBrick)+1):\n",
    "        if checkIfOkToRemove(brick,arrBrickMap_settle):\n",
    "            if DIAG2: print(\"Brick {} ({} in example) OK to remove\".format(brick,brick+1))\n",
    "            res+=1\n",
    "    return res\n",
    "        "
   ]
  },
  {
   "cell_type": "code",
   "execution_count": null,
   "id": "b9b406fd",
   "metadata": {},
   "outputs": [],
   "source": [
    "# Bricks that can be removed without upsetting the proverbial cart\n",
    "resA = countBricksOKToRemove(arrBrickMap_settle)\n",
    "print(\"Result part A:\",resA)"
   ]
  },
  {
   "cell_type": "code",
   "execution_count": 76,
   "id": "adeff461",
   "metadata": {},
   "outputs": [],
   "source": [
    "def countMisplacedBricks(arrCopy,arrCopy_settled):\n",
    "    res = 0\n",
    "    shX,shY,shZ = np.minimum.reduce([arrCopy.shape,arrCopy_settled.shape])\n",
    "    arrCopy1 = arrCopy[:shX,:shY,:shZ].flatten()\n",
    "    arrCopy_settled1 = arrCopy_settled[:shX,:shY,:shZ].flatten()\n",
    "    #same_bricks = arrCopy1[arrCopy1==arrCopy_settled1]\n",
    "    different_bricks = np.unique(arrCopy_settled1[arrCopy1!=arrCopy_settled1])\n",
    "    #print(different_bricks)\n",
    "    mask = ((different_bricks==MY_INF) | (different_bricks==-1))\n",
    "    real_different = np.delete(different_bricks,mask,0)\n",
    "    \n",
    "    \n",
    "    \n",
    "    return len(real_different)"
   ]
  },
  {
   "cell_type": "code",
   "execution_count": 77,
   "id": "de02b025",
   "metadata": {},
   "outputs": [],
   "source": [
    "def countBricksFalling_single(brickNum,arrBrickMap):\n",
    "    \n",
    "    arrCopy = arrBrickMap.copy()\n",
    "    arrCopy[arrCopy==brickNum]=MY_INF\n",
    "    arrCopy_settled = settleBricksDown(arrCopy)\n",
    "    res = countMisplacedBricks(arrCopy,arrCopy_settled)\n",
    "    #print(\" Brick {} ({}) = {}\".format(brickNum,brickNum+1,res))\n",
    "    return res"
   ]
  },
  {
   "cell_type": "code",
   "execution_count": 78,
   "id": "cb6bcba4",
   "metadata": {},
   "outputs": [
    {
     "data": {
      "text/plain": [
       "75784"
      ]
     },
     "execution_count": 78,
     "metadata": {},
     "output_type": "execute_result"
    }
   ],
   "source": [
    "#Sum of bricks that would fall\n",
    "def countBricksFalling(arrBrickMap):\n",
    "    maxBrick = np.max(arrBrickMap)\n",
    "    res = 0\n",
    "    for brick in range(0,int(maxBrick)+1):\n",
    "        if not checkIfOkToRemove(brick,arrBrickMap_settle):\n",
    "            res+=countBricksFalling_single(brick,arrBrickMap)\n",
    "    return res\n",
    "resB = countBricksFalling(arrBrickMap_settle)\n",
    "print(\"Result part B\",resB)     "
   ]
  },
  {
   "cell_type": "code",
   "execution_count": 79,
   "id": "76d61ff9",
   "metadata": {},
   "outputs": [
    {
     "data": {
      "text/plain": [
       "(10, 10, 161)"
      ]
     },
     "execution_count": 79,
     "metadata": {},
     "output_type": "execute_result"
    }
   ],
   "source": [
    "arrBrickMap_settle.shape"
   ]
  },
  {
   "cell_type": "markdown",
   "id": "4c2fb35b",
   "metadata": {},
   "source": [
    "# Testing things out"
   ]
  },
  {
   "cell_type": "code",
   "execution_count": null,
   "id": "48cf5ce7",
   "metadata": {},
   "outputs": [],
   "source": [
    "len(np.unique(arrBrick_INPUT))-2"
   ]
  },
  {
   "cell_type": "code",
   "execution_count": null,
   "id": "c0327a69",
   "metadata": {},
   "outputs": [],
   "source": [
    "a = np.unique(arrBrick_INPUT)\n",
    "mask = ((a==MY_INF) | (a==-1))\n",
    "aa = np.delete(a,mask,0)\n",
    "len(aa)"
   ]
  },
  {
   "cell_type": "code",
   "execution_count": null,
   "id": "af1f5709",
   "metadata": {},
   "outputs": [],
   "source": [
    "arrBrick_INPUT.flatten()"
   ]
  }
 ],
 "metadata": {
  "kernelspec": {
   "display_name": "Python 3 (ipykernel)",
   "language": "python",
   "name": "python3"
  },
  "language_info": {
   "codemirror_mode": {
    "name": "ipython",
    "version": 3
   },
   "file_extension": ".py",
   "mimetype": "text/x-python",
   "name": "python",
   "nbconvert_exporter": "python",
   "pygments_lexer": "ipython3",
   "version": "3.9.13"
  }
 },
 "nbformat": 4,
 "nbformat_minor": 5
}
