{
 "cells": [
  {
   "cell_type": "code",
   "execution_count": 27,
   "id": "c3c454b9",
   "metadata": {},
   "outputs": [],
   "source": [
    "import numpy as np\n",
    "import pandas as pd\n",
    "import math\n",
    "import re\n",
    "import sys\n",
    "\n",
    "np.set_printoptions(threshold=sys.maxsize)"
   ]
  },
  {
   "cell_type": "code",
   "execution_count": 28,
   "id": "1e867210",
   "metadata": {},
   "outputs": [],
   "source": [
    "FILE_NAME = \"test.txt\"\n",
    "#FILE_NAME = \"input.txt\"\n",
    "\n",
    "DIAG=False\n",
    "DIAG2 = True\n",
    "TARGET = 1000000000"
   ]
  },
  {
   "cell_type": "code",
   "execution_count": null,
   "id": "1187650f",
   "metadata": {},
   "outputs": [],
   "source": []
  },
  {
   "cell_type": "markdown",
   "id": "b3dec70c",
   "metadata": {},
   "source": [
    "Alternative approach seen was to sort map within the bound designated by rock. Would have to represent columns as arrays \n",
    "or use slicing on pandas or numpy arrays with some smart substitution"
   ]
  },
  {
   "cell_type": "code",
   "execution_count": null,
   "id": "fe279520",
   "metadata": {},
   "outputs": [],
   "source": []
  },
  {
   "cell_type": "code",
   "execution_count": 29,
   "id": "6a1052e1",
   "metadata": {},
   "outputs": [],
   "source": [
    "def buildArrayFromLines(lines):\n",
    "    \n",
    "    tmp_arr = []\n",
    "    for line in lines:\n",
    "        tmp_line = []    \n",
    "        \n",
    "        for c in line:            \n",
    "            if c == \".\":\n",
    "                tmp_line += [0]\n",
    "            elif c == \"#\":\n",
    "                tmp_line += [-1]\n",
    "            elif c == \"O\":\n",
    "                tmp_line += [1]\n",
    "            elif c == \"\\n\":\n",
    "                pass\n",
    "            else:\n",
    "                print(\"THIS SHOULDN'T HAVE HAPPENED: \",print(c),\"-\",line,\"-\")\n",
    "        tmp_arr.append(tmp_line)\n",
    "    \n",
    "    \n",
    "    return np.array(tmp_arr)\n",
    "    "
   ]
  },
  {
   "cell_type": "code",
   "execution_count": 30,
   "id": "f4e9f154",
   "metadata": {},
   "outputs": [],
   "source": [
    "def tiltMap_OneColumn(my_map, col_num,row_num=0):\n",
    "    res = my_map\n",
    "        \n",
    "    shape_X,_ = my_map.shape\n",
    "    \n",
    "    if row_num >= shape_X:\n",
    "        return res\n",
    "    \n",
    "    if my_map[row_num,col_num] in [-1,1]: # move on\n",
    "        return tiltMap_OneColumn(my_map,col_num,row_num+1)\n",
    "    else: # looks like we have empty space\n",
    "    \n",
    "        j = row_num+1              \n",
    "        while j < shape_X and my_map[j,col_num] == 0:\n",
    "            j+=1\n",
    "        \n",
    "        if j==shape_X:\n",
    "            return res\n",
    "        elif my_map[j,col_num] == -1: # nothing moves past the rock\n",
    "            return tiltMap_OneColumn(my_map,col_num,j+1)\n",
    "        elif my_map[j,col_num] == 1:\n",
    "            my_map[row_num,col_num]=1\n",
    "            my_map[j,col_num]=0\n",
    "            return tiltMap_OneColumn(my_map,col_num,row_num+1)\n",
    "        else:\n",
    "            print(\"This really shouldn't have happened!\")\n",
    "                    \n",
    "    return res\n",
    "    "
   ]
  },
  {
   "cell_type": "code",
   "execution_count": 31,
   "id": "6645955a",
   "metadata": {},
   "outputs": [],
   "source": [
    "def tiltMap(my_map):\n",
    "    res = my_map\n",
    "    shape_X,shape_Y = my_map.shape\n",
    "    \n",
    "    for i in range(0,shape_Y):\n",
    "        res = tiltMap_OneColumn(res,i)\n",
    "    return res"
   ]
  },
  {
   "cell_type": "code",
   "execution_count": 32,
   "id": "8c3c973a",
   "metadata": {},
   "outputs": [],
   "source": [
    "def shuffleMap(my_map,direction,reverse=False):\n",
    "    res = my_map.copy()\n",
    "    \n",
    "    if direction ==\"N\" :\n",
    "        pass\n",
    "    elif direction ==\"S\" :\n",
    "        res = res[::-1]\n",
    "    elif direction ==\"W\" :\n",
    "        res = np.transpose(res)\n",
    "    elif direction ==\"E\" :\n",
    "        if reverse:            \n",
    "            res = res[::-1]\n",
    "            res = np.transpose(res)\n",
    "        else:\n",
    "            res = np.transpose(res)\n",
    "            res = res[::-1]\n",
    "    else:\n",
    "        print(\"Inadmissible inputs!!!\")\n",
    "    return res\n",
    "        \n"
   ]
  },
  {
   "cell_type": "code",
   "execution_count": 33,
   "id": "57aa5541",
   "metadata": {},
   "outputs": [],
   "source": [
    "def tiltMap_fullCycle(my_map):\n",
    "    res = my_map.copy()\n",
    "    if DIAG: print(\"----\")\n",
    "    if DIAG: print(res)\n",
    "    for direction in [\"N\",\"W\",\"S\",\"E\"]:\n",
    "        res = shuffleMap(res,direction,False)\n",
    "        res = tiltMap(res)        \n",
    "        res = shuffleMap(res,direction,True)\n",
    "        \n",
    "        if DIAG: print(\"----\")\n",
    "        if DIAG: print(direction)\n",
    "        if DIAG: print(res)\n",
    "    return res\n",
    "    "
   ]
  },
  {
   "cell_type": "code",
   "execution_count": 34,
   "id": "20f381b3",
   "metadata": {},
   "outputs": [],
   "source": [
    "# OK\n",
    "def parseFile(fileName):   \n",
    "    with open(fileName) as file:\n",
    "        lines =  file.readlines()    \n",
    "   \n",
    "    my_arr = buildArrayFromLines(lines)\n",
    "    \n",
    "    \n",
    "    return my_arr\n"
   ]
  },
  {
   "cell_type": "code",
   "execution_count": 35,
   "id": "73e5b745",
   "metadata": {},
   "outputs": [],
   "source": [
    "def tallyUpMap(my_map):\n",
    "    res = 0\n",
    "    tmp_map = my_map.copy()\n",
    "    tmp_map[tmp_map==-1]=0\n",
    "    \n",
    "    shape_X,shape_Y = my_map.shape\n",
    "    for i in range(0,shape_X):\n",
    "        tmp_val= sum(tmp_map[i])*(shape_X-i)        \n",
    "        res += tmp_val\n",
    "    \n",
    "    return res\n",
    "        "
   ]
  },
  {
   "cell_type": "code",
   "execution_count": 36,
   "id": "b10154ba",
   "metadata": {},
   "outputs": [],
   "source": [
    "def loadingAfterNorthTilt(map_to_tilt):\n",
    "    x=tiltMap(map_to_tilt)\n",
    "    return tallyUpMap(x)"
   ]
  },
  {
   "cell_type": "code",
   "execution_count": 37,
   "id": "a9b9cd54",
   "metadata": {},
   "outputs": [],
   "source": [
    "def loadingAfter4SOWTilts(map_to_tilt,numCycles):\n",
    "    res_map = []\n",
    "    res_score = []\n",
    "\n",
    "    for counter in range(0,numCycles):        \n",
    "        map_to_tilt=tiltMap_fullCycle(map_to_tilt)\n",
    "        if str(map_to_tilt) in res_map:\n",
    "            cycle_start = res_map.index(str(map_to_tilt))\n",
    "            if DIAG: print(\"pop\",cycle_start,counter)\n",
    "            break\n",
    "        else:\n",
    "            res_map.append(str(map_to_tilt))\n",
    "            res_score.append(tallyUpMap(map_to_tilt))\n",
    "\n",
    "  \n",
    "    cycle_length = len(res_map)-cycle_start\n",
    "    res_idx = ((TARGET-1-cycle_start) % cycle_length)+cycle_start\n",
    "\n",
    "    return res_score[res_idx]\n"
   ]
  },
  {
   "cell_type": "code",
   "execution_count": 38,
   "id": "244cfa74",
   "metadata": {},
   "outputs": [
    {
     "name": "stdout",
     "output_type": "stream",
     "text": [
      "Result part A: 109466\n",
      "Result part B: 94585\n"
     ]
    }
   ],
   "source": [
    "\n",
    "\n",
    "mirror_map = parseFile(FILE_NAME)\n",
    "\n",
    "resA = loadingAfterNorthTilt(mirror_map.copy())\n",
    "resB = loadingAfter4SOWTilts(mirror_map.copy(),TARGET)\n",
    "print(\"Result part A:\",resA)\n",
    "print(\"Result part B:\",resB)\n",
    "\n"
   ]
  },
  {
   "cell_type": "markdown",
   "id": "ddb346a5",
   "metadata": {},
   "source": [
    "# Interesting\n",
    "Note: Alternatively could have hashed numpy arrays, using e.g. sha1"
   ]
  },
  {
   "cell_type": "code",
   "execution_count": 39,
   "id": "b4f0d834",
   "metadata": {},
   "outputs": [
    {
     "name": "stdout",
     "output_type": "stream",
     "text": [
      "64fce98f6764b6bcb568f26bffed920ca6dc2c84\n"
     ]
    }
   ],
   "source": [
    "from hashlib import sha1\n",
    "\n",
    "mirror_map_ro = mirror_map.copy()\n",
    "mirror_map_ro.flags.writeable = False\n",
    "foo = sha1(mirror_map_ro.data)\n",
    "print(foo.hexdigest())"
   ]
  }
 ],
 "metadata": {
  "kernelspec": {
   "display_name": "Python 3 (ipykernel)",
   "language": "python",
   "name": "python3"
  },
  "language_info": {
   "codemirror_mode": {
    "name": "ipython",
    "version": 3
   },
   "file_extension": ".py",
   "mimetype": "text/x-python",
   "name": "python",
   "nbconvert_exporter": "python",
   "pygments_lexer": "ipython3",
   "version": "3.9.13"
  }
 },
 "nbformat": 4,
 "nbformat_minor": 5
}
