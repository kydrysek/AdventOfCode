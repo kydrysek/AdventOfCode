{
 "cells": [
  {
   "cell_type": "code",
   "execution_count": 1,
   "id": "c3c454b9",
   "metadata": {},
   "outputs": [],
   "source": [
    "import numpy as np\n",
    "import pandas as pd\n",
    "import math\n",
    "import re"
   ]
  },
  {
   "cell_type": "code",
   "execution_count": null,
   "id": "0ed281b4",
   "metadata": {},
   "outputs": [],
   "source": []
  },
  {
   "cell_type": "code",
   "execution_count": 2,
   "id": "1e867210",
   "metadata": {},
   "outputs": [],
   "source": [
    "FILE_NAME = \"test.txt\"\n",
    "#FILE_NAME = \"input.txt\"\n",
    "DIAG=False\n",
    "DIAG2 = False"
   ]
  },
  {
   "cell_type": "code",
   "execution_count": 3,
   "id": "20f381b3",
   "metadata": {},
   "outputs": [],
   "source": [
    "# OK\n",
    "def parseFile(fileName):   \n",
    "    with open(fileName) as file:\n",
    "        lines =  file.readlines()    \n",
    "   \n",
    "    my_arr = buildArrayFromLines(lines)\n",
    "    \n",
    "    \n",
    "    return my_arr\n"
   ]
  },
  {
   "cell_type": "code",
   "execution_count": 4,
   "id": "6a1052e1",
   "metadata": {},
   "outputs": [],
   "source": [
    "def buildArrayFromLines(lines):\n",
    "    \n",
    "    tmp_arr = []\n",
    "    for line in lines:\n",
    "        tmp_line = []    \n",
    "        \n",
    "        for c in line:\n",
    "            if c != \"\\n\":\n",
    "                tmp_line += [c]\n",
    "        tmp_arr.append(tmp_line)\n",
    "    \n",
    "    \n",
    "    return np.array(tmp_arr)\n",
    "    "
   ]
  },
  {
   "cell_type": "code",
   "execution_count": 7,
   "id": "6dbc7af7",
   "metadata": {},
   "outputs": [],
   "source": [
    "def get_heat_loss(heat_map):\n",
    "    heat_loss = np.zeros(heat_map.shape)\n",
    "    shapeX,shapeY = heat_map.shape\n",
    "    \n",
    "    tile_queue = [(shapeX-1,shapeY-1)]\n",
    "    \n",
    "    while len(tile_queue) > 0:\n",
    "    \n",
    "    return heat_loss"
   ]
  },
  {
   "cell_type": "code",
   "execution_count": 6,
   "id": "1106ef85",
   "metadata": {},
   "outputs": [
    {
     "data": {
      "text/plain": [
       "array([['2', '4', '1', '3', '4', '3', '2', '3', '1', '1', '3', '2', '3'],\n",
       "       ['3', '2', '1', '5', '4', '5', '3', '5', '3', '5', '6', '2', '3'],\n",
       "       ['3', '2', '5', '5', '2', '4', '5', '6', '5', '4', '2', '5', '4'],\n",
       "       ['3', '4', '4', '6', '5', '8', '5', '8', '4', '5', '4', '5', '2'],\n",
       "       ['4', '5', '4', '6', '6', '5', '7', '8', '6', '7', '5', '3', '6'],\n",
       "       ['1', '4', '3', '8', '5', '9', '8', '7', '9', '8', '4', '5', '4'],\n",
       "       ['4', '4', '5', '7', '8', '7', '6', '9', '8', '7', '7', '6', '6'],\n",
       "       ['3', '6', '3', '7', '8', '7', '7', '9', '7', '9', '6', '5', '3'],\n",
       "       ['4', '6', '5', '4', '9', '6', '7', '9', '8', '6', '8', '8', '7'],\n",
       "       ['4', '5', '6', '4', '6', '7', '9', '9', '8', '6', '4', '5', '3'],\n",
       "       ['1', '2', '2', '4', '6', '8', '6', '8', '6', '5', '5', '6', '3'],\n",
       "       ['2', '5', '4', '6', '5', '4', '8', '8', '8', '7', '7', '3', '5'],\n",
       "       ['4', '3', '2', '2', '6', '7', '4', '6', '5', '5', '5', '3', '3']],\n",
       "      dtype='<U1')"
      ]
     },
     "execution_count": 6,
     "metadata": {},
     "output_type": "execute_result"
    }
   ],
   "source": [
    "parseFile(FILE_NAME)"
   ]
  },
  {
   "cell_type": "code",
   "execution_count": 9,
   "id": "7281c437",
   "metadata": {
    "scrolled": false
   },
   "outputs": [
    {
     "name": "stdout",
     "output_type": "stream",
     "text": [
      "[['2' '4' '1' '3' '4' '3' '2' '3' '1' '1' '3' '2' '3']\n",
      " ['3' '2' '1' '5' '4' '5' '3' '5' '3' '5' '6' '2' '3']\n",
      " ['3' '2' '5' '5' '2' '4' '5' '6' '5' '4' '2' '5' '4']\n",
      " ['3' '4' '4' '6' '5' '8' '5' '8' '4' '5' '4' '5' '2']\n",
      " ['4' '5' '4' '6' '6' '5' '7' '8' '6' '7' '5' '3' '6']\n",
      " ['1' '4' '3' '8' '5' '9' '8' '7' '9' '8' '4' '5' '4']\n",
      " ['4' '4' '5' '7' '8' '7' '6' '9' '8' '7' '7' '6' '6']\n",
      " ['3' '6' '3' '7' '8' '7' '7' '9' '7' '9' '6' '5' '3']\n",
      " ['4' '6' '5' '4' '9' '6' '7' '9' '8' '6' '8' '8' '7']\n",
      " ['4' '5' '6' '4' '6' '7' '9' '9' '8' '6' '4' '5' '3']\n",
      " ['1' '2' '2' '4' '6' '8' '6' '8' '6' '5' '5' '6' '3']\n",
      " ['2' '5' '4' '6' '5' '4' '8' '8' '8' '7' '7' '3' '5']\n",
      " ['4' '3' '2' '2' '6' '7' '4' '6' '5' '5' '5' '3' '3']]\n"
     ]
    },
    {
     "data": {
      "text/plain": [
       "array([[0., 0., 0., 0., 0., 0., 0., 0., 0., 0., 0., 0., 0.],\n",
       "       [0., 0., 0., 0., 0., 0., 0., 0., 0., 0., 0., 0., 0.],\n",
       "       [0., 0., 0., 0., 0., 0., 0., 0., 0., 0., 0., 0., 0.],\n",
       "       [0., 0., 0., 0., 0., 0., 0., 0., 0., 0., 0., 0., 0.],\n",
       "       [0., 0., 0., 0., 0., 0., 0., 0., 0., 0., 0., 0., 0.],\n",
       "       [0., 0., 0., 0., 0., 0., 0., 0., 0., 0., 0., 0., 0.],\n",
       "       [0., 0., 0., 0., 0., 0., 0., 0., 0., 0., 0., 0., 0.],\n",
       "       [0., 0., 0., 0., 0., 0., 0., 0., 0., 0., 0., 0., 0.],\n",
       "       [0., 0., 0., 0., 0., 0., 0., 0., 0., 0., 0., 0., 0.],\n",
       "       [0., 0., 0., 0., 0., 0., 0., 0., 0., 0., 0., 0., 0.],\n",
       "       [0., 0., 0., 0., 0., 0., 0., 0., 0., 0., 0., 0., 0.],\n",
       "       [0., 0., 0., 0., 0., 0., 0., 0., 0., 0., 0., 0., 0.],\n",
       "       [0., 0., 0., 0., 0., 0., 0., 0., 0., 0., 0., 0., 0.]])"
      ]
     },
     "execution_count": 9,
     "metadata": {},
     "output_type": "execute_result"
    }
   ],
   "source": [
    "import sys\n",
    "\n",
    "\n",
    "TARGET = 1000000000\n",
    "\n",
    "np.set_printoptions(threshold=sys.maxsize)\n",
    "\n",
    "heat_map = parseFile(FILE_NAME)\n",
    "print(heat_map)\n",
    "get_heat_loss(heat_map)"
   ]
  },
  {
   "cell_type": "code",
   "execution_count": null,
   "id": "3e0bf571",
   "metadata": {},
   "outputs": [],
   "source": []
  },
  {
   "cell_type": "code",
   "execution_count": null,
   "id": "475f4a89",
   "metadata": {},
   "outputs": [],
   "source": []
  },
  {
   "cell_type": "code",
   "execution_count": null,
   "id": "b4f0d834",
   "metadata": {},
   "outputs": [],
   "source": []
  },
  {
   "cell_type": "code",
   "execution_count": null,
   "id": "25cce08d",
   "metadata": {},
   "outputs": [],
   "source": []
  }
 ],
 "metadata": {
  "kernelspec": {
   "display_name": "Python 3 (ipykernel)",
   "language": "python",
   "name": "python3"
  },
  "language_info": {
   "codemirror_mode": {
    "name": "ipython",
    "version": 3
   },
   "file_extension": ".py",
   "mimetype": "text/x-python",
   "name": "python",
   "nbconvert_exporter": "python",
   "pygments_lexer": "ipython3",
   "version": "3.11.5"
  }
 },
 "nbformat": 4,
 "nbformat_minor": 5
}
