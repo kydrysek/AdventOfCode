{
 "cells": [
  {
   "cell_type": "code",
   "execution_count": 2,
   "id": "c3c454b9",
   "metadata": {},
   "outputs": [],
   "source": [
    "import numpy as np\n",
    "import pandas as pd\n",
    "import math\n",
    "import re\n",
    "import sys\n",
    "\n",
    "np.set_printoptions(threshold=sys.maxsize)\n"
   ]
  },
  {
   "cell_type": "code",
   "execution_count": null,
   "id": "0ed281b4",
   "metadata": {},
   "outputs": [],
   "source": []
  },
  {
   "cell_type": "code",
   "execution_count": 3,
   "id": "1e867210",
   "metadata": {},
   "outputs": [],
   "source": [
    "FILE_NAME = \"test.txt\"\n",
    "#FILE_NAME = \"input.txt\"\n",
    "DIAG=False\n",
    "DIAG2 = False"
   ]
  },
  {
   "cell_type": "code",
   "execution_count": 4,
   "id": "6a1052e1",
   "metadata": {},
   "outputs": [],
   "source": [
    "def buildArrayFromLines(lines):\n",
    "    \n",
    "    tmp_arr = []\n",
    "    for line in lines:\n",
    "        tmp_line = []    \n",
    "        \n",
    "        for c in line:\n",
    "            if c != \"\\n\":\n",
    "                tmp_line += [int(c)]\n",
    "        tmp_arr.append(tmp_line)\n",
    "    \n",
    "    \n",
    "    return np.array(tmp_arr)\n",
    "    "
   ]
  },
  {
   "cell_type": "code",
   "execution_count": 5,
   "id": "20f381b3",
   "metadata": {},
   "outputs": [],
   "source": [
    "# OK\n",
    "def parseFile(fileName):   \n",
    "    with open(fileName) as file:\n",
    "        lines =  file.readlines()    \n",
    "   \n",
    "    my_arr = pd.DataFrame(buildArrayFromLines(lines))\n",
    "    \n",
    "    \n",
    "    return my_arr\n"
   ]
  },
  {
   "cell_type": "code",
   "execution_count": 6,
   "id": "93e91923",
   "metadata": {},
   "outputs": [
    {
     "data": {
      "text/plain": [
       "array([ 0., -1.])"
      ]
     },
     "execution_count": 6,
     "metadata": {},
     "output_type": "execute_result"
    }
   ],
   "source": [
    "a=(0,-3)\n",
    "np.max(np.abs(a))\n",
    "np.divide(a,3)"
   ]
  },
  {
   "cell_type": "code",
   "execution_count": 7,
   "id": "5cde18a8",
   "metadata": {},
   "outputs": [],
   "source": [
    "def pointOnMap(point,myMap):\n",
    "    shX,shY = myMap.shape\n",
    "    return point[0]>=0 and point[0]<shX and point[1]>=0 and point[1]<shY\n",
    "    "
   ]
  },
  {
   "cell_type": "markdown",
   "id": "6aa1ffa4",
   "metadata": {},
   "source": [
    "heap has values (value_to_reach,position,continuous_direction_taken_to_reach)"
   ]
  },
  {
   "cell_type": "code",
   "execution_count": 8,
   "id": "7d0bc214",
   "metadata": {
    "scrolled": false
   },
   "outputs": [
    {
     "name": "stdout",
     "output_type": "stream",
     "text": [
      "Best heat loss found: 94\n"
     ]
    }
   ],
   "source": [
    "from heapq import heappush, heappop,nlargest\n",
    "\n",
    "heat_map = parseFile(FILE_NAME)\n",
    "shapeX,shapeY = heat_map.shape\n",
    "#print(shapeX,shapeY)\n",
    "\n",
    "seen_nodes = set()\n",
    "\n",
    "to_process = []\n",
    "heappush(to_process,(0,(0,1),(0,1)))\n",
    "heappush(to_process,(0,(1,0),(1,0)))\n",
    "\n",
    "#process the heap\n",
    "\n",
    "#MIN_STEPS = 1\n",
    "#MAX_STEPS = 3\n",
    "MIN_STEPS = 4\n",
    "MAX_STEPS = 10\n",
    "\n",
    "while to_process:\n",
    "    value_sofar, point, direct_to_point = heappop(to_process)\n",
    "    if DIAG: print(\"----\")\n",
    "    if DIAG: print(value_sofar, point, direct_to_point)\n",
    "    #print(to_process,end=\"\\n\\n\")\n",
    "    direct_norm = np.divide(direct_to_point,np.max(np.abs(direct_to_point)))\n",
    "    direct_norm = tuple(map(int,direct_norm))\n",
    "    \n",
    "    direct_factor = int(np.max(np.abs(direct_to_point)))\n",
    "                            \n",
    "    value=value_sofar+heat_map.loc[point[0],point[1]]\n",
    "                            \n",
    "    if point == (shapeX-1,shapeY-1):\n",
    "        break\n",
    "    elif (point,direct_to_point) in seen_nodes:\n",
    "        continue\n",
    "    else:\n",
    "        # get neighbours\n",
    "        seen_nodes.add((point,direct_to_point))\n",
    "        \n",
    "        dir_orth = [(-direct_norm[1],-direct_norm[0]),(direct_norm[1],direct_norm[0])]\n",
    "        if DIAG: print(\"...\",dir_orth)\n",
    "        \n",
    "        if direct_factor >= MIN_STEPS:\n",
    "            for d in dir_orth:\n",
    "            \n",
    "                new_point = (point[0] + d[0],point[1] + d[1])\n",
    "                if pointOnMap(new_point,heat_map):\n",
    "                    heappush(to_process,(value,new_point,d))\n",
    "                    if DIAG: print(\">\",(value,new_point,d))\n",
    "        \n",
    "        if np.max(np.abs(direct_to_point))<MAX_STEPS:\n",
    "            d=direct_norm\n",
    "            d_to = tuple(map(int,np.add(direct_to_point,d)))\n",
    "            \n",
    "            new_point = tuple(map(int,np.add(point,d)))\n",
    "            if pointOnMap(new_point,heat_map):\n",
    "                heappush(to_process,(value,new_point,d_to))\n",
    "                if DIAG: print(\">>\",(value,new_point,d_to))\n",
    "    \n",
    "\n",
    "print(\"Best heat loss found:\",value)\n",
    "    "
   ]
  },
  {
   "cell_type": "code",
   "execution_count": 9,
   "id": "6a608f41",
   "metadata": {},
   "outputs": [
    {
     "data": {
      "text/plain": [
       "(0, 1)"
      ]
     },
     "execution_count": 9,
     "metadata": {},
     "output_type": "execute_result"
    }
   ],
   "source": [
    "tuple(map(int,np.divide((0,3),3)))\n"
   ]
  }
 ],
 "metadata": {
  "kernelspec": {
   "display_name": "Python 3 (ipykernel)",
   "language": "python",
   "name": "python3"
  },
  "language_info": {
   "codemirror_mode": {
    "name": "ipython",
    "version": 3
   },
   "file_extension": ".py",
   "mimetype": "text/x-python",
   "name": "python",
   "nbconvert_exporter": "python",
   "pygments_lexer": "ipython3",
   "version": "3.9.13"
  }
 },
 "nbformat": 4,
 "nbformat_minor": 5
}
