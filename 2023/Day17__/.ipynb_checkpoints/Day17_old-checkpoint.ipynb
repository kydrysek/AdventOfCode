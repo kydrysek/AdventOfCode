{
 "cells": [
  {
   "cell_type": "code",
   "execution_count": 148,
   "id": "c3c454b9",
   "metadata": {},
   "outputs": [],
   "source": [
    "import numpy as np\n",
    "import pandas as pd\n",
    "import math\n",
    "import re"
   ]
  },
  {
   "cell_type": "code",
   "execution_count": null,
   "id": "0ed281b4",
   "metadata": {},
   "outputs": [],
   "source": []
  },
  {
   "cell_type": "code",
   "execution_count": 160,
   "id": "1e867210",
   "metadata": {},
   "outputs": [],
   "source": [
    "#FILE_NAME = \"test.txt\"\n",
    "FILE_NAME = \"input.txt\"\n",
    "DIAG=False\n",
    "DIAG2 = False"
   ]
  },
  {
   "cell_type": "code",
   "execution_count": 150,
   "id": "6a1052e1",
   "metadata": {},
   "outputs": [],
   "source": [
    "def buildArrayFromLines(lines):\n",
    "    \n",
    "    tmp_arr = []\n",
    "    for line in lines:\n",
    "        tmp_line = []    \n",
    "        \n",
    "        for c in line:\n",
    "            if c != \"\\n\":\n",
    "                tmp_line += [int(c)]\n",
    "        tmp_arr.append(tmp_line)\n",
    "    \n",
    "    \n",
    "    return np.array(tmp_arr)\n",
    "    "
   ]
  },
  {
   "cell_type": "code",
   "execution_count": 151,
   "id": "20f381b3",
   "metadata": {},
   "outputs": [],
   "source": [
    "# OK\n",
    "def parseFile(fileName):   \n",
    "    with open(fileName) as file:\n",
    "        lines =  file.readlines()    \n",
    "   \n",
    "    my_arr = pd.DataFrame(buildArrayFromLines(lines))\n",
    "    \n",
    "    \n",
    "    return my_arr\n"
   ]
  },
  {
   "cell_type": "code",
   "execution_count": 152,
   "id": "3a2b60e3",
   "metadata": {},
   "outputs": [
    {
     "data": {
      "text/plain": [
       "(1, 1, -1, -1)"
      ]
     },
     "execution_count": 152,
     "metadata": {},
     "output_type": "execute_result"
    }
   ],
   "source": [
    "(1,1)+(-1,-1)"
   ]
  },
  {
   "cell_type": "code",
   "execution_count": 153,
   "id": "431d36aa",
   "metadata": {},
   "outputs": [
    {
     "data": {
      "text/plain": [
       "True"
      ]
     },
     "execution_count": 153,
     "metadata": {},
     "output_type": "execute_result"
    }
   ],
   "source": [
    "any(-np.sign((-1,0))==np.sign((1,1)))"
   ]
  },
  {
   "cell_type": "code",
   "execution_count": 154,
   "id": "67a6896f",
   "metadata": {},
   "outputs": [
    {
     "data": {
      "text/plain": [
       "3"
      ]
     },
     "execution_count": 154,
     "metadata": {},
     "output_type": "execute_result"
    }
   ],
   "source": [
    "max(np.abs(np.add((-1,1),(0,2))))"
   ]
  },
  {
   "cell_type": "code",
   "execution_count": 155,
   "id": "287ae214",
   "metadata": {},
   "outputs": [],
   "source": [
    "def getInitalisedHeatLossMap(tgtShape):\n",
    "    tmpArr = np.ones(heat_map.shape)*np.inf\n",
    "    \n",
    "    return  pd.DataFrame(tmpArr),pd.DataFrame(tmpArr)"
   ]
  },
  {
   "cell_type": "code",
   "execution_count": 156,
   "id": "f5cc613c",
   "metadata": {},
   "outputs": [],
   "source": [
    "def checkPointPostMoveOnMap(point,move,myMapDF):\n",
    "    shX,shY = myMapDF.shape\n",
    "    newPoint = np.add(point,move)\n",
    "    res= (newPoint[0]>=0 and newPoint[0]<shX and newPoint[1]>=0 and newPoint[1]<shY)\n",
    "    return res"
   ]
  },
  {
   "cell_type": "code",
   "execution_count": 157,
   "id": "9fe09eea",
   "metadata": {},
   "outputs": [],
   "source": [
    "def getNeighborBroadcast(point,direction_to_point,val_to_broadcast,myMapDF):\n",
    "    \"\"\"\n",
    "    will return pairs (neighbor point,direction to give the neigbor point)\n",
    "    \"\"\"\n",
    "    res = []\n",
    "    DIRS = [(-1,0),(1,0),(0,-1),(0,1)]\n",
    "    for d in DIRS:\n",
    "        if checkPointPostMoveOnMap(point,d,myMapDF):\n",
    "            if all(np.sign(d)==-np.sign(direction_to_point)):\n",
    "                pass # we just came from this point\n",
    "            elif all(np.sign(d) == np.sign(direction_to_point)):\n",
    "                # need to check if we're not exceeding the 3 steps\n",
    "                dd = np.add(d,direction_to_point)\n",
    "                if max(np.abs(dd)) > 3:\n",
    "                    # this woule exceed max number of steps in direction. Pass\n",
    "                    pass\n",
    "                else:\n",
    "                    res += [(np.add(point,d),dd,val_to_broadcast)]\n",
    "                \n",
    "        \n",
    "            else:\n",
    "                # this point is at 90 degree angle, can go ahead\n",
    "                res += [(np.add(point,d),d,val_to_broadcast)] \n",
    "                \n",
    "    return res"
   ]
  },
  {
   "cell_type": "code",
   "execution_count": 158,
   "id": "0de0a7e5",
   "metadata": {},
   "outputs": [],
   "source": [
    "def findShortestPaths(heat_map):\n",
    "    heat_loss_vals_df, heat_loss_dirs_df= getInitalisedHeatLossMap(heat_map.shape)\n",
    "\n",
    "    shapeX,shapeY = heat_loss_vals_df.shape\n",
    "    updates = [((shapeX-1,shapeY-1),(0,0),0)]\n",
    "    \n",
    "    while len(updates)>0:\n",
    "        next_point, direct,broadc_val = updates[0]\n",
    "        updates = updates[1:]\n",
    "        #print(\"....\",heat_map.loc[next_point[0],next_point[1]])\n",
    "        #print(\".!!.\",broadc_val)\n",
    "        new_val = heat_map.loc[next_point[0],next_point[1]]+ broadc_val\n",
    "        #print(\">><<\",new_val)\n",
    "        #print(\"<<>>\",heat_loss_vals_df.loc[next_point[0],next_point[1]])\n",
    "        if new_val <= heat_loss_vals_df.loc[next_point[0],next_point[1]]:\n",
    "            heat_loss_vals_df.loc[next_point[0],next_point[1]] = new_val\n",
    "            heat_loss_dirs_df=direct\n",
    "            # now broadcast to all the neighbours\n",
    "            neighb_points_and_direct = getNeighborBroadcast(next_point,direct,new_val,heat_map)\n",
    "            updates+=neighb_points_and_direct\n",
    "            \n",
    "            \n",
    "    return heat_loss_vals_df, heat_loss_dirs_df\n",
    "    "
   ]
  },
  {
   "cell_type": "code",
   "execution_count": 161,
   "id": "7d0bc214",
   "metadata": {},
   "outputs": [
    {
     "name": "stdout",
     "output_type": "stream",
     "text": [
      "141 141\n"
     ]
    },
    {
     "ename": "ZeroDivisionError",
     "evalue": "division by zero",
     "output_type": "error",
     "traceback": [
      "\u001b[1;31m---------------------------------------------------------------------------\u001b[0m",
      "\u001b[1;31mZeroDivisionError\u001b[0m                         Traceback (most recent call last)",
      "\u001b[1;32m~\\AppData\\Local\\Temp\\ipykernel_14952\\1525569221.py\u001b[0m in \u001b[0;36m<module>\u001b[1;34m\u001b[0m\n\u001b[0;32m      7\u001b[0m \u001b[0mshapeX\u001b[0m\u001b[1;33m,\u001b[0m\u001b[0mshapeY\u001b[0m \u001b[1;33m=\u001b[0m \u001b[0mheat_map\u001b[0m\u001b[1;33m.\u001b[0m\u001b[0mshape\u001b[0m\u001b[1;33m\u001b[0m\u001b[1;33m\u001b[0m\u001b[0m\n\u001b[0;32m      8\u001b[0m \u001b[0mprint\u001b[0m\u001b[1;33m(\u001b[0m\u001b[0mshapeX\u001b[0m\u001b[1;33m,\u001b[0m\u001b[0mshapeY\u001b[0m\u001b[1;33m)\u001b[0m\u001b[1;33m\u001b[0m\u001b[1;33m\u001b[0m\u001b[0m\n\u001b[1;32m----> 9\u001b[1;33m \u001b[1;36m0\u001b[0m\u001b[1;33m/\u001b[0m\u001b[1;36m0\u001b[0m\u001b[1;33m\u001b[0m\u001b[1;33m\u001b[0m\u001b[0m\n\u001b[0m\u001b[0;32m     10\u001b[0m \u001b[1;33m\u001b[0m\u001b[0m\n\u001b[0;32m     11\u001b[0m \u001b[0mheat_loss_df\u001b[0m\u001b[1;33m,\u001b[0m\u001b[0mdirections\u001b[0m \u001b[1;33m=\u001b[0m \u001b[0mfindShortestPaths\u001b[0m\u001b[1;33m(\u001b[0m\u001b[0mheat_map\u001b[0m\u001b[1;33m)\u001b[0m\u001b[1;33m\u001b[0m\u001b[1;33m\u001b[0m\u001b[0m\n",
      "\u001b[1;31mZeroDivisionError\u001b[0m: division by zero"
     ]
    }
   ],
   "source": [
    "import sys\n",
    "\n",
    "\n",
    "np.set_printoptions(threshold=sys.maxsize)\n",
    "\n",
    "heat_map = parseFile(FILE_NAME)\n",
    "shapeX,shapeY = heat_map.shape\n",
    "print(shapeX,shapeY)\n",
    "0/0\n",
    "\n",
    "heat_loss_df,directions = findShortestPaths(heat_map)\n",
    "\n",
    "print(\"----\")\n",
    "heat_loss_df"
   ]
  },
  {
   "cell_type": "code",
   "execution_count": 162,
   "id": "374c0488",
   "metadata": {},
   "outputs": [
    {
     "ename": "ZeroDivisionError",
     "evalue": "division by zero",
     "output_type": "error",
     "traceback": [
      "\u001b[1;31m---------------------------------------------------------------------------\u001b[0m",
      "\u001b[1;31mZeroDivisionError\u001b[0m                         Traceback (most recent call last)",
      "\u001b[1;32m~\\AppData\\Local\\Temp\\ipykernel_14952\\182040962.py\u001b[0m in \u001b[0;36m<module>\u001b[1;34m\u001b[0m\n\u001b[1;32m----> 1\u001b[1;33m \u001b[1;36m0\u001b[0m\u001b[1;33m/\u001b[0m\u001b[1;36m0\u001b[0m\u001b[1;33m\u001b[0m\u001b[1;33m\u001b[0m\u001b[0m\n\u001b[0m",
      "\u001b[1;31mZeroDivisionError\u001b[0m: division by zero"
     ]
    }
   ],
   "source": [
    "bruteForceAnswer()"
   ]
  }
 ],
 "metadata": {
  "kernelspec": {
   "display_name": "Python 3 (ipykernel)",
   "language": "python",
   "name": "python3"
  },
  "language_info": {
   "codemirror_mode": {
    "name": "ipython",
    "version": 3
   },
   "file_extension": ".py",
   "mimetype": "text/x-python",
   "name": "python",
   "nbconvert_exporter": "python",
   "pygments_lexer": "ipython3",
   "version": "3.9.13"
  }
 },
 "nbformat": 4,
 "nbformat_minor": 5
}
