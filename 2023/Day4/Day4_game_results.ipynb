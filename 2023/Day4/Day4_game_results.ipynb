{
 "cells": [
  {
   "cell_type": "markdown",
   "id": "0b52d25c",
   "metadata": {},
   "source": [
    "12 red, 13 green, 14 blue"
   ]
  },
  {
   "cell_type": "code",
   "execution_count": 1,
   "id": "bc25b004",
   "metadata": {},
   "outputs": [],
   "source": [
    "import re"
   ]
  },
  {
   "cell_type": "code",
   "execution_count": 2,
   "id": "e95c8137",
   "metadata": {},
   "outputs": [],
   "source": [
    "thresholds = {\"red\":12, \"green\":13, \"blue\":14}"
   ]
  },
  {
   "cell_type": "code",
   "execution_count": 3,
   "id": "afc6745f",
   "metadata": {},
   "outputs": [],
   "source": [
    "def passesThreshold(in_string, color_to_test, threshold):\n",
    "    \n",
    "    items = re.findall(\"(\\d+) \"+color_to_test,in_string)\n",
    "    for x in items:\n",
    "        if int(x) > threshold:\n",
    "            return False\n",
    "    return True"
   ]
  },
  {
   "cell_type": "code",
   "execution_count": 13,
   "id": "c14e48df",
   "metadata": {},
   "outputs": [],
   "source": [
    "def scoreLine(list_targetNums,list_myNums,method=\"power\"):\n",
    "    lRes=0\n",
    "    \n",
    "    res = []\n",
    "    for el in list_myNums:\n",
    "        if el in list_targetNums:\n",
    "            res.append(el)\n",
    "    x = len(res)\n",
    "    if x == 0:\n",
    "        return 0\n",
    "    else:\n",
    "        if method==\"count\":\n",
    "            return x\n",
    "        else:\n",
    "            return 2**(x-1)\n",
    "        \n",
    "    "
   ]
  },
  {
   "cell_type": "code",
   "execution_count": 5,
   "id": "da6e5a75",
   "metadata": {},
   "outputs": [
    {
     "name": "stdout",
     "output_type": "stream",
     "text": [
      "1\n",
      "2\n",
      "3\n",
      "4\n",
      "5\n"
     ]
    }
   ],
   "source": [
    "score=5\n",
    "for i in range(1,score+1):\n",
    "    print (i)"
   ]
  },
  {
   "cell_type": "code",
   "execution_count": 18,
   "id": "1984769f",
   "metadata": {},
   "outputs": [
    {
     "name": "stdout",
     "output_type": "stream",
     "text": [
      "14427616\n"
     ]
    }
   ],
   "source": [
    "\n",
    "scratch_count = {}\n",
    "with open('input.txt') as file:\n",
    "    for ll in file:\n",
    "        #print(ll)\n",
    "        searched = re.search(\"^Card\\s+(\\d+):(.*)\\|(.*)$\",ll)\n",
    "        game_id = int(searched.group(1))\n",
    "        game_res = searched.group(2).split()\n",
    "        game_guess = searched.group(3).split()\n",
    "\n",
    "        cardCount = 1+scratch_count.setdefault(game_id,0)\n",
    "        \n",
    "        scratch_count[game_id] = cardCount\n",
    "            \n",
    "        \n",
    "        #print(game_res,game_guess)\n",
    "        score = scoreLine(game_res,game_guess,\"count\")\n",
    "\n",
    "        for i in range(game_id+1,game_id+score+1):\n",
    "            scratch_count[i] = scratch_count.setdefault(i,0)+cardCount\n",
    "        \n",
    "#print(scratch_count.values())\n",
    "print(sum(scratch_count.values()))\n"
   ]
  },
  {
   "cell_type": "code",
   "execution_count": null,
   "id": "0353b2ce",
   "metadata": {},
   "outputs": [],
   "source": []
  }
 ],
 "metadata": {
  "kernelspec": {
   "display_name": "Python 3 (ipykernel)",
   "language": "python",
   "name": "python3"
  },
  "language_info": {
   "codemirror_mode": {
    "name": "ipython",
    "version": 3
   },
   "file_extension": ".py",
   "mimetype": "text/x-python",
   "name": "python",
   "nbconvert_exporter": "python",
   "pygments_lexer": "ipython3",
   "version": "3.9.13"
  }
 },
 "nbformat": 4,
 "nbformat_minor": 5
}
