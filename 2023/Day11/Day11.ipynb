{
 "cells": [
  {
   "cell_type": "code",
   "execution_count": 1,
   "id": "c3c454b9",
   "metadata": {},
   "outputs": [],
   "source": [
    "import numpy as np\n",
    "import pandas as pd\n",
    "import math\n",
    "import re"
   ]
  },
  {
   "cell_type": "code",
   "execution_count": 2,
   "id": "3cd0d7f6",
   "metadata": {},
   "outputs": [],
   "source": [
    "#FILENAME=\"test.txt\"\n",
    "FILENAME=\"input.txt\"\n",
    "DIAG=False"
   ]
  },
  {
   "cell_type": "code",
   "execution_count": null,
   "id": "bd0a1b51",
   "metadata": {},
   "outputs": [],
   "source": []
  },
  {
   "cell_type": "code",
   "execution_count": 3,
   "id": "20f381b3",
   "metadata": {},
   "outputs": [],
   "source": [
    "def parseFile(fileName):   \n",
    "    with open(fileName) as file:\n",
    "        lines =  file.readlines()\n",
    "        \n",
    "    for i, line in enumerate(lines):\n",
    "        lines[i] = (line[:-1] if line[-1]==\"\\n\" else line)        \n",
    "    \n",
    "    return lines\n",
    "    \n",
    "    \n"
   ]
  },
  {
   "cell_type": "code",
   "execution_count": 4,
   "id": "e2d36204",
   "metadata": {},
   "outputs": [],
   "source": [
    "def getGalaxies(lines):\n",
    "    shape_Y = len(lines[0])\n",
    "    res = []\n",
    "    for i,line in enumerate(lines):\n",
    "        for y in range(0,shape_Y):\n",
    "            if line[y] == \"#\":\n",
    "                res.append((i,y))\n",
    "    return res"
   ]
  },
  {
   "cell_type": "code",
   "execution_count": 5,
   "id": "2ec318e1",
   "metadata": {},
   "outputs": [],
   "source": [
    "def getEmptyRows(lines):\n",
    "    res = []\n",
    "    for i,line in enumerate(lines):\n",
    "        if len(set(line)) == 1 and line[0]==\".\":            \n",
    "            res.append(i)            \n",
    "    return set(res)"
   ]
  },
  {
   "cell_type": "code",
   "execution_count": 6,
   "id": "17f3c30b",
   "metadata": {},
   "outputs": [],
   "source": [
    "def getEmptyCols(galaxies,maxcols):\n",
    "\n",
    "    allcols = set([y for y in  range(0,maxcols)])\n",
    "    nonemptycols = set([y for (x,y) in galaxies])\n",
    "    emptycols = allcols - nonemptycols\n",
    "    return emptycols"
   ]
  },
  {
   "cell_type": "code",
   "execution_count": 7,
   "id": "578a5cb3",
   "metadata": {},
   "outputs": [],
   "source": [
    "# Replaced by galacticDist_generalised called with multiplier of 2\n",
    "\n",
    "def galacticDist_partA(gal1,gal2,emptyrows,emptycols):\n",
    "    x1,y1 = gal1\n",
    "    x2,y2 = gal2\n",
    "    basedist = abs(x2 - x1) + abs(y2-y1)\n",
    "    rowsbetween = len([x for x in emptyrows if (x > x1 and x < x2) or (x < x1 and x > x2)])\n",
    "    colsbetween = len([y for y in emptycols if (y > y1 and y < y2) or (y < y1 and y > y2)])\n",
    "    #if(rowsbetween or colsbetween): print(rowsbetween,colsbetween)\n",
    "    basedist += rowsbetween + colsbetween\n",
    "    return basedist\n",
    "                      "
   ]
  },
  {
   "cell_type": "code",
   "execution_count": 8,
   "id": "cef66f2b",
   "metadata": {},
   "outputs": [],
   "source": [
    "def galacticDist_generalised(gal1,gal2,emptyrows,emptycols,modifier):\n",
    "    x1,y1 = gal1\n",
    "    x2,y2 = gal2\n",
    "    basedist = abs(x2 - x1) + abs(y2-y1)\n",
    "    rowsbetween = len([x for x in emptyrows if (x > x1 and x < x2) or (x < x1 and x > x2)])\n",
    "    colsbetween = len([y for y in emptycols if (y > y1 and y < y2) or (y < y1 and y > y2)])\n",
    "    if DIAG: \n",
    "        if(rowsbetween or colsbetween): print(rowsbetween,colsbetween)\n",
    "\n",
    "    basedist += (modifier-1)*(rowsbetween + colsbetween)\n",
    "    return basedist\n",
    "                      "
   ]
  },
  {
   "cell_type": "code",
   "execution_count": 9,
   "id": "ca8a16f4",
   "metadata": {},
   "outputs": [],
   "source": [
    "def getAllDistances(galaxies,emptyrows,emptycols,multiplier):\n",
    "    dist = 0\n",
    "    count=0\n",
    "    for gal1 in galaxies:\n",
    "        for gal2 in galaxies:\n",
    "            if (gal1 < gal2): \n",
    "\n",
    "                d= galacticDist_generalised(gal1,gal2,emptyrows,emptycols,multiplier)\n",
    "                #d= galacticDist_partA(gal1,gal2,emptyrows,emptycols)\n",
    "                dist+=d\n",
    "                count+=1\n",
    "\n",
    "    if DIAG: print(\"Summary distance: \",dist)\n",
    "    if DIAG: print(\"Galaxy count\",count)\n",
    "        \n",
    "    return dist\n"
   ]
  },
  {
   "cell_type": "code",
   "execution_count": 10,
   "id": "cd777a38",
   "metadata": {},
   "outputs": [
    {
     "name": "stdout",
     "output_type": "stream",
     "text": [
      "Result part A:  9599070\n",
      "Result part B:  842645913794\n"
     ]
    }
   ],
   "source": [
    "skymap = parseFile(FILENAME)\n",
    "shape_Y = len(skymap[0])\n",
    "galaxies = getGalaxies(skymap)\n",
    "emptyrows = getEmptyRows(skymap)\n",
    "emptycols = getEmptyCols(galaxies,shape_Y)\n",
    "\n",
    "\n",
    "resA = getAllDistances(galaxies,emptyrows,emptycols,2)\n",
    "resB = getAllDistances(galaxies,emptyrows,emptycols,1000000)\n",
    "\n",
    "print(\"Result part A: \",resA)\n",
    "print(\"Result part B: \",resB)\n",
    "#print(count)\n"
   ]
  },
  {
   "cell_type": "code",
   "execution_count": 11,
   "id": "a7bbdd54",
   "metadata": {},
   "outputs": [
    {
     "data": {
      "text/plain": [
       "{15, 34, 39, 47, 52, 58, 60, 82, 90}"
      ]
     },
     "execution_count": 11,
     "metadata": {},
     "output_type": "execute_result"
    }
   ],
   "source": [
    "emptycols"
   ]
  },
  {
   "cell_type": "markdown",
   "id": "13bad01e",
   "metadata": {},
   "source": [
    "# Unused, from brute force approach"
   ]
  },
  {
   "cell_type": "code",
   "execution_count": 12,
   "id": "82bfabb4",
   "metadata": {},
   "outputs": [],
   "source": [
    "def expandUniverse(lines):\n",
    "    new_lines = []\n",
    "    for line in lines:\n",
    "        if len(set(line)) == 1 and line[0]==\".\":\n",
    "            if DIAG: print(\"empty row\")\n",
    "            new_lines += line\n",
    "        new_lines+= line\n",
    "    return new_lines"
   ]
  },
  {
   "cell_type": "code",
   "execution_count": 13,
   "id": "e98f5f30",
   "metadata": {},
   "outputs": [
    {
     "data": {
      "text/plain": [
       "True"
      ]
     },
     "execution_count": 13,
     "metadata": {},
     "output_type": "execute_result"
    }
   ],
   "source": [
    "galaxies[0] < galaxies[1]"
   ]
  }
 ],
 "metadata": {
  "kernelspec": {
   "display_name": "Python 3 (ipykernel)",
   "language": "python",
   "name": "python3"
  },
  "language_info": {
   "codemirror_mode": {
    "name": "ipython",
    "version": 3
   },
   "file_extension": ".py",
   "mimetype": "text/x-python",
   "name": "python",
   "nbconvert_exporter": "python",
   "pygments_lexer": "ipython3",
   "version": "3.9.13"
  }
 },
 "nbformat": 4,
 "nbformat_minor": 5
}
