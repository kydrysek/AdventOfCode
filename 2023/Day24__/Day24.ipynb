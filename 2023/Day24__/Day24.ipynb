{
 "cells": [
  {
   "cell_type": "code",
   "execution_count": 1,
   "id": "32cecffa",
   "metadata": {},
   "outputs": [],
   "source": [
    "import re\n",
    "import numpy as np"
   ]
  },
  {
   "cell_type": "code",
   "execution_count": 2,
   "id": "ee4ba025",
   "metadata": {},
   "outputs": [],
   "source": [
    "#FILENAME=\"test.txt\"\n",
    "FILENAME=\"input.txt\"\n",
    "DIAG=False\n",
    "#B_MIN = (7,7)\n",
    "#B_MAX = (27,27)\n",
    "B_MIN = (200000000000000,200000000000000)\n",
    "B_MAX = (400000000000000,400000000000000)"
   ]
  },
  {
   "cell_type": "code",
   "execution_count": 3,
   "id": "0f51d320",
   "metadata": {},
   "outputs": [],
   "source": [
    "def parseFile(my_file_name):    \n",
    "    with open(my_file_name) as file:\n",
    "        lines = file.readlines()\n",
    "    \n",
    "    dict_points = []\n",
    "    \n",
    "    for i,line in enumerate(lines):\n",
    "        if line[-1]==\"\\n\":\n",
    "            line=line[:-1]\n",
    "        if line:\n",
    "            if DIAG: print(\"Line: \",line)\n",
    "            coord,vector = line.split(\"@\")\n",
    "            x,y,z=[int(t) for t in coord.split(\",\")]\n",
    "            dx,dy,dz = [int(t) for t in vector.split(\",\")]\n",
    "            \n",
    "            dict_points+=  [(x,y,z,dx,dy,dz)]\n",
    "    return dict_points\n",
    "    \n"
   ]
  },
  {
   "cell_type": "code",
   "execution_count": 4,
   "id": "d76d02e2",
   "metadata": {},
   "outputs": [],
   "source": [
    "def findPointsIntersect2D(pointA,pointB):\n",
    "    \n",
    "    x1,y1,_,dx1,dy1,_ = pointA\n",
    "    x2,y2=(x1+dx1,y1+dy1)\n",
    "    \n",
    "    x3,y3,_,dx3,dy3,_ = pointB\n",
    "    x4,y4=(x3+dx3,y3+dy3)\n",
    "    \n",
    "    int_denom = (x1-x2)*(y3-y4)-(y1-y2)*(x3-x4)\n",
    "    if int_denom == 0:\n",
    "        x_int = None\n",
    "        y_int = None\n",
    "        \n",
    "    else:\n",
    "        x_int_nom =(x1*y2-y1*x2)*(x3-x4)-(x1-x2)*(x3*y4-y3*x4)\n",
    "        y_int_nom =(x1*y2-y1*x2)*(y3-y4)-(y1-y2)*(x3*y4-y3*x4)\n",
    "        \n",
    "        x_int,y_int = (x_int_nom/int_denom,y_int_nom/int_denom)\n",
    "    \n",
    "    return (x_int,y_int)\n",
    "\n",
    "def doPointsIntersectInFuture2D(pointA,pointB,bound1_x,bound1_y,bound2_x,bound2_y):\n",
    "    x_int,y_int = findPointsIntersect2D(pointA,pointB)\n",
    "    if x_int is None:\n",
    "        return False\n",
    "    elif x_int < bound1_x or x_int > bound2_x or y_int < bound1_y or y_int > bound2_y:\n",
    "        return False\n",
    "    else:\n",
    "        \n",
    "        \n",
    "        xA,yA,_,dxA,dyA,_ = pointA\n",
    "        xB,yB,_,dxB,dyB,_ = pointB\n",
    "        \n",
    "        sameA = (np.all(np.sign([x_int-xA,y_int-yA])==np.sign([dxA,dyA])))\n",
    "        sameB = (np.all(np.sign([x_int-xB,y_int-yB])==np.sign([dxB,dyB])))\n",
    "        \n",
    "        \n",
    "        return (sameA and sameB)"
   ]
  },
  {
   "cell_type": "code",
   "execution_count": 5,
   "id": "3f82dfb8",
   "metadata": {},
   "outputs": [],
   "source": [
    "points = parseFile(FILENAME)"
   ]
  },
  {
   "cell_type": "code",
   "execution_count": 6,
   "id": "0c1cb1f8",
   "metadata": {},
   "outputs": [
    {
     "name": "stdout",
     "output_type": "stream",
     "text": [
      "Result: 11246\n"
     ]
    }
   ],
   "source": [
    "res = 0\n",
    "for i,pA in enumerate(points):\n",
    "    for j,pB in enumerate(points):\n",
    "        if i < j:\n",
    "            if doPointsIntersectInFuture2D(pA,pB,*B_MIN,*B_MAX):\n",
    "                #print(\"Inters\",pA,pB)                \n",
    "                res+=1\n",
    "\n",
    "print(\"Result:\",res)\n",
    "            "
   ]
  },
  {
   "cell_type": "code",
   "execution_count": null,
   "id": "0c7a3240",
   "metadata": {},
   "outputs": [],
   "source": []
  },
  {
   "cell_type": "code",
   "execution_count": 10,
   "id": "0d7aa7f8",
   "metadata": {},
   "outputs": [
    {
     "name": "stdout",
     "output_type": "stream",
     "text": [
      "Nope\n"
     ]
    }
   ],
   "source": [
    "for i,pA in enumerate(points):\n",
    "    for j,pB in enumerate(points):\n",
    "        if i < j:\n",
    "            _,_,_,dxa,dya,dza = pA\n",
    "            _,_,_,dxb,dyb,dzb = pB\n",
    "            if dxa/dxb==dya/dyb and dxa/dxb==dza/dzb:\n",
    "                print(pA,pB)\n",
    "print (\"Nope\")"
   ]
  },
  {
   "cell_type": "code",
   "execution_count": 51,
   "id": "39887f9d",
   "metadata": {},
   "outputs": [],
   "source": [
    "import numpy as np\n",
    "from scipy.optimize import fsolve\n",
    "\n",
    "p1 = points[0]\n",
    "p2 = points[1]\n",
    "p3 = points[2]\n",
    "\n",
    "p_min = np.minimum.reduce([p1,p2,p3])\n",
    "\n",
    "p1_tr = p1-p_min\n",
    "p2_tr = p2-p_min\n",
    "p3_tr = p3-p_min\n",
    "\n",
    "\n",
    "def func(x):\n",
    "    a,b,c,m,n,k,t1,t2,t3=x\n",
    "    \n",
    "    return [p1_tr[0]-a+t1*(p1_tr[3]-m),p1_tr[1]-b+t1*(p1_tr[4]-n),p1_tr[2]-c+t1*(p1_tr[5]-k),\n",
    "            p2_tr[0]-a+t1*(p2_tr[3]-m),p2_tr[1]-b+t1*(p2_tr[4]-n),p2_tr[2]-c+t1*(p2_tr[5]-k),\n",
    "            p3_tr[0]-a+t1*(p2_tr[3]-m),p3_tr[1]-b+t1*(p3_tr[4]-n),p3_tr[2]-c+t1*(p3_tr[5]-k)]\n"
   ]
  },
  {
   "cell_type": "raw",
   "id": "1f8396b0",
   "metadata": {},
   "source": [
    "root = fsolve(func, x0=[100, 100,100,-2,-2,2,1,2,3],maxfev=100000)"
   ]
  },
  {
   "cell_type": "raw",
   "id": "178036e6",
   "metadata": {},
   "source": [
    "root"
   ]
  },
  {
   "cell_type": "raw",
   "id": "bc3b5912",
   "metadata": {},
   "source": [
    "func(root)"
   ]
  },
  {
   "cell_type": "code",
   "execution_count": 67,
   "id": "a3ce6512",
   "metadata": {},
   "outputs": [
    {
     "data": {
      "text/plain": [
       "array([67428652806405, 27197715052215, 85678583542213,             33,\n",
       "                   11,            281], dtype=int64)"
      ]
     },
     "execution_count": 67,
     "metadata": {},
     "output_type": "execute_result"
    }
   ],
   "source": [
    "p1_tr"
   ]
  },
  {
   "cell_type": "code",
   "execution_count": null,
   "id": "ef341799",
   "metadata": {},
   "outputs": [],
   "source": []
  },
  {
   "cell_type": "code",
   "execution_count": 73,
   "id": "e5ecd38d",
   "metadata": {},
   "outputs": [],
   "source": [
    "from z3 import *"
   ]
  },
  {
   "cell_type": "code",
   "execution_count": 75,
   "id": "96045715",
   "metadata": {},
   "outputs": [
    {
     "data": {
      "text/html": [
       "[k = 53,\n",
       " t1 = 301350904659,\n",
       " n = -94,\n",
       " t3 = 81593122140,\n",
       " m = 330,\n",
       " t2 = 824916054430,\n",
       " a = 116689373784735,\n",
       " b = 348350724549432,\n",
       " c = 251559839225936]"
      ],
      "text/plain": [
       "[k = 53,\n",
       " t1 = 301350904659,\n",
       " n = -94,\n",
       " t3 = 81593122140,\n",
       " m = 330,\n",
       " t2 = 824916054430,\n",
       " a = 116689373784735,\n",
       " b = 348350724549432,\n",
       " c = 251559839225936]"
      ]
     },
     "execution_count": 75,
     "metadata": {},
     "output_type": "execute_result"
    }
   ],
   "source": [
    "solv = Solver()\n",
    "\n",
    "t1 = Int(\"t1\")\n",
    "t2 = Int(\"t2\")\n",
    "t3 = Int(\"t3\")\n",
    "a = Int(\"a\")\n",
    "b = Int(\"b\")\n",
    "c = Int(\"c\")\n",
    "m = Int(\"m\")\n",
    "n = Int(\"n\")\n",
    "k = Int(\"k\")\n",
    "\n",
    "solv.add(t1 > 0)\n",
    "solv.add(t2 > 0)\n",
    "solv.add(t3 > 0)\n",
    "\n",
    "t=[t1,t2,t3]\n",
    "for i, point in enumerate(points[0:3]):\n",
    "    x,y,z,dx,dy,dz=point\n",
    "    solv.add(x+t[i]*dx == a+t[i]*m)\n",
    "    solv.add(y+t[i]*dy == b+t[i]*n)\n",
    "    solv.add(z+t[i]*dz == c+t[i]*k)\n",
    "\n",
    "print(solv.check())\n",
    "print(solv.model())"
   ]
  },
  {
   "cell_type": "code",
   "execution_count": 77,
   "id": "84fcd43c",
   "metadata": {},
   "outputs": [],
   "source": [
    "res = solv.model()"
   ]
  },
  {
   "cell_type": "code",
   "execution_count": 80,
   "id": "d7f89fb5",
   "metadata": {},
   "outputs": [
    {
     "data": {
      "text/plain": [
       "716599937560103"
      ]
     },
     "execution_count": 80,
     "metadata": {},
     "output_type": "execute_result"
    }
   ],
   "source": [
    "res[a].as_long()+res[b].as_long()+res[c].as_long()"
   ]
  },
  {
   "cell_type": "raw",
   "id": "c9c63159",
   "metadata": {},
   "source": [
    "Answer: 716599937560103"
   ]
  }
 ],
 "metadata": {
  "kernelspec": {
   "display_name": "Python 3 (ipykernel)",
   "language": "python",
   "name": "python3"
  },
  "language_info": {
   "codemirror_mode": {
    "name": "ipython",
    "version": 3
   },
   "file_extension": ".py",
   "mimetype": "text/x-python",
   "name": "python",
   "nbconvert_exporter": "python",
   "pygments_lexer": "ipython3",
   "version": "3.9.13"
  }
 },
 "nbformat": 4,
 "nbformat_minor": 5
}
