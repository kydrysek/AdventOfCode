{
 "cells": [
  {
   "cell_type": "code",
   "execution_count": 1,
   "id": "43554868",
   "metadata": {},
   "outputs": [],
   "source": [
    "import re\n",
    "import numpy as np"
   ]
  },
  {
   "cell_type": "code",
   "execution_count": 2,
   "id": "50f5d9e7",
   "metadata": {},
   "outputs": [],
   "source": [
    "FILENAME=\"test.txt\"\n",
    "#FILENAME=\"input.txt\"\n",
    "DIAG=False\n",
    "#B_MIN = (7,7)\n",
    "#B_MAX = (27,27)\n",
    "B_MIN = (200000000000000,200000000000000)\n",
    "B_MAX = (400000000000000,400000000000000)"
   ]
  },
  {
   "cell_type": "code",
   "execution_count": 3,
   "id": "b24b8205",
   "metadata": {},
   "outputs": [],
   "source": [
    "def parseFile(my_file_name):    \n",
    "    with open(my_file_name) as file:\n",
    "        lines = file.readlines()\n",
    "    \n",
    "    dict_points = []\n",
    "    \n",
    "    for i,line in enumerate(lines):\n",
    "        if line[-1]==\"\\n\":\n",
    "            line=line[:-1]\n",
    "        if line:\n",
    "            if DIAG: print(\"Line: \",line)\n",
    "            coord,vector = line.split(\"@\")\n",
    "            x,y,z=[int(t) for t in coord.split(\",\")]\n",
    "            dx,dy,dz = [int(t) for t in vector.split(\",\")]\n",
    "            \n",
    "            dict_points+=  [(x,y,z,dx,dy,dz)]\n",
    "    return dict_points\n",
    "    \n"
   ]
  },
  {
   "cell_type": "code",
   "execution_count": 4,
   "id": "95392198",
   "metadata": {},
   "outputs": [],
   "source": [
    "def findPointsIntersect2D(pointA,pointB):\n",
    "    \n",
    "    x1,y1,_,dx1,dy1,_ = pointA\n",
    "    x2,y2=(x1+dx1,y1+dy1)\n",
    "    \n",
    "    x3,y3,_,dx3,dy3,_ = pointB\n",
    "    x4,y4=(x3+dx3,y3+dy3)\n",
    "    \n",
    "    int_denom = (x1-x2)*(y3-y4)-(y1-y2)*(x3-x4)\n",
    "    if int_denom == 0:\n",
    "        x_int = None\n",
    "        y_int = None\n",
    "        \n",
    "    else:\n",
    "        x_int_nom =(x1*y2-y1*x2)*(x3-x4)-(x1-x2)*(x3*y4-y3*x4)\n",
    "        y_int_nom =(x1*y2-y1*x2)*(y3-y4)-(y1-y2)*(x3*y4-y3*x4)\n",
    "        \n",
    "        x_int,y_int = (x_int_nom/int_denom,y_int_nom/int_denom)\n",
    "    \n",
    "    return (x_int,y_int)\n",
    "\n",
    "def doPointsIntersectInFuture2D(pointA,pointB,bound1_x,bound1_y,bound2_x,bound2_y):\n",
    "    x_int,y_int = findPointsIntersect2D(pointA,pointB)\n",
    "    if x_int is None:\n",
    "        return False\n",
    "    elif x_int < bound1_x or x_int > bound2_x or y_int < bound1_y or y_int > bound2_y:\n",
    "        return False\n",
    "    else:\n",
    "        \n",
    "        \n",
    "        xA,yA,_,dxA,dyA,_ = pointA\n",
    "        xB,yB,_,dxB,dyB,_ = pointB\n",
    "        \n",
    "        sameA = (np.all(np.sign([x_int-xA,y_int-yA])==np.sign([dxA,dyA])))\n",
    "        sameB = (np.all(np.sign([x_int-xB,y_int-yB])==np.sign([dxB,dyB])))\n",
    "        \n",
    "        \n",
    "        return (sameA and sameB)"
   ]
  },
  {
   "cell_type": "code",
   "execution_count": 5,
   "id": "5f5b52e5",
   "metadata": {},
   "outputs": [],
   "source": [
    "points = parseFile(FILENAME)"
   ]
  },
  {
   "cell_type": "code",
   "execution_count": 6,
   "id": "df20f421",
   "metadata": {},
   "outputs": [
    {
     "name": "stdout",
     "output_type": "stream",
     "text": [
      "Result: 0\n"
     ]
    }
   ],
   "source": [
    "res = 0\n",
    "for i,pA in enumerate(points):\n",
    "    for j,pB in enumerate(points):\n",
    "        if i < j:\n",
    "            if doPointsIntersectInFuture2D(pA,pB,*B_MIN,*B_MAX):\n",
    "                #print(\"Inters\",pA,pB)                \n",
    "                res+=1\n",
    "\n",
    "print(\"Result:\",res)\n",
    "            "
   ]
  },
  {
   "cell_type": "code",
   "execution_count": 7,
   "id": "9e257131",
   "metadata": {},
   "outputs": [
    {
     "data": {
      "text/plain": [
       "5"
      ]
     },
     "execution_count": 7,
     "metadata": {},
     "output_type": "execute_result"
    }
   ],
   "source": [
    "\n",
    "len(points)"
   ]
  },
  {
   "cell_type": "raw",
   "id": "e5923397",
   "metadata": {},
   "source": [
    "def generatePoints(p,b_min,b_max):\n",
    "    res = []\n",
    "    x,y,z,dx,dy,dz=p\n",
    "    counter < 10\n",
    "    while x <= b_max[0] and x>=b_min[0] and y <= b_max[1] and y>=b_min[1]:\n",
    "        res += [(x,y,z)]\n",
    "        x,y,z=(x+dz,y+dy,z+dz)\n",
    "        print(\".\",end=\"\")\n",
    "    return len(res)\n",
    "        \n",
    "\n",
    "\n"
   ]
  },
  {
   "cell_type": "raw",
   "id": "db4b86ab",
   "metadata": {},
   "source": [
    "p=(153132266118769, 457543926115348, 216742652126134,61, -900, 310)\n",
    "#generatePoints(p,B_MIN,B_MAX)"
   ]
  },
  {
   "cell_type": "raw",
   "id": "6663480b",
   "metadata": {},
   "source": [
    "import numpy as np\n",
    "from scipy.optimize import fsolve\n",
    "\n",
    "\n",
    "def func(x):\n",
    "    #a=211614908752320\n",
    "    #m=15\n",
    "    #b=1\n",
    "    #c=1\n",
    "    a,c,m,n,k = x\n",
    "    \n",
    "    res = []\n",
    "    x1,y1,z1,dx1,dy1,dz1=points[0]\n",
    "    x2,y2,z2,dx2,dy2,dz2=points[1]\n",
    "    x3,y3,z3,dx3,dy3,dz3=points[2]\n",
    "    \n",
    "    b=y1+(a-x1)*(n-dy1)/(m-dx1)\n",
    "    #print(a,b,c,m,n,k)\n",
    "    \n",
    "    #print(x1,y1,z1,dx1,dy1,dz1)\n",
    "    #print(x2,y2,z2,dx2,dy2,dz2)\n",
    "    #print(x3,y3,z3,dx3,dy3,dz3)\n",
    "    return [(z2-c)*(m-dx2)+(dz2-k)*(x2-a),\n",
    "            (y2-b)*(m-dx2)+(dy2-n)*(x2-a),\n",
    "            (z2-c)*(m-dx2)+(dz2-k)*(x2-a),\n",
    "            (y3-b)*(m-dx3)+(dy3-n)*(x3-a),\n",
    "            (z3-c)*(m-dx3)+(dz3-k)*(x3-a)]\n",
    "            \n"
   ]
  },
  {
   "cell_type": "raw",
   "id": "ef1721ec",
   "metadata": {},
   "source": [
    "root = fsolve(func, [10,10,10,10,10],maxfev=1000)\n",
    "root"
   ]
  },
  {
   "cell_type": "raw",
   "id": "ea880fb5",
   "metadata": {},
   "source": [
    "func(root)"
   ]
  },
  {
   "cell_type": "raw",
   "id": "ebef2583",
   "metadata": {},
   "source": [
    "root[0],root[1],root[2],root[3]"
   ]
  },
  {
   "cell_type": "raw",
   "id": "bcd037a8",
   "metadata": {},
   "source": [
    "root[3],root[4],root[5]"
   ]
  },
  {
   "cell_type": "code",
   "execution_count": null,
   "id": "40e44524",
   "metadata": {},
   "outputs": [],
   "source": []
  },
  {
   "cell_type": "raw",
   "id": "c5b333ee",
   "metadata": {},
   "source": [
    "a=211614908752320.0\n",
    "m=15\n",
    "b=1\n",
    "c=1\n",
    "n=0\n",
    "k=0\n",
    "\n",
    "func([root[0],root[1]])"
   ]
  },
  {
   "cell_type": "raw",
   "id": "e8ca570b",
   "metadata": {},
   "source": [
    "p=[116689373784735.0,348350724549432.0,251559839225936.0]"
   ]
  },
  {
   "cell_type": "markdown",
   "id": "09d2e5ba",
   "metadata": {},
   "source": [
    "https://microsoft.github.io/z3guide/programming/Z3%20Python%20-%20Readonly/Introduction/\n",
    "https://colab.research.google.com/github/philzook58/z3_tutorial/blob/master/Z3%20Tutorial.ipynb\n",
    "https://ericpony.github.io/z3py-tutorial/guide-examples.htm"
   ]
  },
  {
   "cell_type": "code",
   "execution_count": 8,
   "id": "33bb1ed4",
   "metadata": {},
   "outputs": [],
   "source": [
    "from z3 import *"
   ]
  },
  {
   "cell_type": "raw",
   "id": "9166dbb1",
   "metadata": {},
   "source": [
    "a = Int('a')\n",
    "b = Int('b')\n",
    "c = Int('c')\n",
    "m = Int('m')\n",
    "n = Int('n')\n",
    "k = Int('k')\n",
    "\n",
    "solv = Solver()\n",
    "\n",
    "offset = 0\n",
    "for ind in range(0,3):\n",
    "    x,y,z,dx,dy,dz=points[ind+offset]\n",
    "    print(x,y,z,dx,dy,dz)\n",
    "    #solv.add((x-a)*(m-dx)>=0)\n",
    "    solv.add((y-b)*(m-dx) == (n-dy)*(x-a))\n",
    "    solv.add((z-c)*(m-dx) == (k-dz)*(x-a))\n",
    "    \n",
    "\n",
    "if solv.check() == \"sat\":\n",
    "    res = solv.model()\n",
    "    res\n",
    "else:\n",
    "    res = None\n",
    "    print(\"Cannot find answer\")\n"
   ]
  },
  {
   "cell_type": "code",
   "execution_count": 18,
   "id": "02556fb1",
   "metadata": {},
   "outputs": [
    {
     "name": "stdout",
     "output_type": "stream",
     "text": [
      "Cannot find answer\n"
     ]
    }
   ],
   "source": [
    "def my_abs(x):\n",
    "    return If(x > 0, x, -x)\n",
    "\n",
    "a = Int('a')\n",
    "b = Int('b')\n",
    "c = Int('c')\n",
    "m = Int('m')\n",
    "n = Int('n')\n",
    "k = Int('k')\n",
    "t1=Int('t1')\n",
    "t2=Int('t2')\n",
    "t3=Int('t3')\n",
    "\n",
    "solv = Solver()\n",
    "Ts = [t1,t2,t3]\n",
    "#for i,t in enumerate(Ts):\n",
    "#    solv.add(t>=0)    \n",
    "#    for j,s in enumerate(Ts):\n",
    "#        if j>i: solv.add(t != s)\n",
    "\n",
    "offset = 1\n",
    "for ind in range(0,3):\n",
    "    x,y,z,dx,dy,dz=points[ind+offset]\n",
    "    t =Ts[ind]\n",
    "    solv.add(x+dx*my_abs(t) == a + m*my_abs(t))\n",
    "    solv.add(y+dy*my_abs(t) == b + n*my_abs(t))\n",
    "    solv.add(z+dz*my_abs(t) == c + k*my_abs(t))    \n",
    "\n",
    "if solv.check() == \"sat\":\n",
    "    res = solv.model()\n",
    "    res\n",
    "else:\n",
    "    res = None\n",
    "    print(\"Cannot find answer\")\n"
   ]
  },
  {
   "cell_type": "raw",
   "id": "7237c887",
   "metadata": {},
   "source": [
    "t1>=0,t2>=0,t3>=0,"
   ]
  },
  {
   "cell_type": "code",
   "execution_count": 14,
   "id": "11bc1ec3",
   "metadata": {},
   "outputs": [
    {
     "data": {
      "text/plain": [
       "1"
      ]
     },
     "execution_count": 14,
     "metadata": {},
     "output_type": "execute_result"
    }
   ],
   "source": [
    "abs(-1)"
   ]
  },
  {
   "cell_type": "markdown",
   "id": "988df886",
   "metadata": {},
   "source": [
    "716599937560103"
   ]
  }
 ],
 "metadata": {
  "kernelspec": {
   "display_name": "Python 3 (ipykernel)",
   "language": "python",
   "name": "python3"
  },
  "language_info": {
   "codemirror_mode": {
    "name": "ipython",
    "version": 3
   },
   "file_extension": ".py",
   "mimetype": "text/x-python",
   "name": "python",
   "nbconvert_exporter": "python",
   "pygments_lexer": "ipython3",
   "version": "3.11.5"
  }
 },
 "nbformat": 4,
 "nbformat_minor": 5
}
