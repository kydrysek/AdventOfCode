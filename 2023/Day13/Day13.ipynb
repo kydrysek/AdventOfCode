{
 "cells": [
  {
   "cell_type": "code",
   "execution_count": 22,
   "id": "c3c454b9",
   "metadata": {},
   "outputs": [],
   "source": [
    "import numpy as np\n",
    "import pandas as pd\n",
    "import math\n",
    "import re"
   ]
  },
  {
   "cell_type": "code",
   "execution_count": 23,
   "id": "6a1052e1",
   "metadata": {},
   "outputs": [],
   "source": [
    "def buildArrayFromLines(lines):\n",
    "    \n",
    "    tmp_arr = []\n",
    "    for line in lines:\n",
    "        tmp_line = []    \n",
    "        \n",
    "        for c in line:            \n",
    "            if c == \".\":\n",
    "                tmp_line += [0]\n",
    "            elif c == \"#\":\n",
    "                tmp_line += [1]\n",
    "            elif c == \"\\n\":\n",
    "                pass\n",
    "            else:\n",
    "                print(\"THIS SHOULDN'T HAVE HAPPENED: \",print(c),\"-\",line,\"-\")\n",
    "        tmp_arr.append(tmp_line)\n",
    "    \n",
    "    \n",
    "    return np.array(tmp_arr)\n",
    "    "
   ]
  },
  {
   "cell_type": "code",
   "execution_count": 24,
   "id": "2b34b155",
   "metadata": {},
   "outputs": [],
   "source": [
    "def buildAllArrays(lines):\n",
    "    res = []\n",
    "    \n",
    "    accum_lines = []\n",
    "    for line in lines:\n",
    "        line=line.strip()\n",
    "        \n",
    "        if len(line) == 0:\n",
    "            arr_np = buildArrayFromLines(accum_lines)           \n",
    "            res.append(arr_np)\n",
    "            accum_lines = []\n",
    "        else:\n",
    "            accum_lines.append(line)\n",
    "    \n",
    "    if len(accum_lines) > 0:\n",
    "        arr_np = buildArrayFromLines(accum_lines)           \n",
    "        res.append(arr_np)\n",
    "    return res"
   ]
  },
  {
   "cell_type": "code",
   "execution_count": 25,
   "id": "20f381b3",
   "metadata": {},
   "outputs": [],
   "source": [
    "# OK\n",
    "def parseFile(fileName):   \n",
    "    with open(fileName) as file:\n",
    "        lines =  file.readlines()    \n",
    "   \n",
    "    map_list = buildAllArrays(lines)\n",
    "        \n",
    "    return map_list\n"
   ]
  },
  {
   "cell_type": "code",
   "execution_count": 27,
   "id": "a1526467",
   "metadata": {},
   "outputs": [],
   "source": [
    "def findReflectionLinesScore(arr_np,bInCols=True):\n",
    "    res = []\n",
    "    #out = -1\n",
    "    arr_fwd = arr_np.copy()\n",
    "    \n",
    "    if bInCols:\n",
    "        arr_fwd = np.transpose(arr_fwd)\n",
    "    \n",
    "    # now we can always do it by row\n",
    "    \n",
    "    \n",
    "    shape_X,_ = arr_fwd.shape\n",
    "\n",
    "    \n",
    "    \n",
    "    for i in range(1,shape_X):\n",
    "        # i means reflection line BEFORE i-th column\n",
    "        \n",
    "        my_len = min(i,shape_X-i)\n",
    "        st_col = i-my_len\n",
    "        #print(shape_Y,st_col,i,i+my_len)\n",
    "        \n",
    "        a=arr_fwd[st_col:i]\n",
    "        b=arr_fwd[i:i+my_len][::-1]\n",
    "                \n",
    "        #print(b)\n",
    "        val=np.sum(abs(b-a))\n",
    "        res.append((i,bInCols,val))\n",
    "        \n",
    "    return res"
   ]
  },
  {
   "cell_type": "code",
   "execution_count": 28,
   "id": "703c8fcf",
   "metadata": {},
   "outputs": [],
   "source": [
    "def scoreArray(arr_np,tgt_diff):\n",
    "    cols_scores =  findReflectionLinesScore(arr_np,True)\n",
    "    cols_scores_match_tgt = [x for (x,_,val) in cols_scores if val == tgt_diff]\n",
    "    \n",
    "    rows_scores =  findReflectionLinesScore(arr_np,False)\n",
    "    rows_scores_match_tgt = [x for (x,_,val) in rows_scores if val == tgt_diff]\n",
    "    \n",
    "    if cols_scores_match_tgt:\n",
    "        tgt_col = cols_scores_match_tgt[0]\n",
    "    else:\n",
    "        tgt_col = 0\n",
    "    \n",
    "    if rows_scores_match_tgt:\n",
    "        tgt_row = rows_scores_match_tgt[0]\n",
    "    else:\n",
    "        tgt_row = 0\n",
    "    \n",
    "    return tgt_col + 100*tgt_row"
   ]
  },
  {
   "cell_type": "code",
   "execution_count": 29,
   "id": "36a8e167",
   "metadata": {},
   "outputs": [],
   "source": [
    "def scoreAllArrays(arrays_list,tgt_refl_score):\n",
    "    res = 0\n",
    "    for my_arr in map_list:\n",
    "        tmp_res = scoreArray(my_arr,tgt_refl_score)\n",
    "        #tmp_res = changedLinesScore(my_arr)\n",
    "        res += tmp_res    \n",
    "    return res"
   ]
  },
  {
   "cell_type": "code",
   "execution_count": 30,
   "id": "1e867210",
   "metadata": {},
   "outputs": [],
   "source": [
    "#FILE_NAME = \"test.txt\"\n",
    "FILE_NAME = \"input.txt\""
   ]
  },
  {
   "cell_type": "code",
   "execution_count": 31,
   "id": "244cfa74",
   "metadata": {},
   "outputs": [
    {
     "name": "stdout",
     "output_type": "stream",
     "text": [
      "Result part A: 31956\n",
      "Result part B: 37617\n"
     ]
    }
   ],
   "source": [
    "map_list = parseFile(FILE_NAME)\n",
    "resA = scoreAllArrays(map_list,0)\n",
    "resB = scoreAllArrays(map_list,1)\n",
    "\n",
    "print(\"Result part A:\",resA)\n",
    "print(\"Result part B:\",resB)"
   ]
  },
  {
   "cell_type": "markdown",
   "id": "275dbf1d",
   "metadata": {},
   "source": [
    "# Testing things out for numpy arrays"
   ]
  },
  {
   "cell_type": "code",
   "execution_count": 32,
   "id": "222032ef",
   "metadata": {},
   "outputs": [],
   "source": [
    "x = np.zeros(10).reshape((2,5))"
   ]
  },
  {
   "cell_type": "code",
   "execution_count": 33,
   "id": "31c1ccfe",
   "metadata": {},
   "outputs": [
    {
     "data": {
      "text/plain": [
       "array([[0., 0., 0., 0., 0.],\n",
       "       [0., 0., 0., 0., 0.]])"
      ]
     },
     "execution_count": 33,
     "metadata": {},
     "output_type": "execute_result"
    }
   ],
   "source": [
    "x"
   ]
  },
  {
   "cell_type": "code",
   "execution_count": 34,
   "id": "6cede1d1",
   "metadata": {},
   "outputs": [],
   "source": [
    "x[1,0]=2\n",
    "x[0,1]=3"
   ]
  },
  {
   "cell_type": "code",
   "execution_count": 35,
   "id": "aa595fd6",
   "metadata": {},
   "outputs": [
    {
     "data": {
      "text/plain": [
       "array([[2., 0., 0., 0., 0.],\n",
       "       [0., 3., 0., 0., 0.]])"
      ]
     },
     "execution_count": 35,
     "metadata": {},
     "output_type": "execute_result"
    }
   ],
   "source": [
    "x[::-1]"
   ]
  },
  {
   "cell_type": "code",
   "execution_count": 36,
   "id": "6f2e0886",
   "metadata": {},
   "outputs": [
    {
     "data": {
      "text/plain": [
       "array([[0., 0., 0., 3., 0.],\n",
       "       [0., 0., 0., 0., 2.]])"
      ]
     },
     "execution_count": 36,
     "metadata": {},
     "output_type": "execute_result"
    }
   ],
   "source": [
    "x[:,::-1]"
   ]
  },
  {
   "cell_type": "code",
   "execution_count": 37,
   "id": "1673e299",
   "metadata": {},
   "outputs": [
    {
     "data": {
      "text/plain": [
       "array([[0., 3., 0., 0., 0.],\n",
       "       [2., 0., 0., 0., 0.]])"
      ]
     },
     "execution_count": 37,
     "metadata": {},
     "output_type": "execute_result"
    }
   ],
   "source": [
    "z = x.copy()\n",
    "z"
   ]
  },
  {
   "cell_type": "code",
   "execution_count": 38,
   "id": "a3869ff6",
   "metadata": {},
   "outputs": [],
   "source": [
    "z[0,0]=-1"
   ]
  },
  {
   "cell_type": "code",
   "execution_count": 39,
   "id": "73464e82",
   "metadata": {},
   "outputs": [
    {
     "data": {
      "text/plain": [
       "array([[-1.,  3.,  0.,  0.,  0.],\n",
       "       [ 2.,  0.,  0.,  0.,  0.]])"
      ]
     },
     "execution_count": 39,
     "metadata": {},
     "output_type": "execute_result"
    }
   ],
   "source": [
    "z"
   ]
  },
  {
   "cell_type": "code",
   "execution_count": 40,
   "id": "ae566505",
   "metadata": {},
   "outputs": [
    {
     "data": {
      "text/plain": [
       "array([[0., 3., 0., 0., 0.],\n",
       "       [2., 0., 0., 0., 0.]])"
      ]
     },
     "execution_count": 40,
     "metadata": {},
     "output_type": "execute_result"
    }
   ],
   "source": [
    "x"
   ]
  },
  {
   "cell_type": "code",
   "execution_count": 41,
   "id": "7722b4aa",
   "metadata": {},
   "outputs": [],
   "source": [
    "y=\"#.##..##.\""
   ]
  },
  {
   "cell_type": "code",
   "execution_count": 42,
   "id": "43012f22",
   "metadata": {},
   "outputs": [
    {
     "name": "stdout",
     "output_type": "stream",
     "text": [
      "[1, 0, 1, 1, 0, 0, 1, 1, 0]\n",
      "[[1 0 1 1 0 0 1 1 0]\n",
      " [1 0 1 1 0 0 1 1 0]]\n"
     ]
    }
   ],
   "source": [
    "res = []\n",
    "for a in y:\n",
    "    if a == \".\":\n",
    "        res += [0]\n",
    "    else:\n",
    "        res += [1]\n",
    "print(res)\n",
    "print(np.array([res,res]))"
   ]
  },
  {
   "cell_type": "code",
   "execution_count": null,
   "id": "fe279520",
   "metadata": {},
   "outputs": [],
   "source": []
  },
  {
   "cell_type": "code",
   "execution_count": 26,
   "id": "290c70d7",
   "metadata": {},
   "outputs": [],
   "source": [
    "def findReflectionsLines(arr_np,bInCols=True):\n",
    "    res = []\n",
    "    arr_fwd = arr_np.copy()\n",
    "    \n",
    "    if not bInCols:\n",
    "        arr_fwd = np.transpose(arr_fwd)\n",
    "    \n",
    "    # now we can do it by column\n",
    "    \n",
    "    \n",
    "    _,shape_Y = arr_fwd.shape\n",
    "    #print(shape_Y)\n",
    "    #\n",
    "    #print(\"---\")   \n",
    "    #print(arr_fwd)\n",
    "    #print(\"-\")\n",
    "    \n",
    "    \n",
    "    for i in range(1,shape_Y):\n",
    "        # i means reflection line BEFORE i-th column\n",
    "        \n",
    "        my_len = min(i,shape_Y-i)\n",
    "        st_col = i-my_len\n",
    "        #print(shape_Y,st_col,i,i+my_len)\n",
    "        \n",
    "        a=arr_fwd[:,st_col:i]\n",
    "        b=arr_fwd[:,i:i+my_len][:,::-1]\n",
    "                \n",
    "        #print(b)\n",
    "        \n",
    "        if np.array_equal(a,b):\n",
    "            res.append(i)\n",
    "        #print(a)\n",
    "        #print(\"-\")\n",
    "        #print(b)\n",
    "        #print(\"--\")\n",
    "    return res, i\n",
    "        \n"
   ]
  }
 ],
 "metadata": {
  "kernelspec": {
   "display_name": "Python 3 (ipykernel)",
   "language": "python",
   "name": "python3"
  },
  "language_info": {
   "codemirror_mode": {
    "name": "ipython",
    "version": 3
   },
   "file_extension": ".py",
   "mimetype": "text/x-python",
   "name": "python",
   "nbconvert_exporter": "python",
   "pygments_lexer": "ipython3",
   "version": "3.9.13"
  }
 },
 "nbformat": 4,
 "nbformat_minor": 5
}
