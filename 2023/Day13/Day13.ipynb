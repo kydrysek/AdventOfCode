{
 "cells": [
  {
   "cell_type": "code",
   "execution_count": 100,
   "id": "97702af6",
   "metadata": {},
   "outputs": [],
   "source": [
    "#!pip install mypy\n",
    "#!pip install nb_mypy"
   ]
  },
  {
   "cell_type": "code",
   "execution_count": 101,
   "id": "53f45323",
   "metadata": {},
   "outputs": [
    {
     "name": "stderr",
     "output_type": "stream",
     "text": [
      "Version 1.0.5\n"
     ]
    }
   ],
   "source": [
    "#%load_ext nb_mypy\n",
    "%reload_ext nb_mypy\n",
    "%nb_mypy On\n",
    "%nb_mypy DebugOff"
   ]
  },
  {
   "cell_type": "code",
   "execution_count": 102,
   "id": "c3c454b9",
   "metadata": {},
   "outputs": [],
   "source": [
    "import numpy as np\n",
    "#import pandas as pd\n",
    "#import math\n",
    "#import re\n",
    "\n",
    "#from typing import Union #never mind, don't need in this one\n",
    "\n",
    "DIAG=False\n"
   ]
  },
  {
   "cell_type": "markdown",
   "id": "35820acc",
   "metadata": {},
   "source": [
    "https://mypy.readthedocs.io/en/stable/cheat_sheet_py3.html"
   ]
  },
  {
   "cell_type": "code",
   "execution_count": 103,
   "id": "6a1052e1",
   "metadata": {},
   "outputs": [],
   "source": [
    "def buildArrayFromLines(lines: list[str]) -> np.ndarray:\n",
    "    \n",
    "    tmp_arr : list[list[int]] = []\n",
    "    for line in lines:\n",
    "        tmp_line = []    \n",
    "        \n",
    "        for c in line:            \n",
    "            if c == \".\":\n",
    "                tmp_line += [0]\n",
    "            elif c == \"#\":\n",
    "                tmp_line += [1]\n",
    "            elif c == \"\\n\":\n",
    "                pass\n",
    "            else:\n",
    "                print(\"THIS SHOULDN'T HAVE HAPPENED: \",print(c),\"-\",line,\"-\")\n",
    "        tmp_arr.append(tmp_line)\n",
    "        \n",
    "        if DIAG: print(\">>\",tmp_line)\n",
    "    if DIAG: print(\">>>\")\n",
    "    \n",
    "    return np.array(tmp_arr)\n",
    "    "
   ]
  },
  {
   "cell_type": "code",
   "execution_count": 104,
   "id": "2b34b155",
   "metadata": {},
   "outputs": [],
   "source": [
    "def buildAllArrays(lines: list[str]) -> list[np.ndarray]:\n",
    "    res = []\n",
    "    \n",
    "    accum_lines : list[str] = []\n",
    "    for line in lines:\n",
    "        line=line.strip()\n",
    "        \n",
    "        if len(line) == 0:\n",
    "            arr_np = buildArrayFromLines(accum_lines)           \n",
    "            res.append(arr_np)\n",
    "            accum_lines = []\n",
    "        else:\n",
    "            accum_lines.append(line)\n",
    "    \n",
    "    if len(accum_lines) > 0:\n",
    "        arr_np = buildArrayFromLines(accum_lines)           \n",
    "        res.append(arr_np)\n",
    "    \n",
    "    return res"
   ]
  },
  {
   "cell_type": "code",
   "execution_count": 105,
   "id": "20f381b3",
   "metadata": {},
   "outputs": [],
   "source": [
    "# OK\n",
    "def parseFile(fileName:str)-> list[np.ndarray]:   \n",
    "    with open(fileName) as file:\n",
    "        lines =  file.readlines()    \n",
    "   \n",
    "    map_list = buildAllArrays(lines)\n",
    "        \n",
    "    return map_list\n"
   ]
  },
  {
   "cell_type": "code",
   "execution_count": 106,
   "id": "2eb4a3b1",
   "metadata": {},
   "outputs": [],
   "source": [
    "# quick test, to make sure that parsing file and building arrays behaves as expected. \n",
    "# Set DIAG = True to see more\n",
    "res = parseFile(\"test.txt\")\n",
    "assert len(res) == 2\n",
    "assert (res[0].shape, res[1].shape) == ((7,9),(7,9))\n",
    "assert (res[0].sum(),res[1].sum()) == (28,34)\n",
    "assert (res[0][0].sum(),res[0][:,0].sum()) == (5,4) #first row, first column on first of tables\n",
    "assert (res[1][0].sum(),res[1][:,0].sum()) == (4,5) #first row, first column on second of tables"
   ]
  },
  {
   "cell_type": "code",
   "execution_count": 107,
   "id": "a1526467",
   "metadata": {},
   "outputs": [],
   "source": [
    "def findReflectionLinesScore(arr_np:np.ndarray,bInCols:bool=True)->list[tuple[int,bool,int]] :\n",
    "    \"\"\"\n",
    "    Scores all the possible reflection lines in either columns or in rows based on how imperfect refletion it represents\n",
    "    \n",
    "    Returns: list of tuples, with each tuple describing one _potential_ reflection line\n",
    "        1. index of col/row immediately after the line\n",
    "        2. bool denoting whether looking in columns or rows (True == looking in columns) \n",
    "        3. number of differences in reflection - 0 is a perfect reflection, 1 is a single cell that is different, etc        \n",
    "    \"\"\"\n",
    "    res = []\n",
    "    #out = -1\n",
    "    arr_fwd = arr_np.copy()\n",
    "    \n",
    "    if bInCols:\n",
    "        arr_fwd = np.transpose(arr_fwd)    \n",
    "    # now we can always do it by row\n",
    "    \n",
    "    \n",
    "    shape_X,_ = arr_fwd.shape\n",
    "\n",
    "    \n",
    "    \n",
    "    for i in range(1,shape_X):\n",
    "        # i means reflection line BEFORE i-th column\n",
    "        \n",
    "        my_len = min(i,shape_X-i)\n",
    "        st_col = i-my_len\n",
    "        if DIAG: print(shape_X,st_col,i,i+my_len)\n",
    "        \n",
    "        a=arr_fwd[st_col:i]\n",
    "        b=arr_fwd[i:i+my_len][::-1]\n",
    "                \n",
    "        if DIAG: print(\">..<\",b)\n",
    "            \n",
    "        val=np.sum(abs(b-a))\n",
    "        res.append((i,bInCols,val))\n",
    "        \n",
    "    return res"
   ]
  },
  {
   "cell_type": "code",
   "execution_count": 108,
   "id": "703c8fcf",
   "metadata": {},
   "outputs": [],
   "source": [
    "def scoreArray(arr_np:np.ndarray,tgt_diff:int) -> int:\n",
    "    \"\"\"\n",
    "    Pick out (first) reflection lines in rows & cols that match the target impurity (0 for perfect reflection, 1+ for imperfect).\n",
    "    Produce array score as per scoring rules.\n",
    "    \"\"\"\n",
    "    cols_scores =  findReflectionLinesScore(arr_np,True)\n",
    "    cols_scores_match_tgt = [x for (x,_,val) in cols_scores if val == tgt_diff]\n",
    "    \n",
    "    rows_scores =  findReflectionLinesScore(arr_np,False)\n",
    "    rows_scores_match_tgt = [x for (x,_,val) in rows_scores if val == tgt_diff]\n",
    "    \n",
    "    if cols_scores_match_tgt:\n",
    "        tgt_col = cols_scores_match_tgt[0]\n",
    "    else:\n",
    "        tgt_col = 0\n",
    "    \n",
    "    if rows_scores_match_tgt:\n",
    "        tgt_row = rows_scores_match_tgt[0]\n",
    "    else:\n",
    "        tgt_row = 0\n",
    "    \n",
    "    return tgt_col + 100*tgt_row"
   ]
  },
  {
   "cell_type": "raw",
   "id": "a5862fef",
   "metadata": {},
   "source": [
    "def scoreAllArrays(arrays_list:list[np.ndarray],tgt_refl_score:int,func_scoring1Array=scoreArray)->int:\n",
    "    res = 0\n",
    "    for my_arr in arrays_list:\n",
    "        tmp_res = func_scoring1Array(my_arr,tgt_refl_score)\n",
    "        #tmp_res = changedLinesScore(my_arr)\n",
    "        res += tmp_res    \n",
    "    return res"
   ]
  },
  {
   "cell_type": "code",
   "execution_count": 109,
   "id": "d901cc65",
   "metadata": {},
   "outputs": [],
   "source": [
    "def scoreAllArrays(arrays_list:list[np.ndarray],tgt_refl_score:int)->int:\n",
    "    res = 0\n",
    "    for my_arr in arrays_list:\n",
    "        tmp_res = scoreArray(my_arr,tgt_refl_score)\n",
    "        #tmp_res = changedLinesScore(my_arr)\n",
    "        res += tmp_res    \n",
    "    return res"
   ]
  },
  {
   "cell_type": "code",
   "execution_count": 110,
   "id": "1e867210",
   "metadata": {},
   "outputs": [],
   "source": [
    "FILE_NAME = \"test.txt\"\n",
    "#FILE_NAME = \"test2.txt\"\n",
    "#FILE_NAME = \"test3.txt\"\n",
    "#FILE_NAME = \"input.txt\""
   ]
  },
  {
   "cell_type": "code",
   "execution_count": 111,
   "id": "244cfa74",
   "metadata": {},
   "outputs": [
    {
     "name": "stdout",
     "output_type": "stream",
     "text": [
      "Result part A: 405\n",
      "Result part B: 400\n"
     ]
    }
   ],
   "source": [
    "map_list = parseFile(FILE_NAME)\n",
    "resA = scoreAllArrays(map_list,0)\n",
    "resB = scoreAllArrays(map_list,1)\n",
    "\n",
    "print(\"Result part A:\",resA)\n",
    "print(\"Result part B:\",resB)"
   ]
  },
  {
   "cell_type": "markdown",
   "id": "12794618",
   "metadata": {},
   "source": [
    "# App: Controls for future refactoring"
   ]
  },
  {
   "cell_type": "code",
   "execution_count": 112,
   "id": "5765db1b",
   "metadata": {},
   "outputs": [],
   "source": [
    "def wrapperFileToBothRes(my_filename:str) -> tuple[int,int]:\n",
    "    my_map_list = parseFile(my_filename)\n",
    "    return scoreAllArrays(my_map_list,0),scoreAllArrays(my_map_list,1)\n",
    "\n",
    "assert wrapperFileToBothRes(\"test2.txt\") == (5,300)\n",
    "assert wrapperFileToBothRes(\"test3.txt\") == (400,100)\n",
    "assert wrapperFileToBothRes(\"test.txt\") == (405,400)\n",
    "assert wrapperFileToBothRes(\"input.txt\") == (31956,37617)"
   ]
  },
  {
   "cell_type": "code",
   "execution_count": 139,
   "id": "14fd77d4",
   "metadata": {},
   "outputs": [],
   "source": [
    "from functools import partial\n",
    "\n",
    "def wrapperFileToBothRes2(my_filename:str,scorerA = partial(scoreAllArrays,tgt_refl_score=0),\n",
    "                          scorerB = partial(scoreAllArrays,tgt_refl_score=1)) -> tuple[int,int]:\n",
    "    my_map_list = parseFile(my_filename)\n",
    "    return scorerA(my_map_list),scorerB(my_map_list)\n",
    "\n",
    "assert wrapperFileToBothRes2(\"test2.txt\") == (5,300)\n",
    "assert wrapperFileToBothRes2(\"test3.txt\") == (400,100)\n",
    "assert wrapperFileToBothRes2(\"test.txt\") == (405,400)\n",
    "assert wrapperFileToBothRes2(\"input.txt\") == (31956,37617)"
   ]
  },
  {
   "cell_type": "code",
   "execution_count": 138,
   "id": "2c8c862b",
   "metadata": {},
   "outputs": [
    {
     "data": {
      "text/plain": [
       "(405, 400)"
      ]
     },
     "execution_count": 138,
     "metadata": {},
     "output_type": "execute_result"
    }
   ],
   "source": [
    "wrapperFileToBothRes2(\"test.txt\")"
   ]
  },
  {
   "cell_type": "code",
   "execution_count": 141,
   "id": "a8d6348b",
   "metadata": {},
   "outputs": [
    {
     "data": {
      "text/plain": [
       "(405, 405)"
      ]
     },
     "execution_count": 141,
     "metadata": {},
     "output_type": "execute_result"
    }
   ],
   "source": [
    "wrapperFileToBothRes2(\"test.txt\",scorerA=scoreAllArraysOrig,scorerB=scoreAllArraysOrig)"
   ]
  },
  {
   "cell_type": "markdown",
   "id": "275dbf1d",
   "metadata": {},
   "source": [
    "# App: Testing things out for numpy arrays"
   ]
  },
  {
   "cell_type": "code",
   "execution_count": 113,
   "id": "222032ef",
   "metadata": {},
   "outputs": [],
   "source": [
    "x = np.zeros(10).reshape((2,5))"
   ]
  },
  {
   "cell_type": "code",
   "execution_count": 114,
   "id": "31c1ccfe",
   "metadata": {},
   "outputs": [
    {
     "data": {
      "text/plain": [
       "array([[0., 0., 0., 0., 0.],\n",
       "       [0., 0., 0., 0., 0.]])"
      ]
     },
     "execution_count": 114,
     "metadata": {},
     "output_type": "execute_result"
    }
   ],
   "source": [
    "x"
   ]
  },
  {
   "cell_type": "code",
   "execution_count": 115,
   "id": "6cede1d1",
   "metadata": {},
   "outputs": [],
   "source": [
    "x[1,0]=2\n",
    "x[0,1]=3"
   ]
  },
  {
   "cell_type": "code",
   "execution_count": 116,
   "id": "aa595fd6",
   "metadata": {},
   "outputs": [
    {
     "data": {
      "text/plain": [
       "array([[2., 0., 0., 0., 0.],\n",
       "       [0., 3., 0., 0., 0.]])"
      ]
     },
     "execution_count": 116,
     "metadata": {},
     "output_type": "execute_result"
    }
   ],
   "source": [
    "x[::-1]"
   ]
  },
  {
   "cell_type": "code",
   "execution_count": 117,
   "id": "6f2e0886",
   "metadata": {},
   "outputs": [
    {
     "data": {
      "text/plain": [
       "array([[0., 0., 0., 3., 0.],\n",
       "       [0., 0., 0., 0., 2.]])"
      ]
     },
     "execution_count": 117,
     "metadata": {},
     "output_type": "execute_result"
    }
   ],
   "source": [
    "x[:,::-1]"
   ]
  },
  {
   "cell_type": "code",
   "execution_count": 118,
   "id": "1673e299",
   "metadata": {},
   "outputs": [
    {
     "data": {
      "text/plain": [
       "array([[0., 3., 0., 0., 0.],\n",
       "       [2., 0., 0., 0., 0.]])"
      ]
     },
     "execution_count": 118,
     "metadata": {},
     "output_type": "execute_result"
    }
   ],
   "source": [
    "z = x.copy()\n",
    "z"
   ]
  },
  {
   "cell_type": "code",
   "execution_count": 119,
   "id": "a3869ff6",
   "metadata": {},
   "outputs": [],
   "source": [
    "z[0,0]=-1"
   ]
  },
  {
   "cell_type": "code",
   "execution_count": 120,
   "id": "73464e82",
   "metadata": {},
   "outputs": [
    {
     "data": {
      "text/plain": [
       "array([[-1.,  3.,  0.,  0.,  0.],\n",
       "       [ 2.,  0.,  0.,  0.,  0.]])"
      ]
     },
     "execution_count": 120,
     "metadata": {},
     "output_type": "execute_result"
    }
   ],
   "source": [
    "z"
   ]
  },
  {
   "cell_type": "code",
   "execution_count": 121,
   "id": "ae566505",
   "metadata": {},
   "outputs": [
    {
     "data": {
      "text/plain": [
       "array([[0., 3., 0., 0., 0.],\n",
       "       [2., 0., 0., 0., 0.]])"
      ]
     },
     "execution_count": 121,
     "metadata": {},
     "output_type": "execute_result"
    }
   ],
   "source": [
    "x"
   ]
  },
  {
   "cell_type": "code",
   "execution_count": 122,
   "id": "9f5a75a7",
   "metadata": {},
   "outputs": [
    {
     "data": {
      "text/plain": [
       "(7, 9, 7, 9)"
      ]
     },
     "execution_count": 122,
     "metadata": {},
     "output_type": "execute_result"
    }
   ],
   "source": [
    "(7,9)+(7,9)"
   ]
  },
  {
   "cell_type": "code",
   "execution_count": 123,
   "id": "7722b4aa",
   "metadata": {},
   "outputs": [],
   "source": [
    "y=\"#.##..##.\""
   ]
  },
  {
   "cell_type": "code",
   "execution_count": 124,
   "id": "43012f22",
   "metadata": {},
   "outputs": [
    {
     "name": "stdout",
     "output_type": "stream",
     "text": [
      "[1, 0, 1, 1, 0, 0, 1, 1, 0]\n",
      "[[1 0 1 1 0 0 1 1 0]\n",
      " [1 0 1 1 0 0 1 1 0]]\n"
     ]
    }
   ],
   "source": [
    "res = []\n",
    "for a in y:\n",
    "    if a == \".\":\n",
    "        res += [0]\n",
    "    else:\n",
    "        res += [1]\n",
    "print(res)\n",
    "print(np.array([res,res]))"
   ]
  },
  {
   "cell_type": "markdown",
   "id": "7d45f078",
   "metadata": {},
   "source": [
    "# Recreation of original, less than perfect implementation"
   ]
  },
  {
   "cell_type": "code",
   "execution_count": 131,
   "id": "290c70d7",
   "metadata": {},
   "outputs": [],
   "source": [
    "def findReflectionLinesOriginal(arr_np,bInCols=True):\n",
    "    res = []\n",
    "    arr_fwd = arr_np.copy()\n",
    "    \n",
    "    if not bInCols:\n",
    "        arr_fwd = np.transpose(arr_fwd)\n",
    "    \n",
    "    # now we can do it by column   \n",
    "    _,shape_Y = arr_fwd.shape\n",
    "    \n",
    "    \n",
    "    for i in range(1,shape_Y):\n",
    "        # i means reflection line BEFORE i-th column\n",
    "        \n",
    "        my_len = min(i,shape_Y-i)\n",
    "        st_col = i-my_len\n",
    "        if DIAG: print(shape_Y,st_col,i,i+my_len)\n",
    "        \n",
    "        a=arr_fwd[:,st_col:i]\n",
    "        b=arr_fwd[:,i:i+my_len][:,::-1]\n",
    "                \n",
    "        #print(b)\n",
    "        \n",
    "        if np.array_equal(a,b):\n",
    "            res.append(i)            \n",
    "\n",
    "    return res\n",
    "        \n"
   ]
  },
  {
   "cell_type": "code",
   "execution_count": 142,
   "id": "6612d677",
   "metadata": {},
   "outputs": [],
   "source": [
    "def scoreArrayOrig_partA(arr_np:np.ndarray) -> int:\n",
    "    cols_reflections =  findReflectionLinesOriginal(arr_np,True)        \n",
    "    rows_reflections =  findReflectionLinesOriginal(arr_np,False)    \n",
    "    \n",
    "    if cols_reflections:\n",
    "        tgt_col = cols_reflections[0]\n",
    "    else:\n",
    "        tgt_col = 0\n",
    "    \n",
    "    if rows_reflections:\n",
    "        tgt_row = rows_reflections[0]\n",
    "    else:\n",
    "        tgt_row = 0\n",
    "    \n",
    "    return tgt_col + 100*tgt_row"
   ]
  },
  {
   "cell_type": "code",
   "execution_count": 143,
   "id": "7d21073c",
   "metadata": {},
   "outputs": [],
   "source": [
    "def scoreAllArraysOrig(arrays_list:list[np.ndarray],scorer=scoreArrayOrig_partA)->int:    \n",
    "    res = 0\n",
    "    for my_arr in arrays_list:\n",
    "        tmp_res = scorer(my_arr)\n",
    "        #tmp_res = changedLinesScore(my_arr)\n",
    "        res += tmp_res    \n",
    "    return res"
   ]
  },
  {
   "cell_type": "code",
   "execution_count": 144,
   "id": "c416812d",
   "metadata": {},
   "outputs": [
    {
     "data": {
      "text/plain": [
       "405"
      ]
     },
     "execution_count": 144,
     "metadata": {},
     "output_type": "execute_result"
    }
   ],
   "source": [
    "scoreAllArraysOrig(map_list)"
   ]
  },
  {
   "cell_type": "code",
   "execution_count": null,
   "id": "851e63b1",
   "metadata": {},
   "outputs": [],
   "source": [
    "def scoreArrayOrig_partB(arr_np:np.ndarray) -> int:\n",
    "    orig_cols_reflections =  findReflectionLinesOriginal(arr_np,True)        \n",
    "    orig_rows_reflections =  findReflectionLinesOriginal(arr_np,False)    \n",
    "    \n",
    "    shX,shY = arr_np.shape\n",
    "    for i in range(0,shX):\n",
    "        for j in range(0,shY):\n",
    "            arr_np[i,j]=1-arr_np[i,j]\n",
    "            \n",
    "            new_cols_reflections =  findReflectionLinesOriginal(arr_np,True)   \n",
    "            new_rows_reflections =  findReflectionLinesOriginal(arr_np,False)   \n",
    "            \n",
    "            #restore for next run\n",
    "            arr_np[i,j]=1-arr_np[i,j]\n",
    "    with np.nditer(map_list[1],op_flags=['readwrite']) as it:\n",
    "        \n",
    "    for x in it:\n",
    "        print(\">\",x)\n",
    "        x[...]=2\n",
    "        print(map_list[1])\n",
    "        break"
   ]
  },
  {
   "cell_type": "code",
   "execution_count": null,
   "id": "9d0c4244",
   "metadata": {},
   "outputs": [],
   "source": [
    "def scoreAllArraysOrig_partB(arrays_list:list[np.ndarray])->int:    "
   ]
  },
  {
   "cell_type": "code",
   "execution_count": null,
   "id": "7ba294d4",
   "metadata": {},
   "outputs": [],
   "source": []
  },
  {
   "cell_type": "code",
   "execution_count": 152,
   "id": "d50ef554",
   "metadata": {},
   "outputs": [
    {
     "name": "stderr",
     "output_type": "stream",
     "text": [
      "<cell>1: \u001b[1m\u001b[91merror:\u001b[0m List item 0 has incompatible type \u001b[0m\u001b[1m\"str\"\u001b[0m; expected \u001b[0m\u001b[1m\"Sequence[Literal['aligned', 'allocate', 'arraymask', 'copy', 'config', 'nbo', 'no_subtype', 'no_broadcast', 'overlap_assume_elementwise', 'readonly', 'readwrite', 'updateifcopy', 'virtual', 'writeonly', 'writemasked']]\"\u001b[0m  \u001b[0m\u001b[93m[list-item]\u001b[0m\n",
      "<cell>4: \u001b[1m\u001b[91merror:\u001b[0m Unsupported target for indexed assignment (\u001b[0m\u001b[1m\"tuple[ndarray[Any, dtype[Any]], ...]\"\u001b[0m)  \u001b[0m\u001b[93m[index]\u001b[0m\n"
     ]
    },
    {
     "name": "stdout",
     "output_type": "stream",
     "text": [
      "> 2\n",
      "[[2 0 0 0 1 1 0 0 1]\n",
      " [1 0 0 0 0 1 0 0 1]\n",
      " [0 0 1 1 0 0 1 1 1]\n",
      " [1 1 1 1 1 0 1 1 0]\n",
      " [1 1 1 1 1 0 1 1 0]\n",
      " [0 0 1 1 0 0 1 1 1]\n",
      " [1 0 0 0 0 1 0 0 1]]\n"
     ]
    }
   ],
   "source": [
    "with np.nditer(map_list[1],op_flags=['readwrite']) as it:\n",
    "    for x in it:\n",
    "        print(\">\",x)\n",
    "        x[...]=2\n",
    "        print(map_list[1])\n",
    "        break"
   ]
  }
 ],
 "metadata": {
  "kernelspec": {
   "display_name": "Python 3 (ipykernel)",
   "language": "python",
   "name": "python3"
  },
  "language_info": {
   "codemirror_mode": {
    "name": "ipython",
    "version": 3
   },
   "file_extension": ".py",
   "mimetype": "text/x-python",
   "name": "python",
   "nbconvert_exporter": "python",
   "pygments_lexer": "ipython3",
   "version": "3.11.5"
  }
 },
 "nbformat": 4,
 "nbformat_minor": 5
}
