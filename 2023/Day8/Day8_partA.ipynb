{
 "cells": [
  {
   "cell_type": "markdown",
   "id": "8dbd5014",
   "metadata": {},
   "source": [
    "# Brute force walkthrough"
   ]
  },
  {
   "cell_type": "code",
   "execution_count": null,
   "id": "06f678e7",
   "metadata": {},
   "outputs": [],
   "source": [
    "def parseFile(fileName):\n",
    "    dict_graph = {}\n",
    "    with open(fileName) as file:\n",
    "        instructions = file.readline()\n",
    "        if (instructions[-1:]==\"\\n\"):\n",
    "            instructions = instructions[:-1]\n",
    "\n",
    "        file.readline()\n",
    "        \n",
    "        for line in file.readlines():\n",
    "            src = line[:3]\n",
    "            left = line[7:10]\n",
    "            right = line[12:15]\n",
    "            #print(src,left,right)\n",
    "            dict_graph[src] = (left,right)\n",
    "        \n",
    "    return instructions,dict_graph\n",
    "\n",
    "print(\"Hop\")"
   ]
  },
  {
   "cell_type": "code",
   "execution_count": null,
   "id": "df92a481",
   "metadata": {},
   "outputs": [],
   "source": [
    "def findStartingNodes(dict_graph):\n",
    "    res = []\n",
    "    for key in dict_graph.keys():\n",
    "        if key == \"AAA\":\n",
    "            res.append(key)\n",
    "    return(res)\n",
    "print(\"Hop\")"
   ]
  },
  {
   "cell_type": "code",
   "execution_count": null,
   "id": "0f15542a",
   "metadata": {},
   "outputs": [],
   "source": [
    "def finishingNodes(node_list):\n",
    "    return  all([ x==\"ZZZ\" for x in node_list])\n",
    "print(\"Hop\")"
   ]
  },
  {
   "cell_type": "code",
   "execution_count": null,
   "id": "8658ae95",
   "metadata": {},
   "outputs": [],
   "source": [
    "instr, dict_graph = parseFile('input.txt')\n",
    "\n",
    "counter = 0\n",
    "instr_counter = 0\n",
    "nodes_curr = findStartingNodes(dict_graph)\n",
    "\n",
    "instr_len = len(instr)\n",
    "\n",
    "while not finishingNodes(nodes_curr):\n",
    "    #print(counter)\n",
    "    instr_letter = instr[instr_counter]\n",
    "    for i,node in enumerate(nodes_curr):\n",
    "        left,right = dict_graph[node]\n",
    "        if instr_letter == \"L\":\n",
    "            nodes_curr[i] = left\n",
    "        else:\n",
    "            nodes_curr[i] = right        \n",
    "    \n",
    "    counter += 1\n",
    "    instr_counter +=1\n",
    "    instr_counter = instr_counter % instr_len\n",
    "\n",
    "print(\"Result: \",counter)\n",
    "        \n",
    "    \n",
    "    \n"
   ]
  }
 ],
 "metadata": {
  "kernelspec": {
   "display_name": "Python 3 (ipykernel)",
   "language": "python",
   "name": "python3"
  },
  "language_info": {
   "codemirror_mode": {
    "name": "ipython",
    "version": 3
   },
   "file_extension": ".py",
   "mimetype": "text/x-python",
   "name": "python",
   "nbconvert_exporter": "python",
   "pygments_lexer": "ipython3",
   "version": "3.9.13"
  }
 },
 "nbformat": 4,
 "nbformat_minor": 5
}
