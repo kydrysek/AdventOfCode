{
 "cells": [
  {
   "cell_type": "markdown",
   "id": "9ef63a42",
   "metadata": {},
   "source": [
    "# Least common multiplier approach"
   ]
  },
  {
   "cell_type": "code",
   "execution_count": 13,
   "id": "20f381b3",
   "metadata": {},
   "outputs": [
    {
     "name": "stdout",
     "output_type": "stream",
     "text": [
      "Hop\n"
     ]
    }
   ],
   "source": [
    "def parseFile(fileName):\n",
    "    dict_graph = {}\n",
    "    with open(fileName) as file:\n",
    "        instructions = file.readline()\n",
    "        if (instructions[-1:]==\"\\n\"):\n",
    "            instructions = instructions[:-1]\n",
    "\n",
    "        file.readline()\n",
    "        \n",
    "        for line in file.readlines():\n",
    "            src = line[:3]\n",
    "            left = line[7:10]\n",
    "            right = line[12:15]\n",
    "            #print(src,left,right)\n",
    "            dict_graph[src] = (left,right)\n",
    "        \n",
    "    return instructions,dict_graph\n",
    "\n",
    "print(\"Hop\")"
   ]
  },
  {
   "cell_type": "code",
   "execution_count": 14,
   "id": "0dea8774",
   "metadata": {},
   "outputs": [
    {
     "name": "stdout",
     "output_type": "stream",
     "text": [
      "Hop\n"
     ]
    }
   ],
   "source": [
    "def findStartingNodes(dict_graph):\n",
    "    res = []\n",
    "    for key in dict_graph.keys():\n",
    "        if key[-1] == \"A\":\n",
    "            res.append(key)\n",
    "    return(res)\n",
    "print(\"Hop\")"
   ]
  },
  {
   "cell_type": "code",
   "execution_count": 15,
   "id": "83c0e768",
   "metadata": {},
   "outputs": [
    {
     "name": "stdout",
     "output_type": "stream",
     "text": [
      "Hop\n"
     ]
    }
   ],
   "source": [
    "def finishingNodes(node_list):\n",
    "    return  all([ x[-1]==\"Z\" for x in node_list])\n",
    "print(\"Hop\")"
   ]
  },
  {
   "cell_type": "code",
   "execution_count": 16,
   "id": "b3d4a193",
   "metadata": {},
   "outputs": [],
   "source": [
    "def findNodeMutliple(my_node):\n",
    "    counter = 0\n",
    "    instr_counter = 0\n",
    "    node = my_node\n",
    "    instr_len = len(instr)\n",
    "\n",
    "    while not finishingNodes([node]) and counter < 100000000:\n",
    "        if counter % 10000 == 0: print(\".\",end=\"\")\n",
    "        instr_letter = instr[instr_counter]\n",
    "    \n",
    "        left,right = dict_graph[node]\n",
    "        if instr_letter == \"L\":\n",
    "            node = left\n",
    "        else:\n",
    "            node = right        \n",
    "    \n",
    "        counter += 1\n",
    "        instr_counter +=1\n",
    "        instr_counter = instr_counter % instr_len\n",
    "\n",
    "    print()\n",
    "    return counter\n"
   ]
  },
  {
   "cell_type": "code",
   "execution_count": 17,
   "id": "9bff34a4",
   "metadata": {},
   "outputs": [
    {
     "name": "stdout",
     "output_type": "stream",
     "text": [
      "['FDA', 'BPA', 'BVA', 'NDA', 'AAA', 'QCA']\n",
      "..\n",
      "FDA >>> 19199\n",
      "..\n",
      "BPA >>> 11309\n",
      "..\n",
      "BVA >>> 17621\n",
      "...\n",
      "NDA >>> 20777\n",
      "..\n",
      "AAA >>> 16043\n",
      "..\n",
      "QCA >>> 15517\n",
      "[19199, 11309, 17621, 20777, 16043, 15517]\n",
      "15726453850399\n"
     ]
    }
   ],
   "source": [
    "import math\n",
    "\n",
    "instr, dict_graph = parseFile('input.txt')\n",
    "\n",
    "counter = 0\n",
    "instr_counter = 0\n",
    "nodes_curr = findStartingNodes(dict_graph)\n",
    "print(nodes_curr)\n",
    "\n",
    "instr_len = len(instr)\n",
    "\n",
    "dict_multipl = {}\n",
    "res = []\n",
    "for node in nodes_curr:\n",
    "    multiple = findNodeMutliple(node)\n",
    "    print(node,\">>>\",multiple)\n",
    "    dict_multipl[node] = multiple\n",
    "    res.append(multiple)\n",
    "\n",
    "print(res)\n",
    "print(math.lcm(*res))\n"
   ]
  }
 ],
 "metadata": {
  "kernelspec": {
   "display_name": "Python 3 (ipykernel)",
   "language": "python",
   "name": "python3"
  },
  "language_info": {
   "codemirror_mode": {
    "name": "ipython",
    "version": 3
   },
   "file_extension": ".py",
   "mimetype": "text/x-python",
   "name": "python",
   "nbconvert_exporter": "python",
   "pygments_lexer": "ipython3",
   "version": "3.9.13"
  }
 },
 "nbformat": 4,
 "nbformat_minor": 5
}
