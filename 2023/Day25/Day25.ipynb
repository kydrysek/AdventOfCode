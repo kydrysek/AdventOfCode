{
 "cells": [
  {
   "cell_type": "code",
   "execution_count": 44,
   "id": "c160beda",
   "metadata": {},
   "outputs": [],
   "source": [
    "import numpy as np\n",
    "import pandas as pd\n",
    "import math\n",
    "import re"
   ]
  },
  {
   "cell_type": "markdown",
   "id": "e668d268",
   "metadata": {},
   "source": [
    "# Parse input"
   ]
  },
  {
   "cell_type": "code",
   "execution_count": 45,
   "id": "7e7b564a",
   "metadata": {},
   "outputs": [],
   "source": [
    "#FILENAME=\"test.txt\"\n",
    "FILENAME=\"input.txt\"\n",
    "DIAG=False"
   ]
  },
  {
   "cell_type": "code",
   "execution_count": 46,
   "id": "22c40fab",
   "metadata": {},
   "outputs": [],
   "source": [
    "def getNodes(edges):\n",
    "    res_set = set([x for (x,y) in edges]+[y for (x,y) in edges])\n",
    "    return list(res_set)"
   ]
  },
  {
   "cell_type": "code",
   "execution_count": 47,
   "id": "4b094ac6",
   "metadata": {},
   "outputs": [],
   "source": [
    "def parseFile(my_file_name):    \n",
    "    with open(my_file_name) as file:\n",
    "        lines = file.readlines()\n",
    "    \n",
    "    edges = []\n",
    "    \n",
    "    for i,line in enumerate(lines):\n",
    "        if line[-1]==\"\\n\":\n",
    "            line=line[:-1]\n",
    "        if line:\n",
    "            if DIAG: print(\"Line: \",line)\n",
    "            edge,rest = line.split(\":\")\n",
    "            \n",
    "            edge = edge.strip()\n",
    "            \n",
    "            for x in rest.split():\n",
    "                x=x.strip()\n",
    "         \n",
    "                if edge<x:\n",
    "                    edges += [(edge,x)]\n",
    "                else:\n",
    "                    edges += [(x,edge)]\n",
    "            \n",
    "            \n",
    "            \n",
    "    return edges\n",
    "    "
   ]
  },
  {
   "cell_type": "code",
   "execution_count": 48,
   "id": "8aa6a31e",
   "metadata": {},
   "outputs": [],
   "source": [
    "edges = parseFile(FILENAME)\n",
    "if DIAG: edges"
   ]
  },
  {
   "cell_type": "markdown",
   "id": "8058698c",
   "metadata": {},
   "source": [
    "# Bruteforce"
   ]
  },
  {
   "cell_type": "code",
   "execution_count": 49,
   "id": "0a796330",
   "metadata": {},
   "outputs": [],
   "source": [
    "def getNumComponents(edges_in,nodes_in):\n",
    "    edges = edges_in.copy()\n",
    "    nodes = nodes_in.copy()\n",
    "    components = []\n",
    "    #print(\"Nodes: \",nodes)\n",
    "    \n",
    "    dictNodesSeen = {}\n",
    "    for node in nodes:\n",
    "        dictNodesSeen[node]=-1\n",
    "    \n",
    "    k=0\n",
    "    while nodes:\n",
    "        comp = []\n",
    "        queue=[nodes[0]]\n",
    "    \n",
    "        while queue:\n",
    "            node = queue[0]\n",
    "            queue = queue[1:]\n",
    "                        \n",
    "            dictNodesSeen[node] = k\n",
    "                        \n",
    "            neighb_edges = [(x,y) for (x,y) in edges if x == node or y == node]\n",
    "            neighb_nodes = getNodes(neighb_edges)\n",
    "            \n",
    "            for n in neighb_nodes:\n",
    "                if dictNodesSeen[n] == -1:\n",
    "                    queue += [n]\n",
    "                    dictNodesSeen[n] = k\n",
    "            \n",
    "            #print(node)\n",
    "            \n",
    "            nodes.remove(node)\n",
    "            comp+=[node]\n",
    "            for e in neighb_edges:\n",
    "                edges.remove(e)\n",
    "        \n",
    "        k+=1\n",
    "        components += [comp]\n",
    "    \n",
    "    return components\n",
    "        "
   ]
  },
  {
   "cell_type": "code",
   "execution_count": 50,
   "id": "a2cd1a5b",
   "metadata": {},
   "outputs": [],
   "source": [
    "def find3wires(edges):\n",
    "    \n",
    "    n=len(edges)\n",
    "    nodes = getNodes(edges)\n",
    "    \n",
    "    for i in range(0,n):\n",
    "        for j in range(i+1,n):\n",
    "            for k in range(j+1,n):\n",
    "                edges_copy = edges.copy()\n",
    "                edges_copy.remove(edges[i])\n",
    "                edges_copy.remove(edges[j])\n",
    "                edges_copy.remove(edges[k])\n",
    "                \n",
    "                comps = getNumComponents(edges_copy,nodes)\n",
    "                if DIAG: print(\"Components: \",comps,end=\"\\n\\n\")\n",
    "                if len(comps) == 2:\n",
    "                    return len(comps[0])*len(comps[1])\n",
    "    return -1            "
   ]
  },
  {
   "cell_type": "code",
   "execution_count": 51,
   "id": "2a3f0b8c",
   "metadata": {
    "scrolled": false
   },
   "outputs": [],
   "source": [
    "#find3wires(edges)"
   ]
  },
  {
   "cell_type": "markdown",
   "id": "1350bdae",
   "metadata": {},
   "source": [
    "# Use networkx library"
   ]
  },
  {
   "cell_type": "code",
   "execution_count": 52,
   "id": "2c696ca8",
   "metadata": {},
   "outputs": [
    {
     "name": "stdout",
     "output_type": "stream",
     "text": [
      "583632\n"
     ]
    }
   ],
   "source": [
    "import networkx as nx\n",
    "\n",
    "G = nx.Graph()\n",
    "G.add_edges_from(edges)\n",
    "\n",
    "res,comp = nx.stoer_wagner(G)\n",
    "print(len(comp[0])*len(comp[1]))"
   ]
  }
 ],
 "metadata": {
  "kernelspec": {
   "display_name": "Python 3 (ipykernel)",
   "language": "python",
   "name": "python3"
  },
  "language_info": {
   "codemirror_mode": {
    "name": "ipython",
    "version": 3
   },
   "file_extension": ".py",
   "mimetype": "text/x-python",
   "name": "python",
   "nbconvert_exporter": "python",
   "pygments_lexer": "ipython3",
   "version": "3.9.13"
  }
 },
 "nbformat": 4,
 "nbformat_minor": 5
}
