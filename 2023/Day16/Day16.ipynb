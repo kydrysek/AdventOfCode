{
 "cells": [
  {
   "cell_type": "code",
   "execution_count": 1,
   "id": "c3c454b9",
   "metadata": {},
   "outputs": [],
   "source": [
    "import numpy as np\n",
    "import pandas as pd\n",
    "import math\n",
    "import re"
   ]
  },
  {
   "cell_type": "code",
   "execution_count": null,
   "id": "0ed281b4",
   "metadata": {},
   "outputs": [],
   "source": []
  },
  {
   "cell_type": "code",
   "execution_count": 2,
   "id": "1e867210",
   "metadata": {},
   "outputs": [],
   "source": [
    "FILE_NAME = \"test.txt\"\n",
    "#FILE_NAME = \"input.txt\"\n",
    "DIAG=False\n",
    "DIAG2 = False"
   ]
  },
  {
   "cell_type": "code",
   "execution_count": 3,
   "id": "fe279520",
   "metadata": {},
   "outputs": [],
   "source": [
    "CHAR_MAP = {\".\":0, \"/\":1,\"\\\\\":2,\"|\":3,\"-\":4}\n",
    "\n",
    "def getCharFromNum(num):\n",
    "    for x,y in CHAR_MAP.items():\n",
    "        if y == num:\n",
    "            return x\n",
    "            "
   ]
  },
  {
   "cell_type": "code",
   "execution_count": 4,
   "id": "6a1052e1",
   "metadata": {},
   "outputs": [],
   "source": [
    "def buildArrayFromLines(lines):\n",
    "    \n",
    "    tmp_arr = []\n",
    "    for line in lines:\n",
    "        tmp_line = []    \n",
    "        \n",
    "        for c in line:\n",
    "            if c != \"\\n\":\n",
    "                tmp_line += [CHAR_MAP[c]]\n",
    "        tmp_arr.append(tmp_line)\n",
    "    \n",
    "    \n",
    "    return np.array(tmp_arr)\n",
    "    "
   ]
  },
  {
   "cell_type": "code",
   "execution_count": 5,
   "id": "20f381b3",
   "metadata": {},
   "outputs": [],
   "source": [
    "# OK\n",
    "def parseFile(fileName):   \n",
    "    with open(fileName) as file:\n",
    "        lines =  file.readlines()    \n",
    "   \n",
    "    my_arr = buildArrayFromLines(lines)\n",
    "    \n",
    "    \n",
    "    return my_arr\n"
   ]
  },
  {
   "cell_type": "code",
   "execution_count": 6,
   "id": "1caa3a6d",
   "metadata": {},
   "outputs": [],
   "source": [
    "def decideNextStep(cell,direct):\n",
    "    if DIAG: print(cell)\n",
    "    res = []    \n",
    "    if cell == 0:\n",
    "        res  = [direct]\n",
    "    elif cell == 1:\n",
    "        res = [(-direct[1],-direct[0])]\n",
    "    elif cell == 2:\n",
    "        res = [(direct[1],direct[0])]\n",
    "    elif cell == 3:\n",
    "        if direct[1] == 0:\n",
    "            res  = [direct]\n",
    "        else:\n",
    "            res = [(-1,0),(1,0)]\n",
    "    elif cell == 4:\n",
    "        if direct[0] == 0:\n",
    "            res  = [direct]\n",
    "        else:\n",
    "            res = [(0,-1),(0,1)]\n",
    "    else:\n",
    "        print(\"What the hell?\")\n",
    "    return res\n",
    "\n",
    "assert decideNextStep(1,(0,1)) == [(-1,0)]\n",
    "assert decideNextStep(1,(-1,0)) == [(0,1)]\n",
    "assert decideNextStep(1,(1,0)) == [(0,-1)]\n",
    "assert decideNextStep(1,(0,-1)) == [(1,0)]\n",
    "\n",
    "assert decideNextStep(2,(0,1)) == [(1,0)]\n",
    "assert decideNextStep(2,(-1,0)) == [(0,-1)]\n",
    "assert decideNextStep(2,(1,0)) == [(0,1)]\n",
    "assert decideNextStep(2,(0,-1)) == [(-1,0)]\n",
    "\n",
    "assert decideNextStep(3,(0,1)) == [(-1,0),(1,0)]\n",
    "assert decideNextStep(3,(-1,0)) == [(-1,0)]\n",
    "assert decideNextStep(3,(1,0)) == [(1,0)]\n",
    "assert decideNextStep(3,(0,-1)) ==  [(-1,0),(1,0)]\n",
    "\n",
    "assert decideNextStep(4,(0,1)) == [(0,1)] #[(-1,0),(1,0)]\n",
    "assert decideNextStep(4,(-1,0)) == [(0,-1),(0,1)]\n",
    "assert decideNextStep(4,(1,0)) == [(0,-1),(0,1)]\n",
    "assert decideNextStep(4,(0,-1)) ==  [(0,-1)] #[(0,-1),(0,1)]\n",
    "\n",
    "assert decideNextStep(0,(0,1)) == [(0,1)]\n",
    "assert decideNextStep(0,(-1,0)) == [(-1,0)]\n",
    "assert decideNextStep(0,(1,0)) == [(1,0)]\n",
    "assert decideNextStep(0,(0,-1)) == [(0,-1)]"
   ]
  },
  {
   "cell_type": "code",
   "execution_count": 7,
   "id": "287ae214",
   "metadata": {},
   "outputs": [],
   "source": [
    "#STEPS_PROCESSED = set()\n",
    "#STEPS_TO_PROCESS = set()"
   ]
  },
  {
   "cell_type": "code",
   "execution_count": 8,
   "id": "e811cfc5",
   "metadata": {},
   "outputs": [],
   "source": [
    "def processStep(inMap,outMap,x,y,direct,STEPS_PROCESSED,STEPS_TO_PROCESS):\n",
    "    \"\"\"\n",
    "    direct is (,) and a direction we had coming into the cell\n",
    "    \"\"\"\n",
    "    if DIAG: print(\">> step to process:\",x,y,direct)\n",
    "    shape_X,shape_Y = inMap.shape\n",
    "    if not(x in range(0,shape_X) and y in range(0,shape_X)):\n",
    "        # we had stepped  off the map\n",
    "        if DIAG: print(\"off the map\")\n",
    "        pass\n",
    "    elif (x,y,direct) in STEPS_PROCESSED:\n",
    "        #we've already walked through this cell in this direction. Nothing to do\n",
    "        if DIAG: print(\"already seen\")\n",
    "        pass\n",
    "    else:\n",
    "        # mark cell as hot\n",
    "        outMap[x,y]=1\n",
    "        \n",
    "        STEPS_PROCESSED.add((x,y,direct))\n",
    "        # STEPS_TO_PROCESS.REMOVE((x,y,direct)) it's already been popped\n",
    "        if DIAG: print(\"processing\")\n",
    "        next_steps = decideNextStep(inMap[x,y],direct)\n",
    "        if DIAG: print(\"  Have some next steps: \",next_steps)\n",
    "        for step in next_steps:\n",
    "            nn = (x+step[0],y+step[1],step)\n",
    "            if nn in STEPS_PROCESSED:\n",
    "                pass\n",
    "            else:\n",
    "                STEPS_TO_PROCESS.add(nn)\n",
    "                    \n",
    "    return outMap"
   ]
  },
  {
   "cell_type": "code",
   "execution_count": 9,
   "id": "ddbbe48c",
   "metadata": {},
   "outputs": [],
   "source": [
    "def processMap(inMap,starting_step):\n",
    "    #print(mirror_map)\n",
    "    energ_map = np.zeros(inMap.shape)    \n",
    "\n",
    "    STEPS_PROCESSED  = set([])\n",
    "    STEPS_TO_PROCESS  = set([starting_step])\n",
    "    counter = 0 \n",
    "    while len(STEPS_TO_PROCESS) > 0 and counter < 10000000:\n",
    "        move = STEPS_TO_PROCESS.pop()\n",
    "        if DIAG: print(\"Outer loop: \", move, \"counter: \",counter)\n",
    "        energ_map= processStep(mirror_map,energ_map,*move,STEPS_PROCESSED,STEPS_TO_PROCESS)\n",
    "    \n",
    "        counter+=1\n",
    "    \n",
    "    res = sum(sum(energ_map))\n",
    "    if DIAG: print(res)\n",
    "    return res\n",
    "    \n"
   ]
  },
  {
   "cell_type": "code",
   "execution_count": 12,
   "id": "70755ae8",
   "metadata": {},
   "outputs": [],
   "source": [
    "def getBestActivation(map_to_process,starting_steps):\n",
    "    res = []\n",
    "    for step in starting_steps:\n",
    "        res_sing = processMap(mirror_map,step)\n",
    "        res+=[res_sing]\n",
    "\n",
    "    #print(res)\n",
    "    return max(res)"
   ]
  },
  {
   "cell_type": "code",
   "execution_count": 13,
   "id": "96624f11",
   "metadata": {},
   "outputs": [],
   "source": [
    "def getActivationTopLeftCorner(map_to_process):\n",
    "    starting_steps = [(0,0,(0,1))]\n",
    "    return getBestActivation(map_to_process,starting_steps)"
   ]
  },
  {
   "cell_type": "code",
   "execution_count": 16,
   "id": "afc14c9b",
   "metadata": {},
   "outputs": [],
   "source": [
    "def getActivationAllEdge(map_to_process):\n",
    "    shape_X,shape_Y = mirror_map.shape\n",
    "\n",
    "    starting_steps = [(0,x,(1,0)) for x in range(0,shape_Y)]\n",
    "    starting_steps += [(shape_X-1,x,(-1,0)) for x in range(0,shape_Y)]\n",
    "    starting_steps += [(x,0,(0,1)) for x in range(0,shape_X)]\n",
    "    starting_steps += [(x,shape_Y-1,(0,-1)) for x in range(0,shape_X)]\n",
    "\n",
    "    return getBestActivation(map_to_process,starting_steps)"
   ]
  },
  {
   "cell_type": "code",
   "execution_count": 17,
   "id": "7281c437",
   "metadata": {
    "scrolled": false
   },
   "outputs": [
    {
     "name": "stdout",
     "output_type": "stream",
     "text": [
      "Result part A: 8112.0\n",
      "Result part B: 8314.0\n"
     ]
    }
   ],
   "source": [
    "# import sys\n",
    "\n",
    "\n",
    "# np.set_printoptions(threshold=sys.maxsize)\n",
    "\n",
    "mirror_map = parseFile(FILE_NAME)\n",
    "\n",
    "resA = getActivationTopLeftCorner(mirror_map)\n",
    "resB = getActivationAllEdge(mirror_map)\n",
    "\n",
    "print(\"Result part A:\",resA)\n",
    "print(\"Result part B:\",resB)"
   ]
  },
  {
   "cell_type": "markdown",
   "id": "68e061b2",
   "metadata": {},
   "source": [
    "# Testing things out"
   ]
  },
  {
   "cell_type": "code",
   "execution_count": 11,
   "id": "3a2b60e3",
   "metadata": {},
   "outputs": [
    {
     "data": {
      "text/plain": [
       "(1, 1, -1, -1)"
      ]
     },
     "execution_count": 11,
     "metadata": {},
     "output_type": "execute_result"
    }
   ],
   "source": [
    "(1,1)+(-1,-1)"
   ]
  },
  {
   "cell_type": "code",
   "execution_count": null,
   "id": "25cce08d",
   "metadata": {},
   "outputs": [],
   "source": []
  }
 ],
 "metadata": {
  "kernelspec": {
   "display_name": "Python 3 (ipykernel)",
   "language": "python",
   "name": "python3"
  },
  "language_info": {
   "codemirror_mode": {
    "name": "ipython",
    "version": 3
   },
   "file_extension": ".py",
   "mimetype": "text/x-python",
   "name": "python",
   "nbconvert_exporter": "python",
   "pygments_lexer": "ipython3",
   "version": "3.9.13"
  }
 },
 "nbformat": 4,
 "nbformat_minor": 5
}
