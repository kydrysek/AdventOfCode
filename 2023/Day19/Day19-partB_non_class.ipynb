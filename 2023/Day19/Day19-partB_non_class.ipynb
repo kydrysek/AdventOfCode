{
 "cells": [
  {
   "cell_type": "code",
   "execution_count": 1,
   "id": "c3c454b9",
   "metadata": {},
   "outputs": [],
   "source": [
    "import numpy as np\n",
    "import pandas as pd\n",
    "import math\n",
    "import re"
   ]
  },
  {
   "cell_type": "markdown",
   "id": "6f379ef2",
   "metadata": {},
   "source": [
    "# Better approaches\n",
    "1. Can this be done by decision tree? e.g. sample split points +{+1,-1} around them\n",
    "\n",
    "1. Sample points from rules, then do on their basis\n",
    "\n",
    "1. Use classes\n"
   ]
  },
  {
   "cell_type": "code",
   "execution_count": 2,
   "id": "1e867210",
   "metadata": {},
   "outputs": [],
   "source": [
    "#FILE_NAME = \"test.txt\"\n",
    "FILE_NAME = \"input.txt\"\n",
    "DIAG=False\n",
    "DIAG2 = False"
   ]
  },
  {
   "cell_type": "code",
   "execution_count": 3,
   "id": "1fe69cd9",
   "metadata": {},
   "outputs": [
    {
     "data": {
      "text/plain": [
       "True"
      ]
     },
     "execution_count": 3,
     "metadata": {},
     "output_type": "execute_result"
    }
   ],
   "source": [
    "eval(\"12<20000\")\n"
   ]
  },
  {
   "cell_type": "code",
   "execution_count": 4,
   "id": "6a1052e1",
   "metadata": {},
   "outputs": [],
   "source": [
    "def buildRulesAndPartsFromLines(lines):\n",
    "    \n",
    "    cur_x = 0\n",
    "    cur_y = 0\n",
    "    \n",
    "    map_df = pd.DataFrame([\"#\"])\n",
    "    \n",
    "    boundary = -1\n",
    "    for i,line in enumerate(lines):\n",
    "        if line[-1]==\"\\n\": line = line[:-1]\n",
    "        line = line.strip()        \n",
    "        if len(line)==0: \n",
    "            boundary = i\n",
    "    \n",
    "    lines_rules = lines[:boundary]\n",
    "    lines_gears = lines[boundary+1:]\n",
    "    \n",
    "    rules = buildRulesFromLines(lines_rules)\n",
    "    gears,gears_outst_rules = buildGearsFromLines(lines_gears)\n",
    "                    \n",
    "    return rules,gears,gears_outst_rules\n",
    "    "
   ]
  },
  {
   "cell_type": "code",
   "execution_count": 5,
   "id": "86421e91",
   "metadata": {},
   "outputs": [
    {
     "data": {
      "text/plain": [
       "True"
      ]
     },
     "execution_count": 5,
     "metadata": {},
     "output_type": "execute_result"
    }
   ],
   "source": [
    "eval(\"True\")"
   ]
  },
  {
   "cell_type": "code",
   "execution_count": 6,
   "id": "18154df7",
   "metadata": {},
   "outputs": [
    {
     "data": {
      "text/plain": [
       "(True, 'R')"
      ]
     },
     "execution_count": 6,
     "metadata": {},
     "output_type": "execute_result"
    }
   ],
   "source": [
    "def evalConditionOnObject(rule,gear):\n",
    "    if DIAG: print(rule)\n",
    "    rule_cond,rule_outcome = rule\n",
    "    if rule_cond == \"True\":\n",
    "        return (True,rule_outcome)\n",
    "    elif gear is None:\n",
    "        return (False,None)\n",
    "    else:\n",
    "        #do the replacement\n",
    "        if DIAG: print(rule_cond)\n",
    "        mmm = re.match(\"^([a-zA-Z]+)\",rule_cond)\n",
    "        if DIAG: print(\"..\",mmm[0],mmm[1])\n",
    "        gear_var = mmm[1]\n",
    "        \n",
    "    if not gear_var is None:\n",
    "        if DIAG:\n",
    "            print(\">>\",gear)\n",
    "            print(\">>\",gear_var)\n",
    "            print(\">>\",gear[gear_var])\n",
    "        rule_cond = rule_cond.replace(gear_var,str(gear[gear_var]),1)\n",
    "    \n",
    "    if eval(rule_cond):\n",
    "        return (True,rule_outcome)\n",
    "    else:\n",
    "        return (False,None)        \n",
    "        \n",
    "    return None\n",
    "\n",
    "evalConditionOnObject(('a>716', 'R'),{'x': '787', 'm': '2655', 'a': '1222', 's': '2876'})\n"
   ]
  },
  {
   "cell_type": "code",
   "execution_count": 7,
   "id": "69c29fb0",
   "metadata": {},
   "outputs": [
    {
     "data": {
      "text/plain": [
       "{'px': [('a<2006', 'qkq'), ('m>2090', 'A'), ('True', 'rfg')],\n",
       " 'pv': [('a>1716', 'R'), ('True', 'A')],\n",
       " 'lnx': [('m>1548', 'A'), ('True', 'A')]}"
      ]
     },
     "execution_count": 7,
     "metadata": {},
     "output_type": "execute_result"
    }
   ],
   "source": [
    "def buildRulesFromLines(lines_rules):    \n",
    "    rules = {}\n",
    "    for line in lines_rules:\n",
    "        z=line.find(\"{\")\n",
    "        name=line[:z]\n",
    "        line=line[z+1:].strip()[:-1]\n",
    "        \n",
    "        \n",
    "        res = []\n",
    "        for x in line.split(\",\"):            \n",
    "            tmp = x.split(\":\")            \n",
    "            if len(tmp)>1:\n",
    "                res.append((tmp[0],tmp[1]))\n",
    "            else:\n",
    "                res.append((\"True\",tmp[0]))\n",
    "        rules[name]=res\n",
    "    return rules\n",
    "               \n",
    "        \n",
    "y=[\"px{a<2006:qkq,m>2090:A,rfg}\",\"pv{a>1716:R,A}\",\"lnx{m>1548:A,A}\"]\n",
    "buildRulesFromLines(y)"
   ]
  },
  {
   "cell_type": "code",
   "execution_count": 8,
   "id": "2f95f32e",
   "metadata": {},
   "outputs": [
    {
     "data": {
      "text/plain": [
       "({0: {'x': '787', 'm': '2655', 'a': '1222', 's': '2876'},\n",
       "  1: {'x': '1679', 'm': '44', 'a': '2067', 's': '496'},\n",
       "  2: {'x': '2036', 'm': '264', 'a': '79', 's': '2244'},\n",
       "  3: {'x': '2461', 'm': '1339', 'a': '466', 's': '291'},\n",
       "  4: {'x': '2127', 'm': '1623', 'a': '2188', 's': '1013'}},\n",
       " {0: ['in'], 1: ['in'], 2: ['in'], 3: ['in'], 4: ['in']})"
      ]
     },
     "execution_count": 8,
     "metadata": {},
     "output_type": "execute_result"
    }
   ],
   "source": [
    "def buildGearsFromLines(lines_gears):    \n",
    "    gears = {}\n",
    "    gears_vs_rules = {}\n",
    "    for i,line in enumerate(lines_gears):\n",
    "        line=line.strip()\n",
    "        gear = {}\n",
    "        for x in line[1:-1].split(\",\"):\n",
    "            feat,val = x.split(\"=\")\n",
    "            gear[feat]=val\n",
    "            \n",
    "            gears[i]=gear\n",
    "            gears_vs_rules[i]=[\"in\"]\n",
    "    return gears,gears_vs_rules\n",
    "               \n",
    "        \n",
    "y=[\"{x=787,m=2655,a=1222,s=2876}\",\"{x=1679,m=44,a=2067,s=496}\",\"{x=2036,m=264,a=79,s=2244}\",\"{x=2461,m=1339,a=466,s=291}\",\"{x=2127,m=1623,a=2188,s=1013}\"]\n",
    "buildGearsFromLines(y)"
   ]
  },
  {
   "cell_type": "code",
   "execution_count": 9,
   "id": "06f1f0ee",
   "metadata": {},
   "outputs": [],
   "source": [
    "def processPart(part,rule_name,rules):\n",
    "    \"\"\"\n",
    "    part_outst_rules = [(),(),()]\n",
    "    \"\"\"\n",
    "    part_outst_rules = rules[rule_name]\n",
    "    while len(part_outst_rules) > 0:\n",
    "        rule = part_outst_rules[0]\n",
    "        part_outst_rules = part_outst_rules[1:]\n",
    "        \n",
    "        if DIAG: print(\"processPart -- part =\",part)\n",
    "        switch_over,new_rule = evalConditionOnObject(rule,part)\n",
    "        if new_rule == \"R\":\n",
    "            return False\n",
    "        elif new_rule == \"A\":\n",
    "            return True\n",
    "        elif not switch_over:\n",
    "            pass\n",
    "        else:\n",
    "            # switch over\n",
    "            return processPart(part,new_rule,rules)\n",
    "    \n",
    "    print(\"Didn't reach conculsion\")\n",
    "    return False     \n",
    "    \n",
    "        "
   ]
  },
  {
   "cell_type": "code",
   "execution_count": 10,
   "id": "20f381b3",
   "metadata": {},
   "outputs": [],
   "source": [
    "# OK\n",
    "def parseFile(fileName):   \n",
    "    with open(fileName) as file:\n",
    "        lines =  file.readlines()    \n",
    "   \n",
    "    rules,parts,parts_outst_rules = buildRulesAndPartsFromLines(lines)\n",
    "   \n",
    "    \n",
    "    \n",
    "    return rules,parts,parts_outst_rules\n",
    "    "
   ]
  },
  {
   "cell_type": "code",
   "execution_count": 11,
   "id": "37ae792b",
   "metadata": {},
   "outputs": [],
   "source": [
    "def score(part):\n",
    "    res = 0\n",
    "    for k,v in part.items():\n",
    "        res+=int(v)\n",
    "    return res"
   ]
  },
  {
   "cell_type": "code",
   "execution_count": 12,
   "id": "3047d4b5",
   "metadata": {},
   "outputs": [],
   "source": [
    "def startingGearRange():\n",
    "    part = {\"x\":(1,4000),\"m\":(1,4000),\"a\":(1,4000),\"s\":(1,4000)}\n",
    "    return part"
   ]
  },
  {
   "cell_type": "code",
   "execution_count": 13,
   "id": "00702442",
   "metadata": {},
   "outputs": [],
   "source": [
    "def splitGearRange(inGearRng,returnLeft,split_on,split_val,include_val_in_left):\n",
    "    x,y = inGearRng[split_on]\n",
    "        \n",
    "    if (include_val_in_left):\n",
    "        z = split_val\n",
    "    else:\n",
    "        z = split_val-1\n",
    "    \n",
    "    if (returnLeft and z < x) or (not returnLeft and z+1>y):\n",
    "        return None\n",
    "    elif returnLeft and z>=x:\n",
    "        newRng = inGearRng.copy()\n",
    "        newRng[split_on]=(x,z)\n",
    "        return newRng\n",
    "    else:\n",
    "        newRng = inGearRng.copy()\n",
    "        newRng[split_on]=(z+1,y)\n",
    "        return newRng\n",
    "    "
   ]
  },
  {
   "cell_type": "code",
   "execution_count": 14,
   "id": "aea8ec52",
   "metadata": {},
   "outputs": [
    {
     "data": {
      "text/plain": [
       "('a', 1716, True)"
      ]
     },
     "execution_count": 14,
     "metadata": {},
     "output_type": "execute_result"
    }
   ],
   "source": [
    "def parseCondition(str_condtion):\n",
    "    mmm = re.match(\"([a-zA-Z]+)([<>])(\\d+$)\",str_condtion)    \n",
    "    if DIAG: print(\"-->\",str_condtion,\"\\n\",mmm)\n",
    "    var = mmm[1]\n",
    "    oper=mmm[2]\n",
    "    include_in_left = (oper == \">\")\n",
    "    num=int(mmm[3])\n",
    "    return var,num,include_in_left\n",
    "\n",
    "parseCondition(\"a>1716\")"
   ]
  },
  {
   "cell_type": "code",
   "execution_count": 15,
   "id": "c5cc16d5",
   "metadata": {},
   "outputs": [
    {
     "name": "stdout",
     "output_type": "stream",
     "text": [
      "{'x': (1, 4000), 'm': (1, 4000), 'a': (1, 4000), 's': (1, 4000)}\n",
      "{'x': 1, 'm': 1988, 'a': 1, 's': 1}\n"
     ]
    }
   ],
   "source": [
    "def getSamplePart(objRng):\n",
    "    sampleObj = {}\n",
    "    for key,val in objRng.items():\n",
    "        sampleObj[key]=val[0]\n",
    "    return sampleObj\n",
    "\n",
    "print(startingGearRange())\n",
    "print(getSamplePart(splitGearRange(startingGearRange(),False,\"m\",1987,True)))"
   ]
  },
  {
   "cell_type": "code",
   "execution_count": 16,
   "id": "2df6763f",
   "metadata": {},
   "outputs": [],
   "source": [
    "def evaluateRangeForCondition(objRng,cond):\n",
    "    objPart = getSamplePart(objRng)\n",
    "    return evalConditionOnObject(cond,objPart)    "
   ]
  },
  {
   "cell_type": "code",
   "execution_count": 17,
   "id": "3ae5f033",
   "metadata": {},
   "outputs": [],
   "source": [
    "def evaluateRangeForRule(gearRange,rule,rules):\n",
    "    return evaluateRangeForMultipleConditions(gearRange,rules[rule])    \n",
    "\n",
    "def evaluateRangeForMultipleConditions(gearRange,conditions):\n",
    "    # conditions are a list    \n",
    "        \n",
    "    res_next_evals = []\n",
    "        \n",
    "    \n",
    "    cond = conditions[0]\n",
    "    if evalConditionOnObject(cond,None)[0]: # outright true\n",
    "        res_next_evals = [(gearRange,cond[1])]\n",
    "    else:\n",
    "        # something to fcheck\n",
    "        if DIAG: print(\"~~\",conditions)\n",
    "        split_on,split_val,include_val_in_left=parseCondition(cond[0])\n",
    "    \n",
    "        newRngLeft=splitGearRange(gearRange,returnLeft=True,split_on=split_on, split_val=split_val, \n",
    "                                  include_val_in_left=include_val_in_left)\n",
    "        newRngRight=splitGearRange(gearRange,returnLeft=False,split_on=split_on, split_val=split_val,\n",
    "                                   include_val_in_left=include_val_in_left)\n",
    "            \n",
    "        for newRng in [newRngLeft,newRngRight]:\n",
    "            # if two ranges are not None then one is True and the other one is False\n",
    "            if newRng is not None:\n",
    "                resBool, resCons = evaluateRangeForCondition(newRng,cond)\n",
    "            \n",
    "                if resBool:\n",
    "                    # pop this newRng on queue to process (newRng,resCons)\n",
    "                    res_next_evals += [(newRng,resCons)]\n",
    "                else:\n",
    "                    res_tmp = evaluateRangeForMultipleConditions(newRng, conditions[1:])\n",
    "                    res_next_evals += res_tmp\n",
    "                    \n",
    "                \n",
    "    return res_next_evals"
   ]
  },
  {
   "cell_type": "code",
   "execution_count": 18,
   "id": "5ec595eb",
   "metadata": {},
   "outputs": [],
   "source": [
    "def singleRangeCardinality(objRng):\n",
    "    res = 1\n",
    "    for x,val in objRng.items():\n",
    "        res *= (val[1]-val[0]+1)\n",
    "    return res\n",
    "\n",
    "def tallyUpRanges(rangeOutcomes):\n",
    "    res = 0\n",
    "    for objRng,outcome in rangeOutcomes:\n",
    "        if outcome == \"A\":\n",
    "            res += singleRangeCardinality(objRng)\n",
    "    return res\n",
    "    "
   ]
  },
  {
   "cell_type": "code",
   "execution_count": 19,
   "id": "35ef0320",
   "metadata": {},
   "outputs": [
    {
     "data": {
      "text/plain": [
       "20576430000000"
      ]
     },
     "execution_count": 19,
     "metadata": {},
     "output_type": "execute_result"
    }
   ],
   "source": [
    "singleRangeCardinality({'x': (1, 4000), 'm': (2091, 4000), 'a': (2006, 4000), 's': (1, 1350)})"
   ]
  },
  {
   "cell_type": "code",
   "execution_count": 20,
   "id": "1106ef85",
   "metadata": {},
   "outputs": [
    {
     "name": "stdout",
     "output_type": "stream",
     "text": [
      "Result:  130745440937650\n"
     ]
    }
   ],
   "source": [
    "rules,_,_=parseFile(FILE_NAME)\n",
    "if DIAG:\n",
    "    print(rules)\n",
    "\n",
    "startRange=startingGearRange()\n",
    "\n",
    "to_eval = [(startRange,\"in\")]\n",
    "decided = []\n",
    "counter = 0\n",
    "while len(to_eval)>0 and counter < 1000000:\n",
    "    counter += 1\n",
    "    rngObj,ruleName =to_eval[0]\n",
    "    to_eval = to_eval[1:]\n",
    "    if ruleName in [\"A\",\"R\"]:\n",
    "        decided += [(rngObj,ruleName)]\n",
    "    else:\n",
    "        to_eval += evaluateRangeForRule(rngObj,ruleName,rules)\n",
    "    \n",
    "if len(to_eval) > 0: print(\"This has gone south, {} elements left!!!!\".format(len(to_eval)))\n",
    "if DIAG2: print(decided)\n",
    "res = tallyUpRanges(decided)\n",
    "print(\"Result: \",res)"
   ]
  },
  {
   "cell_type": "code",
   "execution_count": null,
   "id": "b4f0d834",
   "metadata": {},
   "outputs": [],
   "source": []
  },
  {
   "cell_type": "code",
   "execution_count": null,
   "id": "25cce08d",
   "metadata": {},
   "outputs": [],
   "source": []
  }
 ],
 "metadata": {
  "kernelspec": {
   "display_name": "Python 3 (ipykernel)",
   "language": "python",
   "name": "python3"
  },
  "language_info": {
   "codemirror_mode": {
    "name": "ipython",
    "version": 3
   },
   "file_extension": ".py",
   "mimetype": "text/x-python",
   "name": "python",
   "nbconvert_exporter": "python",
   "pygments_lexer": "ipython3",
   "version": "3.11.5"
  }
 },
 "nbformat": 4,
 "nbformat_minor": 5
}
