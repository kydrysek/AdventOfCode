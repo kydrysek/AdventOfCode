{
 "cells": [
  {
   "cell_type": "code",
   "execution_count": 1,
   "id": "c3c454b9",
   "metadata": {},
   "outputs": [],
   "source": [
    "import numpy as np\n",
    "import pandas as pd\n",
    "import math\n",
    "import re"
   ]
  },
  {
   "cell_type": "code",
   "execution_count": null,
   "id": "0ed281b4",
   "metadata": {},
   "outputs": [],
   "source": []
  },
  {
   "cell_type": "code",
   "execution_count": 2,
   "id": "1e867210",
   "metadata": {},
   "outputs": [],
   "source": [
    "#FILE_NAME = \"test.txt\"\n",
    "FILE_NAME = \"input.txt\"\n",
    "DIAG=False\n",
    "DIAG2 = False"
   ]
  },
  {
   "cell_type": "code",
   "execution_count": 4,
   "id": "6a1052e1",
   "metadata": {},
   "outputs": [],
   "source": [
    "def buildRulesAndPartsFromLines(lines):\n",
    "    \n",
    "    cur_x = 0\n",
    "    cur_y = 0\n",
    "    \n",
    "    map_df = pd.DataFrame([\"#\"])\n",
    "    \n",
    "    boundary = -1\n",
    "    for i,line in enumerate(lines):\n",
    "        if line[-1]==\"\\n\": line = line[:-1]\n",
    "        line = line.strip()        \n",
    "        if len(line)==0: \n",
    "            boundary = i\n",
    "    \n",
    "    lines_rules = lines[:boundary]\n",
    "    lines_gears = lines[boundary+1:]\n",
    "    \n",
    "    rules = buildRulesFromLines(lines_rules)\n",
    "    gears,gears_outst_rules = buildGearsFromLines(lines_gears)\n",
    "                    \n",
    "    return rules,gears,gears_outst_rules\n",
    "    "
   ]
  },
  {
   "cell_type": "code",
   "execution_count": 6,
   "id": "3369638a",
   "metadata": {},
   "outputs": [
    {
     "data": {
      "text/plain": [
       "(True, 'R')"
      ]
     },
     "execution_count": 6,
     "metadata": {},
     "output_type": "execute_result"
    }
   ],
   "source": [
    "def evalRuleOnObject(rule,gear):\n",
    "    if DIAG: print(rule)\n",
    "    rule_cond,rule_outcome = rule\n",
    "    if not rule_cond==\"True\":\n",
    "        #do the replacement\n",
    "        if DIAG: print(rule_cond)\n",
    "        mmm = re.match(\"^([a-zA-Z]+)\",rule_cond)        \n",
    "        gear_var = mmm[0]\n",
    "    else:\n",
    "        gear_var = None\n",
    "        \n",
    "    if not gear_var is None:\n",
    "        if DIAG:\n",
    "            print(gear)\n",
    "            print(gear_var)\n",
    "        rule_cond = rule_cond.replace(gear_var,gear[gear_var],1)\n",
    "    \n",
    "    if eval(rule_cond):\n",
    "        return (True,rule_outcome)\n",
    "    else:\n",
    "        return (False,None)        \n",
    "        \n",
    "    return None\n",
    "\n",
    "evalRuleOnObject(('a>716', 'R'),{'x': '787', 'm': '2655', 'a': '1222', 's': '2876'})\n"
   ]
  },
  {
   "cell_type": "code",
   "execution_count": 7,
   "id": "db2f23b7",
   "metadata": {},
   "outputs": [
    {
     "data": {
      "text/plain": [
       "{'px': [('a<2006', 'qkq'), ('m>2090', 'A'), ('True', 'rfg')],\n",
       " 'pv': [('a>1716', 'R'), ('True', 'A')],\n",
       " 'lnx': [('m>1548', 'A'), ('True', 'A')]}"
      ]
     },
     "execution_count": 7,
     "metadata": {},
     "output_type": "execute_result"
    }
   ],
   "source": [
    "def buildRulesFromLines(lines_rules):    \n",
    "    rules = {}\n",
    "    for line in lines_rules:\n",
    "        z=line.find(\"{\")\n",
    "        name=line[:z]\n",
    "        line=line[z+1:].strip()[:-1]\n",
    "        \n",
    "        \n",
    "        res = []\n",
    "        for x in line.split(\",\"):            \n",
    "            tmp = x.split(\":\")            \n",
    "            if len(tmp)>1:\n",
    "                res.append((tmp[0],tmp[1]))\n",
    "            else:\n",
    "                res.append((\"True\",tmp[0]))\n",
    "        rules[name]=res\n",
    "    return rules\n",
    "               \n",
    "        \n",
    "y=[\"px{a<2006:qkq,m>2090:A,rfg}\",\"pv{a>1716:R,A}\",\"lnx{m>1548:A,A}\"]\n",
    "buildRulesFromLines(y)"
   ]
  },
  {
   "cell_type": "code",
   "execution_count": 8,
   "id": "2f95f32e",
   "metadata": {},
   "outputs": [
    {
     "data": {
      "text/plain": [
       "({0: {'x': '787', 'm': '2655', 'a': '1222', 's': '2876'},\n",
       "  1: {'x': '1679', 'm': '44', 'a': '2067', 's': '496'},\n",
       "  2: {'x': '2036', 'm': '264', 'a': '79', 's': '2244'},\n",
       "  3: {'x': '2461', 'm': '1339', 'a': '466', 's': '291'},\n",
       "  4: {'x': '2127', 'm': '1623', 'a': '2188', 's': '1013'}},\n",
       " {0: ['in'], 1: ['in'], 2: ['in'], 3: ['in'], 4: ['in']})"
      ]
     },
     "execution_count": 8,
     "metadata": {},
     "output_type": "execute_result"
    }
   ],
   "source": [
    "def buildGearsFromLines(lines_gears):    \n",
    "    gears = {}\n",
    "    gears_vs_rules = {}\n",
    "    for i,line in enumerate(lines_gears):\n",
    "        line=line.strip()\n",
    "        gear = {}\n",
    "        for x in line[1:-1].split(\",\"):\n",
    "            feat,val = x.split(\"=\")\n",
    "            gear[feat]=val\n",
    "            \n",
    "            gears[i]=gear\n",
    "            gears_vs_rules[i]=[\"in\"]\n",
    "    return gears,gears_vs_rules\n",
    "               \n",
    "        \n",
    "y=[\"{x=787,m=2655,a=1222,s=2876}\",\"{x=1679,m=44,a=2067,s=496}\",\"{x=2036,m=264,a=79,s=2244}\",\"{x=2461,m=1339,a=466,s=291}\",\"{x=2127,m=1623,a=2188,s=1013}\"]\n",
    "buildGearsFromLines(y)"
   ]
  },
  {
   "cell_type": "code",
   "execution_count": 9,
   "id": "1b82553f",
   "metadata": {},
   "outputs": [],
   "source": [
    "def processPart(part,rule_name,rules):\n",
    "    \"\"\"\n",
    "    part_outst_rules = [(),(),()]\n",
    "    \"\"\"\n",
    "    part_outst_rules = rules[rule_name]\n",
    "    while len(part_outst_rules) > 0:\n",
    "        rule = part_outst_rules[0]\n",
    "        part_outst_rules = part_outst_rules[1:]\n",
    "        \n",
    "        if DIAG: print(\"processPart -- part =\",part)\n",
    "        switch_over,new_rule = evalRuleOnObject(rule,part)\n",
    "        if new_rule == \"R\":\n",
    "            return False\n",
    "        elif new_rule == \"A\":\n",
    "            return True\n",
    "        elif not switch_over:\n",
    "            pass\n",
    "        else:\n",
    "            # switch over\n",
    "            return processPart(part,new_rule,rules)\n",
    "    \n",
    "    print(\"Didn't reach conculsion\")\n",
    "    return False     \n",
    "    \n",
    "        "
   ]
  },
  {
   "cell_type": "code",
   "execution_count": 10,
   "id": "20f381b3",
   "metadata": {},
   "outputs": [],
   "source": [
    "# OK\n",
    "def parseFile(fileName):   \n",
    "    with open(fileName) as file:\n",
    "        lines =  file.readlines()    \n",
    "   \n",
    "    rules,parts,parts_outst_rules = buildRulesAndPartsFromLines(lines)\n",
    "   \n",
    "    \n",
    "    \n",
    "    return rules,parts,parts_outst_rules\n",
    "    "
   ]
  },
  {
   "cell_type": "code",
   "execution_count": 11,
   "id": "c1c1d80e",
   "metadata": {},
   "outputs": [],
   "source": [
    "def score(part):\n",
    "    res = 0\n",
    "    for k,v in part.items():\n",
    "        res+=int(v)\n",
    "    return res"
   ]
  },
  {
   "cell_type": "code",
   "execution_count": 12,
   "id": "1106ef85",
   "metadata": {},
   "outputs": [
    {
     "name": "stdout",
     "output_type": "stream",
     "text": [
      "333263\n"
     ]
    }
   ],
   "source": [
    "rules,parts,parts_outst_rules=parseFile(FILE_NAME)\n",
    "if DIAG:\n",
    "    print(rules)\n",
    "    print(\"--------\")\n",
    "    print(parts)\n",
    "    print(\"--------\")\n",
    "    print(parts_outst_rules)\n",
    "res = 0\n",
    "for part_num,part in parts.items():\n",
    "    decision = processPart(part,\"in\",rules)\n",
    "    part_score = score(part)\n",
    "    if decision: res+=part_score\n",
    "    if DIAG2: print(\"Part: {}, decision={}, score={}\",part,decision,part_score)\n",
    "print(res)"
   ]
  },
  {
   "cell_type": "markdown",
   "id": "12984a2e",
   "metadata": {},
   "source": [
    "# Trying things out"
   ]
  },
  {
   "cell_type": "code",
   "execution_count": 13,
   "id": "c7be1fc3",
   "metadata": {},
   "outputs": [
    {
     "data": {
      "text/plain": [
       "(False, None)"
      ]
     },
     "execution_count": 13,
     "metadata": {},
     "output_type": "execute_result"
    }
   ],
   "source": [
    "evalRuleOnObject(rules[\"px\"][0],parts[0])"
   ]
  },
  {
   "cell_type": "code",
   "execution_count": 3,
   "id": "1fe69cd9",
   "metadata": {},
   "outputs": [
    {
     "data": {
      "text/plain": [
       "True"
      ]
     },
     "execution_count": 3,
     "metadata": {},
     "output_type": "execute_result"
    }
   ],
   "source": [
    "eval(\"12<20000\")\n"
   ]
  },
  {
   "cell_type": "code",
   "execution_count": 5,
   "id": "a64e55f2",
   "metadata": {},
   "outputs": [
    {
     "data": {
      "text/plain": [
       "True"
      ]
     },
     "execution_count": 5,
     "metadata": {},
     "output_type": "execute_result"
    }
   ],
   "source": [
    "eval(\"True\")"
   ]
  },
  {
   "cell_type": "code",
   "execution_count": 14,
   "id": "17874b26",
   "metadata": {},
   "outputs": [
    {
     "data": {
      "text/plain": [
       "('m<2194', 'A')"
      ]
     },
     "execution_count": 14,
     "metadata": {},
     "output_type": "execute_result"
    }
   ],
   "source": [
    "rules[\"px\"][0]"
   ]
  },
  {
   "cell_type": "code",
   "execution_count": 15,
   "id": "cb17e40e",
   "metadata": {},
   "outputs": [
    {
     "data": {
      "text/plain": [
       "{'x': '1691', 'm': '2832', 'a': '1861', 's': '2722'}"
      ]
     },
     "execution_count": 15,
     "metadata": {},
     "output_type": "execute_result"
    }
   ],
   "source": [
    "parts[0].copy()"
   ]
  },
  {
   "cell_type": "code",
   "execution_count": null,
   "id": "b4f0d834",
   "metadata": {},
   "outputs": [],
   "source": []
  },
  {
   "cell_type": "code",
   "execution_count": null,
   "id": "25cce08d",
   "metadata": {},
   "outputs": [],
   "source": []
  }
 ],
 "metadata": {
  "kernelspec": {
   "display_name": "Python 3 (ipykernel)",
   "language": "python",
   "name": "python3"
  },
  "language_info": {
   "codemirror_mode": {
    "name": "ipython",
    "version": 3
   },
   "file_extension": ".py",
   "mimetype": "text/x-python",
   "name": "python",
   "nbconvert_exporter": "python",
   "pygments_lexer": "ipython3",
   "version": "3.11.5"
  }
 },
 "nbformat": 4,
 "nbformat_minor": 5
}
