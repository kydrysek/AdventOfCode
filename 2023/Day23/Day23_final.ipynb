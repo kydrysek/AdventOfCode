{
 "cells": [
  {
   "cell_type": "code",
   "execution_count": 1,
   "id": "c3c454b9",
   "metadata": {},
   "outputs": [],
   "source": [
    "import numpy as np\n",
    "import pandas as pd\n",
    "import math\n",
    "import re\n",
    "import sys\n",
    "import operator\n",
    "#sys.setrecursionlimit(20000)"
   ]
  },
  {
   "cell_type": "code",
   "execution_count": 2,
   "id": "1e867210",
   "metadata": {},
   "outputs": [],
   "source": [
    "#FILE_NAME = \"test.txt\"\n",
    "#FILE_NAME = \"test2.txt\"\n",
    "FILE_NAME = \"input.txt\"\n",
    "DIAG=False\n",
    "DIAG2 = False\n",
    "ARROWS = False"
   ]
  },
  {
   "cell_type": "code",
   "execution_count": 3,
   "id": "fe279520",
   "metadata": {},
   "outputs": [],
   "source": [
    "CHAR_MAP = {\".\":1, \"#\":0,\">\":2,\"<\":3,\"^\":4,\"v\":5}\n",
    "ARROW_DIRECT = {2:(0,1),3:(0,-1),4:(-1,0),5:(1,0)}\n",
    "\n",
    "def getCharFromNum(num):\n",
    "    for x,y in CHAR_MAP.items():\n",
    "        if y == num:\n",
    "            return x\n",
    "\n",
    "def getNumFromChar(sym):\n",
    "    return CHAR_MAP[sym]\n",
    "\n",
    "def getDirectionNoArrows(symNum):\n",
    "    return None\n",
    "    \n",
    "    \n",
    "def getDirectionWithArrows(symNum):\n",
    "    if symNum in ARROW_DIRECT:\n",
    "        return ARROW_DIRECT[symNum]\n",
    "    else:\n",
    "        return None\n",
    "\n",
    "def getDirection(symNum):\n",
    "    if ARROWS:\n",
    "        return getDirectionWithArrows(symNum)\n",
    "    else:\n",
    "        return getDirectionNoArrows(symNum)"
   ]
  },
  {
   "cell_type": "code",
   "execution_count": 4,
   "id": "6a1052e1",
   "metadata": {},
   "outputs": [],
   "source": [
    "def buildArrayFromLines(lines):\n",
    "    \n",
    "    tmp_arr = []\n",
    "    for line in lines:\n",
    "        tmp_line = []    \n",
    "        \n",
    "        for c in line:\n",
    "            if c != \"\\n\":\n",
    "                tmp_line += [CHAR_MAP[c]]\n",
    "        tmp_arr.append(tmp_line)\n",
    "    \n",
    "    \n",
    "    return np.array(tmp_arr)\n",
    "    "
   ]
  },
  {
   "cell_type": "code",
   "execution_count": 5,
   "id": "5f438001",
   "metadata": {},
   "outputs": [
    {
     "name": "stdout",
     "output_type": "stream",
     "text": [
      "0 1 2\n",
      "1 0 2\n",
      "1 2 2\n"
     ]
    },
    {
     "data": {
      "text/plain": [
       "[(0, 1), (1, 0), (1, 2)]"
      ]
     },
     "execution_count": 5,
     "metadata": {},
     "output_type": "execute_result"
    }
   ],
   "source": [
    "c=np.array([[1,2,3],[2,4,2]])\n",
    "id1,id2=np.where(c==2)\n",
    "\n",
    "for i in range(0,len(id1)):\n",
    "    print(id1[i],id2[i],c[id1[i],id2[i]])\n",
    "\n",
    "z=list(zip(id1,id2))\n",
    "z"
   ]
  },
  {
   "cell_type": "code",
   "execution_count": 6,
   "id": "85617539",
   "metadata": {},
   "outputs": [],
   "source": [
    "def getNeighbors(x,y,my_arr,my_nodes):\n",
    "    DIRS = [(1,0),(-1,0),(0,-1),(0,1)]\n",
    "    res = []\n",
    "    shX,shY = my_arr.shape\n",
    "    \n",
    "\n",
    "    \n",
    "    for d in DIRS:\n",
    "        x_new = x + d[0]\n",
    "        y_new = y + d[1]\n",
    "        if (x_new,y_new) in my_nodes: \n",
    "            \n",
    "            el = my_arr[x,y]\n",
    "            dir_sym = getDirection(el)\n",
    "            \n",
    "            if dir_sym is None or dir_sym == d:\n",
    "                res += [(x_new,y_new)]\n",
    "            else:\n",
    "                # arrow doesn't allow to move in this direction\n",
    "                continue\n",
    "        \n",
    "    return res"
   ]
  },
  {
   "cell_type": "code",
   "execution_count": 7,
   "id": "d0ab380c",
   "metadata": {},
   "outputs": [],
   "source": [
    "def buildGraphFromArray(my_arr):\n",
    "    shX,shY=my_arr.shape\n",
    "    \n",
    "    idx,idy = np.where(my_arr != CHAR_MAP[\"#\"])\n",
    "    my_nodes = list(zip(idx,idy))\n",
    "    if DIAG: print(\"Nodes: \",my_nodes)\n",
    "    \n",
    "    my_edges = []\n",
    "    for x in range(0,shX):\n",
    "        for y in range(0,shY):\n",
    "            if (x,y) in my_nodes:\n",
    "                neigh = getNeighbors(x,y,my_arr,my_nodes)\n",
    "                my_edges += [((x,y),neigh_point,1) for neigh_point in neigh]\n",
    "  \n",
    "    return my_edges"
   ]
  },
  {
   "cell_type": "code",
   "execution_count": 8,
   "id": "7a402085",
   "metadata": {},
   "outputs": [],
   "source": [
    "def getNodes(my_edges):\n",
    "    my_nodes = set([x for x,y,_ in my_edges]+[y for x,y,_ in my_edges])\n",
    "    return list(my_nodes)\n",
    "   "
   ]
  },
  {
   "cell_type": "code",
   "execution_count": 9,
   "id": "d29e5f54",
   "metadata": {},
   "outputs": [],
   "source": [
    "def getStartAndEndPoints(myArr):\n",
    "    shX,_=myArr.shape\n",
    "    st_Y = np.nonzero(myArr[0]==getNumFromChar(\".\"))\n",
    "    end_Y = np.nonzero(myArr[shX-1]==getNumFromChar(\".\"))\n",
    "    \n",
    "    return ((0,int(st_Y[0])),(shX-1,int(end_Y[0])))"
   ]
  },
  {
   "cell_type": "code",
   "execution_count": 10,
   "id": "75fd0da8",
   "metadata": {},
   "outputs": [],
   "source": [
    "def collapseEdges(my_edges,st_point,end_point):\n",
    "    nodes = getNodes(my_edges)\n",
    "    for n in nodes:\n",
    "        if n == st_point or n==end_point:\n",
    "            # cannot collapse source or target\n",
    "            continue\n",
    "        else:\n",
    "            # if has max 2 outgoing edges and 2 incoming edges and these to the same neighbors\n",
    "            neighb_in = set([(x,z) for (x,y,z) in my_edges if y == n])\n",
    "            neighb_out = set([(y,z) for (x,y,z) in my_edges if x == n])\n",
    "            neighb_all=neighb_in.copy()\n",
    "            neighb_all |= neighb_out\n",
    "            \n",
    "            canCollapse = True\n",
    "            if len(neighb_in) < 1 or len(neighb_in) >2: canCollapse=False\n",
    "            if len(neighb_out) < 1 or len(neighb_out) >2: canCollapse=False\n",
    "            if len(neighb_all) > 2: canCollapse = False\n",
    "                \n",
    "            if canCollapse:\n",
    "                for (x,zx) in neighb_in:\n",
    "                    for (y,zy) in neighb_out:\n",
    "                        if x != y:\n",
    "                            # remove (x,n,zx) and (y,n,zy) from edges\n",
    "                            # replace with (x,y,zx+zy)\n",
    "                            my_edges.remove((x,n,zx))\n",
    "                            my_edges.remove((n,y,zy))\n",
    "                            my_edges.append((x,y,zx+zy))\n",
    "            \n",
    "    return my_edges"
   ]
  },
  {
   "cell_type": "code",
   "execution_count": 11,
   "id": "20f381b3",
   "metadata": {},
   "outputs": [],
   "source": [
    "# OK\n",
    "def parseFile(fileName):   \n",
    "    with open(fileName) as file:\n",
    "        lines =  file.readlines()    \n",
    "   \n",
    "    my_arr = buildArrayFromLines(lines)\n",
    "    st_point,end_point = getStartAndEndPoints(my_arr)\n",
    "    \n",
    "    my_edges = buildGraphFromArray(my_arr)\n",
    "    my_edges = collapseEdges(my_edges,st_point,end_point)\n",
    "    \n",
    "\n",
    "    \n",
    "    return my_arr,my_edges,st_point,end_point\n"
   ]
  },
  {
   "cell_type": "code",
   "execution_count": null,
   "id": "3dbabd85",
   "metadata": {},
   "outputs": [],
   "source": []
  },
  {
   "cell_type": "markdown",
   "id": "368e5893",
   "metadata": {},
   "source": [
    "# Get map as a graph and collapse "
   ]
  },
  {
   "cell_type": "code",
   "execution_count": 12,
   "id": "7281c437",
   "metadata": {
    "scrolled": true
   },
   "outputs": [],
   "source": [
    "import sys\n",
    "\n",
    "\n",
    "TARGET = 1000000000\n",
    "\n",
    "np.set_printoptions(threshold=sys.maxsize)\n",
    "\n",
    "my_map,my_edges,st_point,end_point = parseFile(FILE_NAME)\n",
    "\n",
    "\n",
    "#my_nodes = getNodes(my_edges)\n",
    "\n",
    "   "
   ]
  },
  {
   "cell_type": "code",
   "execution_count": 13,
   "id": "c9007367",
   "metadata": {},
   "outputs": [
    {
     "name": "stdout",
     "output_type": "stream",
     "text": [
      "Graph has 36 nodes and 120 edges.\n"
     ]
    }
   ],
   "source": [
    "a = [ x for x,_,_ in my_edges]\n",
    "b= [ y for _,y,_ in my_edges]\n",
    "node_count = len(set(a + b))\n",
    "edge_count = len(my_edges)\n",
    "\n",
    "print(\"Graph has {} nodes and {} edges.\".format(node_count,edge_count))"
   ]
  },
  {
   "cell_type": "markdown",
   "id": "2f55e33a",
   "metadata": {},
   "source": [
    "# Recursion"
   ]
  },
  {
   "cell_type": "code",
   "execution_count": 15,
   "id": "23b02fd2",
   "metadata": {},
   "outputs": [
    {
     "name": "stdout",
     "output_type": "stream",
     "text": [
      "Longest path via recursion: 6490\n"
     ]
    }
   ],
   "source": [
    "def getNeighborsFromEdges(p_cur,my_edges):\n",
    "    return [(p_tgt,edge_len) for (x,p_tgt,edge_len) in my_edges if x == p_cur]\n",
    "\n",
    "def findNaiveRecur(p_cur,p_en,seen_nodes, len_sofar,my_edges):\n",
    "    seen_nodes_copy = seen_nodes.copy()\n",
    "    if p_cur in seen_nodes_copy:\n",
    "        # this path loops on itself, not good\n",
    "        return -1\n",
    "    elif p_cur == p_en:\n",
    "        # end of path\n",
    "        return len_sofar\n",
    "    else:\n",
    "        if DIAG: print(\"Checking point \",p_cur)\n",
    "        seen_nodes_copy += [p_cur]\n",
    "        res = -1 # if there are no neighbours...\n",
    "        if DIAG: print(\"  Neighbor count\",len(dict_edges[p_cur]))\n",
    "        for neighb_node,edge_len in getNeighborsFromEdges(p_cur,my_edges):\n",
    "            if neighb_node not in seen_nodes_copy:\n",
    "                res_tmp = findNaiveRecur(neighb_node,p_en,seen_nodes_copy,len_sofar + edge_len,my_edges)\n",
    "                \n",
    "                if res_tmp > res: res = res_tmp\n",
    "                \n",
    "        return res\n",
    "    return -1\n",
    "\n",
    "def findNaiveOuterRecur(p_st,p_en,my_edges):\n",
    "    return findNaiveRecur(p_st,p_en,[],0,my_edges)\n",
    "\n",
    "res = findNaiveOuterRecur(st_point,end_point,my_edges)\n",
    "print(\"Longest path via recursion:\",format(res))"
   ]
  },
  {
   "cell_type": "markdown",
   "id": "48e01a24",
   "metadata": {},
   "source": [
    "# Stack"
   ]
  },
  {
   "cell_type": "code",
   "execution_count": 18,
   "id": "3ce27080",
   "metadata": {},
   "outputs": [],
   "source": [
    "def getUnseenNeighborsFromEdges(p_cur,my_edges,seen):\n",
    "    neighb_with_len = getNeighborsFromEdges(p_cur,my_edges)    \n",
    "    seen_nodes =  list(map(operator.itemgetter(0), seen))\n",
    "    unseen_neighb = [(x,ll) for x,ll in neighb_with_len if x not in seen_nodes]\n",
    "    if DIAG: print(\">>\",neighb_with_len)\n",
    "    if DIAG: print(\">>>\",seen_nodes)\n",
    "    if DIAG: print(\">>>>\",unseen_neighb)\n",
    "    return unseen_neighb\n",
    "\n",
    "\n",
    "def findNaiveStack(p_st,p_en,my_edges):\n",
    "    # initial state\n",
    "    MAX_LEN = -1    \n",
    "    PATH_LENGTHS = []\n",
    "    SEEN = []\n",
    "    STACK = [(p_st,0,0)]\n",
    "        \n",
    "    # loop\n",
    "    while STACK:\n",
    "        # pop element off the stack\n",
    "        p_cur,edge_len,seen_num = STACK[-1]\n",
    "        STACK = STACK[:-1]\n",
    "    \n",
    "        # cut down the path of seen nodes, and get its current (edge) length/distance        \n",
    "        SEEN = SEEN[:seen_num]\n",
    "        if (SEEN):\n",
    "            _,prev_len = SEEN[-1]\n",
    "        else:\n",
    "            prev_len = 0\n",
    "        new_len = prev_len+edge_len\n",
    "        SEEN+=[(p_cur,new_len)]\n",
    "        \n",
    "        # will be checking if something has been seen on popping in !!!\n",
    "        if p_cur == p_en:\n",
    "            if new_len>MAX_LEN:\n",
    "                MAX_LEN = new_len\n",
    "            PATH_LENGTHS+= [new_len]\n",
    "        #elif p_cur not in dict_edges:\n",
    "        #    print (\"This shouldn't have happened!!! (point {})\".format(p_cur))\n",
    "        else:            \n",
    "            \n",
    "            for neighb_node,edge_len in getUnseenNeighborsFromEdges(p_cur,my_edges,SEEN):                \n",
    "                STACK += [(neighb_node,edge_len,seen_num+1)]\n",
    "       \n",
    "    return MAX_LEN,PATH_LENGTHS\n"
   ]
  },
  {
   "cell_type": "code",
   "execution_count": 19,
   "id": "e3b7d6a5",
   "metadata": {
    "scrolled": false
   },
   "outputs": [
    {
     "name": "stdout",
     "output_type": "stream",
     "text": [
      "Longest path via stack: 6490\n"
     ]
    }
   ],
   "source": [
    "max_path,path_lenghts = findNaiveStack(st_point,end_point,my_edges)\n",
    "print(\"Longest path via stack:\",max_path)"
   ]
  }
 ],
 "metadata": {
  "kernelspec": {
   "display_name": "Python 3 (ipykernel)",
   "language": "python",
   "name": "python3"
  },
  "language_info": {
   "codemirror_mode": {
    "name": "ipython",
    "version": 3
   },
   "file_extension": ".py",
   "mimetype": "text/x-python",
   "name": "python",
   "nbconvert_exporter": "python",
   "pygments_lexer": "ipython3",
   "version": "3.9.13"
  }
 },
 "nbformat": 4,
 "nbformat_minor": 5
}
