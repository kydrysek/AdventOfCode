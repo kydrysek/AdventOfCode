{
 "cells": [
  {
   "cell_type": "code",
   "execution_count": 50,
   "id": "d6516625",
   "metadata": {},
   "outputs": [],
   "source": [
    "def processCardCount(hand_list):\n",
    "    res_dict = {}\n",
    "    for c in hand_list:\n",
    "        if c==\"J\":\n",
    "            continue\n",
    "        val = 0\n",
    "        if c in res_dict:\n",
    "            val = res_dict[c]\n",
    "        res_dict[c] = val+1\n",
    "    return res_dict\n",
    "        \n",
    "        "
   ]
  },
  {
   "cell_type": "code",
   "execution_count": 51,
   "id": "7dca4ef7",
   "metadata": {},
   "outputs": [
    {
     "name": "stdout",
     "output_type": "stream",
     "text": [
      "10\n",
      "14\n",
      "3\n"
     ]
    }
   ],
   "source": [
    "values = {\"T\":10,\"J\":1,\"Q\":12,\"K\":13,\"A\":14}\n",
    "\n",
    "def cardPoint(card):    \n",
    "    if card in values:\n",
    "        return int(values[card])\n",
    "    else:\n",
    "        return int(card)\n",
    "    \n",
    "print(cardPoint(\"T\"))\n",
    "print(cardPoint(\"A\"))\n",
    "print(cardPoint(\"3\"))"
   ]
  },
  {
   "cell_type": "markdown",
   "id": "0e9e512e",
   "metadata": {},
   "source": [
    "High card + 0\n",
    "One pair + 100\n",
    "Two pair + 200\n",
    "Three of kind + 300\n",
    "Full house + 400\n",
    "Four of a kind + 500\n",
    "Five of a kind + 600"
   ]
  },
  {
   "cell_type": "code",
   "execution_count": 52,
   "id": "1a56b4fd",
   "metadata": {},
   "outputs": [],
   "source": [
    "types_dict = {\"high\":0,\"one\":100,\"two\":200,\"three\":300,\"full\":400,\"four\":500,\"five\":600}\n",
    "types_val = {1:100,2:200,3:300,4:500,5:600}\n"
   ]
  },
  {
   "cell_type": "code",
   "execution_count": 53,
   "id": "0a1d7e44",
   "metadata": {},
   "outputs": [],
   "source": [
    "import math"
   ]
  },
  {
   "cell_type": "code",
   "execution_count": 64,
   "id": "627464fc",
   "metadata": {},
   "outputs": [
    {
     "name": "stdout",
     "output_type": "stream",
     "text": [
      "600\n",
      "100\n",
      "100\n",
      "0\n"
     ]
    }
   ],
   "source": [
    "def scoreCard_primary(hand_str):\n",
    "    \"\"\"\n",
    "    hand is a list of characters\n",
    "    \"\"\"\n",
    "    hand_list = list(hand_str)\n",
    "    hand_dict_count = processCardCount(hand_list)\n",
    "    \n",
    "    res = 0\n",
    "    vals =  list(hand_dict_count.values())\n",
    "    vals.sort(reverse=True)\n",
    "    \n",
    "    my_len = len(vals)\n",
    "    jokers = 5 - sum(vals)\n",
    "    \n",
    "    if my_len == 0:\n",
    "        return types_dict[\"five\"] #five jokers\n",
    "    \n",
    "    if vals[0] + jokers == 5:\n",
    "        return types_dict[\"five\"]\n",
    "    \n",
    "    if vals[0] + jokers == 4: # outright vals[0] == 4\n",
    "        return types_dict[\"four\"]\n",
    "    \n",
    "    # is there a full house\n",
    "    tmp = max(3 - vals[0],0)\n",
    "    \n",
    "    if tmp <= jokers and vals[1]+jokers-tmp >= 2:\n",
    "        return  types_dict[\"full\"]\n",
    "\n",
    "    if vals[0] + jokers >= 3: \n",
    "        return types_dict[\"three\"]\n",
    "        \n",
    "    if vals[0] == 2 and vals[1]==2:\n",
    "        return types_dict[\"two\"]\n",
    "    \n",
    "    if vals[0] + jokers == 2:\n",
    "        return  types_dict[\"one\"]\n",
    "    \n",
    "    if vals[0] + jokers == 1:\n",
    "        return  types_dict[\"high\"]\n",
    "        \n",
    "    \n",
    "    print(\"WEIRD!!!\")    \n",
    "    return -1\n",
    "\n",
    "\n",
    "print(scoreCard_primary(\"AAAAA\"))\n",
    "print(scoreCard_primary(\"228Q7\"))\n",
    "print(scoreCard_primary(\"J52A9\"))\n",
    "print(scoreCard_primary(\"752A9\"))\n",
    "\n",
    "\n",
    "        \n",
    "    \n",
    "    "
   ]
  },
  {
   "cell_type": "code",
   "execution_count": 55,
   "id": "0c3e17e0",
   "metadata": {},
   "outputs": [
    {
     "data": {
      "text/plain": [
       "44"
      ]
     },
     "execution_count": 55,
     "metadata": {},
     "output_type": "execute_result"
    }
   ],
   "source": [
    "def scoreCard_secondary(hand_str):\n",
    "    \"\"\"\n",
    "    hand is a list of characters\n",
    "    \"\"\"\n",
    "    res = 0\n",
    "    for c in hand_str:\n",
    "        res = 15*res + cardPoint(c)        \n",
    "    return res\n",
    "\n",
    "scoreCard_secondary(\"2A\")"
   ]
  },
  {
   "cell_type": "code",
   "execution_count": 56,
   "id": "e43214e1",
   "metadata": {},
   "outputs": [
    {
     "data": {
      "text/plain": [
       "(500, 162722)"
      ]
     },
     "execution_count": 56,
     "metadata": {},
     "output_type": "execute_result"
    }
   ],
   "source": [
    "def scoreCard(hand_str):\n",
    "    res1 = scoreCard_primary(hand_str)\n",
    "    res2 = scoreCard_secondary(hand_str)\n",
    "    return (res1,res2)\n",
    "\n",
    "scoreCard(\"33332\")\n"
   ]
  },
  {
   "cell_type": "code",
   "execution_count": 66,
   "id": "70528bce",
   "metadata": {
    "scrolled": false
   },
   "outputs": [
    {
     "name": "stdout",
     "output_type": "stream",
     "text": [
      "251037509\n"
     ]
    }
   ],
   "source": [
    "dict_hands_scores = {}\n",
    "dict_scores_hands = {}\n",
    "dict_hands_bids = {}\n",
    "\n",
    "with open('input.txt') as file:\n",
    "    my_lines = file.readlines()\n",
    "\n",
    "for line in my_lines:\n",
    "    if (line[-1:]==\"\\n\"):\n",
    "        line = line[:-1]\n",
    "        \n",
    "    hand = line[:5]\n",
    "    bid = int(line.replace(hand,\"\"))\n",
    "                \n",
    "    score = scoreCard(hand)\n",
    "    dict_hands_scores[hand]=score\n",
    "    dict_scores_hands[score]=hand\n",
    "    dict_hands_bids[hand]=bid\n",
    "        \n",
    "#print(dict_scores_hands)\n",
    "#print(dict_hands_bids)\n",
    "\n",
    "scores = list(dict_scores_hands.keys())\n",
    "scores.sort(reverse=True)\n",
    "\n",
    "counter = len(scores)\n",
    "\n",
    "res = 0\n",
    "\n",
    "for score in scores:\n",
    "    hand = dict_scores_hands[score]\n",
    "    bid =  dict_hands_bids[hand]\n",
    "    increment = counter * bid\n",
    "    res += increment\n",
    "    \n",
    "    #print(\"hand: {}, bid: {}, counter: {}, score: {}, increment: {}\".format(hand,bid,counter,score,increment))\n",
    "    \n",
    "    counter-=1\n",
    "    \n",
    "print(res)\n",
    "\n",
    "\n",
    "\n"
   ]
  },
  {
   "cell_type": "markdown",
   "id": "bbc1bcec",
   "metadata": {},
   "source": [
    "251346108 - too high\n",
    "251037509 - correct"
   ]
  }
 ],
 "metadata": {
  "kernelspec": {
   "display_name": "Python 3 (ipykernel)",
   "language": "python",
   "name": "python3"
  },
  "language_info": {
   "codemirror_mode": {
    "name": "ipython",
    "version": 3
   },
   "file_extension": ".py",
   "mimetype": "text/x-python",
   "name": "python",
   "nbconvert_exporter": "python",
   "pygments_lexer": "ipython3",
   "version": "3.11.5"
  }
 },
 "nbformat": 4,
 "nbformat_minor": 5
}
