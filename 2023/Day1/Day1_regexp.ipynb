{
 "cells": [
  {
   "cell_type": "code",
   "execution_count": 1,
   "id": "bfcbac85",
   "metadata": {},
   "outputs": [],
   "source": [
    "import re\n",
    "import functools"
   ]
  },
  {
   "cell_type": "code",
   "execution_count": 2,
   "id": "3579b47a",
   "metadata": {},
   "outputs": [],
   "source": [
    "#FILENAME = \"test_A.txt\"\n",
    "#FILENAME = \"test_B.txt\"\n",
    "FILENAME = \"input.txt\"\n",
    "DIAG = False"
   ]
  },
  {
   "cell_type": "code",
   "execution_count": 3,
   "id": "9df1b35f",
   "metadata": {},
   "outputs": [],
   "source": [
    "def processFile(file_name):\n",
    "    with open(file_name) as file:\n",
    "        lines = file.readlines()\n",
    "    \n",
    "    return list(map(lambda x: x.replace(\"\\n\",\"\"),lines))\n",
    "    "
   ]
  },
  {
   "cell_type": "code",
   "execution_count": 4,
   "id": "da16ee26",
   "metadata": {},
   "outputs": [],
   "source": [
    "DIGITS = {\"one\":\"1\", \"two\":\"2\", \"three\":\"3\", \"four\":\"4\", \"zero\":\"0\",\n",
    "          \"five\":\"5\", \"six\":\"6\", \"seven\":\"7\", \"eight\":\"8\", \"nine\":\"9\"}\n",
    "\n",
    "DIGITS_REV = {key[::-1]:val for key,val in DIGITS.items()}\n",
    "\n",
    "def replaceFirstDigitSym(line,bFromBack):\n",
    "    if bFromBack: line = line[::-1]\n",
    "        \n",
    "    if bFromBack: dictRepl = DIGITS_REV\n",
    "    else: dictRepl = DIGITS\n",
    "    \n",
    "    regStr = \"|\".join(dictRepl.keys())    \n",
    "    mmm=re.search(regStr,line)    \n",
    "    if mmm is not None: \n",
    "        line=line.replace(mmm[0],dictRepl[mmm[0]])        \n",
    "    \n",
    "    if bFromBack: line = line[::-1]\n",
    "        \n",
    "    return line\n",
    "\n",
    "assert replaceFirstDigitSym(\"1eight4seven5\",False) == \"184seven5\"\n",
    "assert replaceFirstDigitSym(\"1eight4seven5\",True) == \"1eight475\""
   ]
  },
  {
   "cell_type": "code",
   "execution_count": 5,
   "id": "1e3e35fe",
   "metadata": {},
   "outputs": [],
   "source": [
    "\n",
    "def singleCalibration(line,bWithReplace):\n",
    "    if bWithReplace:\n",
    "        mmmF = re.search(r\"^\\D*(\\d)\",replaceFirstDigitSym(line,False))\n",
    "        mmmB = re.search(r\"(\\d)\\D*$\",replaceFirstDigitSym(line,True))\n",
    "    else:\n",
    "        mmmF = re.search(r\"^\\D*(\\d)\",line)\n",
    "        mmmB = re.search(r\"(\\d)\\D*$\",line)\n",
    "        \n",
    "    if DIAG: print(line,end=\" \")\n",
    "    res =  int(mmmF[1]+mmmB[1])\n",
    "    if DIAG: print(res)\n",
    "    return res\n",
    "\n",
    "def sumUpCalibrations(lines,bWithReplace):    \n",
    "    calibrations = map (functools.partial(singleCalibration,bWithReplace = bWithReplace),lines)\n",
    "    return sum(calibrations)\n",
    "\n",
    "assert singleCalibration(\"two1nine\",False) == 11\n",
    "assert singleCalibration(\"4nineeightseven2\",False) == 42"
   ]
  },
  {
   "cell_type": "code",
   "execution_count": 6,
   "id": "a8c1a626",
   "metadata": {},
   "outputs": [
    {
     "name": "stdout",
     "output_type": "stream",
     "text": [
      "Sum without replacements 54338\n",
      "Sum with replacements 53389\n"
     ]
    }
   ],
   "source": [
    "lines = processFile(FILENAME)\n",
    "\n",
    "sumNoRepl = sumUpCalibrations(lines,False)\n",
    "sumWithRepl = sumUpCalibrations(lines,True)\n",
    "\n",
    "print(\"Sum without replacements\",sumNoRepl)\n",
    "print(\"Sum with replacements\",sumWithRepl)"
   ]
  },
  {
   "cell_type": "markdown",
   "id": "3e50ce56",
   "metadata": {},
   "source": [
    "# Trying things out"
   ]
  },
  {
   "cell_type": "code",
   "execution_count": 7,
   "id": "36b1fe3a",
   "metadata": {},
   "outputs": [
    {
     "name": "stdout",
     "output_type": "stream",
     "text": [
      "one|two|three|four|zero|five|six|seven|eight|nine\n"
     ]
    },
    {
     "data": {
      "text/plain": [
       "'eight'"
      ]
     },
     "execution_count": 7,
     "metadata": {},
     "output_type": "execute_result"
    }
   ],
   "source": [
    "DIGITS = {\"one\":\"1\", \"two\":\"2\", \"three\":\"3\", \"four\":\"4\", \"zero\":\"0\",\n",
    "          \"five\":\"5\", \"six\":\"6\", \"seven\":\"7\", \"eight\":\"8\", \"nine\":\"9\"}\n",
    "\n",
    "x=\"7eight9\"\n",
    "reg = \"|\".join(DIGITS.keys())\n",
    "print(reg)\n",
    "mmm=re.search(reg,x)\n",
    "mmm[0]"
   ]
  },
  {
   "cell_type": "code",
   "execution_count": 8,
   "id": "6dc57f89",
   "metadata": {},
   "outputs": [
    {
     "data": {
      "text/plain": [
       "'2'"
      ]
     },
     "execution_count": 8,
     "metadata": {},
     "output_type": "execute_result"
    }
   ],
   "source": [
    "x=\"abcone2threexyz\"\n",
    "#mmm=re.search(\"^\\D*(\\d)\",x)\n",
    "mmm=re.search(r\"(\\d)\\D*$\",x)\n",
    "mmm[1]"
   ]
  }
 ],
 "metadata": {
  "kernelspec": {
   "display_name": "Python 3 (ipykernel)",
   "language": "python",
   "name": "python3"
  },
  "language_info": {
   "codemirror_mode": {
    "name": "ipython",
    "version": 3
   },
   "file_extension": ".py",
   "mimetype": "text/x-python",
   "name": "python",
   "nbconvert_exporter": "python",
   "pygments_lexer": "ipython3",
   "version": "3.9.13"
  }
 },
 "nbformat": 4,
 "nbformat_minor": 5
}
