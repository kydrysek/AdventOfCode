{
 "cells": [
  {
   "cell_type": "code",
   "execution_count": 23,
   "id": "bfcbac85",
   "metadata": {},
   "outputs": [],
   "source": [
    "import pandas as pd"
   ]
  },
  {
   "cell_type": "code",
   "execution_count": 24,
   "id": "825acd26",
   "metadata": {},
   "outputs": [],
   "source": [
    "df_cal = pd.read_csv(\"input.txt\",header=None,names=[\"Coord\"])"
   ]
  },
  {
   "cell_type": "code",
   "execution_count": 25,
   "id": "873b2d27",
   "metadata": {},
   "outputs": [
    {
     "data": {
      "text/html": [
       "<div>\n",
       "<style scoped>\n",
       "    .dataframe tbody tr th:only-of-type {\n",
       "        vertical-align: middle;\n",
       "    }\n",
       "\n",
       "    .dataframe tbody tr th {\n",
       "        vertical-align: top;\n",
       "    }\n",
       "\n",
       "    .dataframe thead th {\n",
       "        text-align: right;\n",
       "    }\n",
       "</style>\n",
       "<table border=\"1\" class=\"dataframe\">\n",
       "  <thead>\n",
       "    <tr style=\"text-align: right;\">\n",
       "      <th></th>\n",
       "      <th>Coord</th>\n",
       "    </tr>\n",
       "  </thead>\n",
       "  <tbody>\n",
       "    <tr>\n",
       "      <th>0</th>\n",
       "      <td>2911threeninesdvxvheightwobm</td>\n",
       "    </tr>\n",
       "    <tr>\n",
       "      <th>1</th>\n",
       "      <td>3three16xsxhpnqmzmnine8one</td>\n",
       "    </tr>\n",
       "    <tr>\n",
       "      <th>2</th>\n",
       "      <td>seven5khtwo891hlb</td>\n",
       "    </tr>\n",
       "    <tr>\n",
       "      <th>3</th>\n",
       "      <td>sixthreeqpzjpn195</td>\n",
       "    </tr>\n",
       "    <tr>\n",
       "      <th>4</th>\n",
       "      <td>jrnf3</td>\n",
       "    </tr>\n",
       "    <tr>\n",
       "      <th>...</th>\n",
       "      <td>...</td>\n",
       "    </tr>\n",
       "    <tr>\n",
       "      <th>995</th>\n",
       "      <td>7783twonineeight</td>\n",
       "    </tr>\n",
       "    <tr>\n",
       "      <th>996</th>\n",
       "      <td>1fourfour</td>\n",
       "    </tr>\n",
       "    <tr>\n",
       "      <th>997</th>\n",
       "      <td>4fourztnthreeone8mqmdfour</td>\n",
       "    </tr>\n",
       "    <tr>\n",
       "      <th>998</th>\n",
       "      <td>fbfvqgvqfone5nctdcdpteighttwo</td>\n",
       "    </tr>\n",
       "    <tr>\n",
       "      <th>999</th>\n",
       "      <td>dhfbhone4fourlgzftg</td>\n",
       "    </tr>\n",
       "  </tbody>\n",
       "</table>\n",
       "<p>1000 rows × 1 columns</p>\n",
       "</div>"
      ],
      "text/plain": [
       "                             Coord\n",
       "0     2911threeninesdvxvheightwobm\n",
       "1       3three16xsxhpnqmzmnine8one\n",
       "2                seven5khtwo891hlb\n",
       "3                sixthreeqpzjpn195\n",
       "4                            jrnf3\n",
       "..                             ...\n",
       "995               7783twonineeight\n",
       "996                      1fourfour\n",
       "997      4fourztnthreeone8mqmdfour\n",
       "998  fbfvqgvqfone5nctdcdpteighttwo\n",
       "999            dhfbhone4fourlgzftg\n",
       "\n",
       "[1000 rows x 1 columns]"
      ]
     },
     "execution_count": 25,
     "metadata": {},
     "output_type": "execute_result"
    }
   ],
   "source": [
    "df_cal"
   ]
  },
  {
   "cell_type": "code",
   "execution_count": 26,
   "id": "da16ee26",
   "metadata": {},
   "outputs": [],
   "source": [
    "digits = {\"one\":\"1\", \"two\":\"2\", \"three\":\"3\", \"four\":\"4\", \"zero\":\"0\",\n",
    "          \"five\":\"5\", \"six\":\"6\", \"seven\":\"7\", \"eight\":\"8\", \"nine\":\"9\"}"
   ]
  },
  {
   "cell_type": "code",
   "execution_count": 27,
   "id": "e7173306",
   "metadata": {},
   "outputs": [
    {
     "data": {
      "text/plain": [
       "{'eno': '1',\n",
       " 'owt': '2',\n",
       " 'eerht': '3',\n",
       " 'ruof': '4',\n",
       " 'orez': '0',\n",
       " 'evif': '5',\n",
       " 'xis': '6',\n",
       " 'neves': '7',\n",
       " 'thgie': '8',\n",
       " 'enin': '9'}"
      ]
     },
     "execution_count": 27,
     "metadata": {},
     "output_type": "execute_result"
    }
   ],
   "source": [
    "digits_rev = {key[::-1]:val for key,val in digits.items()}\n",
    "digits_rev"
   ]
  },
  {
   "cell_type": "code",
   "execution_count": null,
   "id": "4a0b6da3",
   "metadata": {},
   "outputs": [],
   "source": []
  },
  {
   "cell_type": "code",
   "execution_count": 28,
   "id": "aec88eca",
   "metadata": {},
   "outputs": [
    {
     "data": {
      "text/plain": [
       "'123459'"
      ]
     },
     "execution_count": 28,
     "metadata": {},
     "output_type": "execute_result"
    }
   ],
   "source": [
    "def preparse(line,digit_dict,bUseCharRepr = False):\n",
    "    line_new = \"\"\n",
    "    if bUseCharRepr:\n",
    "        while len(line)>0:\n",
    "            for dig in digit_dict:\n",
    "                l = len(dig)\n",
    "                if line[:l] == dig:\n",
    "                    line=line.replace(dig,digit_dict[dig],1)\n",
    "            line_new += line[0]\n",
    "            line=line.replace(line[0],\"\",1)\n",
    "    else:\n",
    "        line_new = line\n",
    "                \n",
    "    return line_new\n",
    "\n",
    "preparse(\"onetwothreefourfivenine\",digits,True)"
   ]
  },
  {
   "cell_type": "code",
   "execution_count": 29,
   "id": "32384152",
   "metadata": {},
   "outputs": [],
   "source": [
    "def find_first_digit(line):\n",
    "    for x in line:\n",
    "        if x.isdigit():\n",
    "            return int(x)\n",
    "        \n",
    "    return pd.NA    \n",
    "    "
   ]
  },
  {
   "cell_type": "code",
   "execution_count": 32,
   "id": "0d5d03a4",
   "metadata": {},
   "outputs": [
    {
     "data": {
      "text/plain": [
       "16"
      ]
     },
     "execution_count": 32,
     "metadata": {},
     "output_type": "execute_result"
    }
   ],
   "source": [
    "def calib_sing(line,bUseCharRepr=False):\n",
    "    res = 0\n",
    "    \n",
    "    line_new = preparse(line,digits,bUseCharRepr)\n",
    "    res += find_first_digit(line_new)*10\n",
    "    \n",
    "    line_new2 = preparse(line[::-1],digits_rev,bUseCharRepr)\n",
    "    res += find_first_digit(line_new2)\n",
    "    \n",
    "    return res\n",
    "\n",
    "calib_sing(\"aaa123456fff\")\n",
    "            "
   ]
  },
  {
   "cell_type": "code",
   "execution_count": 31,
   "id": "18b13bc0",
   "metadata": {},
   "outputs": [],
   "source": [
    "def mainGetResults(bUseCharRepr):\n",
    "    res = 0\n",
    "    for line in df_cal.Coord:    \n",
    "\n",
    "        sing_res = calib_sing(line,bUseCharRepr)        \n",
    "        res += sing_r\n",
    "    \n",
    "    return res"
   ]
  },
  {
   "cell_type": "code",
   "execution_count": 35,
   "id": "eaf1b91d",
   "metadata": {},
   "outputs": [
    {
     "name": "stdout",
     "output_type": "stream",
     "text": [
      "Outcome WITHOUT texual represenations 54338\n",
      "Outcome WITH texual represenations 53389\n"
     ]
    }
   ],
   "source": [
    "print(\"Outcome WITHOUT texual represenations\",mainGetResults(False))\n",
    "print(\"Outcome WITH texual represenations\",mainGetResults(True))"
   ]
  }
 ],
 "metadata": {
  "kernelspec": {
   "display_name": "Python 3 (ipykernel)",
   "language": "python",
   "name": "python3"
  },
  "language_info": {
   "codemirror_mode": {
    "name": "ipython",
    "version": 3
   },
   "file_extension": ".py",
   "mimetype": "text/x-python",
   "name": "python",
   "nbconvert_exporter": "python",
   "pygments_lexer": "ipython3",
   "version": "3.9.13"
  }
 },
 "nbformat": 4,
 "nbformat_minor": 5
}
