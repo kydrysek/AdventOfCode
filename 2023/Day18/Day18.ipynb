{
 "cells": [
  {
   "cell_type": "code",
   "execution_count": 58,
   "id": "c3c454b9",
   "metadata": {},
   "outputs": [],
   "source": [
    "import numpy as np\n",
    "import pandas as pd\n",
    "import math\n",
    "import re\n",
    "from shapely import Polygon"
   ]
  },
  {
   "cell_type": "code",
   "execution_count": null,
   "id": "0ed281b4",
   "metadata": {},
   "outputs": [],
   "source": []
  },
  {
   "cell_type": "code",
   "execution_count": 59,
   "id": "1e867210",
   "metadata": {},
   "outputs": [],
   "source": [
    "#FILE_NAME = \"test.txt\"\n",
    "#FILE_NAME = \"test2.txt\"\n",
    "FILE_NAME = \"input.txt\"\n",
    "DIAG=False\n",
    "DIAG2 = False"
   ]
  },
  {
   "cell_type": "code",
   "execution_count": 60,
   "id": "458b1469",
   "metadata": {},
   "outputs": [],
   "source": [
    "def leftRight(symb):\n",
    "    if symb in [\"L\"]:\n",
    "        return -1\n",
    "    if symb in [\"R\"]:\n",
    "        return 1\n",
    "    if symb in [\"U\",\"D\"]:\n",
    "        return 0\n",
    "    print(\"Oups\")\n",
    "    return -10\n"
   ]
  },
  {
   "cell_type": "code",
   "execution_count": 61,
   "id": "da479ebd",
   "metadata": {},
   "outputs": [],
   "source": [
    "def downUp(symb):\n",
    "    # returns -1 if notLe\n",
    "    if symb in [\"U\"]:\n",
    "        return -1\n",
    "    if symb in [\"D\"]:\n",
    "        return 1\n",
    "    if symb in [\"L\",\"R\"]:\n",
    "        return 0\n",
    "    print(\"Oups\")\n",
    "    return -10"
   ]
  },
  {
   "cell_type": "code",
   "execution_count": 62,
   "id": "d54dbd9f",
   "metadata": {},
   "outputs": [],
   "source": [
    "def symPartB(symb):\n",
    "    symb = int(symb)\n",
    "    if symb == 0:\n",
    "        return \"R\"\n",
    "    elif symb == 1:\n",
    "        return \"D\"\n",
    "    elif symb == 2:\n",
    "        return \"L\"\n",
    "    elif symb == 3:\n",
    "        return \"U\"\n",
    "    \n",
    "    return None"
   ]
  },
  {
   "cell_type": "code",
   "execution_count": 63,
   "id": "cedda886",
   "metadata": {},
   "outputs": [],
   "source": [
    "def getDirect(symb):\n",
    "    return(downUp(symb),leftRight(symb))"
   ]
  },
  {
   "cell_type": "code",
   "execution_count": 64,
   "id": "d8e7c234",
   "metadata": {},
   "outputs": [],
   "source": [
    "def parseLine_partA(line):\n",
    "    arr_x = line.split()\n",
    "    \n",
    "    #print(arr_x)\n",
    "    directLetter = arr_x[0]\n",
    "    count = int(arr_x[1])\n",
    "    colour = arr_x[2]\n",
    "    \n",
    "    return directLetter,count"
   ]
  },
  {
   "cell_type": "code",
   "execution_count": 65,
   "id": "09550d72",
   "metadata": {},
   "outputs": [],
   "source": [
    "def parseLine_partB(line):\n",
    "    arr_x = line.split()\n",
    "    \n",
    "    longVer = arr_x[2]\n",
    "    \n",
    "    directLetter=symPartB(longVer[-2])\n",
    "    count=int(longVer[2:-2],16)\n",
    "    \n",
    "    return directLetter,count"
   ]
  },
  {
   "cell_type": "code",
   "execution_count": null,
   "id": "6ac88cbb",
   "metadata": {},
   "outputs": [],
   "source": []
  },
  {
   "cell_type": "code",
   "execution_count": 66,
   "id": "6a1052e1",
   "metadata": {},
   "outputs": [],
   "source": [
    "def buildCornersFromLines(lines,parseLineMethod):\n",
    "    \n",
    "    cur_x = 0\n",
    "    cur_y = 0\n",
    "    \n",
    "    chg_x=0\n",
    "    chg_y=0\n",
    "    \n",
    "    res = []\n",
    "    \n",
    "    for line in lines:\n",
    "        if len(line)==0: break\n",
    "        \n",
    "        directLetter,count=parseLineMethod(line)\n",
    "        direct=getDirect(directLetter)\n",
    "        \n",
    "        cur_x = cur_x+count*direct[0]\n",
    "        cur_y = cur_y+count*direct[1]\n",
    "        \n",
    "        chg_x+=max(count*direct[0],0)\n",
    "        chg_y+=max(count*direct[1],0)\n",
    "        \n",
    "        if (cur_x,cur_y) not in res:\n",
    "            res.append((cur_x,cur_y))\n",
    "        \n",
    "    return res,chg_x,chg_y\n",
    "    \n",
    "            "
   ]
  },
  {
   "cell_type": "code",
   "execution_count": 67,
   "id": "20f381b3",
   "metadata": {},
   "outputs": [],
   "source": [
    "# OK\n",
    "def parseFile(fileName):   \n",
    "    with open(fileName) as file:\n",
    "        lines =  file.readlines()\n",
    "    \n",
    "    for i,line in enumerate(lines):\n",
    "        if line[-1]==\"\\n\": lines[i] = line[:-1]\n",
    "    \n",
    "    return lines\n",
    "    "
   ]
  },
  {
   "cell_type": "code",
   "execution_count": 68,
   "id": "7c5bca4e",
   "metadata": {},
   "outputs": [],
   "source": [
    "def getArea(corners,chg_x,chg_y):\n",
    "    plg = Polygon(corners)\n",
    "    res = plg.area+chg_x+chg_y+1\n",
    "    return res"
   ]
  },
  {
   "cell_type": "code",
   "execution_count": 69,
   "id": "ef1d5d8f",
   "metadata": {},
   "outputs": [
    {
     "name": "stdout",
     "output_type": "stream",
     "text": [
      "Results part A: 40745.0\n",
      "Results part B: 90111113594927.0\n"
     ]
    }
   ],
   "source": [
    "lines = parseFile(FILE_NAME)\n",
    "\n",
    "corners_A, chg_x_A, chg_y_A = buildCornersFromLines(lines,parseLine_partA)\n",
    "resA = getArea(corners_A,chg_x_A,chg_y_A)\n",
    "\n",
    "corners_B, chg_x_B, chg_y_B = buildCornersFromLines(lines,parseLine_partB)\n",
    "resB = getArea(corners_B,chg_x_B,chg_y_B)\n",
    "\n",
    "print(\"Results part A:\",resA)\n",
    "print(\"Results part B:\",resB)"
   ]
  },
  {
   "cell_type": "code",
   "execution_count": null,
   "id": "c7be1fc3",
   "metadata": {},
   "outputs": [],
   "source": []
  },
  {
   "cell_type": "markdown",
   "id": "b6327ef8",
   "metadata": {},
   "source": [
    "# Trying things out"
   ]
  },
  {
   "cell_type": "code",
   "execution_count": 70,
   "id": "bd821ed8",
   "metadata": {},
   "outputs": [
    {
     "data": {
      "text/plain": [
       "30.0"
      ]
     },
     "execution_count": 70,
     "metadata": {},
     "output_type": "execute_result"
    }
   ],
   "source": [
    "Polygon([(0, 6), (5, 6),(5,0),(0,0)]).area\n"
   ]
  }
 ],
 "metadata": {
  "kernelspec": {
   "display_name": "Python 3 (ipykernel)",
   "language": "python",
   "name": "python3"
  },
  "language_info": {
   "codemirror_mode": {
    "name": "ipython",
    "version": 3
   },
   "file_extension": ".py",
   "mimetype": "text/x-python",
   "name": "python",
   "nbconvert_exporter": "python",
   "pygments_lexer": "ipython3",
   "version": "3.9.13"
  }
 },
 "nbformat": 4,
 "nbformat_minor": 5
}
