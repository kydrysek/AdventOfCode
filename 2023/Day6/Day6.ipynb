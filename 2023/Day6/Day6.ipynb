{
 "cells": [
  {
   "cell_type": "markdown",
   "id": "0b52d25c",
   "metadata": {},
   "source": [
    "Toy boats problem"
   ]
  },
  {
   "cell_type": "code",
   "execution_count": 17,
   "id": "bc25b004",
   "metadata": {},
   "outputs": [],
   "source": [
    "import re\n",
    "import math"
   ]
  },
  {
   "cell_type": "code",
   "execution_count": 9,
   "id": "496359d4",
   "metadata": {},
   "outputs": [],
   "source": [
    "#FILENAME=\"test.txt\"\n",
    "FILENAME=\"input.txt\""
   ]
  },
  {
   "cell_type": "markdown",
   "id": "f357ef4e",
   "metadata": {},
   "source": [
    "# Brute force calc"
   ]
  },
  {
   "cell_type": "code",
   "execution_count": 11,
   "id": "e542fdd8",
   "metadata": {},
   "outputs": [
    {
     "data": {
      "text/plain": [
       "12"
      ]
     },
     "execution_count": 11,
     "metadata": {},
     "output_type": "execute_result"
    }
   ],
   "source": [
    "def getDistanceFromChargeTime(chargeTime, limitTime):\n",
    "    travelTime = limitTime-chargeTime\n",
    "    return travelTime * chargeTime\n",
    "\n",
    "getDistanceFromChargeTime(3,7)"
   ]
  },
  {
   "cell_type": "code",
   "execution_count": 12,
   "id": "668158c4",
   "metadata": {},
   "outputs": [
    {
     "data": {
      "text/plain": [
       "4"
      ]
     },
     "execution_count": 12,
     "metadata": {},
     "output_type": "execute_result"
    }
   ],
   "source": [
    "def getCountOfPassing(limitTime,limitDistance):\n",
    "    res = [x for x in range(0,limitTime+1) if getDistanceFromChargeTime(x,limitTime)>limitDistance]\n",
    "    return len(res)\n",
    "getCountOfPassing(7,9)"
   ]
  },
  {
   "cell_type": "code",
   "execution_count": 13,
   "id": "ad36c685",
   "metadata": {},
   "outputs": [],
   "source": [
    "assert getDistanceFromChargeTime(3,7) == 12\n",
    "assert getCountOfPassing(7,9) == 4"
   ]
  },
  {
   "cell_type": "code",
   "execution_count": 39,
   "id": "4565ef36",
   "metadata": {},
   "outputs": [],
   "source": [
    "def doBruteForceCalc(times,distances):\n",
    "\n",
    "    res = 1\n",
    "    for lim_time,lim_dis in zip(times,distances):\n",
    "        res *= getCountOfPassing(lim_time,lim_dis)\n",
    "    return res"
   ]
  },
  {
   "cell_type": "markdown",
   "id": "f5159c3e",
   "metadata": {},
   "source": [
    "# Maths version"
   ]
  },
  {
   "cell_type": "code",
   "execution_count": 18,
   "id": "61f60ad4",
   "metadata": {},
   "outputs": [
    {
     "data": {
      "text/plain": [
       "(1.6972243622680054, 5.302775637731995)"
      ]
     },
     "execution_count": 18,
     "metadata": {},
     "output_type": "execute_result"
    }
   ],
   "source": [
    "def findSolutions(time_in,dist_in):\n",
    "    temp = math.sqrt(time_in**2-4*dist_in)\n",
    "    x1 = (time_in-temp)/2\n",
    "    x2 = (time_in+temp)/2\n",
    "    return (x1,x2)\n",
    "findSolutions(7,9)"
   ]
  },
  {
   "cell_type": "code",
   "execution_count": 20,
   "id": "de448a40",
   "metadata": {},
   "outputs": [
    {
     "data": {
      "text/plain": [
       "4"
      ]
     },
     "execution_count": 20,
     "metadata": {},
     "output_type": "execute_result"
    }
   ],
   "source": [
    "def findCountFromSolutions(time_in,dist_in):\n",
    "    x1,x2 = findSolutions(time_in,dist_in)\n",
    "    x1_prop = math.ceil(x1)\n",
    "    x2_prop = math.floor(x2)\n",
    "    return x2_prop - x1_prop + 1\n",
    "findCountFromSolutions(7,9)"
   ]
  },
  {
   "cell_type": "code",
   "execution_count": 46,
   "id": "7c0e0bfb",
   "metadata": {},
   "outputs": [],
   "source": [
    "def doMathsCalc(time_val,distance_val):\n",
    "    return findCountFromSolutions(time_val,distance_val)"
   ]
  },
  {
   "cell_type": "code",
   "execution_count": 21,
   "id": "4e7c54c7",
   "metadata": {},
   "outputs": [],
   "source": [
    "p,r=findSolutions(7,9) #(1.6972243622680054, 5.302775637731995)\n",
    "assert p < 2\n",
    "assert r > 5\n",
    "\n",
    "assert findCountFromSolutions(7,9) == 4"
   ]
  },
  {
   "cell_type": "markdown",
   "id": "4c87b712",
   "metadata": {},
   "source": [
    "# Get data"
   ]
  },
  {
   "cell_type": "code",
   "execution_count": 37,
   "id": "37152d6b",
   "metadata": {},
   "outputs": [],
   "source": [
    "def parseFilePartA(file_name):\n",
    "    with open(file_name) as file:\n",
    "        #1. get seeds\n",
    "        searchedT = re.search(\"^Time\\b*:(.*)$\",file.readline())\n",
    "        times = [int(x) for x in searchedT.group(1).split()]\n",
    "    \n",
    "        searchedD = re.search(\"^Distance\\b*:(.*)$\",file.readline())\n",
    "        distances = [int(x) for x in searchedD.group(1).split()]\n",
    "    \n",
    "    return times,distances\n",
    "    \n",
    "def parseFilePartB(file_name):\n",
    "    with open(file_name) as file:\n",
    "        #1. get seeds\n",
    "        searchedT = re.search(\"^Time\\b*:(.*)$\",file.readline())\n",
    "        times = int(searchedT.group(1).replace(\" \",\"\"))\n",
    "    \n",
    "        searchedD = re.search(\"^Distance\\b*:(.*)$\",file.readline())\n",
    "        distances = int(searchedD.group(1).replace(\" \",\"\"))\n",
    "    \n",
    "    return times,distances\n",
    "\n",
    "assert parseFilePartA(\"input.txt\") == ([53, 91, 67, 68],[250, 1330, 1081, 1025])\n",
    "assert parseFilePartB(\"input.txt\") == (53916768,250133010811025)\n",
    "\n",
    "assert parseFilePartA(\"test.txt\") == ([7, 15, 30], [9, 40,200])\n",
    "assert parseFilePartB(\"test.txt\") == (71530, 940200)\n"
   ]
  },
  {
   "cell_type": "code",
   "execution_count": 47,
   "id": "19b711c6",
   "metadata": {},
   "outputs": [
    {
     "name": "stdout",
     "output_type": "stream",
     "text": [
      "Part A answer (by brute force) is:  625968\n",
      "Part B answer (via roots) is:  43663323\n"
     ]
    }
   ],
   "source": [
    "timesA, distancesA = parseFilePartA(FILENAME)\n",
    "resA = doBruteForceCalc(timesA,distancesA)\n",
    "print(\"Part A answer (by brute force) is: \",resA)\n",
    "\n",
    "timeB, distanceB = parseFilePartB(FILENAME)\n",
    "resB = doMathsCalc(timeB,distanceB)\n",
    "print(\"Part B answer (via roots) is: \",resB)"
   ]
  }
 ],
 "metadata": {
  "kernelspec": {
   "display_name": "Python 3 (ipykernel)",
   "language": "python",
   "name": "python3"
  },
  "language_info": {
   "codemirror_mode": {
    "name": "ipython",
    "version": 3
   },
   "file_extension": ".py",
   "mimetype": "text/x-python",
   "name": "python",
   "nbconvert_exporter": "python",
   "pygments_lexer": "ipython3",
   "version": "3.9.13"
  }
 },
 "nbformat": 4,
 "nbformat_minor": 5
}
