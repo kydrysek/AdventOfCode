{
 "cells": [
  {
   "cell_type": "code",
   "execution_count": 1,
   "id": "c3c454b9",
   "metadata": {},
   "outputs": [],
   "source": [
    "import numpy as np\n",
    "import pandas as pd\n",
    "import math\n",
    "import re"
   ]
  },
  {
   "cell_type": "code",
   "execution_count": 2,
   "id": "0ed281b4",
   "metadata": {},
   "outputs": [],
   "source": [
    "file_name=\"input.txt\"\n",
    "#file_name=\"test.txt\""
   ]
  },
  {
   "cell_type": "code",
   "execution_count": 3,
   "id": "b1135b83",
   "metadata": {},
   "outputs": [],
   "source": [
    "def scoreSingleStr(str_seq):\n",
    "    res = 0\n",
    "    for c in str_seq:\n",
    "        #print(ord(c))\n",
    "        res+=ord(c)\n",
    "        res = res*17\n",
    "        res = res % 256\n",
    "    return res"
   ]
  },
  {
   "cell_type": "code",
   "execution_count": 4,
   "id": "10db3695",
   "metadata": {},
   "outputs": [],
   "source": [
    "assert scoreSingleStr(\"HASH\") == 52"
   ]
  },
  {
   "cell_type": "code",
   "execution_count": 5,
   "id": "ed06dedd",
   "metadata": {},
   "outputs": [],
   "source": [
    "def scoreAllStrings(input_list_of_strings):\n",
    "    res = 0\n",
    "    for str_seq in input_list_of_strings:\n",
    "        tmp_x = scoreSingleStr(str_seq)\n",
    "        res += tmp_x\n",
    "        #print(tmp_x)\n",
    "    return res"
   ]
  },
  {
   "cell_type": "code",
   "execution_count": 6,
   "id": "20f381b3",
   "metadata": {},
   "outputs": [],
   "source": [
    "# OK\n",
    "def parseFile(fileName):   \n",
    "    with open(fileName) as file:\n",
    "        my_line =  file.readline()    \n",
    "   \n",
    "    if my_line[-1]==\"\\n\":\n",
    "        my_line = my_line[:-1]\n",
    "        \n",
    "    return my_line.split(\",\")\n",
    "   \n",
    "    "
   ]
  },
  {
   "cell_type": "code",
   "execution_count": 7,
   "id": "751090b7",
   "metadata": {},
   "outputs": [],
   "source": [
    "def getInstructions(str_step):\n",
    "    instr_char = \"\"\n",
    "    if str_step.find(\"=\") >= 0:\n",
    "        instr_char = \"=\"\n",
    "    else:\n",
    "        instr_char = \"-\"\n",
    "    \n",
    "    label,lense_num = str_step.split(instr_char)\n",
    "    box=scoreSingleStr(label)\n",
    "    instr_num = (1 if instr_char == \"=\" else -1)\n",
    "    \n",
    "    return (box,label,instr_num,lense_num)"
   ]
  },
  {
   "cell_type": "code",
   "execution_count": 8,
   "id": "8390a6b2",
   "metadata": {},
   "outputs": [],
   "source": [
    "def processStep(dict_boxes,str_step):\n",
    "    (box_num,lense_label,instruction,lense_num) = getInstructions(str_step)\n",
    "    \n",
    "    box_labels_lst,box_strenght_lst = dict_boxes.setdefault(box_num,([],[]))\n",
    "    \n",
    "    #box_lense = (lense_label,lense_num)\n",
    "    \n",
    "    if instruction < 0:\n",
    "        if lense_label in box_labels_lst:\n",
    "            idx = box_labels_lst.index(lense_label)\n",
    "            box_labels_lst = box_labels_lst[:idx]+box_labels_lst[idx+1:]\n",
    "            box_strenght_lst = box_strenght_lst[:idx]+box_strenght_lst[idx+1:]            \n",
    "        else:\n",
    "            pass\n",
    "    else: #instruction > 0\n",
    "        if lense_label in box_labels_lst:\n",
    "            idx = box_labels_lst.index(lense_label)\n",
    "            box_strenght_lst[idx]=int(lense_num)\n",
    "        else:\n",
    "            box_labels_lst.append(lense_label)\n",
    "            box_strenght_lst.append(int(lense_num))\n",
    "            \n",
    "    \n",
    "    dict_boxes[box_num] = (box_labels_lst,box_strenght_lst)\n",
    "    return dict_boxes\n",
    "    \n",
    "    \n",
    "    \n",
    "    "
   ]
  },
  {
   "cell_type": "code",
   "execution_count": 9,
   "id": "16fa7c8e",
   "metadata": {},
   "outputs": [],
   "source": [
    "def processAllSteps(input_list_of_strings):\n",
    "    \n",
    "    dict_boxes = {}\n",
    "    for str_seq in input_list_of_strings:\n",
    "        dict_boxes = processStep(dict_boxes, str_seq)\n",
    "        #print(str_seq)\n",
    "        #print(dict_boxes)\n",
    "        #print(\"-----\\n\\n\")\n",
    "    return dict_boxes"
   ]
  },
  {
   "cell_type": "code",
   "execution_count": 10,
   "id": "0607bd2d",
   "metadata": {},
   "outputs": [],
   "source": [
    "def scoreBox(boxNum,lense_list):\n",
    "    res = 0\n",
    "    \n",
    "    for i,lense in enumerate(lense_list):\n",
    "        res_part = (boxNum+1)*(i+1)*lense\n",
    "        res+=res_part\n",
    "    return res"
   ]
  },
  {
   "cell_type": "code",
   "execution_count": 11,
   "id": "5b46e7fb",
   "metadata": {},
   "outputs": [],
   "source": [
    "def scoreAllBoxes(dict_boxes):\n",
    "    res = 0\n",
    "    for i,(_,lense_list) in dict_boxes.items():\n",
    "        res_tmp = scoreBox(i,lense_list)\n",
    "        #print (i,res_tmp)\n",
    "        res+=res_tmp\n",
    "    return res"
   ]
  },
  {
   "cell_type": "code",
   "execution_count": 15,
   "id": "30b5a45e",
   "metadata": {},
   "outputs": [
    {
     "name": "stdout",
     "output_type": "stream",
     "text": [
      "Result part A: 517965\n",
      "Result part B: 267372\n"
     ]
    }
   ],
   "source": [
    "\n",
    "line_list = parseFile(file_name)\n",
    "\n",
    "score_partA = scoreAllStrings(line_list)\n",
    "\n",
    "\n",
    "dict_boxes = processAllSteps(line_list)\n",
    "score_partB = scoreAllBoxes(dict_boxes)\n",
    "\n",
    "print(\"Result part A:\",score_partA)\n",
    "print(\"Result part B:\",score_partB)"
   ]
  }
 ],
 "metadata": {
  "kernelspec": {
   "display_name": "Python 3 (ipykernel)",
   "language": "python",
   "name": "python3"
  },
  "language_info": {
   "codemirror_mode": {
    "name": "ipython",
    "version": 3
   },
   "file_extension": ".py",
   "mimetype": "text/x-python",
   "name": "python",
   "nbconvert_exporter": "python",
   "pygments_lexer": "ipython3",
   "version": "3.9.13"
  }
 },
 "nbformat": 4,
 "nbformat_minor": 5
}
