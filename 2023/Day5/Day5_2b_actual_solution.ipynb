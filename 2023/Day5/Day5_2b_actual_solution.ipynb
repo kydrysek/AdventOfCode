{
 "cells": [
  {
   "cell_type": "code",
   "execution_count": 17,
   "id": "bc25b004",
   "metadata": {},
   "outputs": [],
   "source": [
    "import re\n",
    "import time\n",
    "\n",
    "FILENAME=\"input.txt\"\n",
    "#FILENAME=\"test.txt\""
   ]
  },
  {
   "cell_type": "markdown",
   "id": "3e5e3c90",
   "metadata": {},
   "source": [
    "# V2 - baby step, giant step"
   ]
  },
  {
   "cell_type": "markdown",
   "id": "79d1b5d8",
   "metadata": {},
   "source": [
    "https://docs.python.org/3/howto/regex.html\n",
    "https://docs.python.org/3/library/re.html#checking-for-a-pair"
   ]
  },
  {
   "cell_type": "code",
   "execution_count": 38,
   "id": "b597260a",
   "metadata": {},
   "outputs": [
    {
     "name": "stdout",
     "output_type": "stream",
     "text": [
      "12 34 56\n",
      "{'tgt_first': '12', 'src_first': '34', 'item_count': '56'}\n",
      "34\n"
     ]
    }
   ],
   "source": [
    "str_test = \"12 34 56\"\n",
    "searched = re.search(\"^(?P<tgt_first>\\d+) (?P<src_first>\\d+) (?P<item_count>\\d+)$\",str_test)\n",
    "tgt_first = int(searched.group(1))\n",
    "src_first = int(searched.group(2))\n",
    "item_count = int(searched.group(3))\n",
    "print(tgt_first,src_first,item_count)\n",
    "print(searched.groupdict())\n",
    "print(searched.group(\"src_first\"))"
   ]
  },
  {
   "cell_type": "code",
   "execution_count": 56,
   "id": "f33dc836",
   "metadata": {},
   "outputs": [
    {
     "name": "stdout",
     "output_type": "stream",
     "text": [
      "<re.Match object; span=(1, 4), match='2 2'>\n",
      "<re.Match object; span=(0, 5), match='12 12'>\n"
     ]
    }
   ],
   "source": [
    "str_test = \"12 24\"\n",
    "searched = re.search(r\"(\\d+) \\1\",str_test)\n",
    "print(searched)\n",
    "\n",
    "str_test = \"12 12\"\n",
    "searched = re.search(r\"(\\d+) \\1\",str_test)\n",
    "print(searched)"
   ]
  },
  {
   "cell_type": "code",
   "execution_count": 18,
   "id": "0353b2ce",
   "metadata": {},
   "outputs": [],
   "source": [
    "def parseFile(fileName):\n",
    "\n",
    "    state=0 #-1 seeds 0-empty line 1-header 2-numbers\n",
    "\n",
    "    with open(fileName) as file:\n",
    "        #1. get seeds\n",
    "        searched = re.search(\"^seeds:(.*)$\",file.readline())\n",
    "        seed_list = [int(x) for x in searched.group(1).split()]\n",
    "    \n",
    "        #print(result_dict)\n",
    "        state=-1\n",
    "    \n",
    "        transforms_all = []\n",
    "        transforms_curr = []\n",
    "    \n",
    "        for ll in file:\n",
    "            if ll.strip()==\"\":\n",
    "                state = 0\n",
    "            else:\n",
    "                if state not in [0,1,2]:\n",
    "                    pass\n",
    "                elif state==0:\n",
    "                    #starting next group\n",
    "                    searched = re.search(\"^(\\w+)-to-(\\w+) map:$\",ll)\n",
    "                    state=1\n",
    "                    if len(transforms_curr) > 0:\n",
    "                        transforms_all.append(transforms_curr)\n",
    "                    transforms_curr = []\n",
    "                else:\n",
    "                    searched = re.search(\"^(\\d+) (\\d+) (\\d+)$\",ll)\n",
    "                    tgt_first = int(searched.group(1))\n",
    "                    src_first = int(searched.group(2))\n",
    "                    item_count = int(searched.group(3))\n",
    "                \n",
    "                    transforms_curr.append((tgt_first,src_first,item_count))\n",
    "                    state=2\n",
    "\n",
    "        transforms_all.append(transforms_curr)\n",
    "    return (seed_list,transforms_all)\n",
    "                \n"
   ]
  },
  {
   "cell_type": "code",
   "execution_count": 19,
   "id": "ae52dfa6",
   "metadata": {},
   "outputs": [],
   "source": [
    "def processSingleSeed(seedID,transforms):\n",
    "    seed_mappedTo = seedID\n",
    "    for transf_sgl in transforms:        \n",
    "        for tgt_first,src_first,item_count in transf_sgl:      \n",
    "            if seed_mappedTo >= src_first and (seed_mappedTo < src_first + item_count):\n",
    "                seed_mappedTo = tgt_first + (seed_mappedTo-src_first)\n",
    "                break\n",
    "    return seed_mappedTo"
   ]
  },
  {
   "cell_type": "code",
   "execution_count": 20,
   "id": "2e61cad3",
   "metadata": {},
   "outputs": [],
   "source": [
    "def getSeedsWithCount(seeds_mixed):\n",
    "    seed_count = {}\n",
    "    tmp_s = -1\n",
    "    tmp_count=-1\n",
    "    \n",
    "    for x in seeds_mixed:\n",
    "        x_int = int(x)\n",
    "        if tmp_count != 0:\n",
    "            tmp_s = x_int\n",
    "            tmp_count = 0\n",
    "        else:\n",
    "            seed_count[tmp_s]=x_int\n",
    "            tmp_count = 1\n",
    "    \n",
    "    return seed_count\n",
    "#getSeedsWithCount(seeds2)"
   ]
  },
  {
   "cell_type": "code",
   "execution_count": 21,
   "id": "ccf86dfd",
   "metadata": {},
   "outputs": [
    {
     "name": "stdout",
     "output_type": "stream",
     "text": [
      "[5, 6, 7, 8, 9, 10, 11]\n",
      "[11, 12, 13, 14, 15, 16, 17, 18, 19, 20, 21]\n"
     ]
    }
   ],
   "source": [
    "def getAllSeeds(seeds_centre,negative_count,positive_count,negative_limit,positive_limit,step=1):\n",
    "    \"\"\"\n",
    "    [seeds_centre-negative_count,seeds_centre+positive_count] subject to limits\n",
    "    \"\"\"\n",
    "    res = []\n",
    "    positive_count = max(positive_count,0)\n",
    "    x_neg = seeds_centre - negative_count\n",
    "    x_neg = max(x_neg,negative_limit)\n",
    "    res = [y for y in range(x_neg,seeds_centre,step)]\n",
    "    x_pos = seeds_centre+positive_count\n",
    "    x_pos = min(x_pos,positive_limit)\n",
    "    res += [y for y in range(seeds_centre,x_pos+1,step)]\n",
    "    \n",
    "    return res\n",
    "print(getAllSeeds(10,9,9,5,11))\n",
    "print(getAllSeeds(11,0,10,0,23))"
   ]
  },
  {
   "cell_type": "code",
   "execution_count": 22,
   "id": "605ae6da",
   "metadata": {},
   "outputs": [],
   "source": [
    "MY_STEP = 100000"
   ]
  },
  {
   "cell_type": "code",
   "execution_count": 23,
   "id": "07eadc93",
   "metadata": {},
   "outputs": [],
   "source": [
    "def getSeedsCoarse(seeds_count,add_last=False):\n",
    "    res = []\n",
    "    for y,l in seeds_count.items():\n",
    "        res += getAllSeeds(y,0,l-1,0,y+l-2,MY_STEP)\n",
    "        if add_last:\n",
    "            res+=[y+l-1]\n",
    "    return res\n",
    "#res = getSeedsCoarse(seeds2_count)\n",
    "#print(len(res))"
   ]
  },
  {
   "cell_type": "code",
   "execution_count": 24,
   "id": "b86c7950",
   "metadata": {},
   "outputs": [
    {
     "name": "stdout",
     "output_type": "stream",
     "text": [
      "seeds2_count lenght: 10\n",
      "\n",
      "transforms length: 7\n",
      "\n",
      "seeds2_coarse length:  24474\n"
     ]
    }
   ],
   "source": [
    "seeds2_mixed, transf_all = parseFile(FILENAME)\n",
    "seeds2_count = getSeedsWithCount(seeds2_mixed)\n",
    "seeds2_coarse = getSeedsCoarse(seeds2_count,True)\n",
    "print(\"seeds2_count lenght:\",len(seeds2_count))\n",
    "print()\n",
    "print(\"transforms length:\",len(transf_all))\n",
    "print()\n",
    "print(\"seeds2_coarse length: \",len(seeds2_coarse))\n",
    "#print(seeds2_coarse)"
   ]
  },
  {
   "cell_type": "code",
   "execution_count": 25,
   "id": "c3962bd3",
   "metadata": {},
   "outputs": [],
   "source": [
    "#processSingleSeed(13,transf_all)"
   ]
  },
  {
   "cell_type": "code",
   "execution_count": 26,
   "id": "b4547009",
   "metadata": {},
   "outputs": [
    {
     "name": "stdout",
     "output_type": "stream",
     "text": [
      ">> time >> 0.6726129055023193\n",
      "Step 100000: 3439892843 ---> 46358428\n"
     ]
    }
   ],
   "source": [
    "def getMinResultsFromSeedList(seeds_in_list, transf_in):\n",
    "\n",
    "    seed_map = {}\n",
    "    seed_min_idx = -1\n",
    "    seed_min_val = -1\n",
    "\n",
    "    start_time = time.time()\n",
    "    for x in seeds_in_list:\n",
    "        res = processSingleSeed(x,transf_in)\n",
    "\n",
    "        #if counter//10000000 == counter/10000000:\n",
    "        #    print(\"...\")\n",
    "        #elif counter//1000000 == counter/1000000:\n",
    "        #    print(\"..\")\n",
    "        #elif counter//100000 == counter/100000:\n",
    "        #    print(\".\")\n",
    "        if seed_min_idx < 0 or res < seed_min_val:\n",
    "            seed_min_idx = x\n",
    "            seed_min_val = res\n",
    "\n",
    "    print(\">> time >>\",time.time()-start_time)\n",
    "    print(\"Step {}: {} ---> {}\".format(MY_STEP,seed_min_idx,seed_min_val))\n",
    "    return(seed_min_idx,seed_min_val)\n",
    "\n",
    "seed_min_idx_coarse,seed_min_val_coarse =  getMinResultsFromSeedList(seeds2_coarse,transf_all)"
   ]
  },
  {
   "cell_type": "code",
   "execution_count": null,
   "id": "980000b9",
   "metadata": {},
   "outputs": [],
   "source": []
  },
  {
   "cell_type": "code",
   "execution_count": 27,
   "id": "a6b8b311",
   "metadata": {},
   "outputs": [
    {
     "name": "stdout",
     "output_type": "stream",
     "text": [
      "start: 3424292843, length: 82110297, max in range: 3506403139\n"
     ]
    }
   ],
   "source": [
    "x_found = -1000000\n",
    "l_found = -1000000\n",
    "for x,l in seeds2_count.items():\n",
    "    if seed_min_idx_coarse >= x and seed_min_idx_coarse < x+l:\n",
    "        print(\"start: {}, length: {}, max in range: {}\".format(x,l,x+l-1))\n",
    "        x_found = x\n",
    "        l_found = l\n",
    "        break\n",
    "\n",
    "rng_limit_lower = x_found\n",
    "rng_limit_upper = x_found+l_found-1"
   ]
  },
  {
   "cell_type": "code",
   "execution_count": 28,
   "id": "872b4f41",
   "metadata": {},
   "outputs": [
    {
     "name": "stdout",
     "output_type": "stream",
     "text": [
      "3439792843 3439992843\n"
     ]
    }
   ],
   "source": [
    "\n",
    "seeds2_granular = getAllSeeds(seed_min_idx_coarse,MY_STEP,MY_STEP,rng_limit_lower,rng_limit_upper)\n",
    "print(min(seeds2_granular),max(seeds2_granular))"
   ]
  },
  {
   "cell_type": "code",
   "execution_count": 29,
   "id": "3fb08c6b",
   "metadata": {},
   "outputs": [
    {
     "name": "stdout",
     "output_type": "stream",
     "text": [
      "Granular seeds length: 200001\n"
     ]
    }
   ],
   "source": [
    "print(\"Granular seeds length:\",len(seeds2_granular))"
   ]
  },
  {
   "cell_type": "code",
   "execution_count": 30,
   "id": "84924d8b",
   "metadata": {},
   "outputs": [
    {
     "name": "stdout",
     "output_type": "stream",
     "text": [
      ">> time >> 3.207167387008667\n",
      "Step 100000: 3439828590 ---> 46294175\n"
     ]
    },
    {
     "data": {
      "text/plain": [
       "(3439828590, 46294175)"
      ]
     },
     "execution_count": 30,
     "metadata": {},
     "output_type": "execute_result"
    }
   ],
   "source": [
    "getMinResultsFromSeedList(seeds2_granular,transf_all)\n",
    "# output in format (inital seed number, location number)"
   ]
  }
 ],
 "metadata": {
  "kernelspec": {
   "display_name": "Python 3 (ipykernel)",
   "language": "python",
   "name": "python3"
  },
  "language_info": {
   "codemirror_mode": {
    "name": "ipython",
    "version": 3
   },
   "file_extension": ".py",
   "mimetype": "text/x-python",
   "name": "python",
   "nbconvert_exporter": "python",
   "pygments_lexer": "ipython3",
   "version": "3.9.13"
  }
 },
 "nbformat": 4,
 "nbformat_minor": 5
}
