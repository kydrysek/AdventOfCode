{
 "cells": [
  {
   "cell_type": "code",
   "execution_count": 37,
   "id": "c1ce5950",
   "metadata": {},
   "outputs": [],
   "source": [
    "# FILENAME=\"test.txt\"\n",
    "FILENAME=\"input.txt\"\n",
    "DIAG=False"
   ]
  },
  {
   "cell_type": "code",
   "execution_count": 38,
   "id": "84c08671",
   "metadata": {},
   "outputs": [],
   "source": [
    "def processFile(file_name):\n",
    "    with open(file_name) as file:\n",
    "        lines = file.readlines()\n",
    "    \n",
    "    lines_better = map(lambda x:x.replace(\"\\n\",\"\"),lines)\n",
    "    lines_better = map(lambda x:int(x) if len(x) else \"\",list(lines_better))\n",
    "    #for line in lines:\n",
    "        \n",
    "    return list(lines_better)\n",
    "    "
   ]
  },
  {
   "cell_type": "code",
   "execution_count": 39,
   "id": "7a24c159",
   "metadata": {},
   "outputs": [],
   "source": [
    "def getGroups(lines):\n",
    "    lines_grouped = []\n",
    "    \n",
    "    while lines.count(\"\"):\n",
    "        lines_grouped.append(lines[:lines.index(\"\")])\n",
    "        lines = lines[lines.index(\"\")+1:]\n",
    "        \n",
    "    lines_grouped.append(lines)\n",
    "    return lines_grouped"
   ]
  },
  {
   "cell_type": "code",
   "execution_count": 40,
   "id": "de6ea27b",
   "metadata": {},
   "outputs": [],
   "source": [
    "lines_ungrouped = processFile(FILENAME)\n",
    "lines_grouped = getGroups(lines_ungrouped)"
   ]
  },
  {
   "cell_type": "code",
   "execution_count": 41,
   "id": "09b18218",
   "metadata": {},
   "outputs": [
    {
     "name": "stdout",
     "output_type": "stream",
     "text": [
      "Result partA: 70509\n"
     ]
    }
   ],
   "source": [
    "# Part A\n",
    "group_sums = list(map(lambda x:sum(x),lines_grouped))\n",
    "resA = max(group_sums)\n",
    "print(\"Result partA:\",resA)"
   ]
  },
  {
   "cell_type": "code",
   "execution_count": 43,
   "id": "32dc5bbc",
   "metadata": {},
   "outputs": [
    {
     "name": "stdout",
     "output_type": "stream",
     "text": [
      "Result partB: 208567\n"
     ]
    }
   ],
   "source": [
    "# Part B\n",
    "group_sums.sort(reverse=True)\n",
    "resB = sum(group_sums[:3])\n",
    "print(\"Result partB:\",resB)"
   ]
  }
 ],
 "metadata": {
  "kernelspec": {
   "display_name": "Python 3 (ipykernel)",
   "language": "python",
   "name": "python3"
  },
  "language_info": {
   "codemirror_mode": {
    "name": "ipython",
    "version": 3
   },
   "file_extension": ".py",
   "mimetype": "text/x-python",
   "name": "python",
   "nbconvert_exporter": "python",
   "pygments_lexer": "ipython3",
   "version": "3.9.13"
  }
 },
 "nbformat": 4,
 "nbformat_minor": 5
}
