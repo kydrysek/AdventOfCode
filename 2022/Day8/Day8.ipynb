{
 "cells": [
  {
   "cell_type": "code",
   "execution_count": 140,
   "id": "b877e78b",
   "metadata": {},
   "outputs": [
    {
     "name": "stderr",
     "output_type": "stream",
     "text": [
      "State: On DebugOff\n"
     ]
    },
    {
     "name": "stdout",
     "output_type": "stream",
     "text": [
      "The nb_mypy extension is already loaded. To reload it, use:\n",
      "  %reload_ext nb_mypy\n"
     ]
    }
   ],
   "source": [
    "%load_ext nb_mypy\n",
    "%nb_mypy"
   ]
  },
  {
   "cell_type": "code",
   "execution_count": 154,
   "id": "c1ce5950",
   "metadata": {},
   "outputs": [],
   "source": [
    "import re\n",
    "import pandas as pd\n",
    "from typing import Set, List, Tuple, Match,Dict\n",
    "from operator import itemgetter\n",
    "import copy\n",
    "\n",
    "# FILENAME : str =\"test.txt\"\n",
    "FILENAME : str =\"input.txt\"\n",
    "DIAG : bool = False\n"
   ]
  },
  {
   "cell_type": "code",
   "execution_count": 142,
   "id": "931f2a2a",
   "metadata": {},
   "outputs": [
    {
     "data": {
      "text/plain": [
       "['4', '5', '7']"
      ]
     },
     "execution_count": 142,
     "metadata": {},
     "output_type": "execute_result"
    }
   ],
   "source": [
    "mmm = re.findall(r\"\\b(\\d+)\\b\",\"4  5  7\")\n",
    "mmm"
   ]
  },
  {
   "cell_type": "code",
   "execution_count": 143,
   "id": "3b37d8f0",
   "metadata": {},
   "outputs": [],
   "source": [
    "def getBuckets(lines : List[str]) -> Dict[str,List[str]]:\n",
    "    pattern : str = r\"\\b(\\d+)\\b\"\n",
    "    buckets: List[str] = re.findall(pattern,lines[0])\n",
    "        \n",
    "    filledBuckets : Dict[str,List[str]] = {}\n",
    "    \n",
    "    if DIAG: print(\"Buckets:\",buckets)\n",
    "    if DIAG: print(\"Lines:\\n\",lines[1:])\n",
    "    \n",
    "    for line in lines[1:]:\n",
    "        for i in range(1,len(buckets)+1):\n",
    "            ind : int = i*4-3\n",
    "            \n",
    "            if i > len(line): break\n",
    "            \n",
    "            sym : str = line[ind]\n",
    "            if sym != \" \":\n",
    "                ll = filledBuckets.setdefault(str(i),[])\n",
    "                ll.append(sym)\n",
    "        \n",
    "    \n",
    "    return filledBuckets"
   ]
  },
  {
   "cell_type": "code",
   "execution_count": 144,
   "id": "4f3b1291",
   "metadata": {},
   "outputs": [
    {
     "data": {
      "text/plain": [
       "{'1': ['Z'],\n",
       " '2': ['P'],\n",
       " '3': ['S'],\n",
       " '4': ['F'],\n",
       " '5': ['F'],\n",
       " '6': ['T'],\n",
       " '7': ['N'],\n",
       " '8': ['P'],\n",
       " '9': ['W']}"
      ]
     },
     "execution_count": 144,
     "metadata": {},
     "output_type": "execute_result"
    }
   ],
   "source": [
    "getBuckets([\" 1   2   3   4   5   6   7   8   9 \",\"[Z] [P] [S] [F] [F] [T] [N] [P] [W]\"])"
   ]
  },
  {
   "cell_type": "code",
   "execution_count": 145,
   "id": "3b4c97e5",
   "metadata": {},
   "outputs": [],
   "source": [
    "def getMove(line:str) -> Tuple[int,str,str]:\n",
    "    pattern : str = \"^move (\\d+) from (\\d+) to (\\d+)$\"\n",
    "    mmm = re.search(pattern,line)\n",
    "    if mmm is not None:\n",
    "        move_quantity = int(mmm[1])\n",
    "        move_from = mmm[2]\n",
    "        move_to = mmm[3]\n",
    "    else:\n",
    "        move_quantity = 0\n",
    "        move_from = \"\"\n",
    "        move_to = \"\"\n",
    "    return(move_quantity,move_from,move_to)\n",
    "\n",
    "def getAllMoves(lines:List[str]) -> List[Tuple[int,str,str]]:\n",
    "    return list(map(getMove,lines))"
   ]
  },
  {
   "cell_type": "code",
   "execution_count": 146,
   "id": "59c9a76c",
   "metadata": {},
   "outputs": [],
   "source": [
    "assert getMove(\"move 1 from 2 to 1\") == (1,\"2\",\"1\")\n",
    "\n",
    "assert getMove(\"move 113 from 22 to 1001\") == (113,\"22\",\"1001\")\n",
    "assert getAllMoves([\"move 1 from 2 to 1\",\"move 113 from 22 to 1001\"])==[(1,\"2\",\"1\"),(113,\"22\",\"1001\")]"
   ]
  },
  {
   "cell_type": "code",
   "execution_count": 147,
   "id": "84c08671",
   "metadata": {},
   "outputs": [],
   "source": [
    "def processFile(file_name : str) -> Tuple[Dict[str,List[str]],List[Tuple[int,str,str]]]:\n",
    "    with open(file_name) as file:\n",
    "        lines = file.readlines()\n",
    "    \n",
    "    lines_trimmed : List[str] = list(map(lambda x:x.replace(\"\\n\",\"\"),lines))\n",
    "        \n",
    "    return lines_trimmed\n",
    "    "
   ]
  },
  {
   "cell_type": "code",
   "execution_count": 149,
   "id": "092979ba",
   "metadata": {},
   "outputs": [],
   "source": [
    "def getTopWord(buckets:Dict[str,List[str]]) -> str:\n",
    "    res = \"\"\n",
    "    for i in range(1,len(buckets)+1):\n",
    "        res += buckets[str(i)][-1]\n",
    "    return res"
   ]
  },
  {
   "cell_type": "code",
   "execution_count": 157,
   "id": "f9e35130",
   "metadata": {},
   "outputs": [
    {
     "name": "stdout",
     "output_type": "stream",
     "text": [
      "Result partA: VQZNJMWTR\n",
      "Result partB: NLCDCLVMQ\n"
     ]
    }
   ],
   "source": [
    " : Dict[str,List[str]]\n",
    "moves : List[Tuple[int,str,str]]\n",
    "    \n",
    "buckets,moves = processFile(FILENAME)\n",
    "\n",
    "bucketsA=copy.deepcopy(buckets)\n",
    "applyMovesOnBuckets(bucketsA,moves,True)\n",
    "resA = getTopWord(bucketsA)\n",
    "print(\"Result partA:\",resA)\n",
    "\n",
    "bucketsB=copy.deepcopy(buckets)\n",
    "applyMovesOnBuckets(bucketsB,moves,False)\n",
    "resB = getTopWord(bucketsB)\n",
    "print(\"Result partB:\",resB)"
   ]
  }
 ],
 "metadata": {
  "kernelspec": {
   "display_name": "Python 3 (ipykernel)",
   "language": "python",
   "name": "python3"
  },
  "language_info": {
   "codemirror_mode": {
    "name": "ipython",
    "version": 3
   },
   "file_extension": ".py",
   "mimetype": "text/x-python",
   "name": "python",
   "nbconvert_exporter": "python",
   "pygments_lexer": "ipython3",
   "version": "3.9.13"
  }
 },
 "nbformat": 4,
 "nbformat_minor": 5
}
