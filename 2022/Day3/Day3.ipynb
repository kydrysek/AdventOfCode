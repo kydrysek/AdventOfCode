{
 "cells": [
  {
   "cell_type": "code",
   "execution_count": 107,
   "id": "b877e78b",
   "metadata": {},
   "outputs": [
    {
     "name": "stderr",
     "output_type": "stream",
     "text": [
      "State: On DebugOff\n"
     ]
    },
    {
     "name": "stdout",
     "output_type": "stream",
     "text": [
      "The nb_mypy extension is already loaded. To reload it, use:\n",
      "  %reload_ext nb_mypy\n"
     ]
    }
   ],
   "source": [
    "%load_ext nb_mypy\n",
    "%nb_mypy"
   ]
  },
  {
   "cell_type": "code",
   "execution_count": 108,
   "id": "c1ce5950",
   "metadata": {},
   "outputs": [],
   "source": [
    "import re\n",
    "from typing import Set, List \n",
    "\n",
    "# FILENAME : str =\"test.txt\"\n",
    "FILENAME : str =\"input.txt\"\n",
    "DIAG : bool =False\n"
   ]
  },
  {
   "cell_type": "code",
   "execution_count": 109,
   "id": "84c08671",
   "metadata": {},
   "outputs": [],
   "source": [
    "def processFile(file_name : str) -> list[str]:\n",
    "    with open(file_name) as file:\n",
    "        lines = file.readlines()\n",
    "    \n",
    "    lines_better = map(lambda x:x.replace(\"\\n\",\"\"),lines)\n",
    "        \n",
    "    return list(lines_better)\n",
    "    "
   ]
  },
  {
   "cell_type": "code",
   "execution_count": 110,
   "id": "143bc238",
   "metadata": {},
   "outputs": [],
   "source": [
    "def getLetterScore(sym:str) -> int:\n",
    "    if sym.isupper():\n",
    "        offset = ord(\"A\")-26\n",
    "        \n",
    "    else:\n",
    "        offset= ord(\"a\")\n",
    "    \n",
    "    return ord(sym)-offset +1"
   ]
  },
  {
   "cell_type": "code",
   "execution_count": 111,
   "id": "3ad7e940",
   "metadata": {},
   "outputs": [],
   "source": [
    "assert getLetterScore(\"a\") == 1\n",
    "assert getLetterScore(\"z\") == 26\n",
    "assert getLetterScore(\"A\") == 27\n",
    "assert getLetterScore(\"Z\") == 52\n"
   ]
  },
  {
   "cell_type": "code",
   "execution_count": 112,
   "id": "fc48b48b",
   "metadata": {},
   "outputs": [],
   "source": [
    "def scoreSetsIntersect(list_of_strings : List[str]) -> int:\n",
    "    setI : Set[str] = set(list_of_strings[0])\n",
    "    \n",
    "    for next_str in list_of_strings[1:]:\n",
    "        setI = setI.intersection(set(next_str))\n",
    "        \n",
    "    sym : str = list(setI)[0]\n",
    "    res : int = getLetterScore(sym)\n",
    "        \n",
    "    return res\n",
    "        "
   ]
  },
  {
   "cell_type": "code",
   "execution_count": 113,
   "id": "7a24c159",
   "metadata": {},
   "outputs": [],
   "source": [
    "def scoreLineA(line:str) -> int:\n",
    "    lineLen : int =len(line)\n",
    "    halfL : Set[str] = line[:lineLen//2]\n",
    "    halfR : Set[str] = line[lineLen//2:]\n",
    "    \n",
    "    res : int = scoreSetsIntersect([halfL,halfR])\n",
    "    \n",
    "    return res"
   ]
  },
  {
   "cell_type": "code",
   "execution_count": 114,
   "id": "b06ccfbc",
   "metadata": {},
   "outputs": [],
   "source": [
    "assert scoreLineA(\"vJrwpWtwJgWrhcsFMMfFFhFp\")==16\n",
    "assert scoreLineA(\"jqHRNqRjqzjGDLGLrsFMfFZSrLrFZsSL\")==38"
   ]
  },
  {
   "cell_type": "code",
   "execution_count": 115,
   "id": "5dc78b11",
   "metadata": {},
   "outputs": [],
   "source": [
    "def scoreAllLines_B(lines : List[str]) -> int:\n",
    "    lines1 :  List[str] = lines[::3]\n",
    "    lines2 :  List[str]= lines[1::3]\n",
    "    lines3 :  List[str]= lines[2::3]\n",
    "    \n",
    "    results = [scoreSetsIntersect([x,y,z]) for x,y,z in zip(lines1,lines2,lines3)]\n",
    "    if DIAG: print(results)\n",
    "    \n",
    "    return sum(results)\n"
   ]
  },
  {
   "cell_type": "code",
   "execution_count": 116,
   "id": "de6ea27b",
   "metadata": {},
   "outputs": [
    {
     "name": "stdout",
     "output_type": "stream",
     "text": [
      "Result partA: 8088\n",
      "Result partB: 2522\n"
     ]
    }
   ],
   "source": [
    "backpacks = processFile(FILENAME)\n",
    "resA = sum(map(scoreLineA,backpacks))\n",
    "print(\"Result partA:\",resA)\n",
    "\n",
    "resB = scoreAllLines_B(backpacks)\n",
    "print(\"Result partB:\",resB)"
   ]
  }
 ],
 "metadata": {
  "kernelspec": {
   "display_name": "Python 3 (ipykernel)",
   "language": "python",
   "name": "python3"
  },
  "language_info": {
   "codemirror_mode": {
    "name": "ipython",
    "version": 3
   },
   "file_extension": ".py",
   "mimetype": "text/x-python",
   "name": "python",
   "nbconvert_exporter": "python",
   "pygments_lexer": "ipython3",
   "version": "3.9.13"
  }
 },
 "nbformat": 4,
 "nbformat_minor": 5
}
