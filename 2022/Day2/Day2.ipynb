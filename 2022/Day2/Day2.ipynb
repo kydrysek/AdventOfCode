{
 "cells": [
  {
   "cell_type": "code",
   "execution_count": 76,
   "id": "c1ce5950",
   "metadata": {},
   "outputs": [],
   "source": [
    "import re\n",
    "\n",
    "#FILENAME=\"test.txt\"\n",
    "FILENAME=\"input.txt\"\n",
    "DIAG=False\n"
   ]
  },
  {
   "cell_type": "code",
   "execution_count": 77,
   "id": "84c08671",
   "metadata": {},
   "outputs": [],
   "source": [
    "def processFile(file_name):\n",
    "    with open(file_name) as file:\n",
    "        lines = file.readlines()\n",
    "    \n",
    "    lines_better = map(lambda x:x.replace(\"\\n\",\"\"),lines)\n",
    "        \n",
    "    return list(lines_better)\n",
    "    "
   ]
  },
  {
   "cell_type": "code",
   "execution_count": 78,
   "id": "81e76318",
   "metadata": {},
   "outputs": [],
   "source": [
    "__NUM_ME = {\"X\":1,\"Y\":2,\"Z\":3}\n",
    "__NUM_ELF = {\"A\":1,\"B\":2,\"C\":3}\n",
    "\n",
    "def scoreLine_playedFig(played):\n",
    "    return __NUM_ME[played]\n",
    "\n",
    "def scoreLine_gameRes(playedElf,playedMe):\n",
    "    numElf= __NUM_ELF[playedElf]\n",
    "    numMe= __NUM_ME[playedMe]\n",
    "    \n",
    "    if numElf == numMe:\n",
    "        return 1\n",
    "    elif numElf == 3 and numMe == 1: # my rock beating elf's scissors\n",
    "        return 2\n",
    "    elif numElf == 1 and numMe == 3: # my rock beating elf's scissors\n",
    "        return 0\n",
    "    else:\n",
    "        return (0 if numElf > numMe else 2)\n"
   ]
  },
  {
   "cell_type": "code",
   "execution_count": 79,
   "id": "7a24c159",
   "metadata": {},
   "outputs": [],
   "source": [
    "def scoreLineA(line):\n",
    "    pattern = \"^(\\w)\\s(\\w)$\"\n",
    "    mmm=re.search(pattern,line)\n",
    "    res_playedFig = scoreLine_playedFig(mmm[2])\n",
    "    res_gameRes = scoreLine_gameRes(mmm[1],mmm[2])\n",
    "    \n",
    "    \n",
    "    \n",
    "    return res_gameRes*3 + res_playedFig"
   ]
  },
  {
   "cell_type": "code",
   "execution_count": 80,
   "id": "01da1a30",
   "metadata": {},
   "outputs": [],
   "source": [
    "assert scoreLineA(\"A X\") == 4\n",
    "assert scoreLineA(\"A Y\") == 8\n",
    "assert scoreLineA(\"A Z\") == 3\n",
    "assert scoreLineA(\"B X\") == 1\n",
    "assert scoreLineA(\"B Y\") == 5\n",
    "assert scoreLineA(\"B Z\") == 9\n",
    "assert scoreLineA(\"C X\") == 7\n",
    "assert scoreLineA(\"C Y\") == 2\n",
    "assert scoreLineA(\"C Z\") == 6\n"
   ]
  },
  {
   "cell_type": "code",
   "execution_count": 81,
   "id": "b87f73a6",
   "metadata": {},
   "outputs": [],
   "source": [
    "__DICT_WIN = {\"A\":{\"0\":\"Z\",\"1\":\"X\",\"2\":\"Y\"},\n",
    "              \"B\":{\"0\":\"X\",\"1\":\"Y\",\"2\":\"Z\"},\n",
    "              \"C\":{\"0\":\"Y\",\"1\":\"Z\",\"2\":\"X\"}\n",
    "             }\n",
    "\n",
    "def scoreLineB(line):\n",
    "    pattern = \"^(\\w)\\s(\\w)$\"\n",
    "    mmm=re.search(pattern,line)\n",
    "    res_desired = str(__NUM_ME[mmm[2]]-1)\n",
    "    numMe = __DICT_WIN[mmm[1]][res_desired]\n",
    "    \n",
    "    res_playedFig = scoreLine_playedFig(numMe)\n",
    "    res_gameRes = scoreLine_gameRes(mmm[1],numMe)\n",
    "    \n",
    "    \n",
    "    \n",
    "    return res_gameRes*3 + res_playedFig"
   ]
  },
  {
   "cell_type": "code",
   "execution_count": 82,
   "id": "de6ea27b",
   "metadata": {},
   "outputs": [
    {
     "name": "stdout",
     "output_type": "stream",
     "text": [
      "Result partA: 15337\n",
      "Result partB: 11696\n"
     ]
    }
   ],
   "source": [
    "games = processFile(FILENAME)\n",
    "resA = sum(map(scoreLineA,games))\n",
    "print(\"Result partA:\",resA)\n",
    "\n",
    "resB = sum(map(scoreLineB,games))\n",
    "print(\"Result partB:\",resB)"
   ]
  }
 ],
 "metadata": {
  "kernelspec": {
   "display_name": "Python 3 (ipykernel)",
   "language": "python",
   "name": "python3"
  },
  "language_info": {
   "codemirror_mode": {
    "name": "ipython",
    "version": 3
   },
   "file_extension": ".py",
   "mimetype": "text/x-python",
   "name": "python",
   "nbconvert_exporter": "python",
   "pygments_lexer": "ipython3",
   "version": "3.9.13"
  }
 },
 "nbformat": 4,
 "nbformat_minor": 5
}
